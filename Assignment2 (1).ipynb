{
 "cells": [
  {
   "cell_type": "markdown",
   "id": "65102260-7219-4902-8b3f-9dfc29ca2e35",
   "metadata": {},
   "source": [
    "## Assignment2"
   ]
  },
  {
   "cell_type": "markdown",
   "id": "375030a6-1d9b-41bf-8f0a-938003e064db",
   "metadata": {},
   "source": [
    "#### 1. Write a program to accept percentage from the user and display the grade according to the following criteria:\n",
    "\n",
    "|Marks|        Grade|\n",
    "|:-:|:-:|\n",
    "|>90|    A|\n",
    "|>80 and <=90|    B|\n",
    "|>=60 and <=80|    C|\n",
    "|Below 60|   D|"
   ]
  },
  {
   "cell_type": "code",
   "execution_count": 10,
   "id": "611e7649-2ec9-4401-8d15-9821c95c8162",
   "metadata": {},
   "outputs": [
    {
     "name": "stdin",
     "output_type": "stream",
     "text": [
      "Enter Your Marks :  91\n"
     ]
    },
    {
     "name": "stdout",
     "output_type": "stream",
     "text": [
      "The Grade is : A\n"
     ]
    }
   ],
   "source": [
    "marks = int(input(\"Enter Your Marks : \"))\n",
    "if marks > 90 :\n",
    "    print(\"The Grade is : A\")\n",
    "elif marks > 80 and marks <= 90 :\n",
    "    print(\"The Grade is : B\")\n",
    "elif marks >= 60 and marks <= 80 :\n",
    "    print(\"The Grade is : C\")\n",
    "else:\n",
    "    print(\"The Grade is : D\")"
   ]
  },
  {
   "cell_type": "markdown",
   "id": "8752a88a-4d6c-4cd0-8d00-c7990f364fc6",
   "metadata": {},
   "source": [
    "#### 2. Write a program to accept the cost price of a bike and display the road tax to be paid according to the following criteria:\n",
    "\n",
    "|Tax|        Cost Price(in Rs)|\n",
    "|:-:|:-:|\n",
    "|15%|    > 100000|\n",
    "|10%|        > 50000 and <= 100000|\n",
    "|5%|    <= 50000|"
   ]
  },
  {
   "cell_type": "code",
   "execution_count": 15,
   "id": "0075ed55-1951-44c0-8c18-ea9b6bba45bb",
   "metadata": {},
   "outputs": [
    {
     "name": "stdin",
     "output_type": "stream",
     "text": [
      "The Cost Price Of A Bike :  100001\n"
     ]
    },
    {
     "name": "stdout",
     "output_type": "stream",
     "text": [
      "The Percentage Of The Cost Price To Be Paid : 15%\n",
      "The Road Tax To Be Paid :  15000.15\n"
     ]
    }
   ],
   "source": [
    "cost_price = int(input(\"The Cost Price Of A Bike : \"))\n",
    "if cost_price > 100000 :\n",
    "    print(\"The Percentage Of The Cost Price To Be Paid : 15%\")\n",
    "    road_tax = cost_price*0.15\n",
    "elif cost_price > 50000 and cost_price <= 100000 :\n",
    "    print(\"The Percentage Of The Cost Price To Be Paid : 10%\")\n",
    "    road_tax = cost_price*0.1\n",
    "else :\n",
    "    print(\"The Percentage Of The Cost Price To Be Paid : 5%\")\n",
    "    road_tax = cost_price*0.05\n",
    "    \n",
    "print(\"The Road Tax To Be Paid : \", road_tax)    "
   ]
  },
  {
   "cell_type": "markdown",
   "id": "0258e446-8853-4b95-a646-1e20226036f5",
   "metadata": {},
   "source": [
    "#### 3. Accept any city from the user and display monuments of that city.\n",
    "\n",
    "|City|        Monument|\n",
    "|:-:|:-:|\n",
    "|Delhi|   Red Fort|\n",
    "|Agra|    Taj Mahal|\n",
    "|Jaipur|    Jal Mahal|"
   ]
  },
  {
   "cell_type": "code",
   "execution_count": 16,
   "id": "d56fd370-129a-45dc-b709-1d4d211b3a5f",
   "metadata": {},
   "outputs": [
    {
     "name": "stdin",
     "output_type": "stream",
     "text": [
      "Enter The City Name :  Delhi\n"
     ]
    },
    {
     "name": "stdout",
     "output_type": "stream",
     "text": [
      "The Monument Of Delhi Is : Red Fort\n"
     ]
    }
   ],
   "source": [
    "city = input(\"Enter The City Name : \")\n",
    "\n",
    "if city == \"Delhi\" :\n",
    "    print(\"The Monument Of Delhi Is : Red Fort\")\n",
    "if city == \"Agra\" :\n",
    "    print(\"The Monument Of Agra Is : Taj Mahal\")    \n",
    "if city == \"Jaipur\" :\n",
    "    print(\"The Monument Of Jaipur Is : Jal Mahal\")   "
   ]
  },
  {
   "cell_type": "markdown",
   "id": "33dd57f7-7b8e-46eb-9899-a02d3316c734",
   "metadata": {},
   "source": [
    "#### 4. Check how many times a given number can be divided by 3 before it is less than or equal to 10. "
   ]
  },
  {
   "cell_type": "code",
   "execution_count": 1,
   "id": "72771fb4-0815-495f-9900-bb9369ef2067",
   "metadata": {},
   "outputs": [
    {
     "name": "stdin",
     "output_type": "stream",
     "text": [
      "Enter a number:  9999\n"
     ]
    },
    {
     "name": "stdout",
     "output_type": "stream",
     "text": [
      "The given number can be divided by 3 6 times before it is less than or equal to 10.\n"
     ]
    }
   ],
   "source": [
    "num = int(input(\"Enter a number: \"))\n",
    "count = 0\n",
    "\n",
    "while num > 10:\n",
    "    num /= 3\n",
    "    count += 1\n",
    "\n",
    "print(\"The given number can be divided by 3\", count-1, \"times before it is less than or equal to 10.\")\n"
   ]
  },
  {
   "cell_type": "markdown",
   "id": "02f00d66-ee59-46cb-af79-d25a0f5a5e3c",
   "metadata": {},
   "source": [
    "#### 5. Why and when to use while loop in python give a detailed description with example."
   ]
  },
  {
   "cell_type": "markdown",
   "id": "285a7b8b-691b-40d9-85c9-9731f9164209",
   "metadata": {
    "tags": []
   },
   "source": [
    "Ans: In Python, the while loop is used to repeatedly execute a block of code as long as a certain condition is true. The loop continues to execute until the condition becomes false. The while loop is useful when you want to repeat a block of code a certain number of times or until a certain condition is met.\n",
    "\n"
   ]
  },
  {
   "cell_type": "code",
   "execution_count": 4,
   "id": "116ea5ea-a61f-4ed0-a76e-e07d3136837e",
   "metadata": {},
   "outputs": [
    {
     "name": "stdout",
     "output_type": "stream",
     "text": [
      "0\n",
      "1\n",
      "2\n",
      "3\n",
      "4\n",
      "5\n",
      "6\n",
      "7\n",
      "8\n",
      "9\n",
      "10\n"
     ]
    }
   ],
   "source": [
    "# Print numbers from 0 to 10 using a while loop\n",
    "num = 0\n",
    "while num <= 10:\n",
    "    print(num)\n",
    "    num += 1"
   ]
  },
  {
   "cell_type": "code",
   "execution_count": 6,
   "id": "b9be5034-0cc6-4bee-953b-c0d154ca07a4",
   "metadata": {},
   "outputs": [
    {
     "name": "stdout",
     "output_type": "stream",
     "text": [
      "1000\n",
      "900\n",
      "800\n",
      "700\n",
      "600\n",
      "500\n",
      "400\n",
      "300\n",
      "200\n",
      "100\n",
      "Put more money bank people\n"
     ]
    }
   ],
   "source": [
    "## Atm machine with 1000 rs\n",
    "total_amount=1000\n",
    "while total_amount !=0:\n",
    "    print(total_amount)\n",
    "    total_amount=total_amount-100\n",
    "else:\n",
    "    print(\"Put more money bank people\")"
   ]
  },
  {
   "cell_type": "markdown",
   "id": "97277ee7-7a74-406e-b067-d7058c2c68aa",
   "metadata": {},
   "source": [
    "#### 6. Use nested while loop to print 3 different pattern."
   ]
  },
  {
   "cell_type": "code",
   "execution_count": 8,
   "id": "fe88750f-a56f-4b55-9c73-521e050d707f",
   "metadata": {},
   "outputs": [
    {
     "name": "stdout",
     "output_type": "stream",
     "text": [
      "*\n",
      "**\n",
      "***\n",
      "****\n",
      "*****\n"
     ]
    }
   ],
   "source": [
    "# Pattern 1\n",
    "i = 1\n",
    "while i <= 5:\n",
    "    j = 1\n",
    "    while j <= i:\n",
    "        print('*', end='')\n",
    "        j += 1\n",
    "    print()\n",
    "    i += 1"
   ]
  },
  {
   "cell_type": "code",
   "execution_count": 9,
   "id": "8cb289ed-39b5-4dcc-8350-7cad81bf6f65",
   "metadata": {},
   "outputs": [
    {
     "name": "stdout",
     "output_type": "stream",
     "text": [
      "    *\n",
      "   ***\n",
      "  *****\n",
      " *******\n",
      "*********\n"
     ]
    }
   ],
   "source": [
    "# Pattern 2\n",
    "i = 1\n",
    "while i <= 5:\n",
    "    j = 1\n",
    "    while j <= 5 - i:\n",
    "        print(' ', end='')\n",
    "        j += 1\n",
    "    k = 1\n",
    "    while k <= 2 * i - 1:\n",
    "        print('*', end='')\n",
    "        k += 1\n",
    "    print()\n",
    "    i += 1\n"
   ]
  },
  {
   "cell_type": "code",
   "execution_count": 2,
   "id": "f714c78d-589d-4b62-aeaa-4383e308a990",
   "metadata": {},
   "outputs": [
    {
     "name": "stdout",
     "output_type": "stream",
     "text": [
      "12345\n",
      "1234\n",
      "123\n",
      "12\n",
      "1\n"
     ]
    }
   ],
   "source": [
    "# Pattern 3\n",
    "i = 5\n",
    "while i >= 1:\n",
    "    j = 1\n",
    "    while j <= i:\n",
    "        print(j, end='')\n",
    "        j += 1\n",
    "    print()\n",
    "    i -= 1"
   ]
  },
  {
   "cell_type": "markdown",
   "id": "d90fc6bb-bd7c-41f4-a9a5-9cf2fbe895a7",
   "metadata": {},
   "source": [
    "#### 7. Reverse a while loop to display numbers from 10 to 1."
   ]
  },
  {
   "cell_type": "code",
   "execution_count": 1,
   "id": "9da6b8b6-942e-42f1-99b4-f3b58ad97285",
   "metadata": {},
   "outputs": [
    {
     "name": "stdout",
     "output_type": "stream",
     "text": [
      "10\n",
      "9\n",
      "8\n",
      "7\n",
      "6\n",
      "5\n",
      "4\n",
      "3\n",
      "2\n",
      "1\n"
     ]
    }
   ],
   "source": [
    "num = 10\n",
    "while num > 0 :\n",
    "    print(num)\n",
    "    num = num-1"
   ]
  },
  {
   "cell_type": "markdown",
   "id": "6c72c1ce-d1d2-4ba2-87ea-2a4fdef21b46",
   "metadata": {},
   "source": [
    "#### 8. Reverse a while loop to display numbers from 10 to 1."
   ]
  },
  {
   "cell_type": "code",
   "execution_count": 5,
   "id": "86c1410b-5cd9-4360-85e5-ec79cad7f11d",
   "metadata": {},
   "outputs": [
    {
     "name": "stdout",
     "output_type": "stream",
     "text": [
      "10\n",
      "9\n",
      "8\n",
      "7\n",
      "6\n",
      "5\n",
      "4\n",
      "3\n",
      "2\n",
      "1\n"
     ]
    }
   ],
   "source": [
    "num = 10\n",
    "while num > 0 :\n",
    "    print(num)\n",
    "    num = num-1"
   ]
  }
 ],
 "metadata": {
  "kernelspec": {
   "display_name": "Python 3 (ipykernel)",
   "language": "python",
   "name": "python3"
  },
  "language_info": {
   "codemirror_mode": {
    "name": "ipython",
    "version": 3
   },
   "file_extension": ".py",
   "mimetype": "text/x-python",
   "name": "python",
   "nbconvert_exporter": "python",
   "pygments_lexer": "ipython3",
   "version": "3.10.8"
  }
 },
 "nbformat": 4,
 "nbformat_minor": 5
}
