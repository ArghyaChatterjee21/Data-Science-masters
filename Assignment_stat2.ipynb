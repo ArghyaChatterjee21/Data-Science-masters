{
 "cells": [
  {
   "cell_type": "markdown",
   "id": "0aaeefb9-a271-44e6-94e6-405d69b9f474",
   "metadata": {},
   "source": [
    "## Assignment Statistics 2"
   ]
  },
  {
   "cell_type": "markdown",
   "id": "fef3aff0-dd28-47be-a74b-221099e55df7",
   "metadata": {},
   "source": [
    "#### Q1. What are the three measures of central tendency?"
   ]
  },
  {
   "cell_type": "markdown",
   "id": "0397c41f-0f21-4e89-a67b-45b2f5f062eb",
   "metadata": {},
   "source": [
    "Ans: \n",
    " - Mean: The mean is the most commonly used measure of central tendency. It is calculated by adding up all the values in a dataset and dividing by the total number of values. The mean is affected by extreme values or outliers in the dataset.\n",
    "\n",
    " - Median: The median is the middle value in a dataset when the values are arranged in order. It is less affected by extreme values than the mean, making it a more robust measure of central tendency.\n",
    "\n",
    " - Mode: The mode is the value that occurs most frequently in a dataset. Unlike the mean and median, the mode can be used for nominal data, such as categories or names. If there is more than one value that occurs with the same frequency, then the dataset is said to have multiple modes.\n",
    "\n",
    "\n",
    "\n"
   ]
  },
  {
   "cell_type": "markdown",
   "id": "cbf5027b-4f9c-465b-9a3a-5636a4a22724",
   "metadata": {},
   "source": [
    "#### Q4. What is the difference between the mean, median, and mode? How are they used to measure the central tendency of a dataset?"
   ]
  },
  {
   "cell_type": "markdown",
   "id": "9bd87f43-a765-4bc1-bf91-11af80d381f2",
   "metadata": {},
   "source": [
    "Ans: \n",
    " - The mean is the sum of all the values in a dataset divided by the total number of values. It is sensitive to outliers because extreme values can significantly impact the value of the mean. The mean is used when the data is normally distributed or when the distribution is symmetrical.\n",
    "\n",
    " - The median is the middle value of a dataset when the values are arranged in ascending or descending order. It is less sensitive to outliers than the mean because it is based on the middle value rather than the sum of all the values. The median is used when the data is skewed or when there are outliers that significantly affect the mean.\n",
    "\n",
    " - The mode is the value that occurs most frequently in a dataset. It is used for categorical or nominal data, as well as for continuous data. The mode is not sensitive to outliers, and it is used to describe the most common value in the dataset.\n",
    "\n"
   ]
  },
  {
   "cell_type": "markdown",
   "id": "b7da3bba-06d8-44bc-86a2-58d14b2454c2",
   "metadata": {},
   "source": [
    "All three measures are used to describe the central tendency of a dataset. The choice of measure depends on the nature of the data and the research question being investigated. If the data is normally distributed or symmetrical, the mean is the most appropriate measure. If the data is skewed or has outliers, the median is preferred. If the data is categorical or nominal, the mode is used. In some cases, all three measures may be used to provide a more comprehensive description of the dataset.\n",
    "\n",
    "\n",
    "\n"
   ]
  },
  {
   "cell_type": "markdown",
   "id": "b31591c1-775b-4a3b-b2ab-dfd42f57e375",
   "metadata": {},
   "source": [
    "#### Q3. Measure the three measures of central tendency for the given height data:\n",
    "#### [178,177,176,177,178.2,178,175,179,180,175,178.9,176.2,177,172.5,178,176.5]"
   ]
  },
  {
   "cell_type": "code",
   "execution_count": 4,
   "id": "2f903bca-b7e9-45f2-9d18-455e0ab43941",
   "metadata": {},
   "outputs": [
    {
     "name": "stdout",
     "output_type": "stream",
     "text": [
      "[178, 177, 176, 177, 178.2, 178, 175, 179, 180, 175, 178.9, 176.2, 177, 172.5, 178, 176.5]"
     ]
    }
   ],
   "source": [
    "heights = [178,177,176,177,178.2,178,175,179,180,175,178.9,176.2,177,172.5,178,176.5] \n",
    "print(heights ,end = \"\")"
   ]
  },
  {
   "cell_type": "code",
   "execution_count": 6,
   "id": "b9898eb3-f4dd-4fc5-b1f3-32098c9d19b3",
   "metadata": {},
   "outputs": [],
   "source": [
    "import numpy as np\n",
    "from scipy import stats "
   ]
  },
  {
   "cell_type": "code",
   "execution_count": 7,
   "id": "5fcaddac-6b14-4920-b7fd-89fba71ecec0",
   "metadata": {},
   "outputs": [
    {
     "data": {
      "text/plain": [
       "177.01875"
      ]
     },
     "execution_count": 7,
     "metadata": {},
     "output_type": "execute_result"
    }
   ],
   "source": [
    "np.mean(heights)"
   ]
  },
  {
   "cell_type": "code",
   "execution_count": 8,
   "id": "bd1178e3-f86a-4037-aeeb-e9ef51240a3b",
   "metadata": {},
   "outputs": [
    {
     "data": {
      "text/plain": [
       "177.0"
      ]
     },
     "execution_count": 8,
     "metadata": {},
     "output_type": "execute_result"
    }
   ],
   "source": [
    "np.median(heights)"
   ]
  },
  {
   "cell_type": "code",
   "execution_count": 10,
   "id": "26256614-5c74-4d2e-9ed8-34b0db133370",
   "metadata": {},
   "outputs": [
    {
     "name": "stderr",
     "output_type": "stream",
     "text": [
      "/tmp/ipykernel_98/4138256802.py:1: FutureWarning: Unlike other reduction functions (e.g. `skew`, `kurtosis`), the default behavior of `mode` typically preserves the axis it acts along. In SciPy 1.11.0, this behavior will change: the default value of `keepdims` will become False, the `axis` over which the statistic is taken will be eliminated, and the value None will no longer be accepted. Set `keepdims` to True or False to avoid this warning.\n",
      "  stats.mode(heights)\n"
     ]
    },
    {
     "data": {
      "text/plain": [
       "ModeResult(mode=array([177.]), count=array([3]))"
      ]
     },
     "execution_count": 10,
     "metadata": {},
     "output_type": "execute_result"
    }
   ],
   "source": [
    "stats.mode(heights)"
   ]
  },
  {
   "cell_type": "markdown",
   "id": "5cc3b4eb-5cce-4678-8623-db0881c30d4a",
   "metadata": {},
   "source": [
    "#### Q4. Find the standard deviation for the given data:\n",
    "#### [178,177,176,177,178.2,178,175,179,180,175,178.9,176.2,177,172.5,178,176.5]"
   ]
  },
  {
   "cell_type": "code",
   "execution_count": 13,
   "id": "08de7440-c70f-45b8-b417-54c9247a9ad5",
   "metadata": {},
   "outputs": [
    {
     "name": "stdout",
     "output_type": "stream",
     "text": [
      "[178, 177, 176, 177, 178.2, 178, 175, 179, 180, 175, 178.9, 176.2, 177, 172.5, 178, 176.5]"
     ]
    }
   ],
   "source": [
    "print(heights, end = \"\")"
   ]
  },
  {
   "cell_type": "code",
   "execution_count": 15,
   "id": "1f108f88-e158-4ba0-bf56-81d88eb88881",
   "metadata": {},
   "outputs": [
    {
     "data": {
      "text/plain": [
       "1.7885814036548633"
      ]
     },
     "execution_count": 15,
     "metadata": {},
     "output_type": "execute_result"
    }
   ],
   "source": [
    "np.std(heights)"
   ]
  },
  {
   "cell_type": "markdown",
   "id": "587d1410-ae4d-40f9-8080-95b4f5b08e56",
   "metadata": {},
   "source": [
    "#### Q5. How are measures of dispersion such as range, variance, and standard deviation used to describe the spread of a dataset? Provide an example."
   ]
  },
  {
   "cell_type": "markdown",
   "id": "fdbb1588-fbfb-455e-8b62-6aefcd96895a",
   "metadata": {},
   "source": [
    "Ans:\n",
    " - Range: The range is the difference between the maximum and minimum values in a dataset. It is a simple measure of dispersion that gives an idea of how spread out the data is.\n",
    "Example: If we have a dataset of the heights of ten individuals, and the range is 60-180 cm, we can say that the heights vary by 120 cm.\n"
   ]
  },
  {
   "cell_type": "markdown",
   "id": "5e046875-1926-4074-bf85-55dbcba100bc",
   "metadata": {},
   "source": [
    " - Variance: The variance is the average of the squared deviations from the mean. It measures how much the data points vary from the mean.\n",
    "Example: If we have a dataset of the weights of five students in kg: 40, 50, 60, 70, 80, and the mean weight is 60 kg, the variance can be calculated as follows:\n",
    " \n",
    "   - variance = [(40-60)^2 + (50-60)^2 + (60-60)^2 + (70-60)^2 + (80-60)^2] / 5    variance = 400/5 = 80\n"
   ]
  },
  {
   "cell_type": "markdown",
   "id": "6a5e60dc-c0e0-45c4-ac7b-afd931947019",
   "metadata": {},
   "source": [
    " - Standard deviation: The standard deviation is the square root of the variance. It measures the average distance of the data points from the mean.\n",
    "   - Example: standard deviation = sqrt(80) = 8.94\n",
    " The standard deviation is 8.94, indicating that the weights vary by an average of approximately 8.94 kg from the mean."
   ]
  },
  {
   "cell_type": "markdown",
   "id": "1cd87cad-d722-4f27-9992-b5eeed37ea13",
   "metadata": {},
   "source": [
    "#### Q6. What is a Venn diagram?"
   ]
  },
  {
   "cell_type": "markdown",
   "id": "f0d5e26b-6d6c-4e48-b4a0-4c615ba18ee7",
   "metadata": {},
   "source": [
    "Ans: A Venn diagram is an illustration that uses circles to show the relationships among things or finite groups of things. Circles that overlap have a commonality while circles that do not overlap do not share those traits."
   ]
  },
  {
   "cell_type": "markdown",
   "id": "80905a70-a5cd-48e6-8604-9172c117d42a",
   "metadata": {},
   "source": [
    "#### Q7. For the two given sets A = (2,3,4,5,6,7) & B = (0,2,6,8,10). Find:\n",
    "#### (i) A ∩ B\n",
    "#### (ii) A ⋃ B"
   ]
  },
  {
   "cell_type": "markdown",
   "id": "c5f61df7-addf-4901-ae9a-b0a8eecbfde0",
   "metadata": {},
   "source": [
    "Ans: \n",
    "  -   (i) A ∩ B = (2,6)\n",
    "  -   (ii) A ⋃ B = (0,2,3,4,5,6,7,8,10)"
   ]
  },
  {
   "cell_type": "markdown",
   "id": "6d3d0cbe-c388-4f0d-a5ff-79785d09b15a",
   "metadata": {},
   "source": [
    "#### Q8. What do you understand about skewness in data?"
   ]
  },
  {
   "cell_type": "markdown",
   "id": "66a36131-89d6-424b-ae02-eb968690ba90",
   "metadata": {},
   "source": [
    "Ans: A dataset is said to be skewed if the distribution of its values is not symmetrical, meaning that it has a long tail on one side or the other. Skewness can be positive or right-skewed, negative or left-skewed, or zero or symmetric.\n",
    "\n",
    " - Positive or right-skewed: A dataset is said to be positively or right-skewed if it has a long tail on the right side of the distribution, meaning that there are more values on the left side and few extreme values on the right side.\n",
    "\n",
    " - Negative or left-skewed: A dataset is said to be negatively or left-skewed if it has a long tail on the left side of the distribution, meaning that there are more values on the right side and few extreme values on the left side.\n",
    "\n",
    " - Zero or symmetric: A dataset is said to be symmetric if it has the same shape on both sides of the distribution, meaning that there are the same number of values on both sides.\n",
    "\n",
    "\n",
    "\n",
    "\n"
   ]
  },
  {
   "cell_type": "markdown",
   "id": "2492544a-2590-4c1d-ae3c-60e08a02c214",
   "metadata": {},
   "source": [
    "#### Q9. If a data is right skewed then what will be the position of median with respect to mean?"
   ]
  },
  {
   "cell_type": "markdown",
   "id": "ba804f4c-7298-4d8c-b741-9a597c54bb04",
   "metadata": {},
   "source": [
    "Ans: If a dataset is right-skewed, meaning that it has a long tail on the right side of the distribution, the median will be less than the mean."
   ]
  },
  {
   "cell_type": "markdown",
   "id": "8ee04a56-c8e1-4edd-aa9a-a9e9a6acd924",
   "metadata": {},
   "source": [
    "#### Q10. Explain the difference between covariance and correlation. How are these measures used in statistical analysis?"
   ]
  },
  {
   "cell_type": "markdown",
   "id": "79e74316-5bff-4ce6-aef6-de57ba3d39e5",
   "metadata": {},
   "source": [
    "Ans: Covariance measures the direction of a relationship between two variables, while correlation measures the strength of that relationship.\n",
    "      Both correlation and covariance are positive when they move in the same direction and negative when they move in opposite dirrections.\n",
    "      \n",
    "Covariance measures the joint variability of two random variables, while correlation measures the strength and direction of the linear relationship between two variables. Correlation is a standardized version of covariance that eliminates the scale effect, making it easier to compare the degree of association between two variables. Both measures are used to investigate the relationship between two variables in statistical analysis, but correlation is more commonly used because it is easier to interpret and compare.      "
   ]
  },
  {
   "cell_type": "markdown",
   "id": "c67f75a8-ebda-4edf-b0e3-9a57ce2af196",
   "metadata": {},
   "source": [
    "#### Q11. What is the formula for calculating the sample mean? Provide an example calculation for a dataset."
   ]
  },
  {
   "cell_type": "markdown",
   "id": "38d0bb97-ac16-4ad9-b99f-f1378bcfdb99",
   "metadata": {},
   "source": [
    "Ans:\n",
    "   The formula for calculating the sample mean, denoted by x̄, is:\n",
    "\n",
    "    x̄ = (Σ xi) / n   \n",
    "    \n",
    " - For example, consider the following dataset of 5 observations: 7, 8, 6, 9, 5   "
   ]
  },
  {
   "cell_type": "markdown",
   "id": "e2417f6f-33ae-4f75-b104-c38a9d20cbc1",
   "metadata": {},
   "source": [
    "    x̄ = (7 + 8 + 6 + 9 + 5) / 5\n",
    "    x̄ = 35 / 5\n",
    "    x̄ = 7\n",
    "Therefore, the sample mean of this dataset is 7.    "
   ]
  },
  {
   "cell_type": "markdown",
   "id": "1eb78aed-7056-4556-90cb-0b7017adfecc",
   "metadata": {},
   "source": [
    "#### Q12. For a normal distribution data what is the relationship between its measure of central tendency?"
   ]
  },
  {
   "cell_type": "markdown",
   "id": "e8cc6464-63b4-4110-941b-83aaea8baac2",
   "metadata": {},
   "source": [
    "Ans: Any normal distribution has a graph that is perfectly symmetric about a vertical line through its peak. Therefore, all measures of central tendency (most commonly, the mean, median, and mode) give the same answer, \n",
    "                i.e, Mean = Median = Mode."
   ]
  },
  {
   "cell_type": "markdown",
   "id": "98b536e5-e426-45ac-bb2f-baab50877854",
   "metadata": {},
   "source": [
    "#### Q13. How is covariance different from correlation?"
   ]
  },
  {
   "cell_type": "markdown",
   "id": "321ea646-6027-4904-ba45-1c262a0c88c3",
   "metadata": {},
   "source": [
    "Ans: Covariance shows you how the two variables differ, whereas correlation shows you how the two variables are related. "
   ]
  },
  {
   "cell_type": "markdown",
   "id": "88f2b22d-0e69-4643-aaf9-22632b597b9b",
   "metadata": {},
   "source": [
    "#### Q14. How do outliers affect measures of central tendency and dispersion? Provide an example."
   ]
  },
  {
   "cell_type": "markdown",
   "id": "5f1bbae4-76b4-49df-bc0d-7a85252c1c39",
   "metadata": {},
   "source": [
    "Ans: Outliers can have a significant impact on both measures of central tendency and dispersion.\n",
    "\n",
    "\n",
    "For example, consider the following dataset of 10 observations:\n",
    "\n",
    "5, 6, 7, 8, 9, 10, 11, 12, 13, 100"
   ]
  },
  {
   "cell_type": "markdown",
   "id": "93598770-4f23-4dc3-a9ca-68d55112af1e",
   "metadata": {},
   "source": [
    "The mean of this dataset is:\n",
    "\n",
    "(5 + 6 + 7 + 8 + 9 + 10 + 11 + 12 + 13 + 100) / 10 = 18.1"
   ]
  },
  {
   "cell_type": "markdown",
   "id": "3f5f8ffc-a30f-4218-a887-985695a59847",
   "metadata": {},
   "source": [
    "However, the value of 100 is an outlier, and it significantly influences the calculation of the mean, causing it to be much higher than the values that represent the central tendency of the data."
   ]
  },
  {
   "cell_type": "markdown",
   "id": "724fe61d-1de4-4552-a3b1-496f5b73903d",
   "metadata": {},
   "source": [
    "In terms of measures of dispersion such as the range, outliers can have a large impact on the calculated value. For example, consider the following dataset of 10 observations:\n",
    "\n",
    "10, 20, 30, 40, 50, 60, 70, 80, 90, 1000"
   ]
  },
  {
   "cell_type": "markdown",
   "id": "0d5a0d63-5ce0-474f-8ac1-617a28f3add9",
   "metadata": {},
   "source": [
    "The range of this dataset is:\n",
    "\n",
    "1000 - 10 = 990"
   ]
  },
  {
   "cell_type": "markdown",
   "id": "7add8944-6f55-4488-8b7a-a7ecd4e2e283",
   "metadata": {},
   "source": [
    "However, the value of 1000 is an outlier, and it greatly increases the calculated range, making it an unreliable measure of dispersion for this dataset.\n"
   ]
  }
 ],
 "metadata": {
  "kernelspec": {
   "display_name": "Python 3 (ipykernel)",
   "language": "python",
   "name": "python3"
  },
  "language_info": {
   "codemirror_mode": {
    "name": "ipython",
    "version": 3
   },
   "file_extension": ".py",
   "mimetype": "text/x-python",
   "name": "python",
   "nbconvert_exporter": "python",
   "pygments_lexer": "ipython3",
   "version": "3.10.8"
  }
 },
 "nbformat": 4,
 "nbformat_minor": 5
}
