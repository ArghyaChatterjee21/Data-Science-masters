{
 "cells": [
  {
   "cell_type": "markdown",
   "id": "56d90e24-0976-4e70-b4d3-f9babcf444cf",
   "metadata": {},
   "source": [
    "## Assignment1"
   ]
  },
  {
   "cell_type": "markdown",
   "id": "737af82a-db30-4434-a765-83af923e081e",
   "metadata": {},
   "source": [
    "#### 1. Who developed python programming language?\n",
    "Ans: Guido van Rossum\n",
    "\n",
    "#### 2. Which type of programmimg does python support?\n",
    "Ans: Python is a interpreted,object-oriented,high-level programming language with dynamic semantics.\n",
    "\n",
    "#### 3. Is python case sensitive when dealing with identifiers?\n",
    "Ans: yes\n",
    "\n",
    "#### 4. What is the correct extension of the python file?\n",
    "Ans: .py\n",
    "\n",
    "#### 5. Is python code compiled or interpreted?\n",
    "Ans: Interpreted.\n",
    "\n",
    "#### 6. Name a few blocks of code used to define in python language?\n",
    "Ans: A module, a function body, and a class definition. Each command typed interactively is a block.\n",
    "\n",
    "#### 7. State a character used to give a single line comment?\n",
    "Ans: single # character."
   ]
  },
  {
   "cell_type": "markdown",
   "id": "bbc3c2c4-b997-4cce-b72c-138d357c5b63",
   "metadata": {},
   "source": [
    "#### 8. Mention functions which can help us to find the version of python that we are currently working on?\n",
    "Ans: 1.Using sys.version method 2.Using python_version() function 3.Using Python -V command\n",
    "\n",
    "#### 9. Python supports the creation of anonymous functions a rutime,using a construct called ________.\n",
    "Ans: lambda\n",
    "\n",
    "#### 10. what does pip stand for python?\n",
    "Ans: pip (an acronym of “pip Install Packages”) is today the standard tool for installing Python packages and their dependencies in a secure manner."
   ]
  },
  {
   "cell_type": "markdown",
   "id": "af212eab-baf1-44b2-803a-db8dbf29d926",
   "metadata": {},
   "source": [
    "#### 11. Mention a few built-in functions in python?\n",
    "Ans:"
   ]
  },
  {
   "cell_type": "markdown",
   "id": "b87635b6-3710-4f7b-9c76-2c08ed756db2",
   "metadata": {},
   "source": [
    "|Functions|Description|\n",
    "|:-:|:-:|\n",
    "|abs()|\tReturns the absolute value of a number|\n",
    "|all()|\tReturns True if all items in an iterable object are true|\n",
    "|any()|\tReturns True if any item in an iterable object is true|\n",
    "|ascii()|\tReturns a readable version of an object. Replaces none-ascii characters with escape character|\n",
    "|bin()|\tReturns the binary version of a number|\n",
    "|bool()|\tReturns the boolean value of the specified object|\n",
    "|bytearray()|\tReturns an array of bytes|\n",
    "|bytes()|\tReturns a bytes object|\n",
    "|callable()|\tReturns True if the specified object is callable, otherwise False|\n",
    "|chr()|\tReturns a character from the specified Unicode code.|\n",
    "|classmethod()|\tConverts a method into a class method|\n",
    "|compile()|\tReturns the specified source as an object, ready to be executed|\n",
    "|complex()|\tReturns a complex number|\n",
    "|delattr()|\tDeletes the specified attribute (property or method) from the specified object|\n",
    "|dict()|\tReturns a dictionary (Array)|\n",
    "|dir()|\tReturns a list of the specified object's properties and methods|\n",
    "|divmod()|\tReturns the quotient and the remainder when argument1 is divided by argument2|\n",
    "|enumerate()|\tTakes a collection (e.g. a tuple) and returns it as an enumerate object|\n",
    "|eval()|\tEvaluates and executes an expression|\n",
    "|exec()|\tExecutes the specified code (or object)|\n",
    "|filter()|\tUse a filter function to exclude items in an iterable object|\n",
    "|float()|\tReturns a floating point number|\n",
    "|format()|\tFormats a specified value|\n",
    "|frozenset()|\tReturns a frozenset object|\n",
    "|getattr()|\tReturns the value of the specified attribute (property or method)|\n",
    "|globals()|\tReturns the current global symbol table as a dictionary|\n",
    "|hasattr()|\tReturns True if the specified object has the specified attribute(property/method)|\n",
    "|hash()|\tReturns the hash value of a specified object|\n",
    "|help()|\tExecutes the built-in help system|\n",
    "|hex()|\tConverts a number into a hexadecimal value|\n",
    "|id()|\tReturns the id of an object|\n",
    "|input()|\tAllowing user input|\n",
    "|int()|\tReturns an integer number|\n",
    "|isinstance()|\tReturns True if a specified object is an instance of a specified object|\n",
    "|issubclass()|\tReturns True if a specified class is a subclass of a specified object|\n",
    "|iter()|\tReturns an iterator object|\n",
    "|iter()|\tReturns an iterator object|\n",
    "|len()|     Returns the length of an object|\n",
    "|list()|\tReturns a list|\n",
    "|locals()|\tReturns an updated dictionary of the current local symbol table|\n",
    "|map()|\tReturns the specified iterator with the specified function applied to each item|\n",
    "|max()|\tReturns the largest item in an iterable|\n",
    "|memoryview()|\tReturns a memory view object|\n",
    "|min()|\tReturns the smallest item in an iterable|\n",
    "|next()|\tReturns the next item in an iterable|\n",
    "|object()|\tReturns a new object|\n",
    "|oct()|\tConverts a number into an octal|\n",
    "|open()|\tOpens a file and returns a file object|\n",
    "|ord()|\tConvert an integer representing the Unicode of the specified character|\n",
    "|pow()|\tReturns the value of x to the power of y|\n",
    "|print()|\tPrints to the standard output device|\n",
    "|property()|\tGets, sets, deletes a property|\n",
    "|range()|\tReturns a sequence of numbers, starting from 0 and increments by 1(by default)|\n",
    "|repr()|\tReturns a readable version of an object|\n",
    "|reversed()|\tReturns a reversed iterator|\n",
    "|round()|\tRounds a numbers|\n",
    "|set()|\tReturns a new set object|\n",
    "|setattr()|\tSets an attribute (property/method) of an object|\n",
    "|slice()|\tReturns a slice object|\n",
    "|sorted()|\tReturns a sorted list|\n",
    "|staticmethod()|\tConverts a method into a static method|\t\t\n",
    "|str()|\tReturns a string object|\n",
    "|sum()|\tSums the items of an iterator|\n",
    "|super()|\tReturns an object that represents the parent class|\n",
    "|tuple()|\tReturns a tuple|\n",
    "|type()|\tReturns the type of an object|\n",
    "|vars()|\tReturns the dict property of an object|\n",
    "|zip()|\tReturns an iterator, from two or more iterators|"
   ]
  },
  {
   "cell_type": "markdown",
   "id": "d0d78dcc-7721-45aa-8c06-38c62b69f59e",
   "metadata": {},
   "source": [
    "#### 12. What is the maximum possible length of an identifier in python?\n",
    "Ans: An identifier can have a maximum length of 79 characters in Python.\n",
    "\n",
    "#### 13. What are the benefits of using python?\n",
    "Ans: \n",
    "1. It has the following features that makes it very attractive for Rapid Application Development, as well as for use as a scripting or glue               language to connect existing components together -high-level built in data structures.\n",
    "    - dynamic typing\n",
    "    - dynamic binding\n",
    "2. Python's simple, easy to learn syntax emphasizes on code readability with the use of whitespaces and therefore reduces the cost of program             maintenance.\n",
    "\n",
    "3. Python supports modules and packages, which encourages program modularity and code reuse.\n",
    "\n",
    "4. The Python interpreter and the extensive standard library are available in source or binary form without charge for all major platforms, and           can be freely distributed.\n",
    "\n",
    "5. Python is a great general-purpose programming language on its own, but with the help of a few popular libraries (numpy, scipy, matplotlib) it         becomes a powerful environment for scientific computing.\n",
    "\n",
    "#### 14. How is memory managed in python?\n",
    "Ans: Memory management in Python involves a private heap containing all Python objects and data structures. The management of this private heap is ensured internally by the Python memory manager."
   ]
  },
  {
   "cell_type": "markdown",
   "id": "46df2f0d-52c7-48f4-9847-131a737a77da",
   "metadata": {},
   "source": [
    "#### 15. How to install python on windows and set path variables?\n",
    "Ans:\n",
    "\n",
    "- For installing python on windows -\n",
    "Open a browser to the Python website and download the Windows installer. 2. Double click on the downloaded file and install Python for all users, and ensure that Python is added to your path. Click on Install now to begin.\n",
    "\n",
    "- For setting path variables-\n",
    "1. Right click on My Computer and click on properties.\n",
    "2. Click on Advanced System settings\n",
    "3. Click on Environment Variable tab.\n",
    "4. Click on new tab of user variables.\n",
    "5. Write path in variable name\n",
    "6. Copy the path of Python folder.\n",
    "7. Paste path of Python in variable value.\n",
    "8. Click on Ok button.\n",
    "9. Click on Ok button:\n",
    "#### 16. Is indentation required python?\n",
    "Ans: Indentation is a very important concept of Python because without properly indenting the Python code, you will end up seeing IndentationError and the code will not get compiled."
   ]
  },
  {
   "cell_type": "code",
   "execution_count": null,
   "id": "6d9dde0d-35ea-425c-a6b1-d870e8109ede",
   "metadata": {},
   "outputs": [],
   "source": []
  }
 ],
 "metadata": {
  "kernelspec": {
   "display_name": "Python 3 (ipykernel)",
   "language": "python",
   "name": "python3"
  },
  "language_info": {
   "codemirror_mode": {
    "name": "ipython",
    "version": 3
   },
   "file_extension": ".py",
   "mimetype": "text/x-python",
   "name": "python",
   "nbconvert_exporter": "python",
   "pygments_lexer": "ipython3",
   "version": "3.10.8"
  }
 },
 "nbformat": 4,
 "nbformat_minor": 5
}
