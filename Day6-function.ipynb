{
 "cells": [
  {
   "cell_type": "markdown",
   "id": "2d6bc9b7-2ab5-43d8-afb8-149936722ec6",
   "metadata": {},
   "source": [
    "## 03/02/2020"
   ]
  },
  {
   "cell_type": "markdown",
   "id": "56552c69-060e-4e0a-a0d6-2844dc15e033",
   "metadata": {},
   "source": [
    "## Functions"
   ]
  },
  {
   "cell_type": "markdown",
   "id": "91e751c3-c6af-4503-8eb9-936cbca723e9",
   "metadata": {},
   "source": [
    "In-build Function"
   ]
  },
  {
   "cell_type": "code",
   "execution_count": 1,
   "id": "6899f981-6d77-448e-bcf1-f67ff832734a",
   "metadata": {},
   "outputs": [
    {
     "name": "stdout",
     "output_type": "stream",
     "text": [
      "This is my program\n"
     ]
    }
   ],
   "source": [
    "print(\"This is my program\")"
   ]
  },
  {
   "cell_type": "code",
   "execution_count": 2,
   "id": "3448f38b-a3f0-4794-9722-1374ea8d7303",
   "metadata": {},
   "outputs": [],
   "source": [
    "l = [1,2,3,4]"
   ]
  },
  {
   "cell_type": "code",
   "execution_count": 4,
   "id": "2ec64837-7842-431d-83a2-1e0c0090ccd2",
   "metadata": {},
   "outputs": [
    {
     "data": {
      "text/plain": [
       "4"
      ]
     },
     "execution_count": 4,
     "metadata": {},
     "output_type": "execute_result"
    }
   ],
   "source": [
    "len(l)"
   ]
  },
  {
   "cell_type": "markdown",
   "id": "39b8fc4d-1027-4504-b5c7-b4e49b6c6cba",
   "metadata": {},
   "source": [
    "Define your own function"
   ]
  },
  {
   "cell_type": "code",
   "execution_count": 5,
   "id": "ed482c0b-37e8-428a-b770-46f57d3fe20c",
   "metadata": {},
   "outputs": [
    {
     "ename": "SyntaxError",
     "evalue": "invalid syntax (2108651459.py, line 2)",
     "output_type": "error",
     "traceback": [
      "\u001b[0;36m  Cell \u001b[0;32mIn[5], line 2\u001b[0;36m\u001b[0m\n\u001b[0;31m    pass()\u001b[0m\n\u001b[0m        ^\u001b[0m\n\u001b[0;31mSyntaxError\u001b[0m\u001b[0;31m:\u001b[0m invalid syntax\n"
     ]
    }
   ],
   "source": [
    "def test():  ## def = definition, test is a function name. Function name can be chosen by your own but it can't be a reserved name in python.\n",
    "    pass()   ## Pass - It helps to pass the entire definition "
   ]
  },
  {
   "cell_type": "code",
   "execution_count": 8,
   "id": "a67855d3-ab6e-411d-9610-4b3b86012ae9",
   "metadata": {},
   "outputs": [],
   "source": [
    "def test1():  \n",
    "    print(\"This is my very first function\")"
   ]
  },
  {
   "cell_type": "code",
   "execution_count": 9,
   "id": "c0b47c8b-5084-433a-a8d4-002c1359ee88",
   "metadata": {},
   "outputs": [
    {
     "name": "stdout",
     "output_type": "stream",
     "text": [
      "This is my very first function\n"
     ]
    }
   ],
   "source": [
    "test1()"
   ]
  },
  {
   "cell_type": "code",
   "execution_count": 37,
   "id": "2326a0f8-a078-4a76-bb9d-313d258f931e",
   "metadata": {},
   "outputs": [
    {
     "name": "stdout",
     "output_type": "stream",
     "text": [
      "This is my very first function\n"
     ]
    },
    {
     "data": {
      "text/plain": [
       "NoneType"
      ]
     },
     "execution_count": 37,
     "metadata": {},
     "output_type": "execute_result"
    }
   ],
   "source": [
    "type(test())"
   ]
  },
  {
   "cell_type": "code",
   "execution_count": 10,
   "id": "91488620-15ed-48d8-bbd9-acfdcc3042fe",
   "metadata": {},
   "outputs": [
    {
     "name": "stdout",
     "output_type": "stream",
     "text": [
      "This is my very first function\n"
     ]
    },
    {
     "ename": "TypeError",
     "evalue": "unsupported operand type(s) for +: 'NoneType' and 'str'",
     "output_type": "error",
     "traceback": [
      "\u001b[0;31m---------------------------------------------------------------------------\u001b[0m",
      "\u001b[0;31mTypeError\u001b[0m                                 Traceback (most recent call last)",
      "Cell \u001b[0;32mIn[10], line 1\u001b[0m\n\u001b[0;32m----> 1\u001b[0m \u001b[43mtest1\u001b[49m\u001b[43m(\u001b[49m\u001b[43m)\u001b[49m\u001b[38;5;241;43m+\u001b[39;49m\u001b[38;5;124;43m\"\u001b[39;49m\u001b[38;5;124;43mArghya\u001b[39;49m\u001b[38;5;124;43m\"\u001b[39;49m\n",
      "\u001b[0;31mTypeError\u001b[0m: unsupported operand type(s) for +: 'NoneType' and 'str'"
     ]
    }
   ],
   "source": [
    "test1()+\"Arghya\"  # Print only returns the none type function"
   ]
  },
  {
   "cell_type": "code",
   "execution_count": 14,
   "id": "8bc267e9-8577-4f05-859d-e0a037a2af1e",
   "metadata": {},
   "outputs": [],
   "source": [
    "def test2(): \n",
    "    return \"This is my function with return \" "
   ]
  },
  {
   "cell_type": "code",
   "execution_count": 15,
   "id": "8852d679-8c3e-4be8-84f9-c8a8b8a15e46",
   "metadata": {},
   "outputs": [
    {
     "data": {
      "text/plain": [
       "'This is my function with return '"
      ]
     },
     "execution_count": 15,
     "metadata": {},
     "output_type": "execute_result"
    }
   ],
   "source": [
    "test2()"
   ]
  },
  {
   "cell_type": "code",
   "execution_count": 17,
   "id": "daa5b152-391d-47c1-81ff-fcfb13179b7f",
   "metadata": {},
   "outputs": [
    {
     "data": {
      "text/plain": [
       "'This is my function with return Arghya'"
      ]
     },
     "execution_count": 17,
     "metadata": {},
     "output_type": "execute_result"
    }
   ],
   "source": [
    "test2() + \"Arghya\"  # Return returns the data type as it is that's why concatenation is possible,On the other hand print return the none type of the the data. "
   ]
  },
  {
   "cell_type": "code",
   "execution_count": 40,
   "id": "3b0603e2-caee-4e70-8a38-532b408aa537",
   "metadata": {},
   "outputs": [],
   "source": [
    "def test3():\n",
    "    return 1, 4, \"PWSKILLS\", 34.52, True"
   ]
  },
  {
   "cell_type": "code",
   "execution_count": 41,
   "id": "c5995624-6c1f-4ff0-83fb-56bc13eb8abe",
   "metadata": {},
   "outputs": [
    {
     "data": {
      "text/plain": [
       "(1, 4, 'PWSKILLS', 34.52, True)"
      ]
     },
     "execution_count": 41,
     "metadata": {},
     "output_type": "execute_result"
    }
   ],
   "source": [
    "test3()"
   ]
  },
  {
   "cell_type": "code",
   "execution_count": 42,
   "id": "0f9d5633-905c-41c6-b648-47fcf1485aa9",
   "metadata": {},
   "outputs": [],
   "source": [
    "a = 1,2,3,4,5.2,True  #hold multiple data in a single variable"
   ]
  },
  {
   "cell_type": "code",
   "execution_count": 43,
   "id": "89efcded-57d7-4f11-b120-90ba460ff72f",
   "metadata": {},
   "outputs": [
    {
     "data": {
      "text/plain": [
       "(1, 2, 3, 4, 5.2, True)"
      ]
     },
     "execution_count": 43,
     "metadata": {},
     "output_type": "execute_result"
    }
   ],
   "source": [
    "a"
   ]
  },
  {
   "cell_type": "code",
   "execution_count": 44,
   "id": "edc6455c-b3ec-475b-a6e7-8a05427bf61d",
   "metadata": {},
   "outputs": [],
   "source": [
    "a,b,c,d,e = 1,2,3,5.2,True #hold multiple data in multiple variable"
   ]
  },
  {
   "cell_type": "code",
   "execution_count": 45,
   "id": "5c5cb7a7-efd4-4506-b6ee-571e540c6108",
   "metadata": {},
   "outputs": [
    {
     "data": {
      "text/plain": [
       "1"
      ]
     },
     "execution_count": 45,
     "metadata": {},
     "output_type": "execute_result"
    }
   ],
   "source": [
    "a"
   ]
  },
  {
   "cell_type": "code",
   "execution_count": 46,
   "id": "c7e8ebc4-e762-4be8-a717-981913101040",
   "metadata": {},
   "outputs": [
    {
     "data": {
      "text/plain": [
       "2"
      ]
     },
     "execution_count": 46,
     "metadata": {},
     "output_type": "execute_result"
    }
   ],
   "source": [
    "b"
   ]
  },
  {
   "cell_type": "code",
   "execution_count": 47,
   "id": "c4e04e87-47a7-4603-8ffd-2677c26deda0",
   "metadata": {},
   "outputs": [
    {
     "data": {
      "text/plain": [
       "3"
      ]
     },
     "execution_count": 47,
     "metadata": {},
     "output_type": "execute_result"
    }
   ],
   "source": [
    "c"
   ]
  },
  {
   "cell_type": "code",
   "execution_count": 48,
   "id": "6e3b522d-02d6-40a8-afad-8d4c7573c259",
   "metadata": {},
   "outputs": [
    {
     "data": {
      "text/plain": [
       "5.2"
      ]
     },
     "execution_count": 48,
     "metadata": {},
     "output_type": "execute_result"
    }
   ],
   "source": [
    "d"
   ]
  },
  {
   "cell_type": "code",
   "execution_count": 49,
   "id": "41f42d9a-be37-40f3-8bf1-c5ffe6b4f0c0",
   "metadata": {},
   "outputs": [
    {
     "data": {
      "text/plain": [
       "True"
      ]
     },
     "execution_count": 49,
     "metadata": {},
     "output_type": "execute_result"
    }
   ],
   "source": [
    "e"
   ]
  },
  {
   "cell_type": "code",
   "execution_count": 50,
   "id": "bb88f2ca-5e2f-47e4-8094-b4efa5089277",
   "metadata": {},
   "outputs": [
    {
     "data": {
      "text/plain": [
       "(1, 4, 'PWSKILLS', 34.52, True)"
      ]
     },
     "execution_count": 50,
     "metadata": {},
     "output_type": "execute_result"
    }
   ],
   "source": [
    "test3() # It return the data in tuples"
   ]
  },
  {
   "cell_type": "code",
   "execution_count": 51,
   "id": "6610b68d-988c-4afb-9b64-4dd3aa020503",
   "metadata": {},
   "outputs": [
    {
     "data": {
      "text/plain": [
       "tuple"
      ]
     },
     "execution_count": 51,
     "metadata": {},
     "output_type": "execute_result"
    }
   ],
   "source": [
    "type(test3())"
   ]
  },
  {
   "cell_type": "code",
   "execution_count": 52,
   "id": "85f59de4-0bf1-4e4a-a298-a0eb4f57b2cf",
   "metadata": {},
   "outputs": [
    {
     "data": {
      "text/plain": [
       "1"
      ]
     },
     "execution_count": 52,
     "metadata": {},
     "output_type": "execute_result"
    }
   ],
   "source": [
    "# extracting\n",
    "test3()[0]"
   ]
  },
  {
   "cell_type": "code",
   "execution_count": 53,
   "id": "544a747a-cdf9-4c8f-ac66-95b52136e0c9",
   "metadata": {},
   "outputs": [
    {
     "data": {
      "text/plain": [
       "34.52"
      ]
     },
     "execution_count": 53,
     "metadata": {},
     "output_type": "execute_result"
    }
   ],
   "source": [
    "test3()[3]"
   ]
  },
  {
   "cell_type": "code",
   "execution_count": 54,
   "id": "09f36361-a17f-4848-806f-974ded145ce5",
   "metadata": {},
   "outputs": [
    {
     "data": {
      "text/plain": [
       "float"
      ]
     },
     "execution_count": 54,
     "metadata": {},
     "output_type": "execute_result"
    }
   ],
   "source": [
    "type(test3()[3])"
   ]
  },
  {
   "cell_type": "code",
   "execution_count": 56,
   "id": "f5b9bfed-848e-45e8-bdd5-338ca277b995",
   "metadata": {},
   "outputs": [
    {
     "data": {
      "text/plain": [
       "True"
      ]
     },
     "execution_count": 56,
     "metadata": {},
     "output_type": "execute_result"
    }
   ],
   "source": [
    "test3()[4]"
   ]
  },
  {
   "cell_type": "code",
   "execution_count": 55,
   "id": "af52a6c1-0433-4b56-92f3-0cf6872aa729",
   "metadata": {},
   "outputs": [
    {
     "data": {
      "text/plain": [
       "bool"
      ]
     },
     "execution_count": 55,
     "metadata": {},
     "output_type": "execute_result"
    }
   ],
   "source": [
    "type(test3()[4])"
   ]
  },
  {
   "cell_type": "code",
   "execution_count": 59,
   "id": "779d4611-497f-4b5f-9b23-557da66c5850",
   "metadata": {},
   "outputs": [
    {
     "data": {
      "text/plain": [
       "(True, 34.52, 'PWSKILLS', 4, 1)"
      ]
     },
     "execution_count": 59,
     "metadata": {},
     "output_type": "execute_result"
    }
   ],
   "source": [
    "test3()[::-1]"
   ]
  },
  {
   "cell_type": "code",
   "execution_count": 60,
   "id": "becbd3ac-96be-4375-953c-eecf08f25caa",
   "metadata": {},
   "outputs": [],
   "source": [
    "a,b,c,d,e = test3()"
   ]
  },
  {
   "cell_type": "code",
   "execution_count": 61,
   "id": "6e636eed-b90c-4aa0-8ee9-bf893cff3525",
   "metadata": {},
   "outputs": [
    {
     "data": {
      "text/plain": [
       "True"
      ]
     },
     "execution_count": 61,
     "metadata": {},
     "output_type": "execute_result"
    }
   ],
   "source": [
    "e"
   ]
  },
  {
   "cell_type": "code",
   "execution_count": 62,
   "id": "c14fc101-2151-47ac-9c29-bd08a474067d",
   "metadata": {},
   "outputs": [
    {
     "data": {
      "text/plain": [
       "'PWSKILLS'"
      ]
     },
     "execution_count": 62,
     "metadata": {},
     "output_type": "execute_result"
    }
   ],
   "source": [
    "c"
   ]
  },
  {
   "cell_type": "code",
   "execution_count": 63,
   "id": "0f57f111-6009-48a5-b3bc-8ad1f64333e5",
   "metadata": {},
   "outputs": [],
   "source": [
    "def test4():\n",
    "    a = 3*4+5\n",
    "    return a"
   ]
  },
  {
   "cell_type": "code",
   "execution_count": 64,
   "id": "4ee56e13-d623-4a3c-a32b-0d00588a74f0",
   "metadata": {},
   "outputs": [
    {
     "data": {
      "text/plain": [
       "17"
      ]
     },
     "execution_count": 64,
     "metadata": {},
     "output_type": "execute_result"
    }
   ],
   "source": [
    "test4()"
   ]
  },
  {
   "cell_type": "code",
   "execution_count": 65,
   "id": "beca5424-7ae3-4bc9-ac9b-63be63d98d11",
   "metadata": {},
   "outputs": [
    {
     "data": {
      "text/plain": [
       "int"
      ]
     },
     "execution_count": 65,
     "metadata": {},
     "output_type": "execute_result"
    }
   ],
   "source": [
    "type(test4())"
   ]
  },
  {
   "cell_type": "code",
   "execution_count": 93,
   "id": "33e89545-bd8d-461d-872a-44d07b855ae4",
   "metadata": {},
   "outputs": [],
   "source": [
    "def test5(a,b):  # To pass data we have to write it inside the ( , ) , a & b are arguments\n",
    "    c = a + b\n",
    "    return c"
   ]
  },
  {
   "cell_type": "code",
   "execution_count": 79,
   "id": "4219a83e-73f7-4fa7-8ffb-fa03ca570224",
   "metadata": {},
   "outputs": [
    {
     "ename": "TypeError",
     "evalue": "test5() missing 2 required positional arguments: 'a' and 'b'",
     "output_type": "error",
     "traceback": [
      "\u001b[0;31m---------------------------------------------------------------------------\u001b[0m",
      "\u001b[0;31mTypeError\u001b[0m                                 Traceback (most recent call last)",
      "Cell \u001b[0;32mIn[79], line 1\u001b[0m\n\u001b[0;32m----> 1\u001b[0m \u001b[43mtest5\u001b[49m\u001b[43m(\u001b[49m\u001b[43m)\u001b[49m\n",
      "\u001b[0;31mTypeError\u001b[0m: test5() missing 2 required positional arguments: 'a' and 'b'"
     ]
    }
   ],
   "source": [
    "test5()"
   ]
  },
  {
   "cell_type": "code",
   "execution_count": 92,
   "id": "2e19f5d1-8b56-484d-9274-0114e33dc888",
   "metadata": {},
   "outputs": [
    {
     "data": {
      "text/plain": [
       "400"
      ]
     },
     "execution_count": 92,
     "metadata": {},
     "output_type": "execute_result"
    }
   ],
   "source": [
    "test5(147,253)  # You must have to pass two data set as you arguments them in test5(a,b),where a, are arguments"
   ]
  },
  {
   "cell_type": "code",
   "execution_count": 84,
   "id": "6ffd9a83-86f3-4dec-844e-add204188ebc",
   "metadata": {},
   "outputs": [
    {
     "data": {
      "text/plain": [
       "'Arghya Chatterjee'"
      ]
     },
     "execution_count": 84,
     "metadata": {},
     "output_type": "execute_result"
    }
   ],
   "source": [
    "test5(\"Arghya \", \"Chatterjee\") # Concatenation operation"
   ]
  },
  {
   "cell_type": "code",
   "execution_count": 86,
   "id": "9ca6fd26-8020-4410-bd69-34da8961b704",
   "metadata": {},
   "outputs": [
    {
     "data": {
      "text/plain": [
       "[1, 2, 3, 4, 5, 6]"
      ]
     },
     "execution_count": 86,
     "metadata": {},
     "output_type": "execute_result"
    }
   ],
   "source": [
    "test5([1,2,3],[4,5,6]) # List concatenation"
   ]
  },
  {
   "cell_type": "code",
   "execution_count": 89,
   "id": "9ccd8b85-eee2-47dd-9517-e81f2fc465aa",
   "metadata": {},
   "outputs": [
    {
     "ename": "TypeError",
     "evalue": "unsupported operand type(s) for +: 'set' and 'set'",
     "output_type": "error",
     "traceback": [
      "\u001b[0;31m---------------------------------------------------------------------------\u001b[0m",
      "\u001b[0;31mTypeError\u001b[0m                                 Traceback (most recent call last)",
      "Cell \u001b[0;32mIn[89], line 1\u001b[0m\n\u001b[0;32m----> 1\u001b[0m \u001b[43mtest5\u001b[49m\u001b[43m(\u001b[49m\u001b[43m{\u001b[49m\u001b[38;5;241;43m1\u001b[39;49m\u001b[43m,\u001b[49m\u001b[38;5;241;43m2\u001b[39;49m\u001b[43m,\u001b[49m\u001b[38;5;241;43m3\u001b[39;49m\u001b[43m}\u001b[49m\u001b[43m,\u001b[49m\u001b[43m{\u001b[49m\u001b[38;5;241;43m4\u001b[39;49m\u001b[43m,\u001b[49m\u001b[38;5;241;43m5\u001b[39;49m\u001b[43m,\u001b[49m\u001b[38;5;241;43m6\u001b[39;49m\u001b[43m}\u001b[49m\u001b[43m)\u001b[49m \u001b[38;5;66;03m# set concatenation\u001b[39;00m\n",
      "Cell \u001b[0;32mIn[78], line 2\u001b[0m, in \u001b[0;36mtest5\u001b[0;34m(a, b)\u001b[0m\n\u001b[1;32m      1\u001b[0m \u001b[38;5;28;01mdef\u001b[39;00m \u001b[38;5;21mtest5\u001b[39m(a,b):  \u001b[38;5;66;03m# to pass data we have to write it inside the ( , )\u001b[39;00m\n\u001b[0;32m----> 2\u001b[0m     c \u001b[38;5;241m=\u001b[39m \u001b[43ma\u001b[49m\u001b[43m \u001b[49m\u001b[38;5;241;43m+\u001b[39;49m\u001b[43m \u001b[49m\u001b[43mb\u001b[49m\n\u001b[1;32m      3\u001b[0m     \u001b[38;5;28;01mreturn\u001b[39;00m c\n",
      "\u001b[0;31mTypeError\u001b[0m: unsupported operand type(s) for +: 'set' and 'set'"
     ]
    }
   ],
   "source": [
    "test5({1,2,3},{4,5,6}) # set concatenation"
   ]
  },
  {
   "cell_type": "code",
   "execution_count": 91,
   "id": "f45ef0aa-20f5-47d6-8fea-32a9cfa956a9",
   "metadata": {},
   "outputs": [
    {
     "data": {
      "text/plain": [
       "(1, 2, 3, 4, 5, 6)"
      ]
     },
     "execution_count": 91,
     "metadata": {},
     "output_type": "execute_result"
    }
   ],
   "source": [
    "test5((1,2,3),(4,5,6)) # Tuple concatenation"
   ]
  },
  {
   "cell_type": "code",
   "execution_count": 94,
   "id": "6eb1c890-3bcd-4b4d-9a0a-12823aa78bc7",
   "metadata": {},
   "outputs": [
    {
     "data": {
      "text/plain": [
       "[4, 5, 6, 1, 2, 3]"
      ]
     },
     "execution_count": 94,
     "metadata": {},
     "output_type": "execute_result"
    }
   ],
   "source": [
    "test5(b = [1,2,3], a=[4,5,6]) # To change the position"
   ]
  },
  {
   "cell_type": "code",
   "execution_count": 98,
   "id": "f5d39d59-2bcc-4a2e-865d-efac4c81b387",
   "metadata": {},
   "outputs": [],
   "source": [
    "l1 = [1,2,3,4.1,5,\"Arghya\",\"Parents\",[1,2,3,45,56]] "
   ]
  },
  {
   "cell_type": "code",
   "execution_count": 99,
   "id": "2881a57f-6060-48b4-af2f-b67ca5592b19",
   "metadata": {},
   "outputs": [
    {
     "data": {
      "text/plain": [
       "[1, 2, 3, 4]"
      ]
     },
     "execution_count": 99,
     "metadata": {},
     "output_type": "execute_result"
    }
   ],
   "source": [
    "l"
   ]
  },
  {
   "cell_type": "raw",
   "id": "f0498804-5ec7-4dcc-8323-804a8c6791e7",
   "metadata": {},
   "source": [
    "Q.  Create a Function which will take a list as a input and give a final list with all numeric value."
   ]
  },
  {
   "cell_type": "code",
   "execution_count": 106,
   "id": "b6565675-1cb9-4a8d-8161-4f958e579a3c",
   "metadata": {},
   "outputs": [],
   "source": [
    "def test6(a):  ## a is a list\n",
    "    n = []\n",
    "    for i in a :\n",
    "        if type(i) == int or type(i) == float :\n",
    "            n.append(i)\n",
    "    return n       "
   ]
  },
  {
   "cell_type": "code",
   "execution_count": 107,
   "id": "6d36b705-0def-4c66-8f34-b40313af78f4",
   "metadata": {},
   "outputs": [
    {
     "data": {
      "text/plain": [
       "[1, 2, 3, 4.1, 5]"
      ]
     },
     "execution_count": 107,
     "metadata": {},
     "output_type": "execute_result"
    }
   ],
   "source": [
    "test6([1,2,3,4.1,5,\"Arghya\",\"Parents\",[1,2,3,45,56]])"
   ]
  },
  {
   "cell_type": "code",
   "execution_count": 110,
   "id": "01cb9194-7791-4f3b-8ac5-21318335ca53",
   "metadata": {},
   "outputs": [],
   "source": [
    "def test6(a):  ## a is a list\n",
    "    n = []\n",
    "    for i in a :\n",
    "        if type(i) == list:\n",
    "            n.append(i)\n",
    "    return n      "
   ]
  },
  {
   "cell_type": "code",
   "execution_count": 111,
   "id": "fbf43539-cd68-43a5-a8a0-bb3c69dbe923",
   "metadata": {},
   "outputs": [
    {
     "data": {
      "text/plain": [
       "[[1, 2, 3, 45, 56]]"
      ]
     },
     "execution_count": 111,
     "metadata": {},
     "output_type": "execute_result"
    }
   ],
   "source": [
    "test6([1,2,3,4.1,5,\"Arghya\",\"Parents\",[1,2,3,45,56]])"
   ]
  },
  {
   "cell_type": "code",
   "execution_count": 122,
   "id": "df45298c-6c81-45b0-9e6b-6ab5e34251ea",
   "metadata": {},
   "outputs": [],
   "source": [
    "def test6(a):  \n",
    "    n = []\n",
    "    for i in a :\n",
    "        if type(i) == str :\n",
    "            n.append(i)\n",
    "    return n   "
   ]
  },
  {
   "cell_type": "code",
   "execution_count": 123,
   "id": "beb7e98c-ee64-41a2-b207-9f4269e44860",
   "metadata": {},
   "outputs": [
    {
     "data": {
      "text/plain": [
       "['Arghya', 'Parents']"
      ]
     },
     "execution_count": 123,
     "metadata": {},
     "output_type": "execute_result"
    }
   ],
   "source": [
    "test6([1,2,3,4.1,5,\"Arghya\",\"Parents\",[1,2,3,45,56]])"
   ]
  },
  {
   "cell_type": "raw",
   "id": "197f5422-20ee-4df4-be21-e5890a8e10d7",
   "metadata": {},
   "source": [
    "Q.  Create a Function which will take a list as a input and give a final list with all numeric value and even in nested list."
   ]
  },
  {
   "cell_type": "code",
   "execution_count": 124,
   "id": "761a70e3-4198-44ad-8759-533656fa8b19",
   "metadata": {},
   "outputs": [],
   "source": [
    "def test7(a):  ## a is a list\n",
    "    n = []\n",
    "    for i in a :\n",
    "        if type(i) == list:\n",
    "            for j in i:\n",
    "                if type(j) == int or type(j) == float:\n",
    "                    n.append(j)\n",
    "        else:\n",
    "            if type(i) == int or type(i) == float:\n",
    "                n.append(i)\n",
    "    return n   "
   ]
  },
  {
   "cell_type": "code",
   "execution_count": 125,
   "id": "06946ead-24c6-4979-87e5-ae4d9ee4434a",
   "metadata": {},
   "outputs": [
    {
     "data": {
      "text/plain": [
       "[1, 2, 3, 4.1, 5, 1, 2, 3, 45, 5.6]"
      ]
     },
     "execution_count": 125,
     "metadata": {},
     "output_type": "execute_result"
    }
   ],
   "source": [
    "test7([1,2,3,4.1,5,\"Arghya\",\"Parents\",[1,2,3,45,5.6,\"India\"]])"
   ]
  },
  {
   "cell_type": "code",
   "execution_count": 2,
   "id": "1df5191a-8e25-434b-be64-d03b07dd46d6",
   "metadata": {},
   "outputs": [],
   "source": [
    "def test8(a,b,c,d,e):\n",
    "    pass"
   ]
  },
  {
   "cell_type": "code",
   "execution_count": 4,
   "id": "b7e3570c-402b-4dbe-bd1e-3931b2054aae",
   "metadata": {},
   "outputs": [
    {
     "ename": "TypeError",
     "evalue": "test8() takes 5 positional arguments but 7 were given",
     "output_type": "error",
     "traceback": [
      "\u001b[0;31m---------------------------------------------------------------------------\u001b[0m",
      "\u001b[0;31mTypeError\u001b[0m                                 Traceback (most recent call last)",
      "Cell \u001b[0;32mIn[4], line 1\u001b[0m\n\u001b[0;32m----> 1\u001b[0m \u001b[43mtest8\u001b[49m\u001b[43m(\u001b[49m\u001b[38;5;241;43m2\u001b[39;49m\u001b[43m,\u001b[49m\u001b[38;5;241;43m1\u001b[39;49m\u001b[43m,\u001b[49m\u001b[38;5;241;43m5\u001b[39;49m\u001b[43m,\u001b[49m\u001b[38;5;241;43m4\u001b[39;49m\u001b[43m,\u001b[49m\u001b[38;5;241;43m3\u001b[39;49m\u001b[43m,\u001b[49m\u001b[38;5;241;43m9\u001b[39;49m\u001b[43m,\u001b[49m\u001b[38;5;241;43m8\u001b[39;49m\u001b[43m)\u001b[49m \u001b[38;5;66;03m# It will give an error as we take 5 positional arguments\u001b[39;00m\n",
      "\u001b[0;31mTypeError\u001b[0m: test8() takes 5 positional arguments but 7 were given"
     ]
    }
   ],
   "source": [
    "test8(2,1,5,4,3,9,8) # It will give an error as we take 5 positional arguments"
   ]
  },
  {
   "cell_type": "raw",
   "id": "837cebad-39d4-4131-a6ae-7872d119c4a5",
   "metadata": {},
   "source": [
    "To avoid this problemn we have to use *args By which we can create aany number of positional arguments and can give any number of arguments. But \"\"arg\"\" is not a keyword. So you can take your name in place of arg."
   ]
  },
  {
   "cell_type": "code",
   "execution_count": 6,
   "id": "274a9921-5807-4680-9692-9c34d5e14051",
   "metadata": {},
   "outputs": [],
   "source": [
    "def test9(*args):   # *args Will return any number of argument acoording to your requirement \n",
    "    return args        "
   ]
  },
  {
   "cell_type": "code",
   "execution_count": 7,
   "id": "0b3d6829-98cb-40cb-8b80-4198039bda08",
   "metadata": {},
   "outputs": [
    {
     "data": {
      "text/plain": [
       "(1,)"
      ]
     },
     "execution_count": 7,
     "metadata": {},
     "output_type": "execute_result"
    }
   ],
   "source": [
    "test9(1)"
   ]
  },
  {
   "cell_type": "code",
   "execution_count": 8,
   "id": "637523e1-72b0-4e04-b608-e124d5189cf9",
   "metadata": {},
   "outputs": [
    {
     "data": {
      "text/plain": [
       "(1, 2, 5, 7)"
      ]
     },
     "execution_count": 8,
     "metadata": {},
     "output_type": "execute_result"
    }
   ],
   "source": [
    "test9(1,2,5,7)"
   ]
  },
  {
   "cell_type": "code",
   "execution_count": 11,
   "id": "174376a7-0b7b-438e-b90e-deef82cc08a2",
   "metadata": {},
   "outputs": [
    {
     "data": {
      "text/plain": [
       "('Arghya', [1, 2, 3.5], True, (6, 2, 4))"
      ]
     },
     "execution_count": 11,
     "metadata": {},
     "output_type": "execute_result"
    }
   ],
   "source": [
    "test9(\"Arghya\",[1,2,3.5],True,(6,2,4)) # It Can take n number of arguments"
   ]
  },
  {
   "cell_type": "code",
   "execution_count": 13,
   "id": "d12304e7-4d7c-47ca-a963-b22d8fce0641",
   "metadata": {},
   "outputs": [],
   "source": [
    "def test10(*arghya): \n",
    "    return arghya"
   ]
  },
  {
   "cell_type": "code",
   "execution_count": 14,
   "id": "9647718a-5c83-46ed-9e34-9f9a693c361b",
   "metadata": {},
   "outputs": [
    {
     "data": {
      "text/plain": [
       "(1, 5, 9, 5.3, 'India')"
      ]
     },
     "execution_count": 14,
     "metadata": {},
     "output_type": "execute_result"
    }
   ],
   "source": [
    "test10(1,5,9,5.3,\"India\")"
   ]
  },
  {
   "cell_type": "code",
   "execution_count": 20,
   "id": "c3c05b70-77e2-435c-9dc8-d009601ca21f",
   "metadata": {},
   "outputs": [],
   "source": [
    "def test11(*args,a):  # Here a is an additional arghuments\n",
    "    return args, a"
   ]
  },
  {
   "cell_type": "code",
   "execution_count": 21,
   "id": "fd97fec0-6931-42e0-9a6a-857439c3e7bf",
   "metadata": {},
   "outputs": [
    {
     "ename": "TypeError",
     "evalue": "test11() missing 1 required keyword-only argument: 'a'",
     "output_type": "error",
     "traceback": [
      "\u001b[0;31m---------------------------------------------------------------------------\u001b[0m",
      "\u001b[0;31mTypeError\u001b[0m                                 Traceback (most recent call last)",
      "Cell \u001b[0;32mIn[21], line 1\u001b[0m\n\u001b[0;32m----> 1\u001b[0m \u001b[43mtest11\u001b[49m\u001b[43m(\u001b[49m\u001b[38;5;241;43m8\u001b[39;49m\u001b[43m,\u001b[49m\u001b[38;5;241;43m6\u001b[39;49m\u001b[43m,\u001b[49m\u001b[38;5;241;43m2\u001b[39;49m\u001b[43m,\u001b[49m\u001b[38;5;241;43m4\u001b[39;49m\u001b[43m,\u001b[49m\u001b[38;5;241;43m8\u001b[39;49m\u001b[43m,\u001b[49m\u001b[38;5;124;43m\"\u001b[39;49m\u001b[38;5;124;43mCR7\u001b[39;49m\u001b[38;5;124;43m\"\u001b[39;49m\u001b[43m)\u001b[49m \u001b[38;5;66;03m# you have to pass a data for \"a\" \u001b[39;00m\n",
      "\u001b[0;31mTypeError\u001b[0m: test11() missing 1 required keyword-only argument: 'a'"
     ]
    }
   ],
   "source": [
    "test11(8,6,2,4,8,\"CR7\") # you have to pass a data for \"a\" "
   ]
  },
  {
   "cell_type": "code",
   "execution_count": 22,
   "id": "a1897d9d-0853-4e49-8618-1393fcb7bffd",
   "metadata": {},
   "outputs": [
    {
     "data": {
      "text/plain": [
       "((8, 6, 2, 4, 8), 'CR7')"
      ]
     },
     "execution_count": 22,
     "metadata": {},
     "output_type": "execute_result"
    }
   ],
   "source": [
    "test11(8,6,2,4,8, a = \"CR7\")"
   ]
  },
  {
   "cell_type": "code",
   "execution_count": 39,
   "id": "311b31de-c236-41c0-b544-6b89849f9503",
   "metadata": {},
   "outputs": [],
   "source": [
    "def test12(*args): # Pass only list\n",
    "    l = []\n",
    "    for i in args:\n",
    "        if type(i) == list:\n",
    "            l.append(i)\n",
    "    return l        "
   ]
  },
  {
   "cell_type": "code",
   "execution_count": 27,
   "id": "c0d684fc-490b-471f-b651-b814a26dec0d",
   "metadata": {},
   "outputs": [
    {
     "data": {
      "text/plain": [
       "[[1, 2, 3, 4, 0], ['Apple', 'Banana'], [69, 3.14]]"
      ]
     },
     "execution_count": 27,
     "metadata": {},
     "output_type": "execute_result"
    }
   ],
   "source": [
    "test12(1,2,3,[1,2,3,4,0],(1,2,3,4),\"Arghya\",[\"Apple\",\"Banana\"], [69,3.14])"
   ]
  },
  {
   "cell_type": "raw",
   "id": "0c819df4-b794-4e14-a7af-ef7e3bdef010",
   "metadata": {},
   "source": [
    "To make a dictionary with using definition we have to pass **kwargs, where 1st * is for keywords and another is for value. "
   ]
  },
  {
   "cell_type": "code",
   "execution_count": 28,
   "id": "63cdb367-676c-4641-9297-3a319319ed1a",
   "metadata": {},
   "outputs": [],
   "source": [
    "def test13(**kwargs):\n",
    "    return kwargs"
   ]
  },
  {
   "cell_type": "code",
   "execution_count": 30,
   "id": "cb695e4a-eadd-4788-97fb-285806e4da24",
   "metadata": {},
   "outputs": [
    {
     "data": {
      "text/plain": [
       "{}"
      ]
     },
     "execution_count": 30,
     "metadata": {},
     "output_type": "execute_result"
    }
   ],
   "source": [
    "test13()"
   ]
  },
  {
   "cell_type": "code",
   "execution_count": 31,
   "id": "e3d8b2d2-fa6c-49e6-b6d2-47c77ac5af62",
   "metadata": {},
   "outputs": [
    {
     "data": {
      "text/plain": [
       "dict"
      ]
     },
     "execution_count": 31,
     "metadata": {},
     "output_type": "execute_result"
    }
   ],
   "source": [
    "type(test13())"
   ]
  },
  {
   "cell_type": "code",
   "execution_count": 38,
   "id": "8aa01b53-0495-4915-ae5f-3879e1467122",
   "metadata": {},
   "outputs": [
    {
     "data": {
      "text/plain": [
       "{'a': 13, 'b': 56, 'c': ('kolkata', 'Ganga')}"
      ]
     },
     "execution_count": 38,
     "metadata": {},
     "output_type": "execute_result"
    }
   ],
   "source": [
    "test13(a = 13, b = 56, c = ( \"kolkata\",\"Ganga\"))"
   ]
  },
  {
   "cell_type": "code",
   "execution_count": 1,
   "id": "cff15546-8414-45af-a1cc-f4c59abf7fae",
   "metadata": {},
   "outputs": [],
   "source": [
    "def test14(**kwargs):  # Extract list from Dictionary\n",
    "    for i in kwargs.keys():\n",
    "        if type(kwargs[i]) == str:\n",
    "            return i, kwargs[i]        "
   ]
  },
  {
   "cell_type": "code",
   "execution_count": 3,
   "id": "2b1f14b7-3204-4db1-8b33-b32aff6b9d6a",
   "metadata": {},
   "outputs": [
    {
     "data": {
      "text/plain": [
       "('e', 'Kolkata')"
      ]
     },
     "execution_count": 3,
     "metadata": {},
     "output_type": "execute_result"
    }
   ],
   "source": [
    "test14(a = 13, b = 56, c = [1,5], d = ( \"kolkata\",\"Ganga\"), e = \"Kolkata\")"
   ]
  },
  {
   "cell_type": "code",
   "execution_count": 93,
   "id": "ba41362b-d028-4917-a2de-cd81bba138ad",
   "metadata": {},
   "outputs": [],
   "source": [
    "def test14(**kwargs):  # Extract boolean from Dictionary\n",
    "    for i in kwargs.keys():\n",
    "        if type(kwargs[i]) == bool:\n",
    "            return i, kwargs[i]   "
   ]
  },
  {
   "cell_type": "code",
   "execution_count": 94,
   "id": "d3bdc77c-4070-4829-b38e-5a305fc649ec",
   "metadata": {},
   "outputs": [
    {
     "data": {
      "text/plain": [
       "('e', True)"
      ]
     },
     "execution_count": 94,
     "metadata": {},
     "output_type": "execute_result"
    }
   ],
   "source": [
    "test15(a = 13, b = 56, c = [1,5], d = ( \"kolkata\",\"Ganga\"), e = True, f = False)"
   ]
  },
  {
   "cell_type": "code",
   "execution_count": 95,
   "id": "0b963e24-a19c-46a7-aa50-077209226686",
   "metadata": {},
   "outputs": [],
   "source": [
    "def test14(**kwargs):  # Extract string from Dictionary\n",
    "    for i in kwargs.keys():\n",
    "        if type(kwargs[i]) == str:\n",
    "            return i, kwargs[i]   "
   ]
  },
  {
   "cell_type": "code",
   "execution_count": 98,
   "id": "420da170-5acc-46d5-b9cf-a700fd931f98",
   "metadata": {},
   "outputs": [
    {
     "data": {
      "text/plain": [
       "('b', 'Virat')"
      ]
     },
     "execution_count": 98,
     "metadata": {},
     "output_type": "execute_result"
    }
   ],
   "source": [
    "test14(a = 13, b = \"Virat\", c = [1,5], d = ( \"kolkata\",\"Ganga\"), e = True, f = False)"
   ]
  },
  {
   "cell_type": "code",
   "execution_count": 4,
   "id": "78d15010-2119-4ec3-8d30-7f4dcbb6f988",
   "metadata": {},
   "outputs": [],
   "source": [
    "def test14(**kwargs):  # Extract integer from Dictionary but in this case loop will break when the condition is satisfied\n",
    "    for i in kwargs.keys():    # b = 56 won't be shown as loop will break after the 1st condition is satisfied\n",
    "        if type(kwargs[i]) == int:\n",
    "            return i, kwargs[i]  "
   ]
  },
  {
   "cell_type": "code",
   "execution_count": 5,
   "id": "8c3dd5cd-96f9-443d-b6c7-82ad8fa28e71",
   "metadata": {},
   "outputs": [
    {
     "data": {
      "text/plain": [
       "('a', 19)"
      ]
     },
     "execution_count": 5,
     "metadata": {},
     "output_type": "execute_result"
    }
   ],
   "source": [
    "test14(a = 19, b = 56, c = \"Virat\", d = ( \"kolkata\",\"Ganga\"), e = True, f = False) "
   ]
  },
  {
   "cell_type": "code",
   "execution_count": 113,
   "id": "4742b288-31c2-47d3-9773-dbc86496dc72",
   "metadata": {},
   "outputs": [],
   "source": [
    "def test14(**kwargs):  # Extract integer from Dictionary using list\n",
    "    l = []\n",
    "    for i in kwargs.keys():\n",
    "        if type(kwargs[i]) == int:\n",
    "            l.append((i,kwargs[i]))\n",
    "    return l  "
   ]
  },
  {
   "cell_type": "code",
   "execution_count": 114,
   "id": "875fd52d-f9fa-401f-98b9-bae226bed355",
   "metadata": {},
   "outputs": [
    {
     "data": {
      "text/plain": [
       "[('a', 19), ('b', 56)]"
      ]
     },
     "execution_count": 114,
     "metadata": {},
     "output_type": "execute_result"
    }
   ],
   "source": [
    "test14(a = 19, b = 56, c = \"Virat\", d = ( \"kolkata\",\"Ganga\"), e = True, f = False) "
   ]
  },
  {
   "cell_type": "code",
   "execution_count": 6,
   "id": "634427ce-8a37-46a1-b043-aaa358051c8f",
   "metadata": {},
   "outputs": [],
   "source": [
    "def test16(*args, **kwargs): # *args for n number of arguments and **kwargs for n number of arguments in dictionary \n",
    "    return args, kwargs"
   ]
  },
  {
   "cell_type": "code",
   "execution_count": 7,
   "id": "3b36869d-f272-45b3-a304-dfdb035a99bd",
   "metadata": {},
   "outputs": [
    {
     "data": {
      "text/plain": [
       "((2, 5, 8, 9), {'a': 78, 'b': 98, 'c': 'India'})"
      ]
     },
     "execution_count": 7,
     "metadata": {},
     "output_type": "execute_result"
    }
   ],
   "source": [
    "test16(2,5,8,9, a = 78,b = 98, c = \"India\")"
   ]
  },
  {
   "cell_type": "code",
   "execution_count": 8,
   "id": "b325372c-9964-4573-8e6e-e9b98f6cce38",
   "metadata": {},
   "outputs": [
    {
     "data": {
      "text/plain": [
       "tuple"
      ]
     },
     "execution_count": 8,
     "metadata": {},
     "output_type": "execute_result"
    }
   ],
   "source": [
    "type(test16())"
   ]
  },
  {
   "cell_type": "markdown",
   "id": "45faa924-b458-41b9-8480-9045fd538dd4",
   "metadata": {},
   "source": [
    "### Generator Function"
   ]
  },
  {
   "cell_type": "raw",
   "id": "842a9704-9c08-4c72-b115-7f4250353e4b",
   "metadata": {},
   "source": [
    "1.Return value:\n",
    "A normal function returns a value using the \"return\" statement, whereas a generator function uses the \"yield\" statement to return a generator object that can be used to iterate over a sequence of values."
   ]
  },
  {
   "cell_type": "raw",
   "id": "2662bc67-b6b4-430a-9b9a-d1e4c72ec731",
   "metadata": {},
   "source": [
    "2.Memory usage:\n",
    "A normal function creates and returns a single value, which may require a lot of memory if it contains a large data structure or list. In contrast, a generator function can produce a sequence of values one at a time, allowing it to be more memory-efficient."
   ]
  },
  {
   "cell_type": "code",
   "execution_count": 9,
   "id": "8013ec28-150e-488c-9505-75dff6919709",
   "metadata": {},
   "outputs": [
    {
     "data": {
      "text/plain": [
       "range(1, 10)"
      ]
     },
     "execution_count": 9,
     "metadata": {},
     "output_type": "execute_result"
    }
   ],
   "source": [
    "range(1,10)"
   ]
  },
  {
   "cell_type": "code",
   "execution_count": 11,
   "id": "298116e4-53bd-4d1a-a3f8-225fb745c7a3",
   "metadata": {},
   "outputs": [
    {
     "name": "stdout",
     "output_type": "stream",
     "text": [
      "1 2 3 4 5 6 7 8 9 "
     ]
    }
   ],
   "source": [
    "for i in range(1,10):\n",
    "    print(i, end = \" \")"
   ]
  },
  {
   "cell_type": "code",
   "execution_count": 18,
   "id": "33de552a-ea9b-413b-9242-7821bb9b5427",
   "metadata": {},
   "outputs": [],
   "source": [
    "l = [1,2,3,4,5,6,7,8,9,\"Kohli\", \"CR7\"]"
   ]
  },
  {
   "cell_type": "raw",
   "id": "4c8c3ea3-9b7b-4504-ba42-1217e9707a51",
   "metadata": {},
   "source": [
    "Normal Function takes a lot of space in memory. When number of inputs are very large it may create problem and takes lots of times"
   ]
  },
  {
   "cell_type": "code",
   "execution_count": 22,
   "id": "745345e3-a876-43aa-96b6-0f7ab83d9cc4",
   "metadata": {},
   "outputs": [],
   "source": [
    "def test17(a):\n",
    "    n = []\n",
    "    for i in a : \n",
    "        if type(i) == str:\n",
    "            n.append(i)\n",
    "    return n        "
   ]
  },
  {
   "cell_type": "code",
   "execution_count": 23,
   "id": "0b8e3b7d-ce23-4ec4-91c6-c7777093c254",
   "metadata": {},
   "outputs": [
    {
     "data": {
      "text/plain": [
       "['Kohli', 'CR7']"
      ]
     },
     "execution_count": 23,
     "metadata": {},
     "output_type": "execute_result"
    }
   ],
   "source": [
    "test17(l)"
   ]
  },
  {
   "cell_type": "raw",
   "id": "af9be1a0-2140-4b97-9b5a-7eb020c50072",
   "metadata": {},
   "source": [
    "Q. USING GENERATOR FUNCTION CREATE FIBONACCI SERIES  \n",
    "   Fibonacci Series:\n",
    "       0,1,1,2,3,5,8,13,21,34"
   ]
  },
  {
   "cell_type": "raw",
   "id": "8106ff74-53ad-4cdf-8d73-a93c01e000d7",
   "metadata": {},
   "source": [
    "Generator function only takes the range and deal with it, so it doesn't take much space in memory. "
   ]
  },
  {
   "cell_type": "code",
   "execution_count": 25,
   "id": "f9be342d-4d6d-4768-9102-4756299ac59d",
   "metadata": {},
   "outputs": [],
   "source": [
    "def test_fib(n):\n",
    "    a,b = 0,1\n",
    "    for i in range(n):\n",
    "        yield a    # Try to give record one by one\n",
    "        a,b = b, a+b"
   ]
  },
  {
   "cell_type": "code",
   "execution_count": 26,
   "id": "acd5bb2a-fbae-42a1-af4a-67b1adf2801f",
   "metadata": {},
   "outputs": [
    {
     "data": {
      "text/plain": [
       "<generator object test_fib at 0x7fdb27afa960>"
      ]
     },
     "execution_count": 26,
     "metadata": {},
     "output_type": "execute_result"
    }
   ],
   "source": [
    "test_fib(10)"
   ]
  },
  {
   "cell_type": "raw",
   "id": "dd2f4225-103c-4ce1-b26a-16a7f9a8c590",
   "metadata": {},
   "source": [
    "To get the value from inside the range we have to use loop "
   ]
  },
  {
   "cell_type": "code",
   "execution_count": 27,
   "id": "86f3f69e-9ea2-4703-8a0b-52dbc8b39ec6",
   "metadata": {},
   "outputs": [
    {
     "name": "stdout",
     "output_type": "stream",
     "text": [
      "0\n",
      "1\n",
      "1\n",
      "2\n",
      "3\n",
      "5\n",
      "8\n",
      "13\n",
      "21\n",
      "34\n"
     ]
    }
   ],
   "source": [
    "for i in test_fib(10):\n",
    "    print(i)        "
   ]
  },
  {
   "cell_type": "code",
   "execution_count": null,
   "id": "ee5bda7b-4e24-4dfb-8d78-407bf5fb19d9",
   "metadata": {},
   "outputs": [],
   "source": []
  },
  {
   "cell_type": "code",
   "execution_count": 28,
   "id": "f365f257-07af-4e2d-ba13-7364414489b9",
   "metadata": {},
   "outputs": [],
   "source": [
    "def get_even_numbers(n):\n",
    "    even_numbers = []\n",
    "    for i in range(n):\n",
    "        if i % 2 == 0:\n",
    "            even_numbers.append(i)\n",
    "    return even_numbers"
   ]
  },
  {
   "cell_type": "code",
   "execution_count": 29,
   "id": "6b4b7f79-98b2-4406-960e-41f3c36d2412",
   "metadata": {},
   "outputs": [
    {
     "data": {
      "text/plain": [
       "[0, 2, 4, 6, 8]"
      ]
     },
     "execution_count": 29,
     "metadata": {},
     "output_type": "execute_result"
    }
   ],
   "source": [
    "get_even_numbers(10)"
   ]
  },
  {
   "cell_type": "code",
   "execution_count": 30,
   "id": "1123f3c9-78bb-4bd5-9ff5-3b874ba89af6",
   "metadata": {},
   "outputs": [],
   "source": [
    "def get_even_numbers(n):\n",
    "    for i in range(n):\n",
    "        if i % 2 == 0:\n",
    "            yield i"
   ]
  },
  {
   "cell_type": "code",
   "execution_count": 31,
   "id": "0bff7e83-a1ea-41a8-aaff-73afed64d798",
   "metadata": {},
   "outputs": [
    {
     "data": {
      "text/plain": [
       "<generator object get_even_numbers at 0x7fdb27afac70>"
      ]
     },
     "execution_count": 31,
     "metadata": {},
     "output_type": "execute_result"
    }
   ],
   "source": [
    "get_even_numbers(10)"
   ]
  },
  {
   "cell_type": "code",
   "execution_count": 35,
   "id": "06c20c7d-d441-4186-9bf0-65384dda6f33",
   "metadata": {},
   "outputs": [
    {
     "name": "stdout",
     "output_type": "stream",
     "text": [
      "0\n",
      "2\n",
      "4\n",
      "6\n",
      "8\n"
     ]
    }
   ],
   "source": [
    "for i in get_even_numbers(10):\n",
    "    print(i)"
   ]
  },
  {
   "cell_type": "code",
   "execution_count": 36,
   "id": "70757088-2e76-41a5-ab76-e2344f4d9360",
   "metadata": {},
   "outputs": [
    {
     "name": "stdout",
     "output_type": "stream",
     "text": [
      "[0, 2, 4, 6, 8]\n"
     ]
    }
   ],
   "source": [
    "def generate_even_numbers(n):\n",
    "    for i in range(n):\n",
    "        if i % 2 == 0:\n",
    "            yield i\n",
    "\n",
    "# Call the generator function and convert the output to a list\n",
    "even_numbers_list = list(generate_even_numbers(10))\n",
    "\n",
    "# Print the list of even numbers\n",
    "print(even_numbers_list)\n"
   ]
  },
  {
   "cell_type": "code",
   "execution_count": null,
   "id": "8bd06b04-a675-4473-a496-586e384febb2",
   "metadata": {},
   "outputs": [],
   "source": []
  }
 ],
 "metadata": {
  "kernelspec": {
   "display_name": "Python 3 (ipykernel)",
   "language": "python",
   "name": "python3"
  },
  "language_info": {
   "codemirror_mode": {
    "name": "ipython",
    "version": 3
   },
   "file_extension": ".py",
   "mimetype": "text/x-python",
   "name": "python",
   "nbconvert_exporter": "python",
   "pygments_lexer": "ipython3",
   "version": "3.10.8"
  }
 },
 "nbformat": 4,
 "nbformat_minor": 5
}
