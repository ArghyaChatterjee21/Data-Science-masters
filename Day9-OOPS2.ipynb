{
 "cells": [
  {
   "cell_type": "markdown",
   "id": "877042b8-2f88-4700-bdb5-bce8ca7c6f2f",
   "metadata": {},
   "source": [
    "## 08/02/2023"
   ]
  },
  {
   "cell_type": "markdown",
   "id": "aa44f899-9a81-4b74-8471-51eada2b1094",
   "metadata": {},
   "source": [
    "## Polymorphism"
   ]
  },
  {
   "cell_type": "code",
   "execution_count": 1,
   "id": "11e2d865-f76c-4ac3-8f2d-5a3ae55bcf52",
   "metadata": {},
   "outputs": [],
   "source": [
    "def test(a,b):\n",
    "    return a+b"
   ]
  },
  {
   "cell_type": "code",
   "execution_count": 2,
   "id": "be4ba640-438d-41e0-ab4b-30e9eaae6ac2",
   "metadata": {},
   "outputs": [
    {
     "data": {
      "text/plain": [
       "7"
      ]
     },
     "execution_count": 2,
     "metadata": {},
     "output_type": "execute_result"
    }
   ],
   "source": [
    "test(3,4)"
   ]
  },
  {
   "cell_type": "code",
   "execution_count": 3,
   "id": "efac93f0-0ca1-4841-bf34-83e1d80f652c",
   "metadata": {},
   "outputs": [
    {
     "data": {
      "text/plain": [
       "'Arghya Chatterjee'"
      ]
     },
     "execution_count": 3,
     "metadata": {},
     "output_type": "execute_result"
    }
   ],
   "source": [
    "test(\"Arghya \", \"Chatterjee\")"
   ]
  },
  {
   "cell_type": "code",
   "execution_count": 4,
   "id": "24cc08c8-d02e-445b-a48d-fce59211eb84",
   "metadata": {},
   "outputs": [
    {
     "data": {
      "text/plain": [
       "[1, 2, 3, 4, 5, 6]"
      ]
     },
     "execution_count": 4,
     "metadata": {},
     "output_type": "execute_result"
    }
   ],
   "source": [
    "test([1,2,3],[4,5,6])"
   ]
  },
  {
   "cell_type": "raw",
   "id": "2289d2e3-6b84-4d9b-ade6-a4c0d9d713f7",
   "metadata": {},
   "source": [
    "Polymorphism is a fundamental concept in object-oriented programming that allows objects of different classes to be treated as if they are of the same class. In other words, it allows objects of different types to be used interchangeably in code, as long as they share a common interface or parent class"
   ]
  },
  {
   "cell_type": "code",
   "execution_count": 12,
   "id": "29723a14-ebb2-4d2e-9f7d-e3fc8a17fe16",
   "metadata": {},
   "outputs": [],
   "source": [
    "class data_science:\n",
    "    def syllabus(self):\n",
    "        print(\"This is my method for data science\")"
   ]
  },
  {
   "cell_type": "code",
   "execution_count": 13,
   "id": "718ce228-f91d-4ea9-b1f1-9097b3438aa6",
   "metadata": {},
   "outputs": [],
   "source": [
    "class web_dev:\n",
    "    def syllabus(self):\n",
    "        print(\"This is my method for web dev\")"
   ]
  },
  {
   "cell_type": "code",
   "execution_count": 14,
   "id": "fc37a4e0-5795-44dd-b4d0-a66b311d1524",
   "metadata": {},
   "outputs": [],
   "source": [
    "def class_parcer(class_obj):\n",
    "    for i in class_obj:\n",
    "        i.syllabus()"
   ]
  },
  {
   "cell_type": "code",
   "execution_count": 15,
   "id": "50175535-2c6b-49b2-81ee-d8d9be604732",
   "metadata": {},
   "outputs": [],
   "source": [
    "obj_data_science = data_science()"
   ]
  },
  {
   "cell_type": "code",
   "execution_count": 16,
   "id": "5ee41f6b-252a-4d98-a4a2-ece9de2f1064",
   "metadata": {},
   "outputs": [],
   "source": [
    "obj_web_dev = web_dev()"
   ]
  },
  {
   "cell_type": "code",
   "execution_count": 17,
   "id": "c00b9c33-e202-44ce-9134-f5122bdc43a4",
   "metadata": {},
   "outputs": [],
   "source": [
    "class_obj = [obj_data_science,obj_web_dev]"
   ]
  },
  {
   "cell_type": "code",
   "execution_count": 18,
   "id": "5f678fde-ba61-4e3e-bf62-0db1c40a6fd7",
   "metadata": {},
   "outputs": [
    {
     "name": "stdout",
     "output_type": "stream",
     "text": [
      "This is my method for data science\n",
      "This is my method for web dev\n"
     ]
    }
   ],
   "source": [
    "class_parcer(class_obj)"
   ]
  },
  {
   "cell_type": "code",
   "execution_count": null,
   "id": "7b01c661-8d78-442f-8c71-cc3b4993817c",
   "metadata": {},
   "outputs": [],
   "source": []
  },
  {
   "cell_type": "code",
   "execution_count": null,
   "id": "0e6883e0-b921-4f53-a3ce-ea721d6d9b4a",
   "metadata": {},
   "outputs": [],
   "source": []
  },
  {
   "cell_type": "markdown",
   "id": "fa1cbdde-45ed-4687-ab48-da2a1ea0f8bc",
   "metadata": {},
   "source": [
    "## Encapsulation"
   ]
  },
  {
   "cell_type": "code",
   "execution_count": 20,
   "id": "874b0a61-6588-4dc5-a205-af603fec7a6f",
   "metadata": {},
   "outputs": [],
   "source": [
    "class test1:\n",
    "    def __init__(self, a, b):\n",
    "        self.a = a\n",
    "        self.b = b"
   ]
  },
  {
   "cell_type": "code",
   "execution_count": 21,
   "id": "d8330ef0-005f-4de6-a587-9d53295efdcc",
   "metadata": {},
   "outputs": [],
   "source": [
    "t =  test1(69,108)"
   ]
  },
  {
   "cell_type": "code",
   "execution_count": 22,
   "id": "1d5617b0-19bb-4c3a-8eb0-709f04cff40e",
   "metadata": {},
   "outputs": [
    {
     "data": {
      "text/plain": [
       "69"
      ]
     },
     "execution_count": 22,
     "metadata": {},
     "output_type": "execute_result"
    }
   ],
   "source": [
    "t.a"
   ]
  },
  {
   "cell_type": "code",
   "execution_count": 23,
   "id": "e523fe87-2e54-4a4e-a253-74be0c977549",
   "metadata": {},
   "outputs": [
    {
     "data": {
      "text/plain": [
       "108"
      ]
     },
     "execution_count": 23,
     "metadata": {},
     "output_type": "execute_result"
    }
   ],
   "source": [
    "t.b"
   ]
  },
  {
   "cell_type": "code",
   "execution_count": 24,
   "id": "f05192dd-cde2-4e4a-ad2b-ca6e6a05d1e9",
   "metadata": {},
   "outputs": [],
   "source": [
    "t.a = 125"
   ]
  },
  {
   "cell_type": "code",
   "execution_count": 25,
   "id": "9a80a165-d818-447d-8de2-b7c16b99876e",
   "metadata": {},
   "outputs": [
    {
     "data": {
      "text/plain": [
       "125"
      ]
     },
     "execution_count": 25,
     "metadata": {},
     "output_type": "execute_result"
    }
   ],
   "source": [
    "t.a"
   ]
  },
  {
   "cell_type": "code",
   "execution_count": 15,
   "id": "51852b85-44c5-4059-92fa-57b2231c2028",
   "metadata": {},
   "outputs": [],
   "source": [
    "class car:\n",
    "    def __init__(self, year, make, model, speed):\n",
    "        self.__year = year\n",
    "        self.__make = make\n",
    "        self.__model = model\n",
    "        self.__speed = 0\n",
    "    def set_speed(self,speed):\n",
    "        self.__speed = 0 if speed < 0 else speed\n",
    "    \n",
    "    def get_speed(self):\n",
    "        return self.__speed"
   ]
  },
  {
   "cell_type": "code",
   "execution_count": 16,
   "id": "75618eb7-0b13-4896-8aad-1dc1ae3a30fa",
   "metadata": {},
   "outputs": [],
   "source": [
    "obj_car = car(2021, \"Toyota\", \"Innova\", 12)"
   ]
  },
  {
   "cell_type": "code",
   "execution_count": 31,
   "id": "1cef3a93-335f-4343-a02c-d4fef191e211",
   "metadata": {},
   "outputs": [
    {
     "data": {
      "text/plain": [
       "2021"
      ]
     },
     "execution_count": 31,
     "metadata": {},
     "output_type": "execute_result"
    }
   ],
   "source": [
    "obj_car._car__year"
   ]
  },
  {
   "cell_type": "code",
   "execution_count": 32,
   "id": "48113f8f-1abb-4866-905f-34f02ca7e2e0",
   "metadata": {},
   "outputs": [
    {
     "data": {
      "text/plain": [
       "'Toyota'"
      ]
     },
     "execution_count": 32,
     "metadata": {},
     "output_type": "execute_result"
    }
   ],
   "source": [
    "obj_car._car__make"
   ]
  },
  {
   "cell_type": "code",
   "execution_count": 33,
   "id": "9203d1a6-119d-4902-9c8f-bc870d7dcf80",
   "metadata": {},
   "outputs": [
    {
     "data": {
      "text/plain": [
       "'Innova'"
      ]
     },
     "execution_count": 33,
     "metadata": {},
     "output_type": "execute_result"
    }
   ],
   "source": [
    "obj_car._car__model"
   ]
  },
  {
   "cell_type": "code",
   "execution_count": 42,
   "id": "45402845-98aa-4f79-bbe7-b96cef008830",
   "metadata": {},
   "outputs": [
    {
     "data": {
      "text/plain": [
       "0"
      ]
     },
     "execution_count": 42,
     "metadata": {},
     "output_type": "execute_result"
    }
   ],
   "source": [
    "obj_car._car__speed"
   ]
  },
  {
   "cell_type": "code",
   "execution_count": 3,
   "id": "302c0bba-9635-48de-b210-c143f839a70c",
   "metadata": {},
   "outputs": [],
   "source": [
    "obj_car._car__year = 2023"
   ]
  },
  {
   "cell_type": "code",
   "execution_count": 4,
   "id": "f1b126c0-d333-40f5-9ac3-2d1a93670663",
   "metadata": {},
   "outputs": [
    {
     "data": {
      "text/plain": [
       "2023"
      ]
     },
     "execution_count": 4,
     "metadata": {},
     "output_type": "execute_result"
    }
   ],
   "source": [
    "obj_car._car__year"
   ]
  },
  {
   "cell_type": "code",
   "execution_count": 11,
   "id": "2767bef0-fc24-4bb3-a8a3-3bd7d246d739",
   "metadata": {},
   "outputs": [],
   "source": [
    "obj_car.set_speed(-1234)"
   ]
  },
  {
   "cell_type": "code",
   "execution_count": 17,
   "id": "4c8f526b-92d0-4d36-a789-23a5fce15718",
   "metadata": {},
   "outputs": [],
   "source": [
    "obj_car.set_speed(1234)"
   ]
  },
  {
   "cell_type": "code",
   "execution_count": 18,
   "id": "f0f88ca8-e891-498f-acdf-9a9dd135dcc5",
   "metadata": {},
   "outputs": [
    {
     "data": {
      "text/plain": [
       "1234"
      ]
     },
     "execution_count": 18,
     "metadata": {},
     "output_type": "execute_result"
    }
   ],
   "source": [
    "obj_car._car__speed"
   ]
  },
  {
   "cell_type": "code",
   "execution_count": 21,
   "id": "75cc54d7-2c2c-4343-a897-8a322c8260cd",
   "metadata": {},
   "outputs": [
    {
     "data": {
      "text/plain": [
       "1234"
      ]
     },
     "execution_count": 21,
     "metadata": {},
     "output_type": "execute_result"
    }
   ],
   "source": [
    "obj_car.get_speed()"
   ]
  },
  {
   "cell_type": "code",
   "execution_count": 22,
   "id": "c5df533c-a0b7-4cb7-8628-eeeef01c784f",
   "metadata": {},
   "outputs": [],
   "source": [
    "class bank_account:\n",
    "    def __init__(self, balance):\n",
    "        self.__balance = balance\n",
    "        \n",
    "    def deposit(self, amount):\n",
    "        self.__balance = self.__balance + amount\n",
    "        \n",
    "    def withdraw(self, amount):    \n",
    "        if self.__balance >= amount:\n",
    "            self.__balance = self.__balance - amount\n",
    "            return True\n",
    "        else:\n",
    "            return False\n",
    "    def get_balance(self):\n",
    "        return self.__balance"
   ]
  },
  {
   "cell_type": "code",
   "execution_count": 23,
   "id": "a2ea29db-1108-45d9-be07-99d52ea2c599",
   "metadata": {},
   "outputs": [],
   "source": [
    "obj_bank_account = bank_account(1000) "
   ]
  },
  {
   "cell_type": "code",
   "execution_count": 24,
   "id": "ac76bb13-d372-4d06-93c7-74725de6ca09",
   "metadata": {},
   "outputs": [
    {
     "data": {
      "text/plain": [
       "1000"
      ]
     },
     "execution_count": 24,
     "metadata": {},
     "output_type": "execute_result"
    }
   ],
   "source": [
    "obj_bank_account.get_balance() "
   ]
  },
  {
   "cell_type": "code",
   "execution_count": 25,
   "id": "c677c575-c88f-4655-bb56-eb6ddcfc2c5c",
   "metadata": {},
   "outputs": [],
   "source": [
    "obj_bank_account.deposit(6000) "
   ]
  },
  {
   "cell_type": "code",
   "execution_count": 26,
   "id": "6cd25c0e-4166-4a21-be63-0980596ddd15",
   "metadata": {},
   "outputs": [
    {
     "data": {
      "text/plain": [
       "7000"
      ]
     },
     "execution_count": 26,
     "metadata": {},
     "output_type": "execute_result"
    }
   ],
   "source": [
    "obj_bank_account.get_balance() "
   ]
  },
  {
   "cell_type": "code",
   "execution_count": 27,
   "id": "2c79839b-d365-4ac9-9291-3746b3a58e2a",
   "metadata": {},
   "outputs": [
    {
     "data": {
      "text/plain": [
       "False"
      ]
     },
     "execution_count": 27,
     "metadata": {},
     "output_type": "execute_result"
    }
   ],
   "source": [
    "obj_bank_account.withdraw(10000) "
   ]
  },
  {
   "cell_type": "code",
   "execution_count": 28,
   "id": "745c4ee4-d02c-462e-917b-07c0723fe4f4",
   "metadata": {},
   "outputs": [
    {
     "data": {
      "text/plain": [
       "True"
      ]
     },
     "execution_count": 28,
     "metadata": {},
     "output_type": "execute_result"
    }
   ],
   "source": [
    "obj_bank_account.withdraw(1500) "
   ]
  },
  {
   "cell_type": "code",
   "execution_count": 29,
   "id": "64c534f9-3cf0-49ce-8d3b-a312f720d6a3",
   "metadata": {},
   "outputs": [
    {
     "data": {
      "text/plain": [
       "5500"
      ]
     },
     "execution_count": 29,
     "metadata": {},
     "output_type": "execute_result"
    }
   ],
   "source": [
    "obj_bank_account.get_balance() "
   ]
  },
  {
   "cell_type": "code",
   "execution_count": null,
   "id": "61cad912-2a8f-4485-bb55-bed4fa10af42",
   "metadata": {},
   "outputs": [],
   "source": []
  },
  {
   "cell_type": "markdown",
   "id": "d4d77b32-7071-4cd4-bb37-3f2cdd57e7ce",
   "metadata": {},
   "source": [
    "## Inheritance"
   ]
  },
  {
   "cell_type": "code",
   "execution_count": 5,
   "id": "299b5d78-5330-4cc4-83e3-1d829419c2c5",
   "metadata": {},
   "outputs": [],
   "source": [
    "class parent:\n",
    "    def test_parent(self):\n",
    "        print(\"This is my parent class\")"
   ]
  },
  {
   "cell_type": "code",
   "execution_count": 6,
   "id": "f988357e-15d1-4211-9884-fa2e0c57c3e3",
   "metadata": {},
   "outputs": [],
   "source": [
    "class child(parent):\n",
    "    pass"
   ]
  },
  {
   "cell_type": "code",
   "execution_count": 7,
   "id": "ddc97407-1f70-4d28-928a-e5890c4b51e7",
   "metadata": {},
   "outputs": [],
   "source": [
    "child_obj = child()"
   ]
  },
  {
   "cell_type": "code",
   "execution_count": 8,
   "id": "42a1ba9b-5550-4c97-be7f-86d7c58d86ab",
   "metadata": {},
   "outputs": [
    {
     "name": "stdout",
     "output_type": "stream",
     "text": [
      "This is my parent class\n"
     ]
    }
   ],
   "source": [
    "child_obj.test_parent()"
   ]
  },
  {
   "cell_type": "code",
   "execution_count": null,
   "id": "57db0c4c-2d1d-4a2e-9a5a-b2e5007df58f",
   "metadata": {},
   "outputs": [],
   "source": []
  },
  {
   "cell_type": "markdown",
   "id": "41241631-7971-4a2f-8e8a-cccb6d25a96d",
   "metadata": {},
   "source": [
    "#### Multilevel Inheritance"
   ]
  },
  {
   "cell_type": "code",
   "execution_count": 23,
   "id": "67a2bf9a-de5e-4a98-bb28-e41770165e64",
   "metadata": {},
   "outputs": [],
   "source": [
    "class grandparent:\n",
    "    def test_grandparent(self):\n",
    "        print(\"This is my grandparent class\")"
   ]
  },
  {
   "cell_type": "code",
   "execution_count": 24,
   "id": "91c796e5-f65d-477d-93b4-c4486e1bc4e0",
   "metadata": {},
   "outputs": [],
   "source": [
    "class parent(grandparent):\n",
    "    def test_parent(self):\n",
    "        print(\"This is my parent class\")"
   ]
  },
  {
   "cell_type": "code",
   "execution_count": 25,
   "id": "8e1c6c53-6676-476b-9c22-77493028d9c3",
   "metadata": {},
   "outputs": [],
   "source": [
    "class child(parent):\n",
    "    def test_child(self):\n",
    "        print(\"This is my child class\")"
   ]
  },
  {
   "cell_type": "code",
   "execution_count": 26,
   "id": "f26daeff-ee80-49f4-89c8-8674724bdcba",
   "metadata": {},
   "outputs": [],
   "source": [
    "obj_child = child()"
   ]
  },
  {
   "cell_type": "code",
   "execution_count": 27,
   "id": "18e9bd8f-e645-4bb9-83dc-a64a9334fcce",
   "metadata": {},
   "outputs": [
    {
     "name": "stdout",
     "output_type": "stream",
     "text": [
      "This is my child class\n"
     ]
    }
   ],
   "source": [
    "obj_child.test_child()"
   ]
  },
  {
   "cell_type": "code",
   "execution_count": 28,
   "id": "3caa3029-640b-4478-a9e2-e35a131d20e8",
   "metadata": {},
   "outputs": [
    {
     "name": "stdout",
     "output_type": "stream",
     "text": [
      "This is my grandparent class\n"
     ]
    }
   ],
   "source": [
    "obj_child.test_grandparent()"
   ]
  },
  {
   "cell_type": "code",
   "execution_count": 29,
   "id": "7e717985-6c12-4784-acf3-5ece94fe1abe",
   "metadata": {},
   "outputs": [
    {
     "name": "stdout",
     "output_type": "stream",
     "text": [
      "This is my parent class\n",
      "This is my grandparent class\n"
     ]
    }
   ],
   "source": [
    "obj_child.test_parent()  # This will print \"This is my parent class\"\n",
    "obj_child.test_grandparent()  # This will print \"This is my grandparent class\"\n"
   ]
  },
  {
   "cell_type": "code",
   "execution_count": 19,
   "id": "b295ba35-2716-4376-b632-bba3baf33bbf",
   "metadata": {},
   "outputs": [],
   "source": [
    "obj_parent = parent()"
   ]
  },
  {
   "cell_type": "code",
   "execution_count": 20,
   "id": "cb492c9c-a8c9-4d58-b402-2cb1edb80608",
   "metadata": {},
   "outputs": [
    {
     "name": "stdout",
     "output_type": "stream",
     "text": [
      "This is my grandparent class\n"
     ]
    }
   ],
   "source": [
    "obj_parent.test_grandparent()"
   ]
  },
  {
   "cell_type": "code",
   "execution_count": 8,
   "id": "465116dc-4088-4814-9bab-76cdb2fbe1e8",
   "metadata": {},
   "outputs": [
    {
     "name": "stdout",
     "output_type": "stream",
     "text": [
      "This is my grandparent class\n"
     ]
    }
   ],
   "source": [
    "grandparent().test_grandparent()"
   ]
  },
  {
   "cell_type": "code",
   "execution_count": 21,
   "id": "5dec2d92-82a8-4823-b361-d01f683f564b",
   "metadata": {},
   "outputs": [
    {
     "ename": "AttributeError",
     "evalue": "'parent' object has no attribute 'test_child'",
     "output_type": "error",
     "traceback": [
      "\u001b[0;31m---------------------------------------------------------------------------\u001b[0m",
      "\u001b[0;31mAttributeError\u001b[0m                            Traceback (most recent call last)",
      "Cell \u001b[0;32mIn[21], line 1\u001b[0m\n\u001b[0;32m----> 1\u001b[0m \u001b[43mobj_parent\u001b[49m\u001b[38;5;241;43m.\u001b[39;49m\u001b[43mtest_child\u001b[49m()\n",
      "\u001b[0;31mAttributeError\u001b[0m: 'parent' object has no attribute 'test_child'"
     ]
    }
   ],
   "source": [
    "obj_parent.test_child()"
   ]
  },
  {
   "cell_type": "code",
   "execution_count": 22,
   "id": "85d917bd-6da7-4610-a70e-762e5b52e495",
   "metadata": {},
   "outputs": [],
   "source": [
    "class class1:\n",
    "    def test_class1(self):\n",
    "        print(\"This is my class1\")"
   ]
  },
  {
   "cell_type": "code",
   "execution_count": 25,
   "id": "3bd74a3c-6757-467f-8191-b5291c33f69e",
   "metadata": {},
   "outputs": [],
   "source": [
    "class class2(class1):\n",
    "    def test_class2(self):\n",
    "        print(\"This is my class2\")"
   ]
  },
  {
   "cell_type": "code",
   "execution_count": 26,
   "id": "3c70d5bb-a29e-471d-a144-2d082dcb3912",
   "metadata": {},
   "outputs": [],
   "source": [
    "class class3(class2):\n",
    "    def test_class3(self):\n",
    "        print(\"This is my class3\")"
   ]
  },
  {
   "cell_type": "code",
   "execution_count": 27,
   "id": "5d9687b8-caae-4bda-b30b-167457df708d",
   "metadata": {},
   "outputs": [],
   "source": [
    "obj_class3 = class3()"
   ]
  },
  {
   "cell_type": "code",
   "execution_count": 28,
   "id": "ba74c475-0d94-4cc4-b201-e90b4d299755",
   "metadata": {},
   "outputs": [
    {
     "name": "stdout",
     "output_type": "stream",
     "text": [
      "This is my class1\n"
     ]
    }
   ],
   "source": [
    "obj_class3.test_class1()"
   ]
  },
  {
   "cell_type": "code",
   "execution_count": 29,
   "id": "1edf52a8-4055-40a3-8e6f-28e51f3e0c2f",
   "metadata": {},
   "outputs": [
    {
     "name": "stdout",
     "output_type": "stream",
     "text": [
      "This is my class2\n"
     ]
    }
   ],
   "source": [
    "obj_class3.test_class2()"
   ]
  },
  {
   "cell_type": "code",
   "execution_count": 31,
   "id": "ffbc3331-f27e-40e8-b163-fb7b78ab1da6",
   "metadata": {},
   "outputs": [
    {
     "name": "stdout",
     "output_type": "stream",
     "text": [
      "This is my class3\n"
     ]
    }
   ],
   "source": [
    "obj_class3.test_class3()"
   ]
  },
  {
   "cell_type": "markdown",
   "id": "ca7adefe-4ccb-4b7e-a129-ec512168866b",
   "metadata": {},
   "source": [
    "#### Multiple Inheritance"
   ]
  },
  {
   "cell_type": "code",
   "execution_count": 45,
   "id": "44cf8b8a-5365-4b4b-9ef4-c5f2843549a2",
   "metadata": {},
   "outputs": [],
   "source": [
    "class classA:\n",
    "    def classA_method(self):\n",
    "        print(\"This is my classA\")\n",
    "        "
   ]
  },
  {
   "cell_type": "code",
   "execution_count": 46,
   "id": "c4936aef-ba5f-40dd-9aae-8661768d996d",
   "metadata": {},
   "outputs": [],
   "source": [
    "class classB:\n",
    "    def classB_method(self):\n",
    "        print(\"This is my classB\")"
   ]
  },
  {
   "cell_type": "code",
   "execution_count": 52,
   "id": "d22d3d01-f405-4afe-8c1b-5668c8587a2f",
   "metadata": {},
   "outputs": [],
   "source": [
    "class classC(classA, classB):\n",
    "    def classC_method(self):\n",
    "        print(\"This is my classC\")"
   ]
  },
  {
   "cell_type": "code",
   "execution_count": 53,
   "id": "2cd16975-2ed4-40a5-a289-2e623157a36c",
   "metadata": {},
   "outputs": [],
   "source": [
    "c = classC()"
   ]
  },
  {
   "cell_type": "code",
   "execution_count": 54,
   "id": "f4af76fa-26c3-4bf4-ab2a-03b4d9915b29",
   "metadata": {},
   "outputs": [
    {
     "name": "stdout",
     "output_type": "stream",
     "text": [
      "This is my classA\n"
     ]
    }
   ],
   "source": [
    "c.classA_method()"
   ]
  },
  {
   "cell_type": "code",
   "execution_count": 55,
   "id": "944fb345-2b23-4797-adbf-4d7fb349ea96",
   "metadata": {},
   "outputs": [
    {
     "name": "stdout",
     "output_type": "stream",
     "text": [
      "This is my classB\n"
     ]
    }
   ],
   "source": [
    "c.classB_method()"
   ]
  },
  {
   "cell_type": "code",
   "execution_count": 56,
   "id": "1424f786-092c-4f04-9505-a4f585972db8",
   "metadata": {},
   "outputs": [
    {
     "name": "stdout",
     "output_type": "stream",
     "text": [
      "This is my classC\n"
     ]
    }
   ],
   "source": [
    "c.classC_method()"
   ]
  },
  {
   "cell_type": "markdown",
   "id": "8f1ecbc8-28a3-413a-bdbd-94a261e6cd38",
   "metadata": {},
   "source": [
    "#### Difference"
   ]
  },
  {
   "cell_type": "raw",
   "id": "49cd498f-40a2-44b0-85f7-3cafa01ed6ee",
   "metadata": {},
   "source": [
    "Multilevel Inheritance:\n",
    "Multilevel inheritance refers to a situation where a derived class is created from another derived class. This creates a hierarchy of classes that are related through inheritance. In other words, a class is derived from another derived class, which is itself derived from a base class.\n",
    "\n",
    "Multiple Inheritance:\n",
    "Multiple inheritance refers to a situation where a derived class is created from more than one base class. This means that a single class can inherit from multiple classes, and it can inherit attributes and methods from all of them."
   ]
  },
  {
   "cell_type": "code",
   "execution_count": null,
   "id": "db122913-1dd7-4f29-8808-6eb2edf18c27",
   "metadata": {},
   "outputs": [],
   "source": []
  },
  {
   "cell_type": "markdown",
   "id": "2126886a-efde-4d2e-8693-a103ffea22a5",
   "metadata": {},
   "source": [
    "#### Abstraction"
   ]
  },
  {
   "cell_type": "code",
   "execution_count": 59,
   "id": "7cd2f7f4-1545-466a-80cc-35a003d0133a",
   "metadata": {},
   "outputs": [],
   "source": [
    "import abc\n",
    "\n",
    "class pwskills:\n",
    "    \n",
    "    @abc.abstractmethod\n",
    "    def student_details(self):\n",
    "        pass\n",
    "    \n",
    "    @abc.abstractmethod\n",
    "    def student_assignment(self):\n",
    "        pass\n",
    "    \n",
    "    @abc.abstractmethod\n",
    "    def student_marks(self):\n",
    "        pass"
   ]
  },
  {
   "cell_type": "code",
   "execution_count": 69,
   "id": "a57ca8bd-ae9d-4bd4-83a1-97d3775ca3fc",
   "metadata": {},
   "outputs": [],
   "source": [
    "class data_science(pwskills):\n",
    "    \n",
    "    def student_details(self):\n",
    "        return \"It will try to return a details of data science masters\"\n",
    "    \n",
    "    def student_assignment(self):\n",
    "        return \"It will try to return a details of student assignment for data science masters\""
   ]
  },
  {
   "cell_type": "code",
   "execution_count": 70,
   "id": "4ec37562-0bd1-4f1c-995e-82d8ac0c1192",
   "metadata": {},
   "outputs": [],
   "source": [
    "class web_dev(pwskills):\n",
    "    \n",
    "    def student_details(self):\n",
    "        return \"It will try to return a details of web dev\"\n",
    "    \n",
    "    def student_marks(self):\n",
    "        return \"It will try to return a marks of web dev class\""
   ]
  },
  {
   "cell_type": "code",
   "execution_count": 71,
   "id": "5b163650-bfe6-46df-90e9-a63f2cc1381d",
   "metadata": {},
   "outputs": [],
   "source": [
    "ds = data_science()\n",
    "wd = web_dev()"
   ]
  },
  {
   "cell_type": "code",
   "execution_count": 72,
   "id": "bf8f200a-e91c-43a9-b95b-446ef7c832a6",
   "metadata": {},
   "outputs": [
    {
     "data": {
      "text/plain": [
       "'It will try to return a details of data science masters'"
      ]
     },
     "execution_count": 72,
     "metadata": {},
     "output_type": "execute_result"
    }
   ],
   "source": [
    "ds.student_details()"
   ]
  },
  {
   "cell_type": "code",
   "execution_count": 73,
   "id": "d955c212-95c3-4493-a8e4-f11c12a833f5",
   "metadata": {},
   "outputs": [],
   "source": [
    "wd.student_assignment()"
   ]
  },
  {
   "cell_type": "code",
   "execution_count": 74,
   "id": "cd3cbf85-9bc8-401f-ac72-76ef99a0c8ce",
   "metadata": {},
   "outputs": [
    {
     "data": {
      "text/plain": [
       "'It will try to return a marks of web dev class'"
      ]
     },
     "execution_count": 74,
     "metadata": {},
     "output_type": "execute_result"
    }
   ],
   "source": [
    "wd.student_marks()"
   ]
  },
  {
   "cell_type": "code",
   "execution_count": null,
   "id": "9568d8f1-a11c-429e-87e4-f75fe975df0d",
   "metadata": {},
   "outputs": [],
   "source": []
  }
 ],
 "metadata": {
  "kernelspec": {
   "display_name": "Python 3 (ipykernel)",
   "language": "python",
   "name": "python3"
  },
  "language_info": {
   "codemirror_mode": {
    "name": "ipython",
    "version": 3
   },
   "file_extension": ".py",
   "mimetype": "text/x-python",
   "name": "python",
   "nbconvert_exporter": "python",
   "pygments_lexer": "ipython3",
   "version": "3.10.8"
  }
 },
 "nbformat": 4,
 "nbformat_minor": 5
}
