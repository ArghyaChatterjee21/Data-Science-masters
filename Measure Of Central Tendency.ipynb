{
 "cells": [
  {
   "cell_type": "code",
   "execution_count": null,
   "id": "7221a9a0-a482-4b8a-8cc2-b64226dfae35",
   "metadata": {},
   "outputs": [],
   "source": []
  },
  {
   "cell_type": "markdown",
   "id": "c16313bd-2ff1-4d18-83f6-7330bb15518d",
   "metadata": {},
   "source": [
    "## Measures of Central Tendency"
   ]
  },
  {
   "cell_type": "code",
   "execution_count": 1,
   "id": "62338781-3b2f-42fe-acf6-930d9da05904",
   "metadata": {},
   "outputs": [],
   "source": [
    "age = [12,13,14,21,24]"
   ]
  },
  {
   "cell_type": "code",
   "execution_count": 3,
   "id": "355bba1f-91c7-47da-a30e-a36ff86307b0",
   "metadata": {},
   "outputs": [
    {
     "data": {
      "text/plain": [
       "16.8"
      ]
     },
     "execution_count": 3,
     "metadata": {},
     "output_type": "execute_result"
    }
   ],
   "source": [
    "Mean = (12+13+14+21+24)/5\n",
    "Mean"
   ]
  },
  {
   "cell_type": "code",
   "execution_count": 4,
   "id": "a68e92c4-0b7d-4d6b-ad3f-10e787ff455e",
   "metadata": {},
   "outputs": [
    {
     "data": {
      "text/plain": [
       "16.8"
      ]
     },
     "execution_count": 4,
     "metadata": {},
     "output_type": "execute_result"
    }
   ],
   "source": [
    "## Using Numpy\n",
    "import numpy as np\n",
    "np.mean(age)"
   ]
  },
  {
   "cell_type": "code",
   "execution_count": 9,
   "id": "9335887b-4c33-4e4c-9812-eb91a1976f8a",
   "metadata": {},
   "outputs": [
    {
     "name": "stdout",
     "output_type": "stream",
     "text": [
      "61.333333333333336\n",
      "55.0\n"
     ]
    }
   ],
   "source": [
    "weights = [45,34,55,69,52,35,89,98,75]\n",
    "print(np.mean(weights))\n",
    "print(np.median(weights))"
   ]
  },
  {
   "cell_type": "code",
   "execution_count": 6,
   "id": "b099a859-b097-4390-8f8e-29532a63041f",
   "metadata": {},
   "outputs": [
    {
     "data": {
      "text/plain": [
       "155.2"
      ]
     },
     "execution_count": 6,
     "metadata": {},
     "output_type": "execute_result"
    }
   ],
   "source": [
    "# Adding an outlier, 1000 \n",
    "weights = [45,34,55,69,52,35,89,98,75,1000]\n",
    "np.mean(weights)"
   ]
  },
  {
   "cell_type": "code",
   "execution_count": 7,
   "id": "e0fbc3a1-2633-440b-a77c-8a6e3e22627f",
   "metadata": {},
   "outputs": [
    {
     "data": {
      "text/plain": [
       "62.0"
      ]
     },
     "execution_count": 7,
     "metadata": {},
     "output_type": "execute_result"
    }
   ],
   "source": [
    "## Median is least effected by outliers\n",
    "np.median(weights)"
   ]
  },
  {
   "cell_type": "code",
   "execution_count": 10,
   "id": "72409cbc-3ec7-4495-8b00-38ffee91b97a",
   "metadata": {},
   "outputs": [
    {
     "name": "stderr",
     "output_type": "stream",
     "text": [
      "/tmp/ipykernel_110/581208867.py:3: FutureWarning: Unlike other reduction functions (e.g. `skew`, `kurtosis`), the default behavior of `mode` typically preserves the axis it acts along. In SciPy 1.11.0, this behavior will change: the default value of `keepdims` will become False, the `axis` over which the statistic is taken will be eliminated, and the value None will no longer be accepted. Set `keepdims` to True or False to avoid this warning.\n",
      "  stats.mode(weights)\n"
     ]
    },
    {
     "data": {
      "text/plain": [
       "ModeResult(mode=array([34]), count=array([1]))"
      ]
     },
     "execution_count": 10,
     "metadata": {},
     "output_type": "execute_result"
    }
   ],
   "source": [
    "## Mode\n",
    "from scipy import stats\n",
    "\n",
    "stats.mode(weights)"
   ]
  },
  {
   "cell_type": "markdown",
   "id": "a20dc89e-f384-401a-be05-874d291e59d7",
   "metadata": {},
   "source": [
    "In the above case, Jupyter is returning an output that shows the mode as 34 with a count of 1. This may seem counterintuitive given that all elements occur the same number of times, but it can be explained as follows:\n",
    "\n",
    "In the case where all elements in a dataset occur the same number of times, there is no unique mode. However, some statistical software packages, including SciPy which Jupyter likely uses, define the mode as the smallest value in the dataset if all elements occur the same number of times.\n",
    "\n",
    "\n",
    "So, in summary, although the dataset has no unique mode, the mode function in SciPy (which Jupyter is using) defines the mode as the smallest value in the dataset."
   ]
  },
  {
   "cell_type": "code",
   "execution_count": 12,
   "id": "73d13cb1-cc9e-4bd6-8ccf-58a78f2fcce6",
   "metadata": {},
   "outputs": [
    {
     "name": "stderr",
     "output_type": "stream",
     "text": [
      "/tmp/ipykernel_110/1345225174.py:2: FutureWarning: Unlike other reduction functions (e.g. `skew`, `kurtosis`), the default behavior of `mode` typically preserves the axis it acts along. In SciPy 1.11.0, this behavior will change: the default value of `keepdims` will become False, the `axis` over which the statistic is taken will be eliminated, and the value None will no longer be accepted. Set `keepdims` to True or False to avoid this warning.\n",
      "  stats.mode(w)\n"
     ]
    },
    {
     "data": {
      "text/plain": [
       "ModeResult(mode=array([69]), count=array([2]))"
      ]
     },
     "execution_count": 12,
     "metadata": {},
     "output_type": "execute_result"
    }
   ],
   "source": [
    "w = [45,34,55,69,52,35,89,98,75,69]\n",
    "stats.mode(w)"
   ]
  },
  {
   "cell_type": "code",
   "execution_count": 13,
   "id": "6854396e-18ec-4691-90d0-cdb6ed40212c",
   "metadata": {},
   "outputs": [
    {
     "data": {
      "text/plain": [
       "1.5811388300841898"
      ]
     },
     "execution_count": 13,
     "metadata": {},
     "output_type": "execute_result"
    }
   ],
   "source": [
    "2.5**0.5"
   ]
  },
  {
   "cell_type": "code",
   "execution_count": null,
   "id": "798f3f21-81fe-47a1-8d49-67018cb639fe",
   "metadata": {},
   "outputs": [],
   "source": []
  }
 ],
 "metadata": {
  "kernelspec": {
   "display_name": "Python 3 (ipykernel)",
   "language": "python",
   "name": "python3"
  },
  "language_info": {
   "codemirror_mode": {
    "name": "ipython",
    "version": 3
   },
   "file_extension": ".py",
   "mimetype": "text/x-python",
   "name": "python",
   "nbconvert_exporter": "python",
   "pygments_lexer": "ipython3",
   "version": "3.10.8"
  }
 },
 "nbformat": 4,
 "nbformat_minor": 5
}
