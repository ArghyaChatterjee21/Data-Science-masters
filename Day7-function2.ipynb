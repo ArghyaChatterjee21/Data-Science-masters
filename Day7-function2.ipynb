{
 "cells": [
  {
   "cell_type": "markdown",
   "id": "ef998c83-a0ca-4ce4-9c75-691352143243",
   "metadata": {},
   "source": [
    "## 04/02/2023"
   ]
  },
  {
   "cell_type": "markdown",
   "id": "5f6f9710-b0aa-4e6d-988d-e8aa3c810faf",
   "metadata": {},
   "source": [
    "## Lambda Function"
   ]
  },
  {
   "cell_type": "code",
   "execution_count": 1,
   "id": "ba5c9f6f-5581-49e5-b382-6e8b0aaac88c",
   "metadata": {},
   "outputs": [],
   "source": [
    "def test(n,p):\n",
    "    return n**p"
   ]
  },
  {
   "cell_type": "code",
   "execution_count": 2,
   "id": "d3d24a78-dd10-4c0b-a4d6-f3c061f8fc71",
   "metadata": {},
   "outputs": [
    {
     "data": {
      "text/plain": [
       "81"
      ]
     },
     "execution_count": 2,
     "metadata": {},
     "output_type": "execute_result"
    }
   ],
   "source": [
    "test(3,4)"
   ]
  },
  {
   "cell_type": "code",
   "execution_count": 4,
   "id": "f2f5dfb4-4c10-4ead-8bd1-c20a50db79f4",
   "metadata": {},
   "outputs": [],
   "source": [
    "a = lambda n,p : n**p"
   ]
  },
  {
   "cell_type": "code",
   "execution_count": 5,
   "id": "866f68d5-1fb9-4e7a-ac72-1105bef23ac5",
   "metadata": {},
   "outputs": [
    {
     "data": {
      "text/plain": [
       "81"
      ]
     },
     "execution_count": 5,
     "metadata": {},
     "output_type": "execute_result"
    }
   ],
   "source": [
    "a(3,4)"
   ]
  },
  {
   "cell_type": "code",
   "execution_count": 13,
   "id": "04e36dc8-94e3-44f3-bbf0-471743501a64",
   "metadata": {},
   "outputs": [],
   "source": [
    "def add_numbers(x, y):\n",
    "    return x + y"
   ]
  },
  {
   "cell_type": "code",
   "execution_count": 14,
   "id": "ee38ba61-d1c9-4946-b058-4cfc2ec615a4",
   "metadata": {},
   "outputs": [
    {
     "data": {
      "text/plain": [
       "169"
      ]
     },
     "execution_count": 14,
     "metadata": {},
     "output_type": "execute_result"
    }
   ],
   "source": [
    "add_numbers(100,69)"
   ]
  },
  {
   "cell_type": "code",
   "execution_count": 6,
   "id": "be8751bb-ae0e-4dfb-846d-840376cae245",
   "metadata": {},
   "outputs": [],
   "source": [
    "add =  lambda x,y : x+y"
   ]
  },
  {
   "cell_type": "code",
   "execution_count": 7,
   "id": "a3ec7993-8c98-49b9-988d-474257ce2eec",
   "metadata": {},
   "outputs": [
    {
     "data": {
      "text/plain": [
       "169"
      ]
     },
     "execution_count": 7,
     "metadata": {},
     "output_type": "execute_result"
    }
   ],
   "source": [
    "add(100,69)"
   ]
  },
  {
   "cell_type": "code",
   "execution_count": 10,
   "id": "9d5fce91-a841-4425-b178-cb225d923922",
   "metadata": {},
   "outputs": [],
   "source": [
    "sqrt = lambda x : x**(1/2)"
   ]
  },
  {
   "cell_type": "code",
   "execution_count": 11,
   "id": "1f7f6651-36bf-49bb-9468-aa55be414081",
   "metadata": {},
   "outputs": [
    {
     "data": {
      "text/plain": [
       "13.0"
      ]
     },
     "execution_count": 11,
     "metadata": {},
     "output_type": "execute_result"
    }
   ],
   "source": [
    "sqrt(169)"
   ]
  },
  {
   "cell_type": "code",
   "execution_count": 15,
   "id": "f40299ca-3d61-4309-9b26-f5f3ebb8de75",
   "metadata": {},
   "outputs": [],
   "source": [
    "## Celcius to Fahrenheit\n",
    "\n",
    "c_to_f = lambda c : (9/5)*c+32"
   ]
  },
  {
   "cell_type": "code",
   "execution_count": 17,
   "id": "9c914bfe-4b32-404b-8425-a5a005651b4e",
   "metadata": {},
   "outputs": [
    {
     "data": {
      "text/plain": [
       "98.60000000000001"
      ]
     },
     "execution_count": 17,
     "metadata": {},
     "output_type": "execute_result"
    }
   ],
   "source": [
    "c_to_f(37)"
   ]
  },
  {
   "cell_type": "code",
   "execution_count": 18,
   "id": "aadc7993-9eb2-4c48-ae30-e2b6da3c29ae",
   "metadata": {},
   "outputs": [],
   "source": [
    "max_num = lambda x,y : x if x>y else y"
   ]
  },
  {
   "cell_type": "code",
   "execution_count": 19,
   "id": "cc4e2bfc-eb37-49c2-91cc-da806978dc68",
   "metadata": {},
   "outputs": [
    {
     "data": {
      "text/plain": [
       "50.1"
      ]
     },
     "execution_count": 19,
     "metadata": {},
     "output_type": "execute_result"
    }
   ],
   "source": [
    "max_num(50,50.1)"
   ]
  },
  {
   "cell_type": "code",
   "execution_count": 20,
   "id": "7d7b0956-2156-47f0-a269-e9711e349b03",
   "metadata": {},
   "outputs": [
    {
     "data": {
      "text/plain": [
       "50.000001"
      ]
     },
     "execution_count": 20,
     "metadata": {},
     "output_type": "execute_result"
    }
   ],
   "source": [
    "max_num(50,50.000001)"
   ]
  },
  {
   "cell_type": "code",
   "execution_count": 21,
   "id": "5689c2cb-de81-4634-bbb9-45ddea1c36cd",
   "metadata": {},
   "outputs": [
    {
     "data": {
      "text/plain": [
       "50"
      ]
     },
     "execution_count": 21,
     "metadata": {},
     "output_type": "execute_result"
    }
   ],
   "source": [
    "max_num(50,50)"
   ]
  },
  {
   "cell_type": "code",
   "execution_count": 22,
   "id": "02ba14ce-c96b-4d62-9e41-46c4e484a51e",
   "metadata": {},
   "outputs": [],
   "source": [
    "s = \"India\""
   ]
  },
  {
   "cell_type": "code",
   "execution_count": 23,
   "id": "673a9cf5-91a4-43b8-9bb5-ad7728f85c65",
   "metadata": {},
   "outputs": [],
   "source": [
    "len_st = lambda s : len(s)"
   ]
  },
  {
   "cell_type": "code",
   "execution_count": 24,
   "id": "80d14f32-53ab-44fa-b4a8-a0f4832d5e38",
   "metadata": {},
   "outputs": [
    {
     "data": {
      "text/plain": [
       "5"
      ]
     },
     "execution_count": 24,
     "metadata": {},
     "output_type": "execute_result"
    }
   ],
   "source": [
    "len_st(s)"
   ]
  },
  {
   "cell_type": "markdown",
   "id": "69c52c82-b137-4bb8-92f1-5804cd008411",
   "metadata": {},
   "source": [
    "## Map"
   ]
  },
  {
   "cell_type": "raw",
   "id": "474fcc40-54e0-4cc3-8224-a47a93446287",
   "metadata": {},
   "source": [
    "\"map()\" is a built-in Python function that applies a given function to each item of an iterable (e.g., list, tuple, dictionary) and returns an iterator over the results. "
   ]
  },
  {
   "cell_type": "code",
   "execution_count": 7,
   "id": "e4bb6d0a-8bcb-4fec-b793-7548baab4e6a",
   "metadata": {},
   "outputs": [],
   "source": [
    "l = [1,2,3,4,5]"
   ]
  },
  {
   "cell_type": "code",
   "execution_count": 3,
   "id": "ed512130-78e9-4c37-b4f9-73c1a339a2c4",
   "metadata": {},
   "outputs": [],
   "source": [
    "def test(l):     # This process takes more times than others two    \n",
    "    l1 = []\n",
    "    for i in l:\n",
    "        l1.append(i**2)\n",
    "    return l1    "
   ]
  },
  {
   "cell_type": "code",
   "execution_count": 4,
   "id": "69a19448-f6fa-441f-93c1-47306b49525d",
   "metadata": {},
   "outputs": [
    {
     "data": {
      "text/plain": [
       "[1, 4, 9, 16, 25]"
      ]
     },
     "execution_count": 4,
     "metadata": {},
     "output_type": "execute_result"
    }
   ],
   "source": [
    "test(l)"
   ]
  },
  {
   "cell_type": "code",
   "execution_count": 14,
   "id": "a3a89801-22da-49cb-bd4d-2d7149f1b5e1",
   "metadata": {},
   "outputs": [
    {
     "data": {
      "text/plain": [
       "[1, 4, 9, 16, 25]"
      ]
     },
     "execution_count": 14,
     "metadata": {},
     "output_type": "execute_result"
    }
   ],
   "source": [
    "def sq(x):\n",
    "    return x**2\n",
    "list(map(sq,l))"
   ]
  },
  {
   "cell_type": "code",
   "execution_count": 13,
   "id": "608bdfdd-9d59-456f-9ecd-bbf019fb93de",
   "metadata": {},
   "outputs": [
    {
     "data": {
      "text/plain": [
       "[1, 4, 9, 16, 25]"
      ]
     },
     "execution_count": 13,
     "metadata": {},
     "output_type": "execute_result"
    }
   ],
   "source": [
    "list(map(lambda x : x**2,l))"
   ]
  },
  {
   "cell_type": "code",
   "execution_count": 15,
   "id": "100d409a-200d-4584-82af-3520b0d4d551",
   "metadata": {},
   "outputs": [],
   "source": [
    "l1 = [5,5.5,6]\n",
    "l2 = [6,6.5,7]"
   ]
  },
  {
   "cell_type": "code",
   "execution_count": 29,
   "id": "d7c67916-8d4e-4851-bc11-1a9048ebd5f5",
   "metadata": {},
   "outputs": [
    {
     "data": {
      "text/plain": [
       "range(0, 3)"
      ]
     },
     "execution_count": 29,
     "metadata": {},
     "output_type": "execute_result"
    }
   ],
   "source": [
    "range(len(l1))"
   ]
  },
  {
   "cell_type": "code",
   "execution_count": 16,
   "id": "614af562-36f5-43a5-b3ca-7665853cb0c6",
   "metadata": {},
   "outputs": [
    {
     "data": {
      "text/plain": [
       "[30, 35.75, 42]"
      ]
     },
     "execution_count": 16,
     "metadata": {},
     "output_type": "execute_result"
    }
   ],
   "source": [
    "list(map(lambda x,y: x*y, l1,l2 ))"
   ]
  },
  {
   "cell_type": "code",
   "execution_count": 17,
   "id": "40b8dd0f-b856-4bf5-82f1-cdd536b15211",
   "metadata": {},
   "outputs": [
    {
     "data": {
      "text/plain": [
       "[30, 35.75, 42]"
      ]
     },
     "execution_count": 17,
     "metadata": {},
     "output_type": "execute_result"
    }
   ],
   "source": [
    "def multi_nums(x,y):\n",
    "    return x*y\n",
    "list(map(multi_nums,l1,l2))"
   ]
  },
  {
   "cell_type": "code",
   "execution_count": 45,
   "id": "79e43c1a-cac5-45be-85f0-6d9d0f75256e",
   "metadata": {},
   "outputs": [
    {
     "name": "stdout",
     "output_type": "stream",
     "text": [
      "[30, 35.75, 42]\n"
     ]
    }
   ],
   "source": [
    "def multi_nums(x,y):\n",
    "    return x*y\n",
    "l1 = [5, 5.5, 6]\n",
    "l2 = [6, 6.5, 7]\n",
    "l3 = []\n",
    "for i in range(len(l1)):\n",
    "    l3.append(multi_nums(l1[i],l2[i]))\n",
    "print(l3)     "
   ]
  },
  {
   "cell_type": "code",
   "execution_count": 46,
   "id": "11c433fe-8543-496c-9fc0-78b37d6544de",
   "metadata": {},
   "outputs": [
    {
     "data": {
      "text/plain": [
       "[21, 22, 23, 24, 25]"
      ]
     },
     "execution_count": 46,
     "metadata": {},
     "output_type": "execute_result"
    }
   ],
   "source": [
    "list(map(lambda x : x+20,l))"
   ]
  },
  {
   "cell_type": "code",
   "execution_count": 47,
   "id": "070f4838-5e78-47af-99e3-5e2dabc87c14",
   "metadata": {},
   "outputs": [
    {
     "data": {
      "text/plain": [
       "[1.0, 2.0, 3.0, 4.0, 5.0]"
      ]
     },
     "execution_count": 47,
     "metadata": {},
     "output_type": "execute_result"
    }
   ],
   "source": [
    "list(map(lambda x : float(x),l))"
   ]
  },
  {
   "cell_type": "code",
   "execution_count": 48,
   "id": "f109fda2-7e77-46c5-b98e-a4e472da0d32",
   "metadata": {},
   "outputs": [
    {
     "data": {
      "text/plain": [
       "['1', '2', '3', '4', '5']"
      ]
     },
     "execution_count": 48,
     "metadata": {},
     "output_type": "execute_result"
    }
   ],
   "source": [
    "list(map(lambda x : str(x),l))"
   ]
  },
  {
   "cell_type": "code",
   "execution_count": 50,
   "id": "48ca6636-c988-451f-a69f-805699360406",
   "metadata": {},
   "outputs": [
    {
     "data": {
      "text/plain": [
       "[11, 12.0, 13]"
      ]
     },
     "execution_count": 50,
     "metadata": {},
     "output_type": "execute_result"
    }
   ],
   "source": [
    "list(map(lambda x,y : x+y,l1,l2))"
   ]
  },
  {
   "cell_type": "code",
   "execution_count": 49,
   "id": "07f9c6b3-7298-4852-9813-f82b298c3d75",
   "metadata": {},
   "outputs": [
    {
     "data": {
      "text/plain": [
       "['56', '5.56.5', '67']"
      ]
     },
     "execution_count": 49,
     "metadata": {},
     "output_type": "execute_result"
    }
   ],
   "source": [
    "list(map(lambda x,y : str(x)+str(y),l1,l2))"
   ]
  },
  {
   "cell_type": "code",
   "execution_count": 52,
   "id": "7703a7de-030b-48f4-96de-a881015a46ac",
   "metadata": {},
   "outputs": [],
   "source": [
    "f = lambda x,y : x+y"
   ]
  },
  {
   "cell_type": "code",
   "execution_count": 53,
   "id": "d72f8ce4-e524-4ba9-87eb-bf3a567a6f50",
   "metadata": {},
   "outputs": [
    {
     "data": {
      "text/plain": [
       "[11, 12.0, 13]"
      ]
     },
     "execution_count": 53,
     "metadata": {},
     "output_type": "execute_result"
    }
   ],
   "source": [
    "list(map(f,l1,l2))"
   ]
  },
  {
   "cell_type": "code",
   "execution_count": 54,
   "id": "b9f8ee97-71eb-4b6b-bee3-6ba219e0670c",
   "metadata": {},
   "outputs": [],
   "source": [
    "s = \"arghya chatterjee\""
   ]
  },
  {
   "cell_type": "code",
   "execution_count": 59,
   "id": "9338bc7d-727d-4ba5-8e9b-cb6624046d55",
   "metadata": {},
   "outputs": [
    {
     "name": "stdout",
     "output_type": "stream",
     "text": [
      "['A', 'R', 'G', 'H', 'Y', 'A', ' ', 'C', 'H', 'A', 'T', 'T', 'E', 'R', 'J', 'E', 'E'] "
     ]
    }
   ],
   "source": [
    "print((list(map(lambda x : x.upper(),s))),end = \" \")"
   ]
  },
  {
   "cell_type": "code",
   "execution_count": 60,
   "id": "4fe3d87d-3f90-4167-8227-bdca4a304edc",
   "metadata": {},
   "outputs": [
    {
     "data": {
      "text/plain": [
       "['A',\n",
       " 'R',\n",
       " 'G',\n",
       " 'H',\n",
       " 'Y',\n",
       " 'A',\n",
       " ' ',\n",
       " 'C',\n",
       " 'H',\n",
       " 'A',\n",
       " 'T',\n",
       " 'T',\n",
       " 'E',\n",
       " 'R',\n",
       " 'J',\n",
       " 'E',\n",
       " 'E']"
      ]
     },
     "execution_count": 60,
     "metadata": {},
     "output_type": "execute_result"
    }
   ],
   "source": [
    "list(map(lambda x : x.upper(),s))"
   ]
  },
  {
   "cell_type": "markdown",
   "id": "71988b53-8786-46ae-84c7-08b29d398403",
   "metadata": {
    "tags": []
   },
   "source": [
    "## Reduce"
   ]
  },
  {
   "cell_type": "raw",
   "id": "ba6cad3b-39b7-435a-a05c-707c6c999e57",
   "metadata": {},
   "source": [
    "The \"reduce()\" function applies the specified function to the first two elements of the sequence, then applies the same function to the result and the next element, and so on until all the elements have been processed. The final output is a single value"
   ]
  },
  {
   "cell_type": "code",
   "execution_count": 61,
   "id": "6f04b66b-69b2-4b57-9de7-628ca1bd8456",
   "metadata": {},
   "outputs": [],
   "source": [
    "from functools import reduce"
   ]
  },
  {
   "cell_type": "code",
   "execution_count": 62,
   "id": "00002c01-3acb-4248-aa26-8a2f35335bc7",
   "metadata": {},
   "outputs": [],
   "source": [
    "l = [1,2,3,4,5,6]"
   ]
  },
  {
   "cell_type": "code",
   "execution_count": 64,
   "id": "8520e159-15b8-4ddb-9427-0b2d2ee8c9d8",
   "metadata": {},
   "outputs": [
    {
     "data": {
      "text/plain": [
       "21"
      ]
     },
     "execution_count": 64,
     "metadata": {},
     "output_type": "execute_result"
    }
   ],
   "source": [
    "reduce(lambda x,y : x+y,l) # To calculate the sum of the numbers inside the list"
   ]
  },
  {
   "cell_type": "code",
   "execution_count": 71,
   "id": "66bfa3c5-303e-4e45-8c62-d3d4b8ff0752",
   "metadata": {},
   "outputs": [
    {
     "data": {
      "text/plain": [
       "21"
      ]
     },
     "execution_count": 71,
     "metadata": {},
     "output_type": "execute_result"
    }
   ],
   "source": [
    "def add(x,y):\n",
    "    return x+y\n",
    "reduce(add,l)      # Reduce take (Function name,iterable)"
   ]
  },
  {
   "cell_type": "code",
   "execution_count": 66,
   "id": "f855c16a-496e-4d7d-add4-378fa1c2d7aa",
   "metadata": {},
   "outputs": [
    {
     "name": "stdout",
     "output_type": "stream",
     "text": [
      "21\n"
     ]
    }
   ],
   "source": [
    "sum = 0\n",
    "for i in l:\n",
    "    sum += i\n",
    "print(sum)"
   ]
  },
  {
   "cell_type": "code",
   "execution_count": 70,
   "id": "45884ce5-d075-4e8b-8214-f4e16bec4511",
   "metadata": {},
   "outputs": [
    {
     "data": {
      "text/plain": [
       "720"
      ]
     },
     "execution_count": 70,
     "metadata": {},
     "output_type": "execute_result"
    }
   ],
   "source": [
    "reduce(lambda x,y : x*y,l)"
   ]
  },
  {
   "cell_type": "raw",
   "id": "5a89ac39-f6f7-4274-a054-78ed1e008e93",
   "metadata": {},
   "source": [
    "Reduce function is best for 2 arguments. It doesn't work for empty list also."
   ]
  },
  {
   "cell_type": "code",
   "execution_count": 73,
   "id": "20dc97b0-acd0-4102-94a0-20955c125a48",
   "metadata": {},
   "outputs": [
    {
     "ename": "TypeError",
     "evalue": "<lambda>() missing 1 required positional argument: 'z'",
     "output_type": "error",
     "traceback": [
      "\u001b[0;31m---------------------------------------------------------------------------\u001b[0m",
      "\u001b[0;31mTypeError\u001b[0m                                 Traceback (most recent call last)",
      "Cell \u001b[0;32mIn[73], line 1\u001b[0m\n\u001b[0;32m----> 1\u001b[0m \u001b[43mreduce\u001b[49m\u001b[43m(\u001b[49m\u001b[38;5;28;43;01mlambda\u001b[39;49;00m\u001b[43m \u001b[49m\u001b[43mx\u001b[49m\u001b[43m,\u001b[49m\u001b[43my\u001b[49m\u001b[43m,\u001b[49m\u001b[43mz\u001b[49m\u001b[43m \u001b[49m\u001b[43m:\u001b[49m\u001b[43m \u001b[49m\u001b[43mx\u001b[49m\u001b[38;5;241;43m+\u001b[39;49m\u001b[43my\u001b[49m\u001b[38;5;241;43m+\u001b[39;49m\u001b[43mz\u001b[49m\u001b[43m,\u001b[49m\u001b[43ml\u001b[49m\u001b[43m)\u001b[49m\n",
      "\u001b[0;31mTypeError\u001b[0m: <lambda>() missing 1 required positional argument: 'z'"
     ]
    }
   ],
   "source": [
    "reduce(lambda x,y,z : x+y+z,l)"
   ]
  },
  {
   "cell_type": "code",
   "execution_count": 75,
   "id": "1c9be1b5-0700-41c2-ae04-b36fc6dcf878",
   "metadata": {},
   "outputs": [
    {
     "ename": "TypeError",
     "evalue": "reduce() of empty iterable with no initial value",
     "output_type": "error",
     "traceback": [
      "\u001b[0;31m---------------------------------------------------------------------------\u001b[0m",
      "\u001b[0;31mTypeError\u001b[0m                                 Traceback (most recent call last)",
      "Cell \u001b[0;32mIn[75], line 1\u001b[0m\n\u001b[0;32m----> 1\u001b[0m \u001b[43mreduce\u001b[49m\u001b[43m(\u001b[49m\u001b[38;5;28;43;01mlambda\u001b[39;49;00m\u001b[43m \u001b[49m\u001b[43mx\u001b[49m\u001b[43m,\u001b[49m\u001b[43my\u001b[49m\u001b[43m \u001b[49m\u001b[43m:\u001b[49m\u001b[43m \u001b[49m\u001b[43mx\u001b[49m\u001b[38;5;241;43m+\u001b[39;49m\u001b[43my\u001b[49m\u001b[43m,\u001b[49m\u001b[43m[\u001b[49m\u001b[43m]\u001b[49m\u001b[43m)\u001b[49m\n",
      "\u001b[0;31mTypeError\u001b[0m: reduce() of empty iterable with no initial value"
     ]
    }
   ],
   "source": [
    "reduce(lambda x,y : x+y,[])"
   ]
  },
  {
   "cell_type": "code",
   "execution_count": 78,
   "id": "355926a8-9e34-4803-8ac3-b74d2973c6e2",
   "metadata": {},
   "outputs": [
    {
     "data": {
      "text/plain": [
       "1"
      ]
     },
     "execution_count": 78,
     "metadata": {},
     "output_type": "execute_result"
    }
   ],
   "source": [
    "reduce(lambda x,y : x+y,[1]) # Reduce do work on list with single element"
   ]
  },
  {
   "cell_type": "code",
   "execution_count": 79,
   "id": "8c5beabb-2e21-4360-b92e-936016d9522b",
   "metadata": {},
   "outputs": [
    {
     "data": {
      "text/plain": [
       "1"
      ]
     },
     "execution_count": 79,
     "metadata": {},
     "output_type": "execute_result"
    }
   ],
   "source": [
    "reduce(lambda x,y : x*y,[1])"
   ]
  },
  {
   "cell_type": "code",
   "execution_count": 86,
   "id": "f3e3d506-ff45-438e-8ccf-5bc606644b7d",
   "metadata": {},
   "outputs": [],
   "source": [
    "l = [1,2,3,4,5,6]"
   ]
  },
  {
   "cell_type": "code",
   "execution_count": 87,
   "id": "5757eaf5-1fb3-4217-8c01-a543c0ca07da",
   "metadata": {},
   "outputs": [],
   "source": [
    "Max = reduce(lambda x,y : x if x > y else y, l)"
   ]
  },
  {
   "cell_type": "code",
   "execution_count": 88,
   "id": "658a6960-fa43-4ced-bc3d-1700ded3cd83",
   "metadata": {},
   "outputs": [
    {
     "data": {
      "text/plain": [
       "6"
      ]
     },
     "execution_count": 88,
     "metadata": {},
     "output_type": "execute_result"
    }
   ],
   "source": [
    "Max"
   ]
  },
  {
   "cell_type": "markdown",
   "id": "f667b632-ed96-4b4c-a782-203205f7aa02",
   "metadata": {},
   "source": [
    "## Filter"
   ]
  },
  {
   "cell_type": "code",
   "execution_count": 89,
   "id": "00ee460c-ee4f-461a-b0f3-2f2e1c88222b",
   "metadata": {},
   "outputs": [
    {
     "data": {
      "text/plain": [
       "[1, 2, 3, 4, 5, 6]"
      ]
     },
     "execution_count": 89,
     "metadata": {},
     "output_type": "execute_result"
    }
   ],
   "source": [
    "l"
   ]
  },
  {
   "cell_type": "code",
   "execution_count": 95,
   "id": "2b06e060-2216-49d8-bb33-690025605cbf",
   "metadata": {},
   "outputs": [
    {
     "data": {
      "text/plain": [
       "<filter at 0x7f947c6986d0>"
      ]
     },
     "execution_count": 95,
     "metadata": {},
     "output_type": "execute_result"
    }
   ],
   "source": [
    "filter(lambda x : x % 2 ==0, l)"
   ]
  },
  {
   "cell_type": "code",
   "execution_count": 96,
   "id": "428e1902-87cb-4d06-b1b2-91f789c74c92",
   "metadata": {},
   "outputs": [
    {
     "data": {
      "text/plain": [
       "[2, 4, 6]"
      ]
     },
     "execution_count": 96,
     "metadata": {},
     "output_type": "execute_result"
    }
   ],
   "source": [
    "list(filter(lambda x : x % 2 ==0, l))"
   ]
  },
  {
   "cell_type": "code",
   "execution_count": 97,
   "id": "e644d17d-fe7e-4dc1-b80a-ba6ab9e72e36",
   "metadata": {},
   "outputs": [],
   "source": [
    "f = filter(lambda x : x % 2 !=0, l)"
   ]
  },
  {
   "cell_type": "code",
   "execution_count": 98,
   "id": "8ba2452a-b084-4b37-a5ee-6008057d1566",
   "metadata": {},
   "outputs": [
    {
     "data": {
      "text/plain": [
       "[1, 3, 5]"
      ]
     },
     "execution_count": 98,
     "metadata": {},
     "output_type": "execute_result"
    }
   ],
   "source": [
    "list(f)"
   ]
  },
  {
   "cell_type": "code",
   "execution_count": 107,
   "id": "67966652-433b-4518-a06e-ab6c343437e1",
   "metadata": {},
   "outputs": [],
   "source": [
    "l1 = [-3,-2,-1,0,1,2,3]"
   ]
  },
  {
   "cell_type": "code",
   "execution_count": 108,
   "id": "52e84dea-56c6-4dbf-ba57-99282a3fa325",
   "metadata": {},
   "outputs": [
    {
     "data": {
      "text/plain": [
       "[0, 1, 2, 3]"
      ]
     },
     "execution_count": 108,
     "metadata": {},
     "output_type": "execute_result"
    }
   ],
   "source": [
    "list(filter(lambda x : x >= 0, l1))"
   ]
  },
  {
   "cell_type": "code",
   "execution_count": 109,
   "id": "223d59ae-4605-4b20-9a75-1b882ee3ec46",
   "metadata": {},
   "outputs": [
    {
     "data": {
      "text/plain": [
       "[-3, -2, -1]"
      ]
     },
     "execution_count": 109,
     "metadata": {},
     "output_type": "execute_result"
    }
   ],
   "source": [
    "list(filter(lambda x : x < 0, l1))"
   ]
  },
  {
   "cell_type": "code",
   "execution_count": 110,
   "id": "189179e7-fac3-4edd-bf27-5ee76c5459ad",
   "metadata": {},
   "outputs": [],
   "source": [
    "l2 = [\"Arghya\",\"Data\",\"CR7\",\"Kolkata\",\"Rosogolla\"]"
   ]
  },
  {
   "cell_type": "code",
   "execution_count": 112,
   "id": "0729c471-28da-466c-8baf-ab59381a0cb5",
   "metadata": {},
   "outputs": [],
   "source": [
    "l3 = list(filter(lambda x : len(x) <= 6, l2))"
   ]
  },
  {
   "cell_type": "code",
   "execution_count": 113,
   "id": "b7cbf5b8-19d7-4510-99dc-6dca11a73290",
   "metadata": {},
   "outputs": [
    {
     "data": {
      "text/plain": [
       "['Arghya', 'Data', 'CR7']"
      ]
     },
     "execution_count": 113,
     "metadata": {},
     "output_type": "execute_result"
    }
   ],
   "source": [
    "l3"
   ]
  },
  {
   "cell_type": "code",
   "execution_count": 116,
   "id": "14520d11-72b3-473c-a54c-7acbe3317245",
   "metadata": {},
   "outputs": [
    {
     "data": {
      "text/plain": [
       "'CR7'"
      ]
     },
     "execution_count": 116,
     "metadata": {},
     "output_type": "execute_result"
    }
   ],
   "source": [
    "reduce(lambda x,y : x if len(x)<len(y) else y, l3)"
   ]
  },
  {
   "cell_type": "code",
   "execution_count": 117,
   "id": "c0f95a3d-ca27-4a56-9003-3342e75f4a33",
   "metadata": {},
   "outputs": [
    {
     "data": {
      "text/plain": [
       "'Arghya'"
      ]
     },
     "execution_count": 117,
     "metadata": {},
     "output_type": "execute_result"
    }
   ],
   "source": [
    "reduce(lambda x,y : x if len(x)>len(y) else y, l3)"
   ]
  },
  {
   "cell_type": "code",
   "execution_count": null,
   "id": "b56bc13f-568c-4eea-aca8-6a4ec7e812d6",
   "metadata": {},
   "outputs": [],
   "source": []
  }
 ],
 "metadata": {
  "kernelspec": {
   "display_name": "Python 3 (ipykernel)",
   "language": "python",
   "name": "python3"
  },
  "language_info": {
   "codemirror_mode": {
    "name": "ipython",
    "version": 3
   },
   "file_extension": ".py",
   "mimetype": "text/x-python",
   "name": "python",
   "nbconvert_exporter": "python",
   "pygments_lexer": "ipython3",
   "version": "3.10.8"
  }
 },
 "nbformat": 4,
 "nbformat_minor": 5
}
