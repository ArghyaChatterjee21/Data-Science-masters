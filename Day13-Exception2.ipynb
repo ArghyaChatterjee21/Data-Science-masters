{
 "cells": [
  {
   "cell_type": "markdown",
   "id": "5fa9c80d-8fc0-44d3-afd2-385610366f2b",
   "metadata": {},
   "source": [
    "## 13/02/2023"
   ]
  },
  {
   "cell_type": "markdown",
   "id": "4803814a-f841-461f-a079-e66fb6acee0b",
   "metadata": {},
   "source": [
    "## List Of General Use Exceptions\n"
   ]
  },
  {
   "cell_type": "code",
   "execution_count": 3,
   "id": "585ae0a5-75c5-4ff8-b69b-4d8105a02f04",
   "metadata": {},
   "outputs": [
    {
     "name": "stdout",
     "output_type": "stream",
     "text": [
      "division by zero\n"
     ]
    }
   ],
   "source": [
    "try :\n",
    "    a = 10\n",
    "    a/0\n",
    "except ZeroDivisionError as e :\n",
    "    print(e)"
   ]
  },
  {
   "cell_type": "code",
   "execution_count": 4,
   "id": "3a5981f4-f873-4826-84ea-e47197176c9e",
   "metadata": {},
   "outputs": [
    {
     "name": "stdout",
     "output_type": "stream",
     "text": [
      "invalid literal for int() with base 10: 'Arghya'\n"
     ]
    }
   ],
   "source": [
    "try :\n",
    "    int(\"Arghya\")\n",
    "except ValueError as e :\n",
    "    print(e)"
   ]
  },
  {
   "cell_type": "code",
   "execution_count": 5,
   "id": "a7870e39-8fb0-41fa-af61-f5c5f57181a3",
   "metadata": {},
   "outputs": [
    {
     "name": "stdout",
     "output_type": "stream",
     "text": [
      "invalid literal for int() with base 10: 'Arghya'\n"
     ]
    }
   ],
   "source": [
    "try :\n",
    "    int(\"Arghya\")\n",
    "except (ValueError , TypeError) as e :\n",
    "    print(e)"
   ]
  },
  {
   "cell_type": "code",
   "execution_count": 6,
   "id": "a31d6bf1-490b-456a-9a40-865b27683fa2",
   "metadata": {},
   "outputs": [
    {
     "name": "stdout",
     "output_type": "stream",
     "text": [
      "This will catch an error automatically\n"
     ]
    }
   ],
   "source": [
    "try :\n",
    "    int(\"Arghya\")\n",
    "except :   ## If we don't know the error type, we have to just write except\n",
    "    print(\"This will catch an error automatically\")"
   ]
  },
  {
   "cell_type": "code",
   "execution_count": 8,
   "id": "eef73995-ea87-4e8f-a2f3-703dfdb8643a",
   "metadata": {},
   "outputs": [
    {
     "name": "stdout",
     "output_type": "stream",
     "text": [
      "No module named 'Arghya'\n"
     ]
    }
   ],
   "source": [
    "try :\n",
    "    import Arghya\n",
    "except ImportError as e :\n",
    "    print(e)"
   ]
  },
  {
   "cell_type": "code",
   "execution_count": 12,
   "id": "c4f96002-cc9f-4541-8bfa-a3ea2aba6754",
   "metadata": {},
   "outputs": [
    {
     "name": "stdout",
     "output_type": "stream",
     "text": [
      "'key1'\n"
     ]
    }
   ],
   "source": [
    "try :\n",
    "    d = {1 : [1,2,3], \"key\" : \"Arghya\"}\n",
    "    d[\"key1\"]\n",
    "except KeyError as e :\n",
    "    print(e)"
   ]
  },
  {
   "cell_type": "code",
   "execution_count": 13,
   "id": "eb0faeb3-bb17-4180-aff8-6f1dc5d9e6c1",
   "metadata": {},
   "outputs": [
    {
     "name": "stdout",
     "output_type": "stream",
     "text": [
      "'str' object has no attribute 'test'\n"
     ]
    }
   ],
   "source": [
    "try :\n",
    "    \"Arghya\".test()\n",
    "except AttributeError as e :\n",
    "    print(e)"
   ]
  },
  {
   "cell_type": "code",
   "execution_count": 14,
   "id": "2ae7ba2c-783e-46bc-b705-bb6a6c5374b3",
   "metadata": {},
   "outputs": [],
   "source": [
    "l = [1,2,3,4]"
   ]
  },
  {
   "cell_type": "code",
   "execution_count": 15,
   "id": "6b3773e0-7406-471e-bf2c-25a069e66b3b",
   "metadata": {},
   "outputs": [
    {
     "ename": "IndexError",
     "evalue": "list index out of range",
     "output_type": "error",
     "traceback": [
      "\u001b[0;31m---------------------------------------------------------------------------\u001b[0m",
      "\u001b[0;31mIndexError\u001b[0m                                Traceback (most recent call last)",
      "Cell \u001b[0;32mIn[15], line 1\u001b[0m\n\u001b[0;32m----> 1\u001b[0m \u001b[43ml\u001b[49m\u001b[43m[\u001b[49m\u001b[38;5;241;43m6\u001b[39;49m\u001b[43m]\u001b[49m\n",
      "\u001b[0;31mIndexError\u001b[0m: list index out of range"
     ]
    }
   ],
   "source": [
    "l[6]"
   ]
  },
  {
   "cell_type": "code",
   "execution_count": 16,
   "id": "81be53bc-d49f-4def-8b04-b37c6ae0dd53",
   "metadata": {},
   "outputs": [
    {
     "name": "stdout",
     "output_type": "stream",
     "text": [
      "list index out of range\n"
     ]
    }
   ],
   "source": [
    "try :\n",
    "    l = [1,2,3,4]\n",
    "    l[10]\n",
    "except IndexError as e :\n",
    "    print(e)"
   ]
  },
  {
   "cell_type": "code",
   "execution_count": 17,
   "id": "8a6c5276-ff97-45d0-8a34-6af899d80f9e",
   "metadata": {},
   "outputs": [
    {
     "name": "stdout",
     "output_type": "stream",
     "text": [
      "unsupported operand type(s) for +: 'int' and 'str'\n"
     ]
    }
   ],
   "source": [
    "try : \n",
    "    123 + \"Arghya\"\n",
    "except TypeError as e :\n",
    "    print(e)"
   ]
  },
  {
   "cell_type": "code",
   "execution_count": 18,
   "id": "4132f97b-a286-4430-a3c6-a41cf4acdb54",
   "metadata": {},
   "outputs": [
    {
     "name": "stdout",
     "output_type": "stream",
     "text": [
      "[Errno 2] No such file or directory: 'text2.txt'\n"
     ]
    }
   ],
   "source": [
    "try : \n",
    "    with open(\"text2.txt\", 'r') as f :\n",
    "        f.read()\n",
    "except FileNotFoundError as e :\n",
    "    print(e)"
   ]
  },
  {
   "cell_type": "code",
   "execution_count": 21,
   "id": "9868821f-b07d-41af-a32d-a38bdb3748f1",
   "metadata": {},
   "outputs": [
    {
     "name": "stdout",
     "output_type": "stream",
     "text": [
      "test2 [Errno 2] No such file or directory: 'text2.txt'\n"
     ]
    }
   ],
   "source": [
    "try : \n",
    "    with open(\"text2.txt\", 'r') as f :\n",
    "        f.read()\n",
    "except Exception as e : ## It will execute first\n",
    "    print(\"test2\",e)\n",
    "except FileNotFoundError as e : ##vIt won't execute as superclass executes 1st\n",
    "    print(\"This is my file not found type error\", e)"
   ]
  },
  {
   "cell_type": "code",
   "execution_count": 23,
   "id": "44ebcaf2-86d0-48bc-97c2-cc3d1b19fbca",
   "metadata": {},
   "outputs": [],
   "source": [
    "def test2(file):\n",
    "    try : \n",
    "        with open(\"text2.txt\", 'r') as f :\n",
    "            f.read()\n",
    "    except Exception as e : ## It will execute first\n",
    "        print(\"test2\",e)\n",
    "    except FileNotFoundError as e : ##vIt won't execute as superclass executes 1st\n",
    "        print(\"This is my file not found type error\", e)"
   ]
  },
  {
   "cell_type": "code",
   "execution_count": null,
   "id": "879ad9e7-c388-4bb8-9ccf-efc9a8fd2227",
   "metadata": {},
   "outputs": [],
   "source": []
  },
  {
   "cell_type": "markdown",
   "id": "ca5a4317-154d-4ccd-a58e-cee86a614b25",
   "metadata": {},
   "source": [
    "## Best Practice Exception Handling"
   ]
  },
  {
   "cell_type": "markdown",
   "id": "be5e3dd0-7538-4188-9dbd-714db87ec1b0",
   "metadata": {},
   "source": [
    "####  - Try To Write Specific Error\n",
    "####  - Print Always A Valid Msg\n",
    "####  - Always Try To Log\n",
    "####  - Always Avoid To Write Multiple Exception Handling\n",
    "####  - Prepare A Proper Documentation\n",
    "####  - Cleanup All The Resources"
   ]
  },
  {
   "cell_type": "code",
   "execution_count": 1,
   "id": "6a69672e-6aaf-4fc2-8dcb-9a75aae61b1b",
   "metadata": {},
   "outputs": [
    {
     "name": "stdout",
     "output_type": "stream",
     "text": [
      "division by zero\n"
     ]
    }
   ],
   "source": [
    "## Use always a specific exception\n",
    "try:\n",
    "    10/0\n",
    "except ZeroDivisionError  as e:\n",
    "    print(e)"
   ]
  },
  {
   "cell_type": "code",
   "execution_count": 3,
   "id": "10970138-a6b0-4e3d-ae0b-e7c02ec70abd",
   "metadata": {},
   "outputs": [
    {
     "name": "stdout",
     "output_type": "stream",
     "text": [
      "This is my zero division error , I'm handling division by zero\n"
     ]
    }
   ],
   "source": [
    "# Print always a valid msg\n",
    "try:\n",
    "    10/0\n",
    "except ZeroDivisionError  as e:\n",
    "    print(\"This is my zero division error , I'm handling\", e)"
   ]
  },
  {
   "cell_type": "code",
   "execution_count": 6,
   "id": "26717824-5551-4b75-9db5-076fc469847c",
   "metadata": {},
   "outputs": [],
   "source": [
    "# Always try to log\n",
    "import logging\n",
    "logging.basicConfig(filename= \"error.log\", level = logging.ERROR)\n",
    "try:\n",
    "    10/0\n",
    "except ZeroDivisionError  as e:\n",
    "    logging.error(\"This is my zero division error, I'm handling{}\".format(e))"
   ]
  },
  {
   "cell_type": "code",
   "execution_count": 8,
   "id": "ccea3e54-ed5a-40cf-ac97-2edb3e81389b",
   "metadata": {},
   "outputs": [],
   "source": [
    "# Always avoid to write multiple exception handling\n",
    "try : \n",
    "    10/0\n",
    "except FileNotFoundError as e : \n",
    "    logging.error(\"This is my file not found error {}\".format(e))\n",
    "except AttributeError as e : \n",
    "    logging.error(\"This is my attribute error {}\".format(e)) \n",
    "except ZeroDivisionError  as e:\n",
    "    logging.error(\"This is my zero division error, I'm handling{}\".format(e))"
   ]
  },
  {
   "cell_type": "code",
   "execution_count": 7,
   "id": "66f36cce-d7aa-4655-9357-2e412ddd3340",
   "metadata": {},
   "outputs": [],
   "source": [
    "# Cleanup all the resources\n",
    "try:\n",
    "    with open(\"test2.txt\", \"w\")as f:\n",
    "        f.write(\"This is my msg to file\")\n",
    "except FileNotFoundError as e :\n",
    "    logging.error(\"This is my file not found {}\".format(e))\n",
    "finally:\n",
    "    f.close() # Cleanup the resources"
   ]
  }
 ],
 "metadata": {
  "kernelspec": {
   "display_name": "Python 3 (ipykernel)",
   "language": "python",
   "name": "python3"
  },
  "language_info": {
   "codemirror_mode": {
    "name": "ipython",
    "version": 3
   },
   "file_extension": ".py",
   "mimetype": "text/x-python",
   "name": "python",
   "nbconvert_exporter": "python",
   "pygments_lexer": "ipython3",
   "version": "3.10.8"
  }
 },
 "nbformat": 4,
 "nbformat_minor": 5
}
