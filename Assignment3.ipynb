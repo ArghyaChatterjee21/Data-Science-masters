{
 "cells": [
  {
   "cell_type": "markdown",
   "id": "a8729ba2-e627-4475-b518-09feb3f70e21",
   "metadata": {},
   "source": [
    "## Assignment3 "
   ]
  },
  {
   "cell_type": "markdown",
   "id": "ba2f9508-ad46-423b-bb2f-a05e76217869",
   "metadata": {},
   "source": [
    "#### 1. What are The characteristics of the tuples? Is tuple immutable?"
   ]
  },
  {
   "cell_type": "markdown",
   "id": "b692115c-17ef-4c89-9bca-8d9155534ebe",
   "metadata": {},
   "source": [
    "Ans: In Python, a tuple is a collection of ordered, immutable elements. Here are some characteristics of tuples:\n",
    "\n",
    " - Ordered: The elements of a tuple are ordered, meaning that they have a specific index or position in the tuple.\n",
    "\n",
    " - Immutable: Tuples are immutable, meaning that once a tuple is created, you cannot change its values or add or remove elements from it.\n",
    "\n",
    " - Heterogeneous: Tuples can contain elements of different data types, such as integers, strings, and even other tuples.\n",
    "\n",
    " - Indexed: Elements in a tuple can be accessed using their index or position in the tuple, starting with 0.\n",
    "\n",
    " - Iterable: Tuples can be iterated over using a loop or a comprehension.\n",
    "\n",
    "So, yes, tuples are immutable in Python. Once a tuple is created, its values cannot be changed."
   ]
  },
  {
   "cell_type": "markdown",
   "id": "077be572-cd04-4536-87f5-63b0e99dbc0f",
   "metadata": {
    "tags": []
   },
   "source": [
    "#### 2. What are the two tuple methods in python? Give an example of each method. Give a reason why tuples have only two in-buit methods as compared to lists.  "
   ]
  },
  {
   "cell_type": "markdown",
   "id": "2e5f709f-faf1-4f10-ab08-7374836e9723",
   "metadata": {},
   "source": [
    "Ans: 1) count()\n",
    "     2) index()"
   ]
  },
  {
   "cell_type": "code",
   "execution_count": 6,
   "id": "abfc8958-5589-45ba-96b1-b0d43f7e44da",
   "metadata": {},
   "outputs": [],
   "source": [
    "t = (1,2,6,7,3,7,True)"
   ]
  },
  {
   "cell_type": "code",
   "execution_count": 7,
   "id": "74d49795-1eff-41da-9f67-70ede52640f5",
   "metadata": {},
   "outputs": [
    {
     "data": {
      "text/plain": [
       "2"
      ]
     },
     "execution_count": 7,
     "metadata": {},
     "output_type": "execute_result"
    }
   ],
   "source": [
    "t.count(7)"
   ]
  },
  {
   "cell_type": "code",
   "execution_count": 10,
   "id": "c0578c82-2821-42b6-a24c-4b7c2039af6e",
   "metadata": {},
   "outputs": [
    {
     "data": {
      "text/plain": [
       "3"
      ]
     },
     "execution_count": 10,
     "metadata": {},
     "output_type": "execute_result"
    }
   ],
   "source": [
    "t.index(7)"
   ]
  },
  {
   "cell_type": "markdown",
   "id": "c39f0511-8b2d-449a-8d6b-8bd58e924486",
   "metadata": {},
   "source": [
    "Tuples have only two built-in methods (count() and index()) compared to lists because tuples are immutable, meaning that they cannot be changed after they are created. This immutability means that many of the list methods that modify the list, such as append(), insert(), and remove(), do not make sense for tuples.\n",
    "\n",
    "Since tuples cannot be modified, there is no need for methods that change the tuple in-place. \n",
    "\n",
    "On the other hand, lists are mutable, and hence there are many built-in methods in Python that allow for modifying, sorting, filtering, and manipulating lists. "
   ]
  },
  {
   "cell_type": "markdown",
   "id": "46186567-2f3b-46a5-af26-1186233f76aa",
   "metadata": {},
   "source": [
    "#### 3. Which collection datatypes in python do not allow duplicate items? Write a code using a set to remove duplicates from the given list.\n",
    "####       List = [1,1,1,2,1,3,1,4,2,1,2,2,2,3,2,4,3,1,3,2,3,3,3,4,4,1,4,2,4,3,4,4] "
   ]
  },
  {
   "cell_type": "markdown",
   "id": "b887a689-1d78-407e-9adb-ce76fb154aef",
   "metadata": {},
   "source": [
    "Ans: Set in python does not allow duplicate items"
   ]
  },
  {
   "cell_type": "code",
   "execution_count": 21,
   "id": "b466f14d-1dfd-4c27-83e6-0306af9d900a",
   "metadata": {},
   "outputs": [
    {
     "name": "stdout",
     "output_type": "stream",
     "text": [
      "[1, 2, 3, 4]\n"
     ]
    }
   ],
   "source": [
    "List = [1,1,1,2,1,3,1,4,2,1,2,2,2,3,2,4,3,1,3,2,3,3,3,4,4,1,4,2,4,3,4,4] \n",
    "\n",
    "s = set(List) # Convert the list to a set\n",
    "new_list = list(s) # again covert the set to a new list\n",
    "print(new_list)"
   ]
  },
  {
   "cell_type": "markdown",
   "id": "5868b834-76e0-4554-805f-aa6a61fdb8be",
   "metadata": {},
   "source": [
    "#### 4. Explain the difference between the union() and update() methods for a set. Give an example of each method."
   ]
  },
  {
   "cell_type": "markdown",
   "id": "5212b123-1386-429f-be9f-d0eca06e97c1",
   "metadata": {},
   "source": [
    "Ans: \n",
    " - The union() method returns a new set that contains all the unique elements from all the sets being combined. It does not modify any of the original sets. \n",
    "\n",
    " - The update() method modifies the set calling the method by adding all the unique elements from another set (or other iterable). \n",
    "\n",
    "So, in summary, the key difference between the union() and update() methods is that union() creates a new set, while update() modifies an existing set in-place."
   ]
  },
  {
   "cell_type": "code",
   "execution_count": 29,
   "id": "664322df-1722-4907-b69c-a4bf645c2654",
   "metadata": {},
   "outputs": [
    {
     "name": "stdout",
     "output_type": "stream",
     "text": [
      "s3 = {1, 2, 3, 4, 5, 6}\n",
      "s1 = {1, 2, 3, 4, 5, 6}\n"
     ]
    }
   ],
   "source": [
    "## Examples\n",
    "\n",
    "s1 = {1,2,3}\n",
    "s2 = {4,5,6}\n",
    "## Update\n",
    "\n",
    "s3 = s1.union(s2)\n",
    "print(f\"s3 = {s3}\")\n",
    "\n",
    "## Union\n",
    "\n",
    "s1.update(s2)\n",
    "print(f\"s1 = {s1}\")"
   ]
  },
  {
   "cell_type": "markdown",
   "id": "369f9d95-38bd-43b4-9c57-a31593ab7679",
   "metadata": {},
   "source": [
    "#### 5. What is a dictionary? Give an example. Also state whether a dictionary is ordered or unordered. "
   ]
  },
  {
   "cell_type": "markdown",
   "id": "311abc41-ba1d-4d3a-9b53-0bc9144bdd7f",
   "metadata": {},
   "source": [
    "Ans: In Python, a dictionary is a collection data type that stores key-value pairs. Each key in the dictionary is unique and maps to a corresponding value. A dictionary is created using curly braces '{}' and the key-value pairs are separated by a colon ':'."
   ]
  },
  {
   "cell_type": "code",
   "execution_count": 31,
   "id": "67ad2203-c602-4495-a0c6-ea8d72d9045d",
   "metadata": {},
   "outputs": [
    {
     "name": "stdout",
     "output_type": "stream",
     "text": [
      "2\n"
     ]
    }
   ],
   "source": [
    "my_dict = {\"apple\": 1, \"banana\": 2, \"orange\": 3}\n",
    "print(my_dict[\"banana\"])"
   ]
  },
  {
   "cell_type": "markdown",
   "id": "1bca4440-3b5f-4001-b3dd-c265b9360a61",
   "metadata": {},
   "source": [
    "A Dictionary is unordered."
   ]
  },
  {
   "cell_type": "markdown",
   "id": "327ad289-e1e1-469b-a9aa-0fab6862c58f",
   "metadata": {},
   "source": [
    "#### 6. Can we create a nested dictionary? If so, please give an example by creating a simple one-level nested dictionary."
   ]
  },
  {
   "cell_type": "markdown",
   "id": "d354db14-306d-4a91-98c0-bf4d73a3f762",
   "metadata": {},
   "source": [
    "Ans: Yes, we can create a nested dictionary in Python. A nested dictionary is a dictionary that contains one or more dictionaries as its values."
   ]
  },
  {
   "cell_type": "code",
   "execution_count": 32,
   "id": "04f9945c-45e9-4ef9-a20c-a47b3701058a",
   "metadata": {},
   "outputs": [
    {
     "name": "stdout",
     "output_type": "stream",
     "text": [
      "{'fruit1': {'name': 'apple', 'color': 'red'}, 'fruit2': {'name': 'banana', 'color': 'yellow'}}\n"
     ]
    }
   ],
   "source": [
    "## Example\n",
    "my_dict = {\"fruit1\": {\"name\": \"apple\", \"color\": \"red\"},\n",
    "           \"fruit2\": {\"name\": \"banana\", \"color\": \"yellow\"}}\n",
    "print(my_dict)"
   ]
  },
  {
   "cell_type": "markdown",
   "id": "5649928a-0568-41dc-8998-b2e4654b9ae5",
   "metadata": {},
   "source": [
    "#### 7. Using setdefault() method, create key named topics in the given dictionary and also add the value of the key as this list ['Python', Machine Learning','Deep learning']\n",
    "####      dict1 = {'language':'Python','course':'Data Science Masters'}"
   ]
  },
  {
   "cell_type": "code",
   "execution_count": 35,
   "id": "7c19489c-8fb8-4bd7-94ee-c80db2e1ebfd",
   "metadata": {},
   "outputs": [
    {
     "name": "stdout",
     "output_type": "stream",
     "text": [
      "{'language': 'Python', 'course': 'Data Science Masters', 'topics': ['Python', 'Machine Learning', 'Deep learning']}\n"
     ]
    }
   ],
   "source": [
    "dict1 = {'language':'Python','course':'Data Science Masters'}\n",
    "dict1.setdefault('topics',['Python', 'Machine Learning','Deep learning'])\n",
    "print(dict1)                           "
   ]
  },
  {
   "cell_type": "markdown",
   "id": "568bfe83-a2d2-476f-ada3-bb1adad0b6dc",
   "metadata": {},
   "source": [
    "#### 8. What are the three view objects in dictionaries? Use the three in-built methods in python to display these three view objects for the given dictionary.\n",
    "#### dict1 = {'Sport': 'Cricket' , 'Teams': ['India', 'Australia', 'England', 'South Africa', 'Sri Lanka', 'New Zealand']}"
   ]
  },
  {
   "cell_type": "markdown",
   "id": "d1fcac78-a202-4943-9989-19d45ea75737",
   "metadata": {},
   "source": [
    "Ans: In Python dictionaries, there are three view objects that provide a dynamic view of the dictionary's keys, values, and key-value pairs\n",
    " - dict.keys(): This view object returns a dynamic view of the dictionary's keys.\n",
    "\n",
    " - dict.values(): This view object returns a dynamic view of the dictionary's values.\n",
    "\n",
    " - dict.items(): This view object returns a dynamic view of the dictionary's key-value pairs as tuples.    "
   ]
  },
  {
   "cell_type": "code",
   "execution_count": 39,
   "id": "3a28fe4d-0ce4-404d-a633-c1a04d53d21c",
   "metadata": {},
   "outputs": [
    {
     "name": "stdout",
     "output_type": "stream",
     "text": [
      "dict_keys(['Sport', 'Teams'])\n",
      "dict_values(['Cricket', ['India', 'Australia', 'England', 'South Africa', 'Sri Lanka', 'New Zealand']])\n",
      "dict_items([('Sport', 'Cricket'), ('Teams', ['India', 'Australia', 'England', 'South Africa', 'Sri Lanka', 'New Zealand'])])\n"
     ]
    }
   ],
   "source": [
    "dict2 = {'Sport': 'Cricket' , 'Teams': ['India', 'Australia', 'England', 'South Africa', 'Sri Lanka', 'New Zealand']}\n",
    "\n",
    "print(dict2.keys())\n",
    "print(dict2.values())\n",
    "print(dict2.items())"
   ]
  }
 ],
 "metadata": {
  "kernelspec": {
   "display_name": "Python 3 (ipykernel)",
   "language": "python",
   "name": "python3"
  },
  "language_info": {
   "codemirror_mode": {
    "name": "ipython",
    "version": 3
   },
   "file_extension": ".py",
   "mimetype": "text/x-python",
   "name": "python",
   "nbconvert_exporter": "python",
   "pygments_lexer": "ipython3",
   "version": "3.10.8"
  }
 },
 "nbformat": 4,
 "nbformat_minor": 5
}
