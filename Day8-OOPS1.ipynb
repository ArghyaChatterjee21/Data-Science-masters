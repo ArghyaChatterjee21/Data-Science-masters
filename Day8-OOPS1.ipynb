{
 "cells": [
  {
   "cell_type": "markdown",
   "id": "53ce1252-e44d-408b-bc2f-5bbda86cf0df",
   "metadata": {},
   "source": [
    "## 05/02/2023"
   ]
  },
  {
   "cell_type": "markdown",
   "id": "647087b8-c08c-4853-90f8-5f3bd30018b2",
   "metadata": {},
   "source": [
    "## OOPS"
   ]
  },
  {
   "cell_type": "markdown",
   "id": "5510389e-ae5e-40cb-bf46-ab76a09d274a",
   "metadata": {},
   "source": [
    "### Object Oriented Programming System"
   ]
  },
  {
   "cell_type": "code",
   "execution_count": 2,
   "id": "b7caa2d9-8fe1-43a9-87fe-6d6647479240",
   "metadata": {},
   "outputs": [],
   "source": [
    "a = 1 "
   ]
  },
  {
   "cell_type": "code",
   "execution_count": 3,
   "id": "8719b58e-e03e-4aa5-9c39-9c80eeb9dca0",
   "metadata": {},
   "outputs": [
    {
     "name": "stdout",
     "output_type": "stream",
     "text": [
      "<class 'int'>\n"
     ]
    }
   ],
   "source": [
    "print(type(a))"
   ]
  },
  {
   "cell_type": "code",
   "execution_count": 4,
   "id": "866b3aee-8574-4fd8-8918-56dc9f96a4ee",
   "metadata": {},
   "outputs": [
    {
     "name": "stdout",
     "output_type": "stream",
     "text": [
      "<class 'str'>\n"
     ]
    }
   ],
   "source": [
    "print(type(\"India\"))"
   ]
  },
  {
   "cell_type": "raw",
   "id": "d8015798-2eb9-42ad-a46d-675c284f65f4",
   "metadata": {},
   "source": [
    "Q. What is this Class?"
   ]
  },
  {
   "cell_type": "code",
   "execution_count": 5,
   "id": "2c2ff720-dd4b-4db0-80bc-ad9365dd90ea",
   "metadata": {},
   "outputs": [],
   "source": [
    "class test:\n",
    "    pass"
   ]
  },
  {
   "cell_type": "code",
   "execution_count": 8,
   "id": "7ac407a7-fff0-44e2-92b0-f06c397d2019",
   "metadata": {},
   "outputs": [],
   "source": [
    "a = test() # Here a is called variable of the class test / instance/ object of the class test "
   ]
  },
  {
   "cell_type": "code",
   "execution_count": 9,
   "id": "a4f0ca48-7443-4157-ac7d-eeebb9bcf13d",
   "metadata": {},
   "outputs": [
    {
     "name": "stdout",
     "output_type": "stream",
     "text": [
      "<class '__main__.test'>\n"
     ]
    }
   ],
   "source": [
    "print(type(a))"
   ]
  },
  {
   "cell_type": "code",
   "execution_count": 14,
   "id": "357866f1-4b7e-4520-b966-ea9a0b428466",
   "metadata": {},
   "outputs": [],
   "source": [
    "class india:\n",
    "    def welcome_msg(self):\n",
    "        print(\"Welcome to India\")"
   ]
  },
  {
   "cell_type": "code",
   "execution_count": 15,
   "id": "ae01acb4-00e5-40c7-8b0c-c41adbd11901",
   "metadata": {},
   "outputs": [],
   "source": [
    "rohan = india()"
   ]
  },
  {
   "cell_type": "code",
   "execution_count": 16,
   "id": "56c02566-3100-4ff3-a6be-4215b4270166",
   "metadata": {},
   "outputs": [
    {
     "name": "stdout",
     "output_type": "stream",
     "text": [
      "Welcome to India\n"
     ]
    }
   ],
   "source": [
    "rohan.welcome_msg()"
   ]
  },
  {
   "cell_type": "code",
   "execution_count": 17,
   "id": "a0789e8f-7867-4f79-afcc-aaf8d11715b0",
   "metadata": {},
   "outputs": [],
   "source": [
    "gopal = india()"
   ]
  },
  {
   "cell_type": "code",
   "execution_count": 19,
   "id": "0c9b509c-f7d2-4345-8963-3f6b2e8964b6",
   "metadata": {},
   "outputs": [
    {
     "name": "stdout",
     "output_type": "stream",
     "text": [
      "Welcome to India\n"
     ]
    }
   ],
   "source": [
    "gopal.welcome_msg()"
   ]
  },
  {
   "cell_type": "code",
   "execution_count": 21,
   "id": "a02e0872-9011-4db9-898a-d4f0a5326a29",
   "metadata": {},
   "outputs": [],
   "source": [
    "class india:\n",
    "    \n",
    "    def __init__(self, Phone_num, Email_id, Student_id):  # __init__ is a constructor\n",
    "        self.Phone_num = Phone_num                        # Constructor will take data\n",
    "        self.Email_id = Email_id\n",
    "        self.Student_id = Student_id\n",
    "        \n",
    "        \n",
    "    def return_student_details(self):\n",
    "        return self.Phone_num, self.Email_id, self.Student_id"
   ]
  },
  {
   "cell_type": "code",
   "execution_count": 23,
   "id": "7ab5854d-e0c8-4590-a54a-7f0b439ca0e7",
   "metadata": {},
   "outputs": [
    {
     "ename": "TypeError",
     "evalue": "india.__init__() missing 3 required positional arguments: 'Phone_num', 'Email_id', and 'Student_id'",
     "output_type": "error",
     "traceback": [
      "\u001b[0;31m---------------------------------------------------------------------------\u001b[0m",
      "\u001b[0;31mTypeError\u001b[0m                                 Traceback (most recent call last)",
      "Cell \u001b[0;32mIn[23], line 1\u001b[0m\n\u001b[0;32m----> 1\u001b[0m rohan \u001b[38;5;241m=\u001b[39m \u001b[43mindia\u001b[49m\u001b[43m(\u001b[49m\u001b[43m)\u001b[49m\n",
      "\u001b[0;31mTypeError\u001b[0m: india.__init__() missing 3 required positional arguments: 'Phone_num', 'Email_id', and 'Student_id'"
     ]
    }
   ],
   "source": [
    "rohan = india()"
   ]
  },
  {
   "cell_type": "code",
   "execution_count": 24,
   "id": "2a29bd60-06c7-4e4e-bc72-4583d5edbf5a",
   "metadata": {},
   "outputs": [],
   "source": [
    "rohan = india(898233474, \"rohan@gmail.com\", 149)"
   ]
  },
  {
   "cell_type": "code",
   "execution_count": 25,
   "id": "3828d75a-6d97-4685-9079-73e8675a734e",
   "metadata": {},
   "outputs": [
    {
     "data": {
      "text/plain": [
       "898233474"
      ]
     },
     "execution_count": 25,
     "metadata": {},
     "output_type": "execute_result"
    }
   ],
   "source": [
    "rohan.Phone_num"
   ]
  },
  {
   "cell_type": "code",
   "execution_count": 26,
   "id": "5bfb9368-898f-4b52-985d-b9f743b8d167",
   "metadata": {},
   "outputs": [
    {
     "data": {
      "text/plain": [
       "'rohan@gmail.com'"
      ]
     },
     "execution_count": 26,
     "metadata": {},
     "output_type": "execute_result"
    }
   ],
   "source": [
    "rohan.Email_id"
   ]
  },
  {
   "cell_type": "code",
   "execution_count": 27,
   "id": "fef3b3b4-83be-499f-89bc-4921d367d8f3",
   "metadata": {},
   "outputs": [
    {
     "data": {
      "text/plain": [
       "149"
      ]
     },
     "execution_count": 27,
     "metadata": {},
     "output_type": "execute_result"
    }
   ],
   "source": [
    "rohan.Student_id"
   ]
  },
  {
   "cell_type": "code",
   "execution_count": 28,
   "id": "1af4a31b-c011-4317-a73b-f4dec964379b",
   "metadata": {},
   "outputs": [
    {
     "data": {
      "text/plain": [
       "<bound method india.return_student_details of <__main__.india object at 0x7fde18fcb9a0>>"
      ]
     },
     "execution_count": 28,
     "metadata": {},
     "output_type": "execute_result"
    }
   ],
   "source": [
    "rohan.return_student_details"
   ]
  },
  {
   "cell_type": "code",
   "execution_count": 29,
   "id": "39381333-8ca6-431b-ab4c-9d45f079344c",
   "metadata": {},
   "outputs": [
    {
     "data": {
      "text/plain": [
       "(898233474, 'rohan@gmail.com', 149)"
      ]
     },
     "execution_count": 29,
     "metadata": {},
     "output_type": "execute_result"
    }
   ],
   "source": [
    "rohan.return_student_details()"
   ]
  },
  {
   "cell_type": "code",
   "execution_count": 30,
   "id": "a54cf7db-fee7-455d-b3d1-67473b1556d6",
   "metadata": {},
   "outputs": [],
   "source": [
    "gopal = india(8562073449, \"gopal@gmail.com\", 150)"
   ]
  },
  {
   "cell_type": "code",
   "execution_count": 31,
   "id": "7dcd22ae-dcec-4b58-9503-d4c633540a8e",
   "metadata": {},
   "outputs": [
    {
     "data": {
      "text/plain": [
       "(8562073449, 'gopal@gmail.com', 150)"
      ]
     },
     "execution_count": 31,
     "metadata": {},
     "output_type": "execute_result"
    }
   ],
   "source": [
    "gopal.return_student_details()"
   ]
  },
  {
   "cell_type": "code",
   "execution_count": 32,
   "id": "5f10a531-7588-44ea-a00b-e84e5f6b903f",
   "metadata": {},
   "outputs": [
    {
     "data": {
      "text/plain": [
       "'gopal@gmail.com'"
      ]
     },
     "execution_count": 32,
     "metadata": {},
     "output_type": "execute_result"
    }
   ],
   "source": [
    "gopal.Email_id"
   ]
  },
  {
   "cell_type": "code",
   "execution_count": 36,
   "id": "ec877528-b8a1-4b69-a57a-ea183d24110a",
   "metadata": {},
   "outputs": [],
   "source": [
    "class india1:\n",
    "    \n",
    "    def __init__(arg, Phone_num, Email_id, Student_id):  # __init__ is a constructor\n",
    "        arg.Phone_num = Phone_num                        # Constructor will take data\n",
    "        arg.Email_id = Email_id                          # self isn't a keyword, you can take anything in place of self\n",
    "        arg.Student_id = Student_id\n",
    "        \n",
    "        \n",
    "    def return_student_details(arg):\n",
    "        return arg.Phone_num, arg.Email_id, arg.Student_id"
   ]
  },
  {
   "cell_type": "code",
   "execution_count": 34,
   "id": "24484897-0ce0-4644-b0d8-09acde802865",
   "metadata": {},
   "outputs": [],
   "source": [
    "chayan = india1(898233474, \"rohan@gmail.com\", 164)"
   ]
  },
  {
   "cell_type": "code",
   "execution_count": 35,
   "id": "739a7afb-923e-4a07-a457-917a450be733",
   "metadata": {},
   "outputs": [
    {
     "data": {
      "text/plain": [
       "(898233474, 'rohan@gmail.com', 164)"
      ]
     },
     "execution_count": 35,
     "metadata": {},
     "output_type": "execute_result"
    }
   ],
   "source": [
    "chayan.return_student_details()"
   ]
  },
  {
   "cell_type": "code",
   "execution_count": 56,
   "id": "8a92c9c5-e699-418e-9253-8b787af7f17b",
   "metadata": {},
   "outputs": [],
   "source": [
    "class india2:\n",
    "    \n",
    "    def __init__(self, Phone_num, Email_id, Student_id):  \n",
    "        self.Phone_num1 = Phone_num                        \n",
    "        self.Email_id = Email_id\n",
    "        self.Student_id = Student_id\n",
    "        \n",
    "        \n",
    "    def return_student_details(self):\n",
    "        return self.Phone_num1, self.Email_id, self.Student_id"
   ]
  },
  {
   "cell_type": "code",
   "execution_count": 57,
   "id": "970690c7-91aa-45ae-9d8f-d28355811fc1",
   "metadata": {},
   "outputs": [],
   "source": [
    "subham = india2(898233474, \"subham@gmail.com\", 169)"
   ]
  },
  {
   "cell_type": "code",
   "execution_count": 58,
   "id": "00bebe64-eb20-4b64-a955-1ec59df9f7a1",
   "metadata": {},
   "outputs": [
    {
     "ename": "AttributeError",
     "evalue": "'india2' object has no attribute 'Phone_num'",
     "output_type": "error",
     "traceback": [
      "\u001b[0;31m---------------------------------------------------------------------------\u001b[0m",
      "\u001b[0;31mAttributeError\u001b[0m                            Traceback (most recent call last)",
      "Cell \u001b[0;32mIn[58], line 1\u001b[0m\n\u001b[0;32m----> 1\u001b[0m \u001b[43msubham\u001b[49m\u001b[38;5;241;43m.\u001b[39;49m\u001b[43mPhone_num\u001b[49m\n",
      "\u001b[0;31mAttributeError\u001b[0m: 'india2' object has no attribute 'Phone_num'"
     ]
    }
   ],
   "source": [
    "subham.Phone_num"
   ]
  },
  {
   "cell_type": "code",
   "execution_count": 59,
   "id": "69b8745e-a928-48dc-a8a0-11e36417c8f5",
   "metadata": {},
   "outputs": [
    {
     "data": {
      "text/plain": [
       "898233474"
      ]
     },
     "execution_count": 59,
     "metadata": {},
     "output_type": "execute_result"
    }
   ],
   "source": [
    "subham.Phone_num1  # class only understand a parameter which is binded to reference variable (self)"
   ]
  },
  {
   "cell_type": "code",
   "execution_count": 60,
   "id": "0488e4a6-56a7-4b79-ae71-34cf8c1d547a",
   "metadata": {},
   "outputs": [
    {
     "data": {
      "text/plain": [
       "(898233474, 'subham@gmail.com', 169)"
      ]
     },
     "execution_count": 60,
     "metadata": {},
     "output_type": "execute_result"
    }
   ],
   "source": [
    "subham.return_student_details()"
   ]
  },
  {
   "cell_type": "code",
   "execution_count": null,
   "id": "1405a596-5d48-4336-a016-97ed528f0a00",
   "metadata": {},
   "outputs": [],
   "source": []
  }
 ],
 "metadata": {
  "kernelspec": {
   "display_name": "Python 3 (ipykernel)",
   "language": "python",
   "name": "python3"
  },
  "language_info": {
   "codemirror_mode": {
    "name": "ipython",
    "version": 3
   },
   "file_extension": ".py",
   "mimetype": "text/x-python",
   "name": "python",
   "nbconvert_exporter": "python",
   "pygments_lexer": "ipython3",
   "version": "3.10.8"
  }
 },
 "nbformat": 4,
 "nbformat_minor": 5
}
