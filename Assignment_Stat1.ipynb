{
 "cells": [
  {
   "cell_type": "markdown",
   "id": "512ea1c8-11d1-428d-bb1b-14f9f72aca9c",
   "metadata": {},
   "source": [
    "## Assignment Statistics 1"
   ]
  },
  {
   "cell_type": "markdown",
   "id": "40491458-4ffa-4508-a926-aed4babfd57c",
   "metadata": {},
   "source": [
    "#### Q1. What is Statistics?"
   ]
  },
  {
   "cell_type": "markdown",
   "id": "57301dd9-835f-444d-89ff-b183613f74d0",
   "metadata": {},
   "source": [
    "Ans: Statistics is the science of collecting, organizing, analyzing the data."
   ]
  },
  {
   "cell_type": "markdown",
   "id": "614535ef-1cbe-43bb-a5f9-93bf064ffe1a",
   "metadata": {},
   "source": [
    "#### Q2. Define the different types of statistics and give an example of when each type might be used."
   ]
  },
  {
   "cell_type": "markdown",
   "id": "0eea9021-7e34-494f-a545-2275e750c469",
   "metadata": {},
   "source": [
    "Ans: There are two types of statistics -\n",
    " - Descriptive Statistics : It consists organizing and summarizing the data. \n",
    " - Inferential Statistics : It consists of using data you have measured to form conclusion.   "
   ]
  },
  {
   "cell_type": "markdown",
   "id": "a24aab2c-c96a-4796-8c62-ad5532360f08",
   "metadata": {},
   "source": [
    "Example: Let say that, there are 50 students  in a math class of university.We have collected the height of the students in the class.\n",
    "[170cm, 185cm, 165cm, 140cm, 140cm, 135cm, ..........]\n",
    "\n",
    "Descriptive Question : What is the average height of students in that class?\n",
    "                       What is the common height of the students in that class?\n",
    "\n",
    "Inferential Question : Is the average height of the students in the class is similar to what you expect in the entire college ?\n",
    "          We have to make decision of the population(The entire college) on basis of sample (The average height of a class)."
   ]
  },
  {
   "cell_type": "markdown",
   "id": "ffab25ad-6acc-463d-a493-e700bb0fbfe5",
   "metadata": {},
   "source": [
    "#### Q3. What are the different types of data and how do they differ from each other? Provide an example of each type of data."
   ]
  },
  {
   "cell_type": "markdown",
   "id": "b6c36006-914e-4d66-9425-b3843a729233",
   "metadata": {},
   "source": [
    "Ans: There are two types of data: quantitative data and qualitative data."
   ]
  },
  {
   "cell_type": "markdown",
   "id": "40b47f53-8079-4720-944d-fea8c5bdf16e",
   "metadata": {},
   "source": [
    "1) Quantitative data: This type of data is numerical in nature and can be further divided into discrete and continuous data:\n",
    " - Discrete Data : Discrete data refers to numerical data that can only take on specific values. Discrete data are typically counted and are represented by whole numbers. Examples of discrete data include the number of students in a classroom, the number of cars sold in a day, and the number of books in a library.\n",
    " \n",
    " - Continuous data: Continuous data refers to numerical data that can take on any value within a range. Continuous data are typically measured and are represented by real numbers. Examples of continuous data include height, weight, temperature, and time."
   ]
  },
  {
   "cell_type": "markdown",
   "id": "00c313a7-a3fc-4949-a25a-a47fc61e21ac",
   "metadata": {},
   "source": [
    "2. Qualitative data: This type of data is descriptive in nature and is typically measured using words or categories rather than numerical values. Qualitative data is sometimes called categorical data. Qualitative data can be further divided into nominal and ordinal data:\n",
    " - Nominal data: Nominal data refers to data that are categorical and have no inherent order or ranking. Examples of nominal data include gender (male, female), eye color (blue, brown, green).\n",
    " - Ordinal data: Ordinal data refers to data that are categorical and can be ranked or ordered. Examples of ordinal data include education level (elementary, high school, college, graduate), and level of agreement (strongly disagree, disagree, neutral, agree, strongly agree)."
   ]
  },
  {
   "cell_type": "markdown",
   "id": "42a2c836-c702-46b1-ba14-e90d392c3b34",
   "metadata": {},
   "source": [
    "#### Q4. Categorise the following datasets with respect to quantitative and qualitative data types:\n",
    "#### (i) Grading in exam: A+, A, B+, B, C+, C, D, E\n",
    "#### (ii) Colour of mangoes: yellow, green, orange, red\n",
    "#### (iii) Height data of a class: [178.9, 179, 179.5, 176, 177.2, 178.3, 175.8,...]\n",
    "#### (iv) Number of mangoes exported by a farm: [500, 600, 478, 672, ...]"
   ]
  },
  {
   "cell_type": "markdown",
   "id": "199cf1e6-bd10-4ace-aa75-6e8ed0cc4cf2",
   "metadata": {},
   "source": [
    "Ans: (i) Grading in exam: Ordinal Data                                              \n",
    "     (ii) Colour of mangoes: Nominal Data                                                       \n",
    "     (iii) Height data of a class: Continuous Data                                                                                                           \n",
    "     (iv) Number of mangoes exported by a farm: Discrete Data"
   ]
  },
  {
   "cell_type": "markdown",
   "id": "dfbd1a79-1a61-44c5-aebd-34ebe6871f8d",
   "metadata": {},
   "source": [
    "."
   ]
  },
  {
   "cell_type": "markdown",
   "id": "6ed8b9a4-6116-43ba-8cca-d4163ea968f9",
   "metadata": {},
   "source": [
    "#### Q5. Explain the concept of levels of measurement and give an example of a variable for each level."
   ]
  },
  {
   "cell_type": "markdown",
   "id": "231e4afd-d3cd-40fb-976d-12c18620f303",
   "metadata": {},
   "source": [
    "Ans: There are four main levels of measurement: nominal, ordinal, interval, and ratio."
   ]
  },
  {
   "cell_type": "markdown",
   "id": "5e124796-8169-4faa-902c-35a0531c1708",
   "metadata": {},
   "source": [
    " - Nominal level of measurement: This level of measurement refers to data that can be categorized into mutually exclusive categories. Nominal data is typically qualitative or categorical and does not have any inherent order or ranking. Examples of nominal variables include gender (male, female), eye color (blue, brown, green), and ethnicity (Hispanic, Caucasian, Asian, etc.).\n",
    " \n",
    " - Ordinal level of measurement: This level of measurement refers to data that can be ranked or ordered based on some characteristic or attribute. Ordinal data is typically qualitative or categorical but has an inherent order or ranking. Examples of ordinal variables include socioeconomic status (low, middle, high), education level (elementary, high school, college, graduate), and level of agreement (strongly disagree, disagree, neutral, agree, strongly agree). "
   ]
  },
  {
   "cell_type": "markdown",
   "id": "055d8a25-f485-4fbc-8d7f-bc488c189083",
   "metadata": {},
   "source": [
    " - Interval level of measurement: This level of measurement refers to data that have a fixed unit of measurement and can be ranked or ordered based on some characteristic or attribute. Interval data is typically quantitative and has an inherent order or ranking, but there is no true zero point. Examples of interval variables include temperature (measured in Celsius or Fahrenheit), IQ scores, and calendar dates.\n",
    "\n",
    " - Ratio level of measurement: This level of measurement refers to data that have a fixed unit of measurement, can be ranked or ordered based on some characteristic or attribute, and have a true zero point. Ratio data is typically quantitative and has an inherent order or ranking, and the zero point represents a complete absence of the attribute being measured. Examples of ratio variables include height, weight, income, and time.\n",
    "\n",
    "In summary, the levels of measurement refer to the different types or categories of data that can be collected and analyzed. Nominal data has no inherent order or ranking, ordinal data can be ranked or ordered, interval data has a fixed unit of measurement but no true zero point, and ratio data has a fixed unit of measurement and a true zero point. Understanding the level of measurement is important because it determines the appropriate statistical analysis and measures that can be used to describe the data.\n"
   ]
  },
  {
   "cell_type": "markdown",
   "id": "abfee7fc-1327-49b8-9954-234860223dad",
   "metadata": {},
   "source": [
    "."
   ]
  },
  {
   "cell_type": "markdown",
   "id": "24cf7db2-3111-475c-9df6-06a379ede31c",
   "metadata": {},
   "source": [
    "#### Q6. Why is it important to understand the level of measurement when analyzing data? Provide an example to illustrate your answer."
   ]
  },
  {
   "cell_type": "markdown",
   "id": "0726e566-5eb0-43f9-af9d-6c01e167296c",
   "metadata": {},
   "source": [
    "Ans: Understanding the level of measurement of variables is crucial when analyzing data because it determines the type of statistical analysis that can be performed, the appropriate measures of central tendency and variability to use, and the conclusions that can be drawn from the data. Using inappropriate methods for a given level of measurement can lead to misleading results and incorrect conclusions."
   ]
  },
  {
   "cell_type": "markdown",
   "id": "b89513a2-0a85-4afb-98bb-d343863e397a",
   "metadata": {},
   "source": [
    "For example, let's consider a study that measures the level of education of individuals using the following categories: elementary, high school, college, and graduate. Education level is an example of an ordinal variable because the categories have a natural order or ranking. If we were to calculate the mean education level of a group of individuals, it would not provide a meaningful measure because the categories are not equidistant from each other. Instead, we would use the median or mode to describe the central tendency of the data."
   ]
  },
  {
   "cell_type": "markdown",
   "id": "9d5713fd-5815-46e1-8042-fad6e1ab124b",
   "metadata": {},
   "source": [
    "In summary, understanding the level of measurement is crucial when analyzing data because it determines the appropriate statistical methods to use and the conclusions that can be drawn from the data. Using inappropriate methods for a given level of measurement can lead to misleading results and incorrect conclusions."
   ]
  },
  {
   "cell_type": "markdown",
   "id": "ca0ec192-fa66-45ef-b8a7-46142ee39105",
   "metadata": {},
   "source": [
    "#### Q7. How nominal data type is different from ordinal data type."
   ]
  },
  {
   "cell_type": "markdown",
   "id": "9981ff95-49dd-406a-bff0-f588b452dd31",
   "metadata": {},
   "source": [
    "Ans: Nominal data are categorical data that cannot be ordered or ranked in any meaningful way. Nominal data only allow for classification into categories based on some attribute, such as color, gender, or type of car.\n",
    "     For example, hair color (blonde, brown, black, red) is a nominal variable because there is no inherent order to the categories."
   ]
  },
  {
   "cell_type": "markdown",
   "id": "bc6d7a36-56dd-4d8d-9a49-60a03d739aa8",
   "metadata": {},
   "source": [
    "  Ordinal data, on the other hand, are categorical data that have a natural order or ranking between the categories. The categories can be ordered or ranked based on some attribute, such as education level (elementary, high school, college, graduate), income level (low, medium, high), or performance rating (poor, fair, good, excellent).                                                                                                                      \n",
    " For example, a survey asking respondents to rate their satisfaction with a product on a scale from 1 to 5 would yield ordinal data, as there is a natural order to the categories."
   ]
  },
  {
   "cell_type": "markdown",
   "id": "3bd206f2-ca16-4beb-b5a7-277be3a9bf58",
   "metadata": {},
   "source": [
    "#### Q8. Which type of plot can be used to display data in terms of range?"
   ]
  },
  {
   "cell_type": "markdown",
   "id": "70904860-2215-4465-bdce-27caac33f4c8",
   "metadata": {
    "tags": []
   },
   "source": [
    "Ans: A box plot, also known as a box and whisker plot, is a type of plot that can be used to display data in terms of range. "
   ]
  },
  {
   "cell_type": "markdown",
   "id": "56fa91be-7ede-4a11-ab3f-6a796023866f",
   "metadata": {
    "tags": []
   },
   "source": [
    "#### Q9. Describe the difference between descriptive and inferential statistics. Give an example of each type of statistics and explain how they are used."
   ]
  },
  {
   "cell_type": "markdown",
   "id": "c6ddfac4-1cde-4a90-81cc-bf2808ae20d1",
   "metadata": {},
   "source": [
    "Ans: Descriptive statistics are used to summarize and describe the main features of a dataset. These statistics provide a way to organize and present data in a meaningful way, such as measures of central tendency (mean, median, mode) and measures of variability (range, standard deviation, variance). \n",
    "                                                                                                                                                                                                                    \n",
    "An example of descriptive statistics is a histogram, which is a graphical representation of the distribution of data. A histogram displays the frequency or relative frequency of data within specific intervals or \"bins.\" Histograms can be used to identify the shape of a distribution, such as whether it is normal, skewed, or bimodal. For example, a company may create a histogram to visualize the distribution of customer ratings for a new product, to identify whether the majority of ratings are positive or negative."
   ]
  },
  {
   "cell_type": "markdown",
   "id": "c38b548f-4e4f-420c-9d21-3f9365cd1c37",
   "metadata": {},
   "source": [
    "Inferential statistics, on the other hand, are used to make inferences or generalizations about a population based on a sample of data. Inferential statistics use probability theory to estimate the likelihood that the findings from a sample are representative of the population as a whole. Inferential statistics can be used to test hypotheses or to make predictions about future events based on past data.                                          "
   ]
  },
  {
   "cell_type": "markdown",
   "id": "397ac5ea-c164-4f29-86b6-d5d115f4c22d",
   "metadata": {},
   "source": [
    "An example of inferential statistics is conducting a hypothesis test to determine whether a new drug is effective at treating a disease. In this case, a sample of individuals would be given the drug, and the results would be used to make inferences about the effectiveness of the drug for the larger population.           "
   ]
  },
  {
   "cell_type": "markdown",
   "id": "4628e406-bbd6-4f0d-8bd2-48fc3a1e1c45",
   "metadata": {},
   "source": [
    "#### Q10. What are some common measures of central tendency and variability used in statistics? Explain how each measure can be used to describe a dataset."
   ]
  },
  {
   "cell_type": "markdown",
   "id": "86be19de-1fd5-4494-896b-98b19699c7e2",
   "metadata": {},
   "source": [
    "Ans: Measures of central tendency and variability are commonly used in statistics to summarize and describe a dataset. The main measures of central tendency and variability are:\n",
    "\n",
    " - Mean: The mean is the average value of a dataset. It is calculated by summing all the values in the dataset and dividing by the number of values. The mean provides a measure of the central location of the data. It is sensitive to extreme values and can be influenced by outliers.\n",
    "\n",
    " - Median: The median is the middle value of a dataset when the values are arranged in order. It provides a measure of the central location of the data that is not influenced by extreme values or outliers. It is often used when the data is skewed or has extreme values.\n",
    "\n",
    " - Mode: The mode is the value that occurs most frequently in a dataset. It provides a measure of the most common value in the data. It is often used for nominal data or when looking for the most frequent response to a question.\n",
    "\n",
    " - Range: The range is the difference between the maximum and minimum values in a dataset. It provides a measure of the spread or variability of the data. It is sensitive to extreme values and can be influenced by outliers.\n",
    "\n",
    " - Variance: The variance is a measure of the spread of the data around the mean. It is calculated by subtracting each value from the mean, squaring the difference, summing the squared differences, and dividing by the number of values. It provides a measure of the average distance of the data from the mean.\n",
    "\n",
    " - Standard deviation: The standard deviation is the square root of the variance. It provides a measure of the spread of the data around the mean that is easier to interpret than the variance since it is in the same units as the data.\n",
    "\n",
    "   These measures can be used to describe a dataset in various ways. The mean, median, and mode provide information about the central location of the data, while the range, variance, and standard deviation provide information about the spread or variability of the data. By using a combination of these measures, we can gain a more complete understanding of the dataset and its characteristics."
   ]
  }
 ],
 "metadata": {
  "kernelspec": {
   "display_name": "Python 3 (ipykernel)",
   "language": "python",
   "name": "python3"
  },
  "language_info": {
   "codemirror_mode": {
    "name": "ipython",
    "version": 3
   },
   "file_extension": ".py",
   "mimetype": "text/x-python",
   "name": "python",
   "nbconvert_exporter": "python",
   "pygments_lexer": "ipython3",
   "version": "3.10.8"
  }
 },
 "nbformat": 4,
 "nbformat_minor": 5
}
