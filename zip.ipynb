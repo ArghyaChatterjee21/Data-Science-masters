{
 "cells": [
  {
   "cell_type": "code",
   "execution_count": null,
   "id": "f651aa00",
   "metadata": {},
   "outputs": [],
   "source": [
    "Folder to Zip"
   ]
  },
  {
   "cell_type": "code",
   "execution_count": null,
   "id": "25ae0a01",
   "metadata": {},
   "outputs": [],
   "source": [
    "import shutil\n",
    "import os\n",
    "\n",
    "def zip_folder(folder_path, output_path):\n",
    "\n",
    "    folder_name = os.path.basename(folder_path)\n",
    "    zip_file_path = os.path.join(output_path, folder_name)\n",
    "\n",
    "\n",
    "    shutil.make_archive(zip_file_path, 'zip', folder_path)\n",
    "    print(f'Folder \"{folder_name}\" has been zipped successfully at \"{output_path}\".')\n",
    "\n",
    "\n",
    "folder_path = 'your_folder_path'         # the folder you want to zip\n",
    "output_path = 'your_output_path'         # the desired output directory for the zip file\n",
    "\n",
    "zip_folder(folder_path, output_path)"
   ]
  },
  {
   "cell_type": "code",
   "execution_count": null,
   "id": "2ed9519e",
   "metadata": {},
   "outputs": [],
   "source": [
    "Zip to Folder"
   ]
  },
  {
   "cell_type": "code",
   "execution_count": null,
   "id": "48cb0ad6",
   "metadata": {},
   "outputs": [],
   "source": [
    "!unzip folder name "
   ]
  },
  {
   "cell_type": "markdown",
   "id": "11929dda",
   "metadata": {},
   "source": [
    "To a specific Path"
   ]
  },
  {
   "cell_type": "code",
   "execution_count": null,
   "id": "ab319dd5",
   "metadata": {},
   "outputs": [],
   "source": [
    "import zipfile\n",
    "import os\n",
    "\n",
    "def unzip_folder(zip_file_path, output_path):\n",
    "    \n",
    "    os.makedirs(output_path, exist_ok=True)\n",
    "    \n",
    "    \n",
    "    with zipfile.ZipFile(zip_file_path, 'r') as zip_ref:\n",
    "        zip_ref.extractall(output_path)\n",
    "    print(f'Folder \"{zip_file_path}\" has been unzipped successfully at \"{output_path}\".')\n",
    "\n",
    "    \n",
    "zip_file_path = 'your_zip_file_path'\n",
    "output_path = 'your_output_path'\n",
    "\n",
    "unzip_folder(zip_file_path, output_path)\n"
   ]
  }
 ],
 "metadata": {
  "kernelspec": {
   "display_name": "Python 3 (ipykernel)",
   "language": "python",
   "name": "python3"
  },
  "language_info": {
   "codemirror_mode": {
    "name": "ipython",
    "version": 3
   },
   "file_extension": ".py",
   "mimetype": "text/x-python",
   "name": "python",
   "nbconvert_exporter": "python",
   "pygments_lexer": "ipython3",
   "version": "3.8.10"
  }
 },
 "nbformat": 4,
 "nbformat_minor": 5
}
