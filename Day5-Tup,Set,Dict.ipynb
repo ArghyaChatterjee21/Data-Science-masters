{
 "cells": [
  {
   "cell_type": "markdown",
   "id": "73088d2f-805e-4863-ac7f-a2dbd6775d15",
   "metadata": {},
   "source": [
    "## 02/02/2023"
   ]
  },
  {
   "cell_type": "markdown",
   "id": "2eaa9728-23e8-463f-9278-f20dc2d743f9",
   "metadata": {},
   "source": [
    "## Tuples"
   ]
  },
  {
   "cell_type": "code",
   "execution_count": 1,
   "id": "66d174b8-fbdd-4c9a-8b4f-07d97cd1fb14",
   "metadata": {},
   "outputs": [],
   "source": [
    "t = ()"
   ]
  },
  {
   "cell_type": "code",
   "execution_count": 2,
   "id": "e909570c-8ac2-45d4-baff-97d1ae3cd543",
   "metadata": {},
   "outputs": [
    {
     "data": {
      "text/plain": [
       "tuple"
      ]
     },
     "execution_count": 2,
     "metadata": {},
     "output_type": "execute_result"
    }
   ],
   "source": [
    "type(t)"
   ]
  },
  {
   "cell_type": "code",
   "execution_count": 2,
   "id": "0bbac10c-d832-4546-aa20-61b01cc916cd",
   "metadata": {},
   "outputs": [],
   "source": [
    "t1 = (1, 2, 3, 4, 45, 45.5, 45+7j, \"Arghya\", True)"
   ]
  },
  {
   "cell_type": "code",
   "execution_count": 3,
   "id": "62857c77-0c44-488c-9598-901eeb12d433",
   "metadata": {},
   "outputs": [
    {
     "data": {
      "text/plain": [
       "tuple"
      ]
     },
     "execution_count": 3,
     "metadata": {},
     "output_type": "execute_result"
    }
   ],
   "source": [
    "type(t1)"
   ]
  },
  {
   "cell_type": "code",
   "execution_count": 4,
   "id": "b54312ac-fbea-4508-8b83-552afe269889",
   "metadata": {},
   "outputs": [],
   "source": [
    "l1 = [1, 2, 3, 4, 45, 45.5, 45+7j, \"Arghya\", True]"
   ]
  },
  {
   "cell_type": "code",
   "execution_count": 5,
   "id": "d4ade211-9c43-49c7-ba30-102391d68af5",
   "metadata": {},
   "outputs": [
    {
     "data": {
      "text/plain": [
       "list"
      ]
     },
     "execution_count": 5,
     "metadata": {},
     "output_type": "execute_result"
    }
   ],
   "source": [
    "type(l1)"
   ]
  },
  {
   "cell_type": "code",
   "execution_count": 6,
   "id": "0ff3b68e-fbf7-4200-9ebe-1dbd4fc1fd9d",
   "metadata": {},
   "outputs": [
    {
     "data": {
      "text/plain": [
       "1"
      ]
     },
     "execution_count": 6,
     "metadata": {},
     "output_type": "execute_result"
    }
   ],
   "source": [
    "t1[0]"
   ]
  },
  {
   "cell_type": "code",
   "execution_count": 7,
   "id": "f2ec82b6-113d-4b41-b1fd-70d3e34dc92e",
   "metadata": {},
   "outputs": [
    {
     "data": {
      "text/plain": [
       "'Arghya'"
      ]
     },
     "execution_count": 7,
     "metadata": {},
     "output_type": "execute_result"
    }
   ],
   "source": [
    "t1[7]"
   ]
  },
  {
   "cell_type": "code",
   "execution_count": 8,
   "id": "689497e4-ca59-4e6c-87b5-946740b2aa53",
   "metadata": {},
   "outputs": [
    {
     "data": {
      "text/plain": [
       "4"
      ]
     },
     "execution_count": 8,
     "metadata": {},
     "output_type": "execute_result"
    }
   ],
   "source": [
    "t1[-6]"
   ]
  },
  {
   "cell_type": "code",
   "execution_count": 9,
   "id": "61fc3d6a-25f9-4a1c-bd81-70fd64424ff4",
   "metadata": {},
   "outputs": [],
   "source": [
    "t1 = t1[::-1]"
   ]
  },
  {
   "cell_type": "code",
   "execution_count": 10,
   "id": "6dcf7a56-1cfa-467a-af11-3c047552ec2c",
   "metadata": {},
   "outputs": [
    {
     "data": {
      "text/plain": [
       "(True, 'Arghya', (45+7j), 45.5, 45, 4, 3, 2, 1)"
      ]
     },
     "execution_count": 10,
     "metadata": {},
     "output_type": "execute_result"
    }
   ],
   "source": [
    "t1"
   ]
  },
  {
   "cell_type": "code",
   "execution_count": 11,
   "id": "962d727c-4495-4a31-86a5-ff4dd2f145b0",
   "metadata": {},
   "outputs": [
    {
     "data": {
      "text/plain": [
       "(True, 'Arghya', (45+7j))"
      ]
     },
     "execution_count": 11,
     "metadata": {},
     "output_type": "execute_result"
    }
   ],
   "source": [
    "t1[0:3]"
   ]
  },
  {
   "cell_type": "code",
   "execution_count": 14,
   "id": "3ee9a1e2-1197-4410-b0db-7609e5f915ec",
   "metadata": {},
   "outputs": [
    {
     "data": {
      "text/plain": [
       "1"
      ]
     },
     "execution_count": 14,
     "metadata": {},
     "output_type": "execute_result"
    }
   ],
   "source": [
    "t1.count(\"Arghya\")"
   ]
  },
  {
   "cell_type": "code",
   "execution_count": 15,
   "id": "0ac3d4cd-fa1e-4790-b785-8cf8edc545da",
   "metadata": {},
   "outputs": [
    {
     "data": {
      "text/plain": [
       "0"
      ]
     },
     "execution_count": 15,
     "metadata": {},
     "output_type": "execute_result"
    }
   ],
   "source": [
    "t1.index(1) # As system considers True = 1 and true is in 0th position that' y out put will be zero.  "
   ]
  },
  {
   "cell_type": "code",
   "execution_count": 20,
   "id": "8588354d-4ad6-4b12-8f0a-f0590339521b",
   "metadata": {},
   "outputs": [
    {
     "data": {
      "text/plain": [
       "2"
      ]
     },
     "execution_count": 20,
     "metadata": {},
     "output_type": "execute_result"
    }
   ],
   "source": [
    "t1.count(True)  # As system stores boolean variable True as 1 so technically there are two 1. "
   ]
  },
  {
   "cell_type": "code",
   "execution_count": 22,
   "id": "53a44b89-7eb5-4515-bdb0-cb4d53236cdd",
   "metadata": {},
   "outputs": [
    {
     "data": {
      "text/plain": [
       "2"
      ]
     },
     "execution_count": 22,
     "metadata": {},
     "output_type": "execute_result"
    }
   ],
   "source": [
    "t1.count(1) ## Above logic"
   ]
  },
  {
   "cell_type": "code",
   "execution_count": 18,
   "id": "580e0751-16d3-4ccf-af4c-12403878d300",
   "metadata": {},
   "outputs": [
    {
     "data": {
      "text/plain": [
       "1"
      ]
     },
     "execution_count": 18,
     "metadata": {},
     "output_type": "execute_result"
    }
   ],
   "source": [
    "t1.index(\"Arghya\")"
   ]
  },
  {
   "cell_type": "markdown",
   "id": "9369d0b8-2b43-4259-bec2-769178805442",
   "metadata": {},
   "source": [
    "Tuples basically follows immmutability concepts where it's not going to allow to change any element at a particular index"
   ]
  },
  {
   "cell_type": "code",
   "execution_count": 23,
   "id": "7b2f71ee-2b1c-4d64-9481-bc3dd9d2382f",
   "metadata": {},
   "outputs": [
    {
     "ename": "TypeError",
     "evalue": "'tuple' object does not support item assignment",
     "output_type": "error",
     "traceback": [
      "\u001b[0;31m---------------------------------------------------------------------------\u001b[0m",
      "\u001b[0;31mTypeError\u001b[0m                                 Traceback (most recent call last)",
      "Cell \u001b[0;32mIn[23], line 1\u001b[0m\n\u001b[0;32m----> 1\u001b[0m \u001b[43mt1\u001b[49m\u001b[43m[\u001b[49m\u001b[38;5;241;43m1\u001b[39;49m\u001b[43m]\u001b[49m \u001b[38;5;241m=\u001b[39m \u001b[38;5;124m\"\u001b[39m\u001b[38;5;124mCR7\u001b[39m\u001b[38;5;124m\"\u001b[39m \u001b[38;5;66;03m# tuples is immutable\u001b[39;00m\n",
      "\u001b[0;31mTypeError\u001b[0m: 'tuple' object does not support item assignment"
     ]
    }
   ],
   "source": [
    "t1[1] = \"CR7\" # Tuples is immutable"
   ]
  },
  {
   "cell_type": "code",
   "execution_count": 24,
   "id": "4bf0ff35-f87d-4228-be20-b581b4882e54",
   "metadata": {},
   "outputs": [],
   "source": [
    "l1[1] = \"CR7\" # List is mutable"
   ]
  },
  {
   "cell_type": "code",
   "execution_count": 25,
   "id": "6db10ae3-deb3-4bd2-aeb1-25a657d5a317",
   "metadata": {},
   "outputs": [
    {
     "data": {
      "text/plain": [
       "[1, 'CR7', 3, 4, 45, 45.5, (45+7j), 'Arghya', True]"
      ]
     },
     "execution_count": 25,
     "metadata": {},
     "output_type": "execute_result"
    }
   ],
   "source": [
    "l1"
   ]
  },
  {
   "cell_type": "code",
   "execution_count": 27,
   "id": "753d40f9-88c3-4eaa-8c3d-c2c777fae294",
   "metadata": {},
   "outputs": [
    {
     "name": "stdout",
     "output_type": "stream",
     "text": [
      "True Arghya (45+7j) 45.5 45 4 3 2 1 "
     ]
    }
   ],
   "source": [
    "# Iterate using for loop \n",
    "for i in t1:\n",
    "    print(i, end= \" \")"
   ]
  },
  {
   "cell_type": "code",
   "execution_count": 32,
   "id": "c9305ed5-388e-463d-b547-c33cf5229495",
   "metadata": {},
   "outputs": [
    {
     "name": "stdout",
     "output_type": "stream",
     "text": [
      "True <class 'bool'>\n",
      "Arghya <class 'str'>\n",
      "(45+7j) <class 'complex'>\n",
      "45.5 <class 'float'>\n",
      "45 <class 'int'>\n",
      "4 <class 'int'>\n",
      "3 <class 'int'>\n",
      "2 <class 'int'>\n",
      "1 <class 'int'>\n"
     ]
    }
   ],
   "source": [
    "for i in t1:\n",
    "    print(i, type(i))"
   ]
  },
  {
   "cell_type": "code",
   "execution_count": 17,
   "id": "52cb2455-43bf-4416-a430-0653e7ccfe9e",
   "metadata": {},
   "outputs": [],
   "source": [
    "t2 = (1,2,3)"
   ]
  },
  {
   "cell_type": "code",
   "execution_count": 18,
   "id": "3f9c3aba-ca42-4d60-b6ac-c5fa40e5150d",
   "metadata": {},
   "outputs": [
    {
     "data": {
      "text/plain": [
       "(1, 2, 3)"
      ]
     },
     "execution_count": 18,
     "metadata": {},
     "output_type": "execute_result"
    }
   ],
   "source": [
    "t2"
   ]
  },
  {
   "cell_type": "code",
   "execution_count": 19,
   "id": "0facf51d-1eed-462b-9927-042e7fd215e8",
   "metadata": {},
   "outputs": [
    {
     "data": {
      "text/plain": [
       "(1, 2, 3, 1, 2, 3, 1, 2, 3)"
      ]
     },
     "execution_count": 19,
     "metadata": {},
     "output_type": "execute_result"
    }
   ],
   "source": [
    "t2*3"
   ]
  },
  {
   "cell_type": "code",
   "execution_count": 20,
   "id": "18f9efda-4533-4170-b783-82b1014a3e6b",
   "metadata": {},
   "outputs": [
    {
     "data": {
      "text/plain": [
       "3"
      ]
     },
     "execution_count": 20,
     "metadata": {},
     "output_type": "execute_result"
    }
   ],
   "source": [
    "max(t2)"
   ]
  },
  {
   "cell_type": "code",
   "execution_count": 21,
   "id": "d9d0c19d-a296-44bf-a740-fcf0f0ba62db",
   "metadata": {},
   "outputs": [
    {
     "data": {
      "text/plain": [
       "1"
      ]
     },
     "execution_count": 21,
     "metadata": {},
     "output_type": "execute_result"
    }
   ],
   "source": [
    "min(t2)"
   ]
  },
  {
   "cell_type": "code",
   "execution_count": 23,
   "id": "a41f9e5f-8077-4739-a072-1013c9a3ea01",
   "metadata": {},
   "outputs": [
    {
     "data": {
      "text/plain": [
       "[1, 2, 3]"
      ]
     },
     "execution_count": 23,
     "metadata": {},
     "output_type": "execute_result"
    }
   ],
   "source": [
    "list(t2) # Tuples to list"
   ]
  },
  {
   "cell_type": "code",
   "execution_count": 45,
   "id": "5f4377f7-a09a-4a4e-be06-28a7ce0f2eae",
   "metadata": {},
   "outputs": [],
   "source": [
    "# Tuples in a Tuples\n",
    "T1 = (1,2,3)\n",
    "T2 = (3,4,5)"
   ]
  },
  {
   "cell_type": "code",
   "execution_count": 43,
   "id": "11348d33-df25-4b0a-ae49-6947ea27c637",
   "metadata": {},
   "outputs": [],
   "source": [
    "T = (T1,T2)"
   ]
  },
  {
   "cell_type": "code",
   "execution_count": 44,
   "id": "4ee459b4-fa34-4746-ae22-b4adae721178",
   "metadata": {},
   "outputs": [
    {
     "data": {
      "text/plain": [
       "((1, 2, 3), (3, 4, 5))"
      ]
     },
     "execution_count": 44,
     "metadata": {},
     "output_type": "execute_result"
    }
   ],
   "source": [
    "T"
   ]
  },
  {
   "cell_type": "code",
   "execution_count": 48,
   "id": "9234a2ea-a628-4a3b-8741-4c73bda63070",
   "metadata": {},
   "outputs": [],
   "source": [
    "# list tnside a tuples\n",
    "T4 = ((1,2,3),[1,2,3]) "
   ]
  },
  {
   "cell_type": "code",
   "execution_count": 47,
   "id": "ae048868-1056-4d01-8944-68aba8ca14d6",
   "metadata": {},
   "outputs": [
    {
     "data": {
      "text/plain": [
       "((1, 2, 3), [1, 2, 3])"
      ]
     },
     "execution_count": 47,
     "metadata": {},
     "output_type": "execute_result"
    }
   ],
   "source": [
    "T4"
   ]
  },
  {
   "cell_type": "code",
   "execution_count": 55,
   "id": "17656b8e-84c2-4a5c-b0db-9de1429b4564",
   "metadata": {},
   "outputs": [],
   "source": [
    "# Tuples in a list\n",
    "L = [(1,2),(0,9,6)]"
   ]
  },
  {
   "cell_type": "code",
   "execution_count": 56,
   "id": "19548ed9-8bfd-44a2-8e3c-b7b15b00bc8f",
   "metadata": {},
   "outputs": [
    {
     "data": {
      "text/plain": [
       "[(1, 2), (0, 9, 6)]"
      ]
     },
     "execution_count": 56,
     "metadata": {},
     "output_type": "execute_result"
    }
   ],
   "source": [
    "L"
   ]
  },
  {
   "cell_type": "code",
   "execution_count": 49,
   "id": "1cf59bd8-0e91-4e72-aa79-9e232f91c6a4",
   "metadata": {},
   "outputs": [],
   "source": [
    "#To delete the tuples\n",
    "del T4"
   ]
  },
  {
   "cell_type": "code",
   "execution_count": 50,
   "id": "207a0c54-74cd-4ace-b770-680125261acb",
   "metadata": {},
   "outputs": [
    {
     "ename": "NameError",
     "evalue": "name 'T4' is not defined",
     "output_type": "error",
     "traceback": [
      "\u001b[0;31m---------------------------------------------------------------------------\u001b[0m",
      "\u001b[0;31mNameError\u001b[0m                                 Traceback (most recent call last)",
      "Cell \u001b[0;32mIn[50], line 1\u001b[0m\n\u001b[0;32m----> 1\u001b[0m \u001b[43mT4\u001b[49m\n",
      "\u001b[0;31mNameError\u001b[0m: name 'T4' is not defined"
     ]
    }
   ],
   "source": [
    "T4"
   ]
  },
  {
   "cell_type": "code",
   "execution_count": 51,
   "id": "833f39b8-70d1-4025-ac6b-a4d1092a1d82",
   "metadata": {},
   "outputs": [
    {
     "data": {
      "text/plain": [
       "9"
      ]
     },
     "execution_count": 51,
     "metadata": {},
     "output_type": "execute_result"
    }
   ],
   "source": [
    "# To find the length of a tuples\n",
    "len(t1)"
   ]
  },
  {
   "cell_type": "code",
   "execution_count": 53,
   "id": "3c49d364-ec19-47f1-8b81-089334c05427",
   "metadata": {},
   "outputs": [
    {
     "data": {
      "text/plain": [
       "False"
      ]
     },
     "execution_count": 53,
     "metadata": {},
     "output_type": "execute_result"
    }
   ],
   "source": [
    "# To check some element in tuples\n",
    "\"arghya\" in t1"
   ]
  },
  {
   "cell_type": "code",
   "execution_count": 54,
   "id": "f7c74275-bb0b-4a5e-a02d-ed730ba501d5",
   "metadata": {},
   "outputs": [
    {
     "data": {
      "text/plain": [
       "True"
      ]
     },
     "execution_count": 54,
     "metadata": {},
     "output_type": "execute_result"
    }
   ],
   "source": [
    "\"Arghya\" in t1"
   ]
  },
  {
   "cell_type": "markdown",
   "id": "5530d13a-2cc5-4f13-b3fd-5e5233383e45",
   "metadata": {
    "tags": []
   },
   "source": [
    "## Sets"
   ]
  },
  {
   "cell_type": "code",
   "execution_count": 8,
   "id": "eee94754-b273-4c2a-8688-8b3e44dac938",
   "metadata": {},
   "outputs": [],
   "source": [
    "s = {} # When use a blank curly braces it will take as dictionary"
   ]
  },
  {
   "cell_type": "code",
   "execution_count": 2,
   "id": "c9de623a-b361-41ec-84ab-110d8b429832",
   "metadata": {},
   "outputs": [
    {
     "data": {
      "text/plain": [
       "dict"
      ]
     },
     "execution_count": 2,
     "metadata": {},
     "output_type": "execute_result"
    }
   ],
   "source": [
    "type(s)"
   ]
  },
  {
   "cell_type": "code",
   "execution_count": 9,
   "id": "6313c0ca-d625-4083-9f36-d6d7be5e758e",
   "metadata": {},
   "outputs": [],
   "source": [
    "s1 = {1,2,3}"
   ]
  },
  {
   "cell_type": "code",
   "execution_count": 10,
   "id": "430f2d7d-1b68-46dd-a724-9d193ac6a931",
   "metadata": {},
   "outputs": [
    {
     "data": {
      "text/plain": [
       "set"
      ]
     },
     "execution_count": 10,
     "metadata": {},
     "output_type": "execute_result"
    }
   ],
   "source": [
    "type(s1)"
   ]
  },
  {
   "cell_type": "code",
   "execution_count": 11,
   "id": "583b68c6-7299-453f-abdd-3df64eaa1f0f",
   "metadata": {},
   "outputs": [
    {
     "data": {
      "text/plain": [
       "{1, 2, 3}"
      ]
     },
     "execution_count": 11,
     "metadata": {},
     "output_type": "execute_result"
    }
   ],
   "source": [
    "s1"
   ]
  },
  {
   "cell_type": "code",
   "execution_count": 13,
   "id": "46113e1b-ee64-44ba-ae74-169895ca7e38",
   "metadata": {},
   "outputs": [],
   "source": [
    "s2 = {1,9,16,25,4,3,9,25} # Set will remove all duplicate elements "
   ]
  },
  {
   "cell_type": "code",
   "execution_count": 14,
   "id": "9ab379e4-ed84-414d-ba52-a199d6a16826",
   "metadata": {},
   "outputs": [
    {
     "data": {
      "text/plain": [
       "{1, 3, 4, 9, 16, 25}"
      ]
     },
     "execution_count": 14,
     "metadata": {},
     "output_type": "execute_result"
    }
   ],
   "source": [
    "s2"
   ]
  },
  {
   "cell_type": "code",
   "execution_count": 25,
   "id": "e4effa92-9372-4762-b68d-4eebb23fdb37",
   "metadata": {},
   "outputs": [],
   "source": [
    "# Convert a set into a list\n",
    "l = list(s2)"
   ]
  },
  {
   "cell_type": "code",
   "execution_count": 26,
   "id": "4dfa594d-2718-42c7-9d88-b0f5b9ddd54f",
   "metadata": {},
   "outputs": [
    {
     "data": {
      "text/plain": [
       "[16, 1, 3, 4, 9, 25]"
      ]
     },
     "execution_count": 26,
     "metadata": {},
     "output_type": "execute_result"
    }
   ],
   "source": [
    "l"
   ]
  },
  {
   "cell_type": "code",
   "execution_count": 16,
   "id": "b0796a2d-2124-4d45-82dc-6c646d26610e",
   "metadata": {},
   "outputs": [
    {
     "data": {
      "text/plain": [
       "(16, 1, 3, 4, 9, 25)"
      ]
     },
     "execution_count": 16,
     "metadata": {},
     "output_type": "execute_result"
    }
   ],
   "source": [
    "# Convert a set into a tuple\n",
    "tuple(s2)"
   ]
  },
  {
   "cell_type": "code",
   "execution_count": 27,
   "id": "efa24f4f-1aa3-492e-98ee-a972a4037d24",
   "metadata": {},
   "outputs": [
    {
     "data": {
      "text/plain": [
       "{1, 3, 4, 9, 16, 25}"
      ]
     },
     "execution_count": 27,
     "metadata": {},
     "output_type": "execute_result"
    }
   ],
   "source": [
    "set(l)"
   ]
  },
  {
   "cell_type": "code",
   "execution_count": 30,
   "id": "cc44d1d3-6bab-4d32-93d7-20915476e88f",
   "metadata": {},
   "outputs": [
    {
     "ename": "TypeError",
     "evalue": "unhashable type: 'list'",
     "output_type": "error",
     "traceback": [
      "\u001b[0;31m---------------------------------------------------------------------------\u001b[0m",
      "\u001b[0;31mTypeError\u001b[0m                                 Traceback (most recent call last)",
      "Cell \u001b[0;32mIn[30], line 1\u001b[0m\n\u001b[0;32m----> 1\u001b[0m s3 \u001b[38;5;241m=\u001b[39m {\u001b[38;5;241m1\u001b[39m,\u001b[38;5;241m2\u001b[39m,\u001b[38;5;241m3\u001b[39m,[\u001b[38;5;241m1\u001b[39m,\u001b[38;5;241m2\u001b[39m,\u001b[38;5;241m3\u001b[39m]} \u001b[38;5;66;03m# As list is mutable\u001b[39;00m\n",
      "\u001b[0;31mTypeError\u001b[0m: unhashable type: 'list'"
     ]
    }
   ],
   "source": [
    "s3 = {1,2,3,[1,2,3]} # As list is mutable"
   ]
  },
  {
   "cell_type": "code",
   "execution_count": 33,
   "id": "1fae0c6e-ab46-49b3-ad81-607277973b7d",
   "metadata": {},
   "outputs": [],
   "source": [
    "s4 = {1,2,3,(1,2,3)} # It won't giove an error as tuple is immutable"
   ]
  },
  {
   "cell_type": "code",
   "execution_count": 34,
   "id": "2ec17486-e192-4cb4-a145-1b4e0d67ea0e",
   "metadata": {},
   "outputs": [
    {
     "data": {
      "text/plain": [
       "{(1, 2, 3), 1, 2, 3}"
      ]
     },
     "execution_count": 34,
     "metadata": {},
     "output_type": "execute_result"
    }
   ],
   "source": [
    "s4"
   ]
  },
  {
   "cell_type": "code",
   "execution_count": 67,
   "id": "c8815f76-7d36-42e6-a27d-9c53385d808e",
   "metadata": {},
   "outputs": [],
   "source": [
    "s5 ={\"Arghya\", \"arghya\",2,2.1,5,True}"
   ]
  },
  {
   "cell_type": "code",
   "execution_count": 68,
   "id": "95b3f927-ee51-4aa7-a0d7-965308c57d9a",
   "metadata": {},
   "outputs": [
    {
     "data": {
      "text/plain": [
       "{2, 2.1, 5, 'Arghya', True, 'arghya'}"
      ]
     },
     "execution_count": 68,
     "metadata": {},
     "output_type": "execute_result"
    }
   ],
   "source": [
    "s5"
   ]
  },
  {
   "cell_type": "code",
   "execution_count": 41,
   "id": "be714931-62e4-41f2-b99b-c00ed217b7f4",
   "metadata": {},
   "outputs": [
    {
     "ename": "TypeError",
     "evalue": "'set' object is not subscriptable",
     "output_type": "error",
     "traceback": [
      "\u001b[0;31m---------------------------------------------------------------------------\u001b[0m",
      "\u001b[0;31mTypeError\u001b[0m                                 Traceback (most recent call last)",
      "Cell \u001b[0;32mIn[41], line 1\u001b[0m\n\u001b[0;32m----> 1\u001b[0m \u001b[43ms5\u001b[49m\u001b[43m[\u001b[49m\u001b[38;5;241;43m0\u001b[39;49m\u001b[43m]\u001b[49m \u001b[38;5;66;03m# In set indexing concepts does not work\u001b[39;00m\n",
      "\u001b[0;31mTypeError\u001b[0m: 'set' object is not subscriptable"
     ]
    }
   ],
   "source": [
    "s5[0] # In set indexing concepts does not work"
   ]
  },
  {
   "cell_type": "code",
   "execution_count": 42,
   "id": "e01ad1ff-ced2-4841-b7af-0bd6f2a44e3e",
   "metadata": {},
   "outputs": [
    {
     "ename": "TypeError",
     "evalue": "'set' object is not subscriptable",
     "output_type": "error",
     "traceback": [
      "\u001b[0;31m---------------------------------------------------------------------------\u001b[0m",
      "\u001b[0;31mTypeError\u001b[0m                                 Traceback (most recent call last)",
      "Cell \u001b[0;32mIn[42], line 1\u001b[0m\n\u001b[0;32m----> 1\u001b[0m \u001b[43ms5\u001b[49m\u001b[43m[\u001b[49m\u001b[43m:\u001b[49m\u001b[43m:\u001b[49m\u001b[38;5;241;43m-\u001b[39;49m\u001b[38;5;241;43m1\u001b[39;49m\u001b[43m]\u001b[49m\n",
      "\u001b[0;31mTypeError\u001b[0m: 'set' object is not subscriptable"
     ]
    }
   ],
   "source": [
    "s5[::-1]"
   ]
  },
  {
   "cell_type": "code",
   "execution_count": 45,
   "id": "1e38e7e8-1bcb-467f-9865-87ed4ec98b87",
   "metadata": {},
   "outputs": [
    {
     "name": "stdout",
     "output_type": "stream",
     "text": [
      "True\n",
      "2\n",
      "2.1\n",
      "5\n",
      "arghya\n",
      "Arghya\n"
     ]
    }
   ],
   "source": [
    "# Iterating using for loop\n",
    "for i in s5:\n",
    "    print(i)"
   ]
  },
  {
   "cell_type": "code",
   "execution_count": 69,
   "id": "2c026be5-99f0-45a9-9d11-e6c17cf1c447",
   "metadata": {},
   "outputs": [],
   "source": [
    "s5.add(9) # to add an element"
   ]
  },
  {
   "cell_type": "code",
   "execution_count": 70,
   "id": "d2998986-a3b7-4fc6-8aa0-4dd1cd801245",
   "metadata": {},
   "outputs": [
    {
     "data": {
      "text/plain": [
       "{2, 2.1, 5, 9, 'Arghya', True, 'arghya'}"
      ]
     },
     "execution_count": 70,
     "metadata": {},
     "output_type": "execute_result"
    }
   ],
   "source": [
    "s5"
   ]
  },
  {
   "cell_type": "code",
   "execution_count": 71,
   "id": "ce21706c-c5dd-4017-bf24-8fd12cd45bd3",
   "metadata": {},
   "outputs": [
    {
     "data": {
      "text/plain": [
       "7"
      ]
     },
     "execution_count": 71,
     "metadata": {},
     "output_type": "execute_result"
    }
   ],
   "source": [
    "len(s5) # to check length of a set"
   ]
  },
  {
   "cell_type": "code",
   "execution_count": 72,
   "id": "883576f5-370d-4125-b91e-01ef843e1a4f",
   "metadata": {},
   "outputs": [
    {
     "data": {
      "text/plain": [
       "True"
      ]
     },
     "execution_count": 72,
     "metadata": {},
     "output_type": "execute_result"
    }
   ],
   "source": [
    "s5.pop() # To remove an elemnt from the set  "
   ]
  },
  {
   "cell_type": "code",
   "execution_count": 73,
   "id": "11f42174-352d-49c8-93b9-9ab874187550",
   "metadata": {},
   "outputs": [
    {
     "data": {
      "text/plain": [
       "2"
      ]
     },
     "execution_count": 73,
     "metadata": {},
     "output_type": "execute_result"
    }
   ],
   "source": [
    "s5.pop()"
   ]
  },
  {
   "cell_type": "code",
   "execution_count": 74,
   "id": "04248b2d-9cfa-4434-b250-0c47d5488aff",
   "metadata": {},
   "outputs": [
    {
     "data": {
      "text/plain": [
       "2.1"
      ]
     },
     "execution_count": 74,
     "metadata": {},
     "output_type": "execute_result"
    }
   ],
   "source": [
    "s5.pop()"
   ]
  },
  {
   "cell_type": "code",
   "execution_count": 75,
   "id": "708215ea-9e7a-4a96-85f3-297a1f5c1fcf",
   "metadata": {},
   "outputs": [
    {
     "data": {
      "text/plain": [
       "5"
      ]
     },
     "execution_count": 75,
     "metadata": {},
     "output_type": "execute_result"
    }
   ],
   "source": [
    "s5.pop()"
   ]
  },
  {
   "cell_type": "code",
   "execution_count": 76,
   "id": "3804d984-0f57-4c48-a144-1ce41bb780f7",
   "metadata": {},
   "outputs": [
    {
     "data": {
      "text/plain": [
       "{9, 'Arghya', 'arghya'}"
      ]
     },
     "execution_count": 76,
     "metadata": {},
     "output_type": "execute_result"
    }
   ],
   "source": [
    "s5"
   ]
  },
  {
   "cell_type": "code",
   "execution_count": 77,
   "id": "8f13804f-09d8-4511-a9d4-2444560d2a34",
   "metadata": {},
   "outputs": [],
   "source": [
    "s5.clear() # to remove all the elements from the sets"
   ]
  },
  {
   "cell_type": "code",
   "execution_count": 78,
   "id": "cb128572-6b78-4fe4-8db8-ca93db3b3938",
   "metadata": {},
   "outputs": [
    {
     "data": {
      "text/plain": [
       "set()"
      ]
     },
     "execution_count": 78,
     "metadata": {},
     "output_type": "execute_result"
    }
   ],
   "source": [
    "s5"
   ]
  },
  {
   "cell_type": "code",
   "execution_count": 79,
   "id": "7f9ed866-12f1-4426-97e5-a75b9d7487bb",
   "metadata": {},
   "outputs": [],
   "source": [
    "s6 = {1,2,3,4}\n",
    "s7 = {1,2,5,6}"
   ]
  },
  {
   "cell_type": "code",
   "execution_count": 82,
   "id": "84da24d7-411b-428e-a50b-f19f707a388f",
   "metadata": {},
   "outputs": [
    {
     "data": {
      "text/plain": [
       "{3, 4}"
      ]
     },
     "execution_count": 82,
     "metadata": {},
     "output_type": "execute_result"
    }
   ],
   "source": [
    "# To see the difference between two sets\n",
    "s6.difference(s7)"
   ]
  },
  {
   "cell_type": "code",
   "execution_count": 83,
   "id": "b2a32d3f-dea7-4f23-9484-6d506b1ca2ee",
   "metadata": {},
   "outputs": [
    {
     "data": {
      "text/plain": [
       "{5, 6}"
      ]
     },
     "execution_count": 83,
     "metadata": {},
     "output_type": "execute_result"
    }
   ],
   "source": [
    "s7.difference(s6)"
   ]
  },
  {
   "cell_type": "markdown",
   "id": "e951a002-076d-4377-bf87-1562d9160b4f",
   "metadata": {},
   "source": [
    "## Dictionary"
   ]
  },
  {
   "cell_type": "code",
   "execution_count": 188,
   "id": "2e056357-28d2-49bc-b381-439f3f2f516d",
   "metadata": {},
   "outputs": [],
   "source": [
    "d = {}"
   ]
  },
  {
   "cell_type": "code",
   "execution_count": 87,
   "id": "4ab66f0c-e8cc-4feb-a150-8c34f159194c",
   "metadata": {},
   "outputs": [
    {
     "data": {
      "text/plain": [
       "dict"
      ]
     },
     "execution_count": 87,
     "metadata": {},
     "output_type": "execute_result"
    }
   ],
   "source": [
    "type(d)"
   ]
  },
  {
   "cell_type": "code",
   "execution_count": 88,
   "id": "c8f2ba96-cf13-4c4f-8b9e-81fb700bf9c7",
   "metadata": {},
   "outputs": [],
   "source": [
    "# In a dictionary we have to put a keyword for assign a value\n",
    "d1 = {\"Name\" : \"Arghya\", \"Age\" : 23, \"Blood_Group\" :\"B+\"}"
   ]
  },
  {
   "cell_type": "code",
   "execution_count": 89,
   "id": "92bde15d-4329-42bf-a84d-145bac58ad2a",
   "metadata": {},
   "outputs": [
    {
     "data": {
      "text/plain": [
       "{'Name': 'Arghya', 'Age': 23, 'Blood_Group': 'B+'}"
      ]
     },
     "execution_count": 89,
     "metadata": {},
     "output_type": "execute_result"
    }
   ],
   "source": [
    "d1"
   ]
  },
  {
   "cell_type": "code",
   "execution_count": 90,
   "id": "c1cfd35a-6cd5-4d08-88e5-5125d2198157",
   "metadata": {},
   "outputs": [
    {
     "data": {
      "text/plain": [
       "dict"
      ]
     },
     "execution_count": 90,
     "metadata": {},
     "output_type": "execute_result"
    }
   ],
   "source": [
    "type(d1)"
   ]
  },
  {
   "cell_type": "code",
   "execution_count": 93,
   "id": "52e1fa21-f3be-4252-a603-0d0c3126f025",
   "metadata": {},
   "outputs": [],
   "source": [
    "d2 = {\"Name\" : \"Arghya\", \"Name\" : \"CR7\"} # Key should be always unique else it will update the recent most value"
   ]
  },
  {
   "cell_type": "code",
   "execution_count": 94,
   "id": "ba4e0f27-b4cb-45f7-a43a-1301d047b63a",
   "metadata": {},
   "outputs": [
    {
     "data": {
      "text/plain": [
       "{'Name': 'CR7'}"
      ]
     },
     "execution_count": 94,
     "metadata": {},
     "output_type": "execute_result"
    }
   ],
   "source": [
    "d2"
   ]
  },
  {
   "cell_type": "code",
   "execution_count": 100,
   "id": "b872cac3-ff99-4546-8113-a3b22c786932",
   "metadata": {},
   "outputs": [],
   "source": [
    "d3 = {12345 : \"abc\"} # Keyword can be a integer or a float or a string or a boolean value"
   ]
  },
  {
   "cell_type": "code",
   "execution_count": 101,
   "id": "e94a98a8-ffc5-4297-a876-ab35115f7554",
   "metadata": {},
   "outputs": [
    {
     "data": {
      "text/plain": [
       "{12345: 'abc'}"
      ]
     },
     "execution_count": 101,
     "metadata": {},
     "output_type": "execute_result"
    }
   ],
   "source": [
    "d3"
   ]
  },
  {
   "cell_type": "code",
   "execution_count": 104,
   "id": "cffcaa7e-202c-4ff1-b2eb-606c2bf2b24a",
   "metadata": {},
   "outputs": [],
   "source": [
    "d4 = {12.345 : \"abc\"}"
   ]
  },
  {
   "cell_type": "code",
   "execution_count": 105,
   "id": "653dc6d6-52f5-44fc-9578-695f29bf7d48",
   "metadata": {},
   "outputs": [
    {
     "data": {
      "text/plain": [
       "{12.345: 'abc'}"
      ]
     },
     "execution_count": 105,
     "metadata": {},
     "output_type": "execute_result"
    }
   ],
   "source": [
    "d4"
   ]
  },
  {
   "cell_type": "code",
   "execution_count": 106,
   "id": "3f937972-ce06-4bae-87fa-07af494f72b7",
   "metadata": {},
   "outputs": [],
   "source": [
    "d5 = {True : \"abc\"}"
   ]
  },
  {
   "cell_type": "code",
   "execution_count": 107,
   "id": "344194d4-cc0f-4c0e-8234-9ae1a63b8063",
   "metadata": {},
   "outputs": [
    {
     "data": {
      "text/plain": [
       "{True: 'abc'}"
      ]
     },
     "execution_count": 107,
     "metadata": {},
     "output_type": "execute_result"
    }
   ],
   "source": [
    "d5"
   ]
  },
  {
   "cell_type": "code",
   "execution_count": 109,
   "id": "ba887a54-ae9f-49d6-b8f5-e081099bec71",
   "metadata": {},
   "outputs": [
    {
     "ename": "SyntaxError",
     "evalue": "invalid syntax (1264215693.py, line 1)",
     "output_type": "error",
     "traceback": [
      "\u001b[0;36m  Cell \u001b[0;32mIn[109], line 1\u001b[0;36m\u001b[0m\n\u001b[0;31m    d6 = {@ : \"abc\"}  # Dict won't allow a special character as a keyword\u001b[0m\n\u001b[0m          ^\u001b[0m\n\u001b[0;31mSyntaxError\u001b[0m\u001b[0;31m:\u001b[0m invalid syntax\n"
     ]
    }
   ],
   "source": [
    "d6 = {@ : \"abc\"}  # Dict won't allow a special character as a keyword"
   ]
  },
  {
   "cell_type": "code",
   "execution_count": 110,
   "id": "440a2aba-c85a-45e0-b660-217010325d3d",
   "metadata": {},
   "outputs": [
    {
     "ename": "TypeError",
     "evalue": "unhashable type: 'list'",
     "output_type": "error",
     "traceback": [
      "\u001b[0;31m---------------------------------------------------------------------------\u001b[0m",
      "\u001b[0;31mTypeError\u001b[0m                                 Traceback (most recent call last)",
      "Cell \u001b[0;32mIn[110], line 1\u001b[0m\n\u001b[0;32m----> 1\u001b[0m d7 \u001b[38;5;241m=\u001b[39m {[\u001b[38;5;241m1\u001b[39m,\u001b[38;5;241m2\u001b[39m,\u001b[38;5;241m3\u001b[39m] : \u001b[38;5;124m\"\u001b[39m\u001b[38;5;124mabc\u001b[39m\u001b[38;5;124m\"\u001b[39m} \u001b[38;5;66;03m# We can't take a list as a keyword\u001b[39;00m\n",
      "\u001b[0;31mTypeError\u001b[0m: unhashable type: 'list'"
     ]
    }
   ],
   "source": [
    "d7 = {[1,2,3] : \"abc\"} # We can't take a list as a keyword"
   ]
  },
  {
   "cell_type": "code",
   "execution_count": 115,
   "id": "eda87397-a04b-4acb-aab8-e3f629a3cbd1",
   "metadata": {},
   "outputs": [],
   "source": [
    "d8 = {(1,2,3) : \"abc\"} # We can take a tuple as a keyword "
   ]
  },
  {
   "cell_type": "code",
   "execution_count": 116,
   "id": "10b74eae-bb55-44ee-ab35-bbd273b91fcd",
   "metadata": {},
   "outputs": [
    {
     "data": {
      "text/plain": [
       "{(1, 2, 3): 'abc'}"
      ]
     },
     "execution_count": 116,
     "metadata": {},
     "output_type": "execute_result"
    }
   ],
   "source": [
    "d8"
   ]
  },
  {
   "cell_type": "code",
   "execution_count": 118,
   "id": "d5e80cb8-9497-45a0-ab9e-d4050fcfc318",
   "metadata": {},
   "outputs": [
    {
     "ename": "TypeError",
     "evalue": "unhashable type: 'set'",
     "output_type": "error",
     "traceback": [
      "\u001b[0;31m---------------------------------------------------------------------------\u001b[0m",
      "\u001b[0;31mTypeError\u001b[0m                                 Traceback (most recent call last)",
      "Cell \u001b[0;32mIn[118], line 1\u001b[0m\n\u001b[0;32m----> 1\u001b[0m d9 \u001b[38;5;241m=\u001b[39m {{\u001b[38;5;241m1\u001b[39m,\u001b[38;5;241m2\u001b[39m,\u001b[38;5;241m3\u001b[39m} : \u001b[38;5;124m\"\u001b[39m\u001b[38;5;124mabc\u001b[39m\u001b[38;5;124m\"\u001b[39m} \u001b[38;5;66;03m# We can't take a set as a keyword\u001b[39;00m\n",
      "\u001b[0;31mTypeError\u001b[0m: unhashable type: 'set'"
     ]
    }
   ],
   "source": [
    "d9 = {{1,2,3} : \"abc\"} # We can't take a set as a keyword"
   ]
  },
  {
   "cell_type": "code",
   "execution_count": 121,
   "id": "6ad03fa2-d6f3-4edb-90bb-81475ffb5af2",
   "metadata": {},
   "outputs": [
    {
     "ename": "TypeError",
     "evalue": "unhashable type: 'set'",
     "output_type": "error",
     "traceback": [
      "\u001b[0;31m---------------------------------------------------------------------------\u001b[0m",
      "\u001b[0;31mTypeError\u001b[0m                                 Traceback (most recent call last)",
      "Cell \u001b[0;32mIn[121], line 1\u001b[0m\n\u001b[0;32m----> 1\u001b[0m d11 \u001b[38;5;241m=\u001b[39m {{\u001b[38;5;241m1\u001b[39m,\u001b[38;5;241m2\u001b[39m,\u001b[38;5;241m3\u001b[39m} : \u001b[38;5;124m\"\u001b[39m\u001b[38;5;124mabc\u001b[39m\u001b[38;5;124m\"\u001b[39m} \u001b[38;5;66;03m# We can't take a set as a keyword\u001b[39;00m\n",
      "\u001b[0;31mTypeError\u001b[0m: unhashable type: 'set'"
     ]
    }
   ],
   "source": [
    "d11 = {{1,2,3} : \"abc\"} # We can't take a set as a keyword"
   ]
  },
  {
   "cell_type": "code",
   "execution_count": 119,
   "id": "240ef44a-b6b5-4bc4-a84c-ff2283b41bec",
   "metadata": {},
   "outputs": [
    {
     "ename": "TypeError",
     "evalue": "unhashable type: 'dict'",
     "output_type": "error",
     "traceback": [
      "\u001b[0;31m---------------------------------------------------------------------------\u001b[0m",
      "\u001b[0;31mTypeError\u001b[0m                                 Traceback (most recent call last)",
      "Cell \u001b[0;32mIn[119], line 1\u001b[0m\n\u001b[0;32m----> 1\u001b[0m d10 \u001b[38;5;241m=\u001b[39m {{\u001b[38;5;124m\"\u001b[39m\u001b[38;5;124mkey\u001b[39m\u001b[38;5;124m\"\u001b[39m:\u001b[38;5;241m625\u001b[39m} : \u001b[38;5;124m\"\u001b[39m\u001b[38;5;124mabc\u001b[39m\u001b[38;5;124m\"\u001b[39m}\n",
      "\u001b[0;31mTypeError\u001b[0m: unhashable type: 'dict'"
     ]
    }
   ],
   "source": [
    "d10 = {{\"key\":625} : \"abc\"} # We can't take a dictionary as a keyword"
   ]
  },
  {
   "cell_type": "code",
   "execution_count": 1,
   "id": "d753b21a-eea6-46a7-96ee-fec6261ee019",
   "metadata": {},
   "outputs": [],
   "source": [
    "d11 = {\"course_name\" : [\"Data Science\", \"Ai\", \"ML\"]} # We can take value as a list"
   ]
  },
  {
   "cell_type": "code",
   "execution_count": 2,
   "id": "afe611d6-9120-42bc-93eb-8ad85be1a1de",
   "metadata": {},
   "outputs": [
    {
     "data": {
      "text/plain": [
       "{'course_name': ['Data Science', 'Ai', 'ML']}"
      ]
     },
     "execution_count": 2,
     "metadata": {},
     "output_type": "execute_result"
    }
   ],
   "source": [
    "d11"
   ]
  },
  {
   "cell_type": "code",
   "execution_count": 3,
   "id": "082ea509-0863-4374-8e3a-5e4ffab9f498",
   "metadata": {},
   "outputs": [],
   "source": [
    "d12 = {'course_name': ('Data Science', 'Ai', 'ML')}  # We can take value as a tuple"
   ]
  },
  {
   "cell_type": "code",
   "execution_count": 4,
   "id": "2d0dd6c7-d228-4c9e-8010-46ab04b9d59f",
   "metadata": {},
   "outputs": [
    {
     "data": {
      "text/plain": [
       "{'course_name': ('Data Science', 'Ai', 'ML')}"
      ]
     },
     "execution_count": 4,
     "metadata": {},
     "output_type": "execute_result"
    }
   ],
   "source": [
    "d12"
   ]
  },
  {
   "cell_type": "code",
   "execution_count": 5,
   "id": "57148824-5736-4c2a-933f-807ec486e821",
   "metadata": {},
   "outputs": [],
   "source": [
    "d13 = {'course_name': {'Data Science', 'Ai', 'ML'}}    # We can take value as a set"
   ]
  },
  {
   "cell_type": "code",
   "execution_count": 6,
   "id": "8d82812e-a4ca-4f3a-9bfe-5b9ed888a9ae",
   "metadata": {},
   "outputs": [
    {
     "data": {
      "text/plain": [
       "{'course_name': {'Ai', 'Data Science', 'ML'}}"
      ]
     },
     "execution_count": 6,
     "metadata": {},
     "output_type": "execute_result"
    }
   ],
   "source": [
    "d13"
   ]
  },
  {
   "cell_type": "code",
   "execution_count": 44,
   "id": "2b69f05d-109f-4b8b-befc-6572d3550d0e",
   "metadata": {},
   "outputs": [],
   "source": [
    "# We can take value as a dictionary \n",
    "## Nested Dictionary\n",
    "d14 = {\"Key\" : {\"Name\" : \"Arghya\", \"Class\" : \"Data Science Masters\"}, \"Age\" : 23}"
   ]
  },
  {
   "cell_type": "code",
   "execution_count": 45,
   "id": "961ebdbd-02cd-45b8-b5bb-763520eeb205",
   "metadata": {},
   "outputs": [
    {
     "data": {
      "text/plain": [
       "{'Key': {'Name': 'Arghya', 'Class': 'Data Science Masters'}, 'Age': 23}"
      ]
     },
     "execution_count": 45,
     "metadata": {},
     "output_type": "execute_result"
    }
   ],
   "source": [
    "d14"
   ]
  },
  {
   "cell_type": "code",
   "execution_count": 140,
   "id": "2fc70f3c-f82b-44cb-b014-17480ccffa00",
   "metadata": {},
   "outputs": [],
   "source": [
    "# List, Tuples, Set inside a dictionary\n",
    "d15 = {\"Name\" : [\"Arghya\", \"Himaghna\", \"Subham\"], \"Age\" : (23, 24, 22), \"Profession\" : {\"Job\", \"Business\", \"Social Work\"}}"
   ]
  },
  {
   "cell_type": "code",
   "execution_count": 141,
   "id": "6d7abc57-1a04-46f7-8cc0-d645b6925109",
   "metadata": {},
   "outputs": [
    {
     "data": {
      "text/plain": [
       "{'Name': ['Arghya', 'Himaghna', 'Subham'],\n",
       " 'Age': (23, 24, 22),\n",
       " 'Profession': {'Business', 'Job', 'Social Work'}}"
      ]
     },
     "execution_count": 141,
     "metadata": {},
     "output_type": "execute_result"
    }
   ],
   "source": [
    "d15"
   ]
  },
  {
   "cell_type": "code",
   "execution_count": 142,
   "id": "b0e9905b-229e-4201-9bad-561b2e799ce5",
   "metadata": {},
   "outputs": [],
   "source": [
    "# Insert a new key and a value \n",
    "d15[\"Experience\"] = {\"DS\" : \"1 year\", \"Tea Business\" : \"5 years\", \"NGO\" : \"3 years\"}"
   ]
  },
  {
   "cell_type": "code",
   "execution_count": 143,
   "id": "809bb209-3c21-4f24-bd31-675cf81dc876",
   "metadata": {},
   "outputs": [
    {
     "data": {
      "text/plain": [
       "{'Name': ['Arghya', 'Himaghna', 'Subham'],\n",
       " 'Age': (23, 24, 22),\n",
       " 'Profession': {'Business', 'Job', 'Social Work'},\n",
       " 'Experience': {'DS': '1 year', 'Tea Business': '5 years', 'NGO': '3 years'}}"
      ]
     },
     "execution_count": 143,
     "metadata": {},
     "output_type": "execute_result"
    }
   ],
   "source": [
    "d15"
   ]
  },
  {
   "cell_type": "code",
   "execution_count": 144,
   "id": "311b4661-e6ba-4771-8568-6a569ff6c505",
   "metadata": {},
   "outputs": [
    {
     "data": {
      "text/plain": [
       "['Arghya', 'Himaghna', 'Subham']"
      ]
     },
     "execution_count": 144,
     "metadata": {},
     "output_type": "execute_result"
    }
   ],
   "source": [
    "# Extracting a data\n",
    "d15[\"Name\"]"
   ]
  },
  {
   "cell_type": "code",
   "execution_count": 145,
   "id": "77dd2a34-93d7-4397-8b1b-252ae509aeff",
   "metadata": {},
   "outputs": [
    {
     "data": {
      "text/plain": [
       "list"
      ]
     },
     "execution_count": 145,
     "metadata": {},
     "output_type": "execute_result"
    }
   ],
   "source": [
    "type(d15[\"Name\"])"
   ]
  },
  {
   "cell_type": "code",
   "execution_count": 146,
   "id": "6564e5da-5142-4da0-b1c9-4bf765f937ac",
   "metadata": {},
   "outputs": [
    {
     "data": {
      "text/plain": [
       "'Arghya'"
      ]
     },
     "execution_count": 146,
     "metadata": {},
     "output_type": "execute_result"
    }
   ],
   "source": [
    "d15[\"Name\"][0]"
   ]
  },
  {
   "cell_type": "code",
   "execution_count": 147,
   "id": "a1cc17d0-dcf4-413c-9550-387d4594d2b7",
   "metadata": {},
   "outputs": [
    {
     "data": {
      "text/plain": [
       "(23, 24, 22)"
      ]
     },
     "execution_count": 147,
     "metadata": {},
     "output_type": "execute_result"
    }
   ],
   "source": [
    "d15[\"Age\"]"
   ]
  },
  {
   "cell_type": "code",
   "execution_count": 148,
   "id": "70bf7c95-f252-42c4-ac6e-c2ac87001292",
   "metadata": {},
   "outputs": [
    {
     "data": {
      "text/plain": [
       "tuple"
      ]
     },
     "execution_count": 148,
     "metadata": {},
     "output_type": "execute_result"
    }
   ],
   "source": [
    "type(d15[\"Age\"])"
   ]
  },
  {
   "cell_type": "code",
   "execution_count": 149,
   "id": "b61e3db4-04c4-4c52-b671-09a499ed226e",
   "metadata": {},
   "outputs": [
    {
     "data": {
      "text/plain": [
       "{'Business', 'Job', 'Social Work'}"
      ]
     },
     "execution_count": 149,
     "metadata": {},
     "output_type": "execute_result"
    }
   ],
   "source": [
    "d15[\"Profession\"]"
   ]
  },
  {
   "cell_type": "code",
   "execution_count": 150,
   "id": "66bea41f-2858-4c56-8b0d-e48afd7cd223",
   "metadata": {},
   "outputs": [
    {
     "data": {
      "text/plain": [
       "set"
      ]
     },
     "execution_count": 150,
     "metadata": {},
     "output_type": "execute_result"
    }
   ],
   "source": [
    "type(d15[\"Profession\"])"
   ]
  },
  {
   "cell_type": "code",
   "execution_count": 151,
   "id": "291aec76-f3cc-417e-86e0-dde810e85305",
   "metadata": {},
   "outputs": [
    {
     "data": {
      "text/plain": [
       "{'DS': '1 year', 'Tea Business': '5 years', 'NGO': '3 years'}"
      ]
     },
     "execution_count": 151,
     "metadata": {},
     "output_type": "execute_result"
    }
   ],
   "source": [
    "d15[\"Experience\"]"
   ]
  },
  {
   "cell_type": "code",
   "execution_count": 152,
   "id": "252ced45-847a-41c7-9692-03aa51af3b04",
   "metadata": {},
   "outputs": [
    {
     "data": {
      "text/plain": [
       "dict"
      ]
     },
     "execution_count": 152,
     "metadata": {},
     "output_type": "execute_result"
    }
   ],
   "source": [
    "type(d15[\"Experience\"])"
   ]
  },
  {
   "cell_type": "code",
   "execution_count": 153,
   "id": "df7effbb-5e36-4268-a8c3-f55034e50c19",
   "metadata": {},
   "outputs": [],
   "source": [
    "d15[\"Country\"] = \"india\""
   ]
  },
  {
   "cell_type": "code",
   "execution_count": 154,
   "id": "36ac7c97-e705-47cc-8e04-c008049a844c",
   "metadata": {},
   "outputs": [
    {
     "data": {
      "text/plain": [
       "{'Name': ['Arghya', 'Himaghna', 'Subham'],\n",
       " 'Age': (23, 24, 22),\n",
       " 'Profession': {'Business', 'Job', 'Social Work'},\n",
       " 'Experience': {'DS': '1 year', 'Tea Business': '5 years', 'NGO': '3 years'},\n",
       " 'Country': 'india'}"
      ]
     },
     "execution_count": 154,
     "metadata": {},
     "output_type": "execute_result"
    }
   ],
   "source": [
    "d15"
   ]
  },
  {
   "cell_type": "code",
   "execution_count": 155,
   "id": "66045b08-416b-4ae8-8d92-0c2c982d2fd0",
   "metadata": {},
   "outputs": [
    {
     "data": {
      "text/plain": [
       "'INDIA'"
      ]
     },
     "execution_count": 155,
     "metadata": {},
     "output_type": "execute_result"
    }
   ],
   "source": [
    "d15[\"Country\"].upper()"
   ]
  },
  {
   "cell_type": "code",
   "execution_count": 156,
   "id": "b2bf895a-1203-4e4e-8f36-f792257bb2cc",
   "metadata": {},
   "outputs": [
    {
     "data": {
      "text/plain": [
       "'3 years'"
      ]
     },
     "execution_count": 156,
     "metadata": {},
     "output_type": "execute_result"
    }
   ],
   "source": [
    "d15[\"Experience\"][\"NGO\"] # To access the element inside the dic inside the main dict"
   ]
  },
  {
   "cell_type": "code",
   "execution_count": 157,
   "id": "aacb752a-f3f6-4f7d-8a99-7320a9d24f1b",
   "metadata": {},
   "outputs": [
    {
     "data": {
      "text/plain": [
       "str"
      ]
     },
     "execution_count": 157,
     "metadata": {},
     "output_type": "execute_result"
    }
   ],
   "source": [
    "type(d15[\"Experience\"][\"NGO\"])"
   ]
  },
  {
   "cell_type": "code",
   "execution_count": 158,
   "id": "82913aa5-7bf1-4cba-bfd1-3a5f6c748ebd",
   "metadata": {},
   "outputs": [],
   "source": [
    "d15[\"Key\"] = \"abc\""
   ]
  },
  {
   "cell_type": "code",
   "execution_count": 159,
   "id": "63e1114b-b5ec-49ca-8f76-c5293e075538",
   "metadata": {},
   "outputs": [
    {
     "data": {
      "text/plain": [
       "{'Name': ['Arghya', 'Himaghna', 'Subham'],\n",
       " 'Age': (23, 24, 22),\n",
       " 'Profession': {'Business', 'Job', 'Social Work'},\n",
       " 'Experience': {'DS': '1 year', 'Tea Business': '5 years', 'NGO': '3 years'},\n",
       " 'Country': 'india',\n",
       " 'Key': 'abc'}"
      ]
     },
     "execution_count": 159,
     "metadata": {},
     "output_type": "execute_result"
    }
   ],
   "source": [
    "d15"
   ]
  },
  {
   "cell_type": "code",
   "execution_count": 160,
   "id": "deebcf8c-c4b3-4ce5-95bd-ae79f1174c33",
   "metadata": {},
   "outputs": [],
   "source": [
    "# To delete a key word with its value\n",
    "del d15[\"Key\"]"
   ]
  },
  {
   "cell_type": "code",
   "execution_count": 161,
   "id": "3bba8796-aa5b-4f65-99fe-530fea958dc4",
   "metadata": {},
   "outputs": [
    {
     "data": {
      "text/plain": [
       "{'Name': ['Arghya', 'Himaghna', 'Subham'],\n",
       " 'Age': (23, 24, 22),\n",
       " 'Profession': {'Business', 'Job', 'Social Work'},\n",
       " 'Experience': {'DS': '1 year', 'Tea Business': '5 years', 'NGO': '3 years'},\n",
       " 'Country': 'india'}"
      ]
     },
     "execution_count": 161,
     "metadata": {},
     "output_type": "execute_result"
    }
   ],
   "source": [
    "d15"
   ]
  },
  {
   "cell_type": "code",
   "execution_count": 162,
   "id": "7dc97444-2d62-40e1-9008-a356c057fabf",
   "metadata": {},
   "outputs": [],
   "source": [
    "del d15[\"Experience\"][\"NGO\"] "
   ]
  },
  {
   "cell_type": "code",
   "execution_count": 163,
   "id": "9ea7ef4a-b63e-4382-8c16-58f9c16f921a",
   "metadata": {},
   "outputs": [
    {
     "data": {
      "text/plain": [
       "{'Name': ['Arghya', 'Himaghna', 'Subham'],\n",
       " 'Age': (23, 24, 22),\n",
       " 'Profession': {'Business', 'Job', 'Social Work'},\n",
       " 'Experience': {'DS': '1 year', 'Tea Business': '5 years'},\n",
       " 'Country': 'india'}"
      ]
     },
     "execution_count": 163,
     "metadata": {},
     "output_type": "execute_result"
    }
   ],
   "source": [
    "d15"
   ]
  },
  {
   "cell_type": "code",
   "execution_count": 164,
   "id": "ad0b891c-e4fc-421f-a34c-605af9247977",
   "metadata": {},
   "outputs": [
    {
     "ename": "TypeError",
     "evalue": "'set' object does not support item deletion",
     "output_type": "error",
     "traceback": [
      "\u001b[0;31m---------------------------------------------------------------------------\u001b[0m",
      "\u001b[0;31mTypeError\u001b[0m                                 Traceback (most recent call last)",
      "Cell \u001b[0;32mIn[164], line 1\u001b[0m\n\u001b[0;32m----> 1\u001b[0m \u001b[38;5;28;01mdel\u001b[39;00m d15[\u001b[38;5;124m\"\u001b[39m\u001b[38;5;124mProfession\u001b[39m\u001b[38;5;124m\"\u001b[39m][\u001b[38;5;124m\"\u001b[39m\u001b[38;5;124mSocial Work\u001b[39m\u001b[38;5;124m\"\u001b[39m] \n",
      "\u001b[0;31mTypeError\u001b[0m: 'set' object does not support item deletion"
     ]
    }
   ],
   "source": [
    "del d15[\"Profession\"][\"Social Work\"] "
   ]
  },
  {
   "cell_type": "code",
   "execution_count": 165,
   "id": "20c49b2d-8611-47da-acf4-83e3ffbf36c8",
   "metadata": {},
   "outputs": [
    {
     "ename": "TypeError",
     "evalue": "'tuple' object doesn't support item deletion",
     "output_type": "error",
     "traceback": [
      "\u001b[0;31m---------------------------------------------------------------------------\u001b[0m",
      "\u001b[0;31mTypeError\u001b[0m                                 Traceback (most recent call last)",
      "Cell \u001b[0;32mIn[165], line 1\u001b[0m\n\u001b[0;32m----> 1\u001b[0m \u001b[38;5;28;01mdel\u001b[39;00m d15[\u001b[38;5;124m\"\u001b[39m\u001b[38;5;124mAge\u001b[39m\u001b[38;5;124m\"\u001b[39m][\u001b[38;5;241m22\u001b[39m] \n",
      "\u001b[0;31mTypeError\u001b[0m: 'tuple' object doesn't support item deletion"
     ]
    }
   ],
   "source": [
    "del d15[\"Age\"][22] "
   ]
  },
  {
   "cell_type": "code",
   "execution_count": 166,
   "id": "fedfe8f4-e207-4a1f-8358-242c16dfbdc4",
   "metadata": {},
   "outputs": [
    {
     "data": {
      "text/plain": [
       "5"
      ]
     },
     "execution_count": 166,
     "metadata": {},
     "output_type": "execute_result"
    }
   ],
   "source": [
    "len(d15)"
   ]
  },
  {
   "cell_type": "code",
   "execution_count": 167,
   "id": "ea71d7e8-c96d-400a-8fc5-510983b9b580",
   "metadata": {},
   "outputs": [
    {
     "data": {
      "text/plain": [
       "dict_keys(['Name', 'Age', 'Profession', 'Experience', 'Country'])"
      ]
     },
     "execution_count": 167,
     "metadata": {},
     "output_type": "execute_result"
    }
   ],
   "source": [
    "d15.keys() # To know the all keyword "
   ]
  },
  {
   "cell_type": "code",
   "execution_count": 168,
   "id": "9ccc08a7-1a90-4e5c-80b1-fd4e3eccb838",
   "metadata": {},
   "outputs": [
    {
     "data": {
      "text/plain": [
       "dict_values([['Arghya', 'Himaghna', 'Subham'], (23, 24, 22), {'Job', 'Business', 'Social Work'}, {'DS': '1 year', 'Tea Business': '5 years'}, 'india'])"
      ]
     },
     "execution_count": 168,
     "metadata": {},
     "output_type": "execute_result"
    }
   ],
   "source": [
    "d15.values() # To know the all the values"
   ]
  },
  {
   "cell_type": "code",
   "execution_count": 169,
   "id": "89c6124f-3671-48af-8802-c8661405e0fa",
   "metadata": {},
   "outputs": [
    {
     "data": {
      "text/plain": [
       "[['Arghya', 'Himaghna', 'Subham'],\n",
       " (23, 24, 22),\n",
       " {'Business', 'Job', 'Social Work'},\n",
       " {'DS': '1 year', 'Tea Business': '5 years'},\n",
       " 'india']"
      ]
     },
     "execution_count": 169,
     "metadata": {},
     "output_type": "execute_result"
    }
   ],
   "source": [
    "list(d15.values())"
   ]
  },
  {
   "cell_type": "code",
   "execution_count": 170,
   "id": "28c705b3-8380-46c6-ac83-0f13dda1abc0",
   "metadata": {},
   "outputs": [
    {
     "data": {
      "text/plain": [
       "['Name', 'Age', 'Profession', 'Experience', 'Country']"
      ]
     },
     "execution_count": 170,
     "metadata": {},
     "output_type": "execute_result"
    }
   ],
   "source": [
    "list(d15.keys())"
   ]
  },
  {
   "cell_type": "code",
   "execution_count": 171,
   "id": "60c5c405-a3c3-425f-9467-06aebdd75a73",
   "metadata": {},
   "outputs": [
    {
     "data": {
      "text/plain": [
       "dict_items([('Name', ['Arghya', 'Himaghna', 'Subham']), ('Age', (23, 24, 22)), ('Profession', {'Job', 'Business', 'Social Work'}), ('Experience', {'DS': '1 year', 'Tea Business': '5 years'}), ('Country', 'india')])"
      ]
     },
     "execution_count": 171,
     "metadata": {},
     "output_type": "execute_result"
    }
   ],
   "source": [
    "d15.items() # To extract key and value pair both"
   ]
  },
  {
   "cell_type": "code",
   "execution_count": 172,
   "id": "0fe0e8d3-9a1c-4fdd-bb93-b9c76a593030",
   "metadata": {},
   "outputs": [
    {
     "data": {
      "text/plain": [
       "[('Name', ['Arghya', 'Himaghna', 'Subham']),\n",
       " ('Age', (23, 24, 22)),\n",
       " ('Profession', {'Business', 'Job', 'Social Work'}),\n",
       " ('Experience', {'DS': '1 year', 'Tea Business': '5 years'}),\n",
       " ('Country', 'india')]"
      ]
     },
     "execution_count": 172,
     "metadata": {},
     "output_type": "execute_result"
    }
   ],
   "source": [
    "list(d15.items())"
   ]
  },
  {
   "cell_type": "code",
   "execution_count": 173,
   "id": "f009359a-5abb-4344-9aea-85f676f44cfd",
   "metadata": {},
   "outputs": [],
   "source": [
    "# To make a copy \n",
    "d16 = d15.copy()  # Make a deep copy"
   ]
  },
  {
   "cell_type": "code",
   "execution_count": 174,
   "id": "cf7920e9-3db4-4963-9345-8f8c0966b8e4",
   "metadata": {},
   "outputs": [
    {
     "data": {
      "text/plain": [
       "{'Name': ['Arghya', 'Himaghna', 'Subham'],\n",
       " 'Age': (23, 24, 22),\n",
       " 'Profession': {'Business', 'Job', 'Social Work'},\n",
       " 'Experience': {'DS': '1 year', 'Tea Business': '5 years'},\n",
       " 'Country': 'india'}"
      ]
     },
     "execution_count": 174,
     "metadata": {},
     "output_type": "execute_result"
    }
   ],
   "source": [
    "d16"
   ]
  },
  {
   "cell_type": "raw",
   "id": "ab2369f5-30e8-4141-ad18-8f538c5d8c88",
   "metadata": {},
   "source": [
    "Copy method: if you are going to change something on a dictionary it will not impact other dictionary. But in normal copy method will impact others"
   ]
  },
  {
   "cell_type": "code",
   "execution_count": 175,
   "id": "40ef4490-ddef-440d-a60b-5f86bbb8c2ee",
   "metadata": {},
   "outputs": [],
   "source": [
    "del d15[\"Country\"]"
   ]
  },
  {
   "cell_type": "code",
   "execution_count": 176,
   "id": "dce3bdf0-6ee1-4a72-9f8f-c0e9bed2f1f5",
   "metadata": {},
   "outputs": [
    {
     "data": {
      "text/plain": [
       "{'Name': ['Arghya', 'Himaghna', 'Subham'],\n",
       " 'Age': (23, 24, 22),\n",
       " 'Profession': {'Business', 'Job', 'Social Work'},\n",
       " 'Experience': {'DS': '1 year', 'Tea Business': '5 years'}}"
      ]
     },
     "execution_count": 176,
     "metadata": {},
     "output_type": "execute_result"
    }
   ],
   "source": [
    "d15"
   ]
  },
  {
   "cell_type": "code",
   "execution_count": 177,
   "id": "df267246-772f-4653-8d17-1864c0e37f85",
   "metadata": {},
   "outputs": [
    {
     "data": {
      "text/plain": [
       "{'Name': ['Arghya', 'Himaghna', 'Subham'],\n",
       " 'Age': (23, 24, 22),\n",
       " 'Profession': {'Business', 'Job', 'Social Work'},\n",
       " 'Experience': {'DS': '1 year', 'Tea Business': '5 years'},\n",
       " 'Country': 'india'}"
      ]
     },
     "execution_count": 177,
     "metadata": {},
     "output_type": "execute_result"
    }
   ],
   "source": [
    "d16"
   ]
  },
  {
   "cell_type": "code",
   "execution_count": 178,
   "id": "c17a9dec-1dcb-48af-852b-0d4424c3c043",
   "metadata": {},
   "outputs": [],
   "source": [
    " d17 = d16 # It's also a copy process but it's not a deep copy i.e, a shallow copy"
   ]
  },
  {
   "cell_type": "code",
   "execution_count": 179,
   "id": "49752cc6-fa1b-4974-bc23-7e81d7eae53d",
   "metadata": {},
   "outputs": [
    {
     "data": {
      "text/plain": [
       "{'Name': ['Arghya', 'Himaghna', 'Subham'],\n",
       " 'Age': (23, 24, 22),\n",
       " 'Profession': {'Business', 'Job', 'Social Work'},\n",
       " 'Experience': {'DS': '1 year', 'Tea Business': '5 years'},\n",
       " 'Country': 'india'}"
      ]
     },
     "execution_count": 179,
     "metadata": {},
     "output_type": "execute_result"
    }
   ],
   "source": [
    "d17"
   ]
  },
  {
   "cell_type": "code",
   "execution_count": 180,
   "id": "97c59c02-16f8-430c-b335-1da996ca01d2",
   "metadata": {},
   "outputs": [],
   "source": [
    " del d16[\"Country\"]"
   ]
  },
  {
   "cell_type": "code",
   "execution_count": 181,
   "id": "3001fd70-63a9-4db3-8aa8-ef24becedbd9",
   "metadata": {},
   "outputs": [
    {
     "data": {
      "text/plain": [
       "{'Name': ['Arghya', 'Himaghna', 'Subham'],\n",
       " 'Age': (23, 24, 22),\n",
       " 'Profession': {'Business', 'Job', 'Social Work'},\n",
       " 'Experience': {'DS': '1 year', 'Tea Business': '5 years'}}"
      ]
     },
     "execution_count": 181,
     "metadata": {},
     "output_type": "execute_result"
    }
   ],
   "source": [
    "d16"
   ]
  },
  {
   "cell_type": "code",
   "execution_count": 182,
   "id": "ff85a3a3-b737-4b69-903e-4759f94b1b65",
   "metadata": {},
   "outputs": [
    {
     "data": {
      "text/plain": [
       "{'Name': ['Arghya', 'Himaghna', 'Subham'],\n",
       " 'Age': (23, 24, 22),\n",
       " 'Profession': {'Business', 'Job', 'Social Work'},\n",
       " 'Experience': {'DS': '1 year', 'Tea Business': '5 years'}}"
      ]
     },
     "execution_count": 182,
     "metadata": {},
     "output_type": "execute_result"
    }
   ],
   "source": [
    "d17 # Changing in d16 will impact the result of d17"
   ]
  },
  {
   "cell_type": "code",
   "execution_count": 183,
   "id": "6761e775-2f24-479b-8b21-f73db6a3da94",
   "metadata": {},
   "outputs": [
    {
     "ename": "TypeError",
     "evalue": "pop expected at least 1 argument, got 0",
     "output_type": "error",
     "traceback": [
      "\u001b[0;31m---------------------------------------------------------------------------\u001b[0m",
      "\u001b[0;31mTypeError\u001b[0m                                 Traceback (most recent call last)",
      "Cell \u001b[0;32mIn[183], line 1\u001b[0m\n\u001b[0;32m----> 1\u001b[0m \u001b[43md16\u001b[49m\u001b[38;5;241;43m.\u001b[39;49m\u001b[43mpop\u001b[49m\u001b[43m(\u001b[49m\u001b[43m)\u001b[49m\n",
      "\u001b[0;31mTypeError\u001b[0m: pop expected at least 1 argument, got 0"
     ]
    }
   ],
   "source": [
    "d16.pop()"
   ]
  },
  {
   "cell_type": "code",
   "execution_count": 184,
   "id": "d3f68fa5-ee02-4fd1-8204-72e9d4ac6fe1",
   "metadata": {},
   "outputs": [
    {
     "data": {
      "text/plain": [
       "{'DS': '1 year', 'Tea Business': '5 years'}"
      ]
     },
     "execution_count": 184,
     "metadata": {},
     "output_type": "execute_result"
    }
   ],
   "source": [
    "d16.pop(\"Experience\") # To remove an key with value"
   ]
  },
  {
   "cell_type": "code",
   "execution_count": 185,
   "id": "e4808e34-b1c6-47ed-afe1-b2ff5337114c",
   "metadata": {},
   "outputs": [
    {
     "data": {
      "text/plain": [
       "{'Name': ['Arghya', 'Himaghna', 'Subham'],\n",
       " 'Age': (23, 24, 22),\n",
       " 'Profession': {'Business', 'Job', 'Social Work'}}"
      ]
     },
     "execution_count": 185,
     "metadata": {},
     "output_type": "execute_result"
    }
   ],
   "source": [
    "d16"
   ]
  },
  {
   "cell_type": "code",
   "execution_count": 221,
   "id": "813f169a-c6c6-487b-9864-3768d28dfdf5",
   "metadata": {},
   "outputs": [],
   "source": [
    "D1 = {}\n",
    "D2 = D.fromkeys((1,2,3),('x', 'y', 'z')) # It helps to create a dictionary"
   ]
  },
  {
   "cell_type": "code",
   "execution_count": 222,
   "id": "c6927872-85aa-4a47-a0d8-413d0b322dee",
   "metadata": {},
   "outputs": [
    {
     "data": {
      "text/plain": [
       "{1: ('x', 'y', 'z'), 2: ('x', 'y', 'z'), 3: ('x', 'y', 'z')}"
      ]
     },
     "execution_count": 222,
     "metadata": {},
     "output_type": "execute_result"
    }
   ],
   "source": [
    "D2"
   ]
  },
  {
   "cell_type": "code",
   "execution_count": 210,
   "id": "c462be54-6e5e-4490-88f4-a35a52493b00",
   "metadata": {},
   "outputs": [],
   "source": [
    "D3 = {}\n",
    "D4 = D3.fromkeys(('a', 'b', 'c'),(4, 5, 6))"
   ]
  },
  {
   "cell_type": "code",
   "execution_count": 211,
   "id": "f64d60c1-459c-4e46-a009-5f57d56b4173",
   "metadata": {},
   "outputs": [
    {
     "data": {
      "text/plain": [
       "{'a': (4, 5, 6), 'b': (4, 5, 6), 'c': (4, 5, 6)}"
      ]
     },
     "execution_count": 211,
     "metadata": {},
     "output_type": "execute_result"
    }
   ],
   "source": [
    "D4"
   ]
  },
  {
   "cell_type": "code",
   "execution_count": 213,
   "id": "54102842-9478-4e1c-aa9c-56ef0efba84f",
   "metadata": {},
   "outputs": [
    {
     "data": {
      "text/plain": [
       "({1: ('x', 'y', 'z'), 2: ('x', 'y', 'z'), 3: ('x', 'y', 'z')},\n",
       " {'a': (4, 5, 6), 'b': (4, 5, 6), 'c': (4, 5, 6)})"
      ]
     },
     "execution_count": 213,
     "metadata": {},
     "output_type": "execute_result"
    }
   ],
   "source": [
    "(D2,D4) # Dictionaries inside Tuple"
   ]
  },
  {
   "cell_type": "code",
   "execution_count": 215,
   "id": "e3c33702-e95c-42fa-a555-7e4bf0e755e0",
   "metadata": {},
   "outputs": [
    {
     "ename": "TypeError",
     "evalue": "list expected at most 1 argument, got 2",
     "output_type": "error",
     "traceback": [
      "\u001b[0;31m---------------------------------------------------------------------------\u001b[0m",
      "\u001b[0;31mTypeError\u001b[0m                                 Traceback (most recent call last)",
      "Cell \u001b[0;32mIn[215], line 1\u001b[0m\n\u001b[0;32m----> 1\u001b[0m \u001b[38;5;28;43mlist\u001b[39;49m\u001b[43m(\u001b[49m\u001b[43mD2\u001b[49m\u001b[43m,\u001b[49m\u001b[43mD4\u001b[49m\u001b[43m)\u001b[49m\n",
      "\u001b[0;31mTypeError\u001b[0m: list expected at most 1 argument, got 2"
     ]
    }
   ],
   "source": [
    "list(D2,D4)"
   ]
  },
  {
   "cell_type": "code",
   "execution_count": 216,
   "id": "4d2c2a1a-2e6e-49cb-ba1e-ce3cf96915e9",
   "metadata": {},
   "outputs": [],
   "source": [
    "d18 = {\"Key1\" : \"Value1\",\"Key2\" : \"Value2\"}\n",
    "d19 = {\"Key3\" : \"Value3\",\"Key4\" : \"Value4\"}"
   ]
  },
  {
   "cell_type": "code",
   "execution_count": 223,
   "id": "0dc9e28e-10bd-45ba-bef3-f666d173e4c8",
   "metadata": {},
   "outputs": [
    {
     "data": {
      "text/plain": [
       "({'Key1': 'Value1', 'Key2': 'Value2'}, {'Key3': 'Value3', 'Key4': 'Value4'})"
      ]
     },
     "execution_count": 223,
     "metadata": {},
     "output_type": "execute_result"
    }
   ],
   "source": [
    "(d18,d19) # Dictionaries inside Tuple"
   ]
  },
  {
   "cell_type": "code",
   "execution_count": 229,
   "id": "3e8fff93-b9f0-4a0b-a8bc-cf2166b5b589",
   "metadata": {},
   "outputs": [],
   "source": [
    "d18.update(d19) # To update a dictionary with the help of another one"
   ]
  },
  {
   "cell_type": "code",
   "execution_count": 230,
   "id": "670c1b1a-7712-452f-b45f-d84a4bcf5681",
   "metadata": {},
   "outputs": [
    {
     "data": {
      "text/plain": [
       "{'Key1': 'Value1', 'Key2': 'Value2', 'Key3': 'Value3', 'Key4': 'Value4'}"
      ]
     },
     "execution_count": 230,
     "metadata": {},
     "output_type": "execute_result"
    }
   ],
   "source": [
    "d18"
   ]
  },
  {
   "cell_type": "code",
   "execution_count": 227,
   "id": "a5167ec5-12cc-4029-a2a0-def89a7839e0",
   "metadata": {},
   "outputs": [],
   "source": [
    "d19.update(d18)"
   ]
  },
  {
   "cell_type": "code",
   "execution_count": 228,
   "id": "a216aeab-7dfa-4e13-8e49-7a30e4c6af9b",
   "metadata": {},
   "outputs": [
    {
     "data": {
      "text/plain": [
       "{'Key3': 'Value3', 'Key4': 'Value4', 'Key1': 'Value1', 'Key2': 'Value2'}"
      ]
     },
     "execution_count": 228,
     "metadata": {},
     "output_type": "execute_result"
    }
   ],
   "source": [
    "d19"
   ]
  },
  {
   "cell_type": "code",
   "execution_count": 233,
   "id": "0626b217-bdbd-4b53-b92b-ebfa7764d61e",
   "metadata": {},
   "outputs": [
    {
     "data": {
      "text/plain": [
       "'Value1'"
      ]
     },
     "execution_count": 233,
     "metadata": {},
     "output_type": "execute_result"
    }
   ],
   "source": [
    "d19.get(\"Key1\") # To get a value of a specific keyword"
   ]
  },
  {
   "cell_type": "code",
   "execution_count": 236,
   "id": "b1b95ea6-a2fb-4d7e-9828-fe8f3a9a3488",
   "metadata": {},
   "outputs": [],
   "source": [
    "d19.get(\"Key7\") # if the key exists it will return the value else it will return nothing.  "
   ]
  },
  {
   "cell_type": "code",
   "execution_count": 237,
   "id": "3f731d08-74c8-45a9-ba33-2be636d2ec52",
   "metadata": {},
   "outputs": [
    {
     "data": {
      "text/plain": [
       "'Value2'"
      ]
     },
     "execution_count": 237,
     "metadata": {},
     "output_type": "execute_result"
    }
   ],
   "source": [
    "d19[\"Key2\"]  # It will also give the same output like get function"
   ]
  },
  {
   "cell_type": "code",
   "execution_count": 238,
   "id": "9eb0bf3e-ee0f-4883-aa04-5587538a285b",
   "metadata": {},
   "outputs": [
    {
     "ename": "KeyError",
     "evalue": "'Key7'",
     "output_type": "error",
     "traceback": [
      "\u001b[0;31m---------------------------------------------------------------------------\u001b[0m",
      "\u001b[0;31mKeyError\u001b[0m                                  Traceback (most recent call last)",
      "Cell \u001b[0;32mIn[238], line 1\u001b[0m\n\u001b[0;32m----> 1\u001b[0m \u001b[43md19\u001b[49m\u001b[43m[\u001b[49m\u001b[38;5;124;43m\"\u001b[39;49m\u001b[38;5;124;43mKey7\u001b[39;49m\u001b[38;5;124;43m\"\u001b[39;49m\u001b[43m]\u001b[49m \u001b[38;5;66;03m# Unlike get function it will give an error.\u001b[39;00m\n",
      "\u001b[0;31mKeyError\u001b[0m: 'Key7'"
     ]
    }
   ],
   "source": [
    "d19[\"Key7\"] # Unlike get function it will give an error."
   ]
  },
  {
   "cell_type": "code",
   "execution_count": 235,
   "id": "fa28e816-1734-490d-8b56-7bdea9e88bb1",
   "metadata": {},
   "outputs": [
    {
     "data": {
      "text/plain": [
       "['Arghya', 'Himaghna', 'Subham']"
      ]
     },
     "execution_count": 235,
     "metadata": {},
     "output_type": "execute_result"
    }
   ],
   "source": [
    "d15.get(\"Name\")"
   ]
  },
  {
   "cell_type": "code",
   "execution_count": 239,
   "id": "ea5fbc3b-e1e7-4225-90d8-b40d17588b1f",
   "metadata": {},
   "outputs": [
    {
     "data": {
      "text/plain": [
       "['Arghya', 'Himaghna', 'Subham']"
      ]
     },
     "execution_count": 239,
     "metadata": {},
     "output_type": "execute_result"
    }
   ],
   "source": [
    "d15[\"Name\"]"
   ]
  },
  {
   "cell_type": "code",
   "execution_count": 266,
   "id": "25c230cc-50d4-49d1-82fb-8b65f34d8b9f",
   "metadata": {},
   "outputs": [],
   "source": [
    "d15.clear() # To clear all elements in dictionary"
   ]
  },
  {
   "cell_type": "code",
   "execution_count": 267,
   "id": "b5e4c3cb-1b2a-4455-aec1-c04526f46b84",
   "metadata": {},
   "outputs": [
    {
     "data": {
      "text/plain": [
       "{}"
      ]
     },
     "execution_count": 267,
     "metadata": {},
     "output_type": "execute_result"
    }
   ],
   "source": [
    "d15"
   ]
  },
  {
   "cell_type": "code",
   "execution_count": 268,
   "id": "64d2add5-42d8-43e9-863f-b09a4e909a39",
   "metadata": {},
   "outputs": [
    {
     "data": {
      "text/plain": [
       "0"
      ]
     },
     "execution_count": 268,
     "metadata": {},
     "output_type": "execute_result"
    }
   ],
   "source": [
    "len(d15)"
   ]
  },
  {
   "cell_type": "markdown",
   "id": "ec8087b8-4a0a-4a2a-84ce-134c1a988479",
   "metadata": {},
   "source": [
    "#### Dictionary Comprehension"
   ]
  },
  {
   "cell_type": "code",
   "execution_count": 243,
   "id": "69fb8a59-906c-4862-b3fc-49f5fc433921",
   "metadata": {},
   "outputs": [
    {
     "data": {
      "text/plain": [
       "{1: 1, 2: 4, 3: 9, 4: 16, 5: 25, 6: 36, 7: 49, 8: 64, 9: 81, 10: 100}"
      ]
     },
     "execution_count": 243,
     "metadata": {},
     "output_type": "execute_result"
    }
   ],
   "source": [
    "{i : i**2 for i in range(1,11)}"
   ]
  },
  {
   "cell_type": "code",
   "execution_count": 242,
   "id": "31f15425-d1a0-4f30-a05c-a219759eeb76",
   "metadata": {},
   "outputs": [
    {
     "data": {
      "text/plain": [
       "[1, 2, 3, 4, 5, 6, 7, 8, 9, 10]"
      ]
     },
     "execution_count": 242,
     "metadata": {},
     "output_type": "execute_result"
    }
   ],
   "source": [
    "list(range(1,11))"
   ]
  },
  {
   "cell_type": "code",
   "execution_count": 244,
   "id": "9d52b3cf-28eb-40a9-9592-2868bebf7f7a",
   "metadata": {},
   "outputs": [
    {
     "data": {
      "text/plain": [
       "{1: 7, 2: 8, 3: 9, 4: 10, 5: 11, 6: 12, 7: 13, 8: 14, 9: 15, 10: 16}"
      ]
     },
     "execution_count": 244,
     "metadata": {},
     "output_type": "execute_result"
    }
   ],
   "source": [
    "{i : i+6 for i in range(1,11)}"
   ]
  },
  {
   "cell_type": "code",
   "execution_count": 245,
   "id": "d5d60d9a-4a80-492d-bd87-b7d75d982e1b",
   "metadata": {},
   "outputs": [
    {
     "data": {
      "text/plain": [
       "{1: 5, 2: 10, 3: 15, 4: 20, 5: 25, 6: 30, 7: 35, 8: 40, 9: 45, 10: 50}"
      ]
     },
     "execution_count": 245,
     "metadata": {},
     "output_type": "execute_result"
    }
   ],
   "source": [
    "{i : i*5 for i in range(1,11)}"
   ]
  },
  {
   "cell_type": "code",
   "execution_count": 1,
   "id": "c8388cc4-e14c-4793-b90a-d001e2cfeb29",
   "metadata": {},
   "outputs": [],
   "source": [
    "import math\n",
    "d20 = {i : math.log10(i) for i in range(1,11)}"
   ]
  },
  {
   "cell_type": "code",
   "execution_count": 253,
   "id": "1701a152-ab12-4977-900d-b52b42851dbf",
   "metadata": {},
   "outputs": [
    {
     "data": {
      "text/plain": [
       "{1: 0.0,\n",
       " 2: 0.3010299956639812,\n",
       " 3: 0.47712125471966244,\n",
       " 4: 0.6020599913279624,\n",
       " 5: 0.6989700043360189,\n",
       " 6: 0.7781512503836436,\n",
       " 7: 0.8450980400142568,\n",
       " 8: 0.9030899869919435,\n",
       " 9: 0.9542425094393249,\n",
       " 10: 1.0}"
      ]
     },
     "execution_count": 253,
     "metadata": {},
     "output_type": "execute_result"
    }
   ],
   "source": [
    "d20"
   ]
  },
  {
   "cell_type": "code",
   "execution_count": 260,
   "id": "a349a3eb-18b1-403f-b6f0-2a71d45545ef",
   "metadata": {},
   "outputs": [],
   "source": [
    "d21 = {i : math.factorial(i) for i in range(1,11)}"
   ]
  },
  {
   "cell_type": "code",
   "execution_count": 261,
   "id": "33cad3c0-4188-4e76-9743-f5004f61d73e",
   "metadata": {},
   "outputs": [
    {
     "data": {
      "text/plain": [
       "{1: 1,\n",
       " 2: 2,\n",
       " 3: 6,\n",
       " 4: 24,\n",
       " 5: 120,\n",
       " 6: 720,\n",
       " 7: 5040,\n",
       " 8: 40320,\n",
       " 9: 362880,\n",
       " 10: 3628800}"
      ]
     },
     "execution_count": 261,
     "metadata": {},
     "output_type": "execute_result"
    }
   ],
   "source": [
    "d21"
   ]
  },
  {
   "cell_type": "code",
   "execution_count": 248,
   "id": "6b4d2832-4d51-4aa9-8111-a43d6b6bb152",
   "metadata": {},
   "outputs": [
    {
     "data": {
      "text/plain": [
       "{'Key1': 'Value1', 'Key2': 'Value2', 'Key3': 'Value3', 'Key4': 'Value4'}"
      ]
     },
     "execution_count": 248,
     "metadata": {},
     "output_type": "execute_result"
    }
   ],
   "source": [
    "d18"
   ]
  },
  {
   "cell_type": "code",
   "execution_count": 249,
   "id": "9cf377be-6606-41ed-b0ce-b13b730ddbe3",
   "metadata": {},
   "outputs": [
    {
     "data": {
      "text/plain": [
       "True"
      ]
     },
     "execution_count": 249,
     "metadata": {},
     "output_type": "execute_result"
    }
   ],
   "source": [
    "\"Key3\" in d18"
   ]
  },
  {
   "cell_type": "code",
   "execution_count": 250,
   "id": "2fa7e376-0af9-48bd-93a0-a54d3456de81",
   "metadata": {},
   "outputs": [
    {
     "data": {
      "text/plain": [
       "False"
      ]
     },
     "execution_count": 250,
     "metadata": {},
     "output_type": "execute_result"
    }
   ],
   "source": [
    "\"Key7\" in d18"
   ]
  },
  {
   "cell_type": "code",
   "execution_count": 254,
   "id": "c4464e3b-b734-4314-9c10-e89e57a08d68",
   "metadata": {},
   "outputs": [
    {
     "data": {
      "text/plain": [
       "{1: 0.0,\n",
       " 2: 0.3010299956639812,\n",
       " 3: 0.47712125471966244,\n",
       " 4: 0.6020599913279624,\n",
       " 5: 0.6989700043360189,\n",
       " 6: 0.7781512503836436,\n",
       " 7: 0.8450980400142568,\n",
       " 8: 0.9030899869919435,\n",
       " 9: 0.9542425094393249,\n",
       " 10: 1.0}"
      ]
     },
     "execution_count": 254,
     "metadata": {},
     "output_type": "execute_result"
    }
   ],
   "source": [
    "d20"
   ]
  },
  {
   "cell_type": "code",
   "execution_count": 256,
   "id": "0fd9632a-2851-49f7-99c3-4cae28800f87",
   "metadata": {},
   "outputs": [
    {
     "data": {
      "text/plain": [
       "dict_keys([1, 2, 3, 4, 5, 6, 7, 8, 9, 10])"
      ]
     },
     "execution_count": 256,
     "metadata": {},
     "output_type": "execute_result"
    }
   ],
   "source": [
    "d20.keys()"
   ]
  },
  {
   "cell_type": "code",
   "execution_count": 259,
   "id": "e5eb34d9-5aa4-4761-b64e-f1755f9a1794",
   "metadata": {},
   "outputs": [],
   "source": [
    "# Iterating using for loop"
   ]
  },
  {
   "cell_type": "code",
   "execution_count": 262,
   "id": "abbf51a1-8ee4-4531-bcc8-a23c514d2cb1",
   "metadata": {},
   "outputs": [
    {
     "name": "stdout",
     "output_type": "stream",
     "text": [
      "2 0.3010299956639812\n",
      "4 0.6020599913279624\n",
      "6 0.7781512503836436\n",
      "8 0.9030899869919435\n",
      "10 1.0\n"
     ]
    }
   ],
   "source": [
    "# Print only those values which have even keywords\n",
    "for i in d20.keys():\n",
    "    if i % 2 == 0:\n",
    "        print(i, d20[i])"
   ]
  },
  {
   "cell_type": "code",
   "execution_count": 265,
   "id": "df4732b6-bb16-49b8-9aa9-fa07769f8e04",
   "metadata": {},
   "outputs": [
    {
     "name": "stdout",
     "output_type": "stream",
     "text": [
      "1 : 1\n",
      "3 : 6\n",
      "5 : 120\n",
      "7 : 5040\n",
      "9 : 362880\n"
     ]
    }
   ],
   "source": [
    "# Print only those values which have odd keywords\n",
    "for i in d21.keys():\n",
    "    if i % 2 != 0:\n",
    "        print(i, \":\" , d21[i])"
   ]
  },
  {
   "cell_type": "code",
   "execution_count": null,
   "id": "915652b1-374e-4033-b621-b2a0167be179",
   "metadata": {},
   "outputs": [],
   "source": []
  }
 ],
 "metadata": {
  "kernelspec": {
   "display_name": "Python 3 (ipykernel)",
   "language": "python",
   "name": "python3"
  },
  "language_info": {
   "codemirror_mode": {
    "name": "ipython",
    "version": 3
   },
   "file_extension": ".py",
   "mimetype": "text/x-python",
   "name": "python",
   "nbconvert_exporter": "python",
   "pygments_lexer": "ipython3",
   "version": "3.10.8"
  }
 },
 "nbformat": 4,
 "nbformat_minor": 5
}
