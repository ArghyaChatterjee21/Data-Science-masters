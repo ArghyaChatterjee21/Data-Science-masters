{
 "cells": [
  {
   "cell_type": "markdown",
   "id": "9e5c166b-5ec2-4264-919f-1efaecf314a2",
   "metadata": {},
   "source": [
    "## Numpy 3"
   ]
  },
  {
   "cell_type": "code",
   "execution_count": 1,
   "id": "b68748e9-fe94-4e03-b578-4334e8fd4f34",
   "metadata": {},
   "outputs": [],
   "source": [
    "import numpy as np"
   ]
  },
  {
   "cell_type": "markdown",
   "id": "0228cfef-88ed-4d20-bc9b-ef3c90ccfd51",
   "metadata": {},
   "source": [
    "#### Numpy Array Manipulation"
   ]
  },
  {
   "cell_type": "code",
   "execution_count": 2,
   "id": "550daf12-22c8-4945-9e96-c5b6c859e35e",
   "metadata": {},
   "outputs": [
    {
     "data": {
      "text/plain": [
       "array([[7, 8, 7, 1],\n",
       "       [7, 9, 5, 3],\n",
       "       [5, 3, 1, 3],\n",
       "       [6, 6, 8, 7]])"
      ]
     },
     "execution_count": 2,
     "metadata": {},
     "output_type": "execute_result"
    }
   ],
   "source": [
    "arr = np.random.randint(1,10, (4,4))\n",
    "arr"
   ]
  },
  {
   "cell_type": "code",
   "execution_count": 3,
   "id": "d4dfded5-0c9f-49a2-a1ef-234ca4af2420",
   "metadata": {},
   "outputs": [
    {
     "data": {
      "text/plain": [
       "array([[7, 8],\n",
       "       [7, 1],\n",
       "       [7, 9],\n",
       "       [5, 3],\n",
       "       [5, 3],\n",
       "       [1, 3],\n",
       "       [6, 6],\n",
       "       [8, 7]])"
      ]
     },
     "execution_count": 3,
     "metadata": {},
     "output_type": "execute_result"
    }
   ],
   "source": [
    "arr.reshape(8,2)"
   ]
  },
  {
   "cell_type": "code",
   "execution_count": 4,
   "id": "5e72f6f9-1861-46ff-a2db-cbaf6bc72f00",
   "metadata": {},
   "outputs": [
    {
     "data": {
      "text/plain": [
       "array([[7, 8, 7, 1, 7, 9, 5, 3],\n",
       "       [5, 3, 1, 3, 6, 6, 8, 7]])"
      ]
     },
     "execution_count": 4,
     "metadata": {},
     "output_type": "execute_result"
    }
   ],
   "source": [
    "arr.reshape(2,8)"
   ]
  },
  {
   "cell_type": "code",
   "execution_count": 5,
   "id": "0ff119f6-df08-484b-ad18-a8825a42a8b9",
   "metadata": {},
   "outputs": [
    {
     "data": {
      "text/plain": [
       "array([[7, 7, 5, 6],\n",
       "       [8, 9, 3, 6],\n",
       "       [7, 5, 1, 8],\n",
       "       [1, 3, 3, 7]])"
      ]
     },
     "execution_count": 5,
     "metadata": {},
     "output_type": "execute_result"
    }
   ],
   "source": [
    "arr.T"
   ]
  },
  {
   "cell_type": "code",
   "execution_count": 6,
   "id": "7f40fcc4-9acb-44c3-b029-0d9b92692149",
   "metadata": {},
   "outputs": [
    {
     "data": {
      "text/plain": [
       "array([7, 8, 7, 1, 7, 9, 5, 3, 5, 3, 1, 3, 6, 6, 8, 7])"
      ]
     },
     "execution_count": 6,
     "metadata": {},
     "output_type": "execute_result"
    }
   ],
   "source": [
    "## Return a copy of the array collapsed into one dimension.\n",
    "arr.flatten()"
   ]
  },
  {
   "cell_type": "code",
   "execution_count": 7,
   "id": "7a257ec6-d829-407c-9dea-1f125f0fbb0f",
   "metadata": {},
   "outputs": [
    {
     "data": {
      "text/plain": [
       "array([[7, 8, 7, 1],\n",
       "       [7, 9, 5, 3],\n",
       "       [5, 3, 1, 3],\n",
       "       [6, 6, 8, 7]])"
      ]
     },
     "execution_count": 7,
     "metadata": {},
     "output_type": "execute_result"
    }
   ],
   "source": [
    "arr"
   ]
  },
  {
   "cell_type": "code",
   "execution_count": 8,
   "id": "c2ece16e-ea33-4978-9c4c-6e49bd85068d",
   "metadata": {},
   "outputs": [
    {
     "data": {
      "text/plain": [
       "2"
      ]
     },
     "execution_count": 8,
     "metadata": {},
     "output_type": "execute_result"
    }
   ],
   "source": [
    "arr.ndim"
   ]
  },
  {
   "cell_type": "code",
   "execution_count": 9,
   "id": "54b8e0c5-60f8-449d-a9da-c5fdf13c86a8",
   "metadata": {},
   "outputs": [
    {
     "data": {
      "text/plain": [
       "array([[[7, 8, 7, 1]],\n",
       "\n",
       "       [[7, 9, 5, 3]],\n",
       "\n",
       "       [[5, 3, 1, 3]],\n",
       "\n",
       "       [[6, 6, 8, 7]]])"
      ]
     },
     "execution_count": 9,
     "metadata": {},
     "output_type": "execute_result"
    }
   ],
   "source": [
    "## Expand Dimension\n",
    "np.expand_dims(arr,axis = 1)"
   ]
  },
  {
   "cell_type": "code",
   "execution_count": 10,
   "id": "c0212542-4906-4dd6-a92b-bdb8b69f8948",
   "metadata": {},
   "outputs": [
    {
     "data": {
      "text/plain": [
       "array([[[7, 8, 7, 1],\n",
       "        [7, 9, 5, 3],\n",
       "        [5, 3, 1, 3],\n",
       "        [6, 6, 8, 7]]])"
      ]
     },
     "execution_count": 10,
     "metadata": {},
     "output_type": "execute_result"
    }
   ],
   "source": [
    "np.expand_dims(arr,axis = 0)"
   ]
  },
  {
   "cell_type": "code",
   "execution_count": 11,
   "id": "a8789673-b2ff-4b7c-8467-b95b835c3e5e",
   "metadata": {},
   "outputs": [
    {
     "data": {
      "text/plain": [
       "array([[1],\n",
       "       [2],\n",
       "       [3]])"
      ]
     },
     "execution_count": 11,
     "metadata": {},
     "output_type": "execute_result"
    }
   ],
   "source": [
    "data = np.array([[1],[2],[3]])\n",
    "data"
   ]
  },
  {
   "cell_type": "code",
   "execution_count": 12,
   "id": "6263b595-56a0-4cdf-bb06-f3ce1450ff71",
   "metadata": {},
   "outputs": [
    {
     "data": {
      "text/plain": [
       "2"
      ]
     },
     "execution_count": 12,
     "metadata": {},
     "output_type": "execute_result"
    }
   ],
   "source": [
    "data.ndim"
   ]
  },
  {
   "cell_type": "code",
   "execution_count": 18,
   "id": "a4e44c60-a185-4af1-929a-ad87aff7df79",
   "metadata": {},
   "outputs": [
    {
     "data": {
      "text/plain": [
       "array([1, 2, 3])"
      ]
     },
     "execution_count": 18,
     "metadata": {},
     "output_type": "execute_result"
    }
   ],
   "source": [
    "# squeeze the dimension\n",
    "data1 = np.squeeze(data)\n",
    "data1"
   ]
  },
  {
   "cell_type": "code",
   "execution_count": 19,
   "id": "83e2e879-1f61-46bf-8306-c67dd4c648c7",
   "metadata": {},
   "outputs": [
    {
     "data": {
      "text/plain": [
       "1"
      ]
     },
     "execution_count": 19,
     "metadata": {},
     "output_type": "execute_result"
    }
   ],
   "source": [
    "data1.ndim"
   ]
  },
  {
   "cell_type": "code",
   "execution_count": 20,
   "id": "4a858da0-0220-4f46-9290-be013b2e66a1",
   "metadata": {},
   "outputs": [
    {
     "data": {
      "text/plain": [
       "array([1, 1, 1, 2, 2, 2, 3, 3, 3])"
      ]
     },
     "execution_count": 20,
     "metadata": {},
     "output_type": "execute_result"
    }
   ],
   "source": [
    "## Repeat Data \n",
    "np.repeat(data,3)"
   ]
  },
  {
   "cell_type": "code",
   "execution_count": 23,
   "id": "2d1cd9bf-d7b3-4e7d-b405-18791b002a98",
   "metadata": {},
   "outputs": [
    {
     "data": {
      "text/plain": [
       "array([[2],\n",
       "       [3],\n",
       "       [1]])"
      ]
     },
     "execution_count": 23,
     "metadata": {},
     "output_type": "execute_result"
    }
   ],
   "source": [
    "## Roll array elements along a given axis.\n",
    "\n",
    "## Elements that roll beyond the last position are re-introduced at the first.\n",
    "\n",
    "np.roll(data,2)"
   ]
  },
  {
   "cell_type": "code",
   "execution_count": 24,
   "id": "3116ceda-8e2b-4db3-aa86-3b4fdfc6bb4b",
   "metadata": {},
   "outputs": [
    {
     "data": {
      "text/plain": [
       "array([[3],\n",
       "       [1],\n",
       "       [2]])"
      ]
     },
     "execution_count": 24,
     "metadata": {},
     "output_type": "execute_result"
    }
   ],
   "source": [
    "np.roll(data,1)"
   ]
  },
  {
   "cell_type": "code",
   "execution_count": 26,
   "id": "c6aa976f-6077-449b-a8b6-7fa6c0c5c7f0",
   "metadata": {},
   "outputs": [
    {
     "data": {
      "text/plain": [
       "array([[1, 0, 0, 0],\n",
       "       [0, 2, 0, 0],\n",
       "       [0, 0, 3, 0],\n",
       "       [0, 0, 0, 4]])"
      ]
     },
     "execution_count": 26,
     "metadata": {},
     "output_type": "execute_result"
    }
   ],
   "source": [
    "## Create a 2D array with given diagonal elements\n",
    "np.diag(np.array([1,2,3,4]))"
   ]
  },
  {
   "cell_type": "markdown",
   "id": "9c0cbe0a-be71-44b0-a996-a7ecbb363a73",
   "metadata": {},
   "source": [
    "#### Binary Operation"
   ]
  },
  {
   "cell_type": "code",
   "execution_count": 29,
   "id": "0f76fbe6-cc8c-4c26-be2a-a57fb5800851",
   "metadata": {},
   "outputs": [],
   "source": [
    "arr1 = np.random.randint(1,10, (3,4))\n",
    "arr2 = np.random.randint(1,10, (3,4))"
   ]
  },
  {
   "cell_type": "code",
   "execution_count": 30,
   "id": "fef991c8-305d-40f8-a692-e1a10ba86417",
   "metadata": {},
   "outputs": [
    {
     "data": {
      "text/plain": [
       "array([[4, 1, 9, 9],\n",
       "       [1, 9, 2, 5],\n",
       "       [3, 5, 5, 2]])"
      ]
     },
     "execution_count": 30,
     "metadata": {},
     "output_type": "execute_result"
    }
   ],
   "source": [
    "arr1"
   ]
  },
  {
   "cell_type": "code",
   "execution_count": 31,
   "id": "fbe748a5-6ed3-4b0d-8466-cf34ea5e7e00",
   "metadata": {},
   "outputs": [
    {
     "data": {
      "text/plain": [
       "array([[3, 4, 9, 1],\n",
       "       [9, 8, 2, 9],\n",
       "       [2, 1, 1, 6]])"
      ]
     },
     "execution_count": 31,
     "metadata": {},
     "output_type": "execute_result"
    }
   ],
   "source": [
    "arr2"
   ]
  },
  {
   "cell_type": "code",
   "execution_count": 32,
   "id": "05bb378d-1e13-48ad-a627-79c469f1feb6",
   "metadata": {},
   "outputs": [
    {
     "data": {
      "text/plain": [
       "array([[ 7,  5, 18, 10],\n",
       "       [10, 17,  4, 14],\n",
       "       [ 5,  6,  6,  8]])"
      ]
     },
     "execution_count": 32,
     "metadata": {},
     "output_type": "execute_result"
    }
   ],
   "source": [
    "arr1 + arr2"
   ]
  },
  {
   "cell_type": "code",
   "execution_count": 33,
   "id": "a43da458-7f9a-4bc6-993a-af401c3a6698",
   "metadata": {},
   "outputs": [
    {
     "data": {
      "text/plain": [
       "array([[ 1, -3,  0,  8],\n",
       "       [-8,  1,  0, -4],\n",
       "       [ 1,  4,  4, -4]])"
      ]
     },
     "execution_count": 33,
     "metadata": {},
     "output_type": "execute_result"
    }
   ],
   "source": [
    "arr1 - arr2"
   ]
  },
  {
   "cell_type": "code",
   "execution_count": 34,
   "id": "a6f9320d-b5ba-4bac-9cc7-7a33e3490b1d",
   "metadata": {},
   "outputs": [
    {
     "data": {
      "text/plain": [
       "array([[12,  4, 81,  9],\n",
       "       [ 9, 72,  4, 45],\n",
       "       [ 6,  5,  5, 12]])"
      ]
     },
     "execution_count": 34,
     "metadata": {},
     "output_type": "execute_result"
    }
   ],
   "source": [
    "arr1 * arr2"
   ]
  },
  {
   "cell_type": "code",
   "execution_count": 35,
   "id": "893e910f-5096-404e-a356-58c7156e2ba4",
   "metadata": {},
   "outputs": [
    {
     "data": {
      "text/plain": [
       "array([[1.33333333, 0.25      , 1.        , 9.        ],\n",
       "       [0.11111111, 1.125     , 1.        , 0.55555556],\n",
       "       [1.5       , 5.        , 5.        , 0.33333333]])"
      ]
     },
     "execution_count": 35,
     "metadata": {},
     "output_type": "execute_result"
    }
   ],
   "source": [
    "arr1 / arr2"
   ]
  },
  {
   "cell_type": "code",
   "execution_count": 36,
   "id": "d9eed179-2058-44b5-a48b-e44ae7885969",
   "metadata": {},
   "outputs": [
    {
     "data": {
      "text/plain": [
       "array([[       64,         1, 387420489,         9],\n",
       "       [        1,  43046721,         4,   1953125],\n",
       "       [        9,         5,         5,        64]])"
      ]
     },
     "execution_count": 36,
     "metadata": {},
     "output_type": "execute_result"
    }
   ],
   "source": [
    "## Power operation\n",
    "arr1 ** arr2"
   ]
  },
  {
   "cell_type": "code",
   "execution_count": 37,
   "id": "6f7e80bf-1d22-41f7-bfd5-abef7a254322",
   "metadata": {},
   "outputs": [
    {
     "data": {
      "text/plain": [
       "array([[ -5,  -2, -10, -10],\n",
       "       [ -2, -10,  -3,  -6],\n",
       "       [ -4,  -6,  -6,  -3]])"
      ]
     },
     "execution_count": 37,
     "metadata": {},
     "output_type": "execute_result"
    }
   ],
   "source": [
    "## Negetion Operation\n",
    "~arr1"
   ]
  },
  {
   "cell_type": "code",
   "execution_count": 38,
   "id": "c6572204-1c96-4004-9ea6-152f0153f55c",
   "metadata": {},
   "outputs": [
    {
     "data": {
      "text/plain": [
       "array([[ True, False, False,  True],\n",
       "       [False,  True, False, False],\n",
       "       [ True,  True,  True, False]])"
      ]
     },
     "execution_count": 38,
     "metadata": {},
     "output_type": "execute_result"
    }
   ],
   "source": [
    "arr1 > arr2"
   ]
  },
  {
   "cell_type": "markdown",
   "id": "2fd13687-32ae-4956-a15a-89a6845556be",
   "metadata": {},
   "source": [
    "####  String Operation"
   ]
  },
  {
   "cell_type": "code",
   "execution_count": 42,
   "id": "f7a5d4d5-0604-4b36-b339-58100734a634",
   "metadata": {},
   "outputs": [
    {
     "data": {
      "text/plain": [
       "array(['arghya', 'chatterjee'], dtype='<U10')"
      ]
     },
     "execution_count": 42,
     "metadata": {},
     "output_type": "execute_result"
    }
   ],
   "source": [
    "arr3 = np.array([\"arghya\", \"chatterjee\"])\n",
    "arr3"
   ]
  },
  {
   "cell_type": "code",
   "execution_count": 43,
   "id": "7ed13fde-4493-4d07-9ab2-7ea3366b8a53",
   "metadata": {},
   "outputs": [
    {
     "data": {
      "text/plain": [
       "array(['ARGHYA', 'CHATTERJEE'], dtype='<U10')"
      ]
     },
     "execution_count": 43,
     "metadata": {},
     "output_type": "execute_result"
    }
   ],
   "source": [
    "np.char.upper(arr3)"
   ]
  },
  {
   "cell_type": "code",
   "execution_count": 48,
   "id": "1f038196-d231-4b1b-8078-af7f77c6767a",
   "metadata": {},
   "outputs": [
    {
     "data": {
      "text/plain": [
       "array(['Arghya', 'Chatterjee'], dtype='<U10')"
      ]
     },
     "execution_count": 48,
     "metadata": {},
     "output_type": "execute_result"
    }
   ],
   "source": [
    "## Return a copy of `a` with only the first character of each element capitalized.\n",
    "np.char.capitalize(arr3)"
   ]
  },
  {
   "cell_type": "code",
   "execution_count": 47,
   "id": "00dcc251-decf-42ce-ba96-7ce543c3db4c",
   "metadata": {},
   "outputs": [
    {
     "data": {
      "text/plain": [
       "array(['Arghya', 'Chatterjee'], dtype='<U10')"
      ]
     },
     "execution_count": 47,
     "metadata": {},
     "output_type": "execute_result"
    }
   ],
   "source": [
    "## Title case words start with uppercase characters, all remaining cased characters are lowercase.\n",
    "np.char.title(arr3)"
   ]
  },
  {
   "cell_type": "markdown",
   "id": "13dea190-e1e9-4b07-af4b-8df82752e934",
   "metadata": {},
   "source": [
    "#### Mathematical Function"
   ]
  },
  {
   "cell_type": "code",
   "execution_count": 49,
   "id": "67f85e94-ce7c-48bb-a15e-b01a1e75f528",
   "metadata": {},
   "outputs": [
    {
     "data": {
      "text/plain": [
       "array([[4, 1, 9, 9],\n",
       "       [1, 9, 2, 5],\n",
       "       [3, 5, 5, 2]])"
      ]
     },
     "execution_count": 49,
     "metadata": {},
     "output_type": "execute_result"
    }
   ],
   "source": [
    "arr1"
   ]
  },
  {
   "cell_type": "code",
   "execution_count": 50,
   "id": "8181254b-32c1-4b9a-a51a-2550b0e40def",
   "metadata": {},
   "outputs": [
    {
     "data": {
      "text/plain": [
       "array([[-0.7568025 ,  0.84147098,  0.41211849,  0.41211849],\n",
       "       [ 0.84147098,  0.41211849,  0.90929743, -0.95892427],\n",
       "       [ 0.14112001, -0.95892427, -0.95892427,  0.90929743]])"
      ]
     },
     "execution_count": 50,
     "metadata": {},
     "output_type": "execute_result"
    }
   ],
   "source": [
    "np.sin(arr1) ## Sine Value"
   ]
  },
  {
   "cell_type": "code",
   "execution_count": 51,
   "id": "072195f9-4c67-45b4-a4a5-4da231cba925",
   "metadata": {},
   "outputs": [
    {
     "data": {
      "text/plain": [
       "array([[-0.65364362,  0.54030231, -0.91113026, -0.91113026],\n",
       "       [ 0.54030231, -0.91113026, -0.41614684,  0.28366219],\n",
       "       [-0.9899925 ,  0.28366219,  0.28366219, -0.41614684]])"
      ]
     },
     "execution_count": 51,
     "metadata": {},
     "output_type": "execute_result"
    }
   ],
   "source": [
    "np.cos(arr1) ## Cosine Value"
   ]
  },
  {
   "cell_type": "code",
   "execution_count": 52,
   "id": "edc9aa2b-7319-4d5e-9adf-585d34140245",
   "metadata": {},
   "outputs": [
    {
     "data": {
      "text/plain": [
       "array([[ 1.15782128,  1.55740772, -0.45231566, -0.45231566],\n",
       "       [ 1.55740772, -0.45231566, -2.18503986, -3.38051501],\n",
       "       [-0.14254654, -3.38051501, -3.38051501, -2.18503986]])"
      ]
     },
     "execution_count": 52,
     "metadata": {},
     "output_type": "execute_result"
    }
   ],
   "source": [
    "np.tan(arr1) ## Tangent Value"
   ]
  },
  {
   "cell_type": "code",
   "execution_count": 53,
   "id": "244893c5-e6c1-4e13-9618-a644efc71405",
   "metadata": {},
   "outputs": [
    {
     "data": {
      "text/plain": [
       "array([[0.60205999, 0.        , 0.95424251, 0.95424251],\n",
       "       [0.        , 0.95424251, 0.30103   , 0.69897   ],\n",
       "       [0.47712125, 0.69897   , 0.69897   , 0.30103   ]])"
      ]
     },
     "execution_count": 53,
     "metadata": {},
     "output_type": "execute_result"
    }
   ],
   "source": [
    "np.log10(arr1) ## Log Value"
   ]
  },
  {
   "cell_type": "code",
   "execution_count": 54,
   "id": "b7de1e60-28a2-4508-a11c-b947c5003f4a",
   "metadata": {},
   "outputs": [
    {
     "data": {
      "text/plain": [
       "array([[5.45981500e+01, 2.71828183e+00, 8.10308393e+03, 8.10308393e+03],\n",
       "       [2.71828183e+00, 8.10308393e+03, 7.38905610e+00, 1.48413159e+02],\n",
       "       [2.00855369e+01, 1.48413159e+02, 1.48413159e+02, 7.38905610e+00]])"
      ]
     },
     "execution_count": 54,
     "metadata": {},
     "output_type": "execute_result"
    }
   ],
   "source": [
    "np.exp(arr1) ## Exp Value"
   ]
  },
  {
   "cell_type": "code",
   "execution_count": 55,
   "id": "9828a433-5f29-41b3-a1a8-59fc418b34a8",
   "metadata": {},
   "outputs": [
    {
     "data": {
      "text/plain": [
       "array([[16,  1, 81, 81],\n",
       "       [ 1, 81,  4, 25],\n",
       "       [ 9, 25, 25,  4]])"
      ]
     },
     "execution_count": 55,
     "metadata": {},
     "output_type": "execute_result"
    }
   ],
   "source": [
    "np.power(arr1,2) ## Power"
   ]
  },
  {
   "cell_type": "code",
   "execution_count": 56,
   "id": "9a10cae6-09ca-42fb-8982-5aa37ca08bc7",
   "metadata": {},
   "outputs": [
    {
     "data": {
      "text/plain": [
       "4.583333333333333"
      ]
     },
     "execution_count": 56,
     "metadata": {},
     "output_type": "execute_result"
    }
   ],
   "source": [
    "np.mean(arr1) "
   ]
  },
  {
   "cell_type": "code",
   "execution_count": 57,
   "id": "c0b62c96-c524-4c62-b187-930b84a26071",
   "metadata": {},
   "outputs": [
    {
     "data": {
      "text/plain": [
       "4.5"
      ]
     },
     "execution_count": 57,
     "metadata": {},
     "output_type": "execute_result"
    }
   ],
   "source": [
    "np.median(arr1) "
   ]
  },
  {
   "cell_type": "code",
   "execution_count": 59,
   "id": "6800d3e9-4a2a-4d0c-aaca-a4525d7152c2",
   "metadata": {},
   "outputs": [
    {
     "ename": "AttributeError",
     "evalue": "module 'numpy' has no attribute 'mode'",
     "output_type": "error",
     "traceback": [
      "\u001b[0;31m---------------------------------------------------------------------------\u001b[0m",
      "\u001b[0;31mAttributeError\u001b[0m                            Traceback (most recent call last)",
      "Cell \u001b[0;32mIn[59], line 1\u001b[0m\n\u001b[0;32m----> 1\u001b[0m \u001b[43mnp\u001b[49m\u001b[38;5;241;43m.\u001b[39;49m\u001b[43mmode\u001b[49m(arr1) \u001b[38;5;66;03m## 'numpy' has no attribute 'mode'\u001b[39;00m\n",
      "File \u001b[0;32m/opt/conda/lib/python3.10/site-packages/numpy/__init__.py:311\u001b[0m, in \u001b[0;36m__getattr__\u001b[0;34m(attr)\u001b[0m\n\u001b[1;32m    308\u001b[0m     \u001b[38;5;28;01mfrom\u001b[39;00m \u001b[38;5;21;01m.\u001b[39;00m\u001b[38;5;21;01mtesting\u001b[39;00m \u001b[38;5;28;01mimport\u001b[39;00m Tester\n\u001b[1;32m    309\u001b[0m     \u001b[38;5;28;01mreturn\u001b[39;00m Tester\n\u001b[0;32m--> 311\u001b[0m \u001b[38;5;28;01mraise\u001b[39;00m \u001b[38;5;167;01mAttributeError\u001b[39;00m(\u001b[38;5;124m\"\u001b[39m\u001b[38;5;124mmodule \u001b[39m\u001b[38;5;132;01m{!r}\u001b[39;00m\u001b[38;5;124m has no attribute \u001b[39m\u001b[38;5;124m\"\u001b[39m\n\u001b[1;32m    312\u001b[0m                      \u001b[38;5;124m\"\u001b[39m\u001b[38;5;132;01m{!r}\u001b[39;00m\u001b[38;5;124m\"\u001b[39m\u001b[38;5;241m.\u001b[39mformat(\u001b[38;5;18m__name__\u001b[39m, attr))\n",
      "\u001b[0;31mAttributeError\u001b[0m: module 'numpy' has no attribute 'mode'"
     ]
    }
   ],
   "source": [
    "np.mode(arr1) ## 'numpy' has no attribute 'mode'"
   ]
  },
  {
   "cell_type": "code",
   "execution_count": 60,
   "id": "aefac2fc-4209-4c4f-8d98-d7c420a5a421",
   "metadata": {},
   "outputs": [
    {
     "data": {
      "text/plain": [
       "2.8999521068842196"
      ]
     },
     "execution_count": 60,
     "metadata": {},
     "output_type": "execute_result"
    }
   ],
   "source": [
    "np.std(arr1) ## Standard Deviation"
   ]
  },
  {
   "cell_type": "code",
   "execution_count": 61,
   "id": "3d48ce4e-3654-4fac-96d4-93082c4c0436",
   "metadata": {},
   "outputs": [
    {
     "data": {
      "text/plain": [
       "8.409722222222223"
      ]
     },
     "execution_count": 61,
     "metadata": {},
     "output_type": "execute_result"
    }
   ],
   "source": [
    "np.var(arr1) ## Variance"
   ]
  },
  {
   "cell_type": "code",
   "execution_count": 62,
   "id": "63044a76-9753-4146-80c3-e8837782d65a",
   "metadata": {},
   "outputs": [
    {
     "data": {
      "text/plain": [
       "1"
      ]
     },
     "execution_count": 62,
     "metadata": {},
     "output_type": "execute_result"
    }
   ],
   "source": [
    "np.min(arr1)"
   ]
  },
  {
   "cell_type": "code",
   "execution_count": 63,
   "id": "c1631219-01ff-487e-b4b3-f3ffb8de4696",
   "metadata": {},
   "outputs": [
    {
     "data": {
      "text/plain": [
       "9"
      ]
     },
     "execution_count": 63,
     "metadata": {},
     "output_type": "execute_result"
    }
   ],
   "source": [
    "np.max(arr1)"
   ]
  },
  {
   "cell_type": "markdown",
   "id": "df547ec1-77d1-4d4d-ba0e-da503e01e0dd",
   "metadata": {},
   "source": [
    "#### Arithmetic Operation"
   ]
  },
  {
   "cell_type": "code",
   "execution_count": 64,
   "id": "8b14fe52-c0a7-4b3f-8398-2a99bcd3bb5c",
   "metadata": {},
   "outputs": [
    {
     "data": {
      "text/plain": [
       "array([[4, 1, 9, 9],\n",
       "       [1, 9, 2, 5],\n",
       "       [3, 5, 5, 2]])"
      ]
     },
     "execution_count": 64,
     "metadata": {},
     "output_type": "execute_result"
    }
   ],
   "source": [
    "arr1 "
   ]
  },
  {
   "cell_type": "code",
   "execution_count": 65,
   "id": "71c0d109-c76e-4e91-aca1-cae9dd93ae56",
   "metadata": {},
   "outputs": [
    {
     "data": {
      "text/plain": [
       "array([[3, 4, 9, 1],\n",
       "       [9, 8, 2, 9],\n",
       "       [2, 1, 1, 6]])"
      ]
     },
     "execution_count": 65,
     "metadata": {},
     "output_type": "execute_result"
    }
   ],
   "source": [
    "arr2"
   ]
  },
  {
   "cell_type": "code",
   "execution_count": 66,
   "id": "70849758-300c-41c3-ad6f-c520c0c2866d",
   "metadata": {},
   "outputs": [
    {
     "data": {
      "text/plain": [
       "array([[ 1, -3,  0,  8],\n",
       "       [-8,  1,  0, -4],\n",
       "       [ 1,  4,  4, -4]])"
      ]
     },
     "execution_count": 66,
     "metadata": {},
     "output_type": "execute_result"
    }
   ],
   "source": [
    "arr1 - arr2"
   ]
  },
  {
   "cell_type": "code",
   "execution_count": 67,
   "id": "3fd6f660-fc1b-44f2-ac13-da034b6e87ce",
   "metadata": {},
   "outputs": [
    {
     "data": {
      "text/plain": [
       "array([[ 1, -3,  0,  8],\n",
       "       [-8,  1,  0, -4],\n",
       "       [ 1,  4,  4, -4]])"
      ]
     },
     "execution_count": 67,
     "metadata": {},
     "output_type": "execute_result"
    }
   ],
   "source": [
    "np.subtract(arr1,arr2)"
   ]
  },
  {
   "cell_type": "code",
   "execution_count": 68,
   "id": "cf7c347c-153c-4074-b698-f3f84508b062",
   "metadata": {},
   "outputs": [
    {
     "data": {
      "text/plain": [
       "array([[12,  4, 81,  9],\n",
       "       [ 9, 72,  4, 45],\n",
       "       [ 6,  5,  5, 12]])"
      ]
     },
     "execution_count": 68,
     "metadata": {},
     "output_type": "execute_result"
    }
   ],
   "source": [
    "np.multiply(arr1,arr2)"
   ]
  },
  {
   "cell_type": "code",
   "execution_count": 69,
   "id": "8b408784-53d3-4d90-a3a1-19139355b1a2",
   "metadata": {},
   "outputs": [
    {
     "data": {
      "text/plain": [
       "array([[1, 1, 0, 0],\n",
       "       [1, 1, 0, 5],\n",
       "       [1, 0, 0, 2]])"
      ]
     },
     "execution_count": 69,
     "metadata": {},
     "output_type": "execute_result"
    }
   ],
   "source": [
    "np.mod(arr1,arr2)  ## Return remainder"
   ]
  },
  {
   "cell_type": "code",
   "execution_count": 70,
   "id": "d45d12ec-d299-4fad-9b58-3d9d7ac79b5f",
   "metadata": {},
   "outputs": [
    {
     "data": {
      "text/plain": [
       "array([[       64,         1, 387420489,         9],\n",
       "       [        1,  43046721,         4,   1953125],\n",
       "       [        9,         5,         5,        64]])"
      ]
     },
     "execution_count": 70,
     "metadata": {},
     "output_type": "execute_result"
    }
   ],
   "source": [
    "np.power(arr1,arr2)"
   ]
  },
  {
   "cell_type": "code",
   "execution_count": 71,
   "id": "bf79673d-a73d-4421-8c32-79b536075d98",
   "metadata": {},
   "outputs": [
    {
     "data": {
      "text/plain": [
       "array([[2.        , 1.        , 3.        , 3.        ],\n",
       "       [1.        , 3.        , 1.41421356, 2.23606798],\n",
       "       [1.73205081, 2.23606798, 2.23606798, 1.41421356]])"
      ]
     },
     "execution_count": 71,
     "metadata": {},
     "output_type": "execute_result"
    }
   ],
   "source": [
    "np.sqrt(arr1)"
   ]
  }
 ],
 "metadata": {
  "kernelspec": {
   "display_name": "Python 3 (ipykernel)",
   "language": "python",
   "name": "python3"
  },
  "language_info": {
   "codemirror_mode": {
    "name": "ipython",
    "version": 3
   },
   "file_extension": ".py",
   "mimetype": "text/x-python",
   "name": "python",
   "nbconvert_exporter": "python",
   "pygments_lexer": "ipython3",
   "version": "3.10.8"
  }
 },
 "nbformat": 4,
 "nbformat_minor": 5
}
