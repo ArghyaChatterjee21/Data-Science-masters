{
 "cells": [
  {
   "cell_type": "markdown",
   "id": "37a67972-9c9e-4b06-8c0c-e21100f8f8f6",
   "metadata": {},
   "source": [
    "## 01/02/2023"
   ]
  },
  {
   "cell_type": "markdown",
   "id": "17a4e02f-1a04-403a-a138-b764263decfc",
   "metadata": {},
   "source": [
    "## String"
   ]
  },
  {
   "cell_type": "code",
   "execution_count": 1,
   "id": "eff1f43f-44a9-451c-b662-169f88c50137",
   "metadata": {},
   "outputs": [],
   "source": [
    "name = \"cristiano ronaldo dos santos aveiro\""
   ]
  },
  {
   "cell_type": "code",
   "execution_count": 2,
   "id": "e2236227-4afd-4c08-9521-9f87d6754b29",
   "metadata": {},
   "outputs": [
    {
     "data": {
      "text/plain": [
       "'Cristiano Ronaldo Dos Santos Aveiro'"
      ]
     },
     "execution_count": 2,
     "metadata": {},
     "output_type": "execute_result"
    }
   ],
   "source": [
    "name.title()"
   ]
  },
  {
   "cell_type": "code",
   "execution_count": 4,
   "id": "7257b8cd-4ee0-4b51-a5b1-a2812c84d94e",
   "metadata": {},
   "outputs": [
    {
     "data": {
      "text/plain": [
       "'Cristiano ronaldo dos santos aveiro'"
      ]
     },
     "execution_count": 4,
     "metadata": {},
     "output_type": "execute_result"
    }
   ],
   "source": [
    "name.capitalize()"
   ]
  },
  {
   "cell_type": "markdown",
   "id": "2842d95b-2ed6-456e-ab86-1d7a16bca91a",
   "metadata": {},
   "source": [
    "### Reversing a String"
   ]
  },
  {
   "cell_type": "code",
   "execution_count": 5,
   "id": "50dd9f1c-1da0-4fbd-af1a-60d514e4c80b",
   "metadata": {},
   "outputs": [
    {
     "data": {
      "text/plain": [
       "'orieva sotnas sod odlanor onaitsirc'"
      ]
     },
     "execution_count": 5,
     "metadata": {},
     "output_type": "execute_result"
    }
   ],
   "source": [
    "name[::-1]"
   ]
  },
  {
   "cell_type": "code",
   "execution_count": 6,
   "id": "622399ec-19c4-4652-a5b0-b24238409dfb",
   "metadata": {},
   "outputs": [
    {
     "name": "stdout",
     "output_type": "stream",
     "text": [
      "<reversed object at 0x7fb89409da80>\n"
     ]
    }
   ],
   "source": [
    "print(reversed(name))"
   ]
  },
  {
   "cell_type": "code",
   "execution_count": 9,
   "id": "13f87697-89c2-4f11-85d1-6c89503560d4",
   "metadata": {},
   "outputs": [
    {
     "data": {
      "text/plain": [
       "'o r i e v a   s o t n a s   s o d   o d l a n o r   o n a i t s i r c'"
      ]
     },
     "execution_count": 9,
     "metadata": {},
     "output_type": "execute_result"
    }
   ],
   "source": [
    "' '.join(reversed(name))"
   ]
  },
  {
   "cell_type": "code",
   "execution_count": 10,
   "id": "7dbaba4d-5ad9-43ca-b964-7c6edbcf3df5",
   "metadata": {},
   "outputs": [
    {
     "data": {
      "text/plain": [
       "'a b c d'"
      ]
     },
     "execution_count": 10,
     "metadata": {},
     "output_type": "execute_result"
    }
   ],
   "source": [
    "\" \".join(\"abcd\")"
   ]
  },
  {
   "cell_type": "code",
   "execution_count": 11,
   "id": "359e0551-b493-4602-885c-b7706c3746d4",
   "metadata": {},
   "outputs": [
    {
     "data": {
      "text/plain": [
       "'a n t'"
      ]
     },
     "execution_count": 11,
     "metadata": {},
     "output_type": "execute_result"
    }
   ],
   "source": [
    "\" \".join(\"ant\")"
   ]
  },
  {
   "cell_type": "code",
   "execution_count": 12,
   "id": "a8cefeca-8ca8-42c6-ab5c-533e969fefb8",
   "metadata": {},
   "outputs": [
    {
     "data": {
      "text/plain": [
       "'t n a'"
      ]
     },
     "execution_count": 12,
     "metadata": {},
     "output_type": "execute_result"
    }
   ],
   "source": [
    "\" \".join(reversed(\"ant\"))"
   ]
  },
  {
   "cell_type": "code",
   "execution_count": 13,
   "id": "ae4ed08f-4f86-41fa-bc0f-38088f3aeb70",
   "metadata": {},
   "outputs": [
    {
     "data": {
      "text/plain": [
       "'tna'"
      ]
     },
     "execution_count": 13,
     "metadata": {},
     "output_type": "execute_result"
    }
   ],
   "source": [
    "\"\".join(reversed(\"ant\"))"
   ]
  },
  {
   "cell_type": "code",
   "execution_count": 14,
   "id": "37c8c663-614f-4465-b699-983c9051a3e3",
   "metadata": {},
   "outputs": [
    {
     "data": {
      "text/plain": [
       "'t/n/a'"
      ]
     },
     "execution_count": 14,
     "metadata": {},
     "output_type": "execute_result"
    }
   ],
   "source": [
    "\"/\".join(reversed(\"ant\"))"
   ]
  },
  {
   "cell_type": "code",
   "execution_count": 15,
   "id": "c703979e-a1f6-4a25-a207-061528342bda",
   "metadata": {},
   "outputs": [
    {
     "data": {
      "text/plain": [
       "'tfootballernfootballera'"
      ]
     },
     "execution_count": 15,
     "metadata": {},
     "output_type": "execute_result"
    }
   ],
   "source": [
    "\"footballer\".join(reversed(\"ant\"))"
   ]
  },
  {
   "cell_type": "code",
   "execution_count": 16,
   "id": "886bf9e3-af7e-474d-aee0-c4e79efee095",
   "metadata": {},
   "outputs": [
    {
     "data": {
      "text/plain": [
       "'pskillswskills skillsiskillssskills skillsaskills skillsgskillsoskillsoskillsdskills skillscskillsoskillsmskillspskillsaskillsnskillsy'"
      ]
     },
     "execution_count": 16,
     "metadata": {},
     "output_type": "execute_result"
    }
   ],
   "source": [
    "str1= \"pw is a good company\"\n",
    "\"skills\".join(str1)"
   ]
  },
  {
   "cell_type": "code",
   "execution_count": 17,
   "id": "daf442a8-a15f-422b-b649-6ba20cb778f1",
   "metadata": {},
   "outputs": [
    {
     "data": {
      "text/plain": [
       "['t', 'n', 'a']"
      ]
     },
     "execution_count": 17,
     "metadata": {},
     "output_type": "execute_result"
    }
   ],
   "source": [
    "## typecasting\n",
    "list(reversed(\"ant\"))"
   ]
  },
  {
   "cell_type": "code",
   "execution_count": 18,
   "id": "dd306f2d-7fce-421c-a8b3-7a8fe45466c8",
   "metadata": {},
   "outputs": [
    {
     "name": "stdout",
     "output_type": "stream",
     "text": [
      "orieva sotnas sod odlanor onaitsirc"
     ]
    }
   ],
   "source": [
    "for i in list(reversed(name)):\n",
    "    print(i,end='')"
   ]
  },
  {
   "cell_type": "code",
   "execution_count": 19,
   "id": "bfe20090-3e58-4c26-8225-0dfddb588b26",
   "metadata": {},
   "outputs": [],
   "source": [
    "# removing character from the end of the string"
   ]
  },
  {
   "cell_type": "code",
   "execution_count": 4,
   "id": "9a9dd00e-dd83-4949-bbff-c3f9a35e947f",
   "metadata": {},
   "outputs": [],
   "source": [
    "str = \" Arghya Chatterjee  \""
   ]
  },
  {
   "cell_type": "code",
   "execution_count": 5,
   "id": "a72eeafe-d880-43cb-8705-99df4423b936",
   "metadata": {},
   "outputs": [
    {
     "data": {
      "text/plain": [
       "20"
      ]
     },
     "execution_count": 5,
     "metadata": {},
     "output_type": "execute_result"
    }
   ],
   "source": [
    "len(str)"
   ]
  },
  {
   "cell_type": "code",
   "execution_count": 24,
   "id": "a1e640fa-d825-4d7d-bb61-1108b4991aac",
   "metadata": {},
   "outputs": [
    {
     "data": {
      "text/plain": [
       "'Arghya Chatterjee'"
      ]
     },
     "execution_count": 24,
     "metadata": {},
     "output_type": "execute_result"
    }
   ],
   "source": [
    "str.strip() #removing whitespace from the string"
   ]
  },
  {
   "cell_type": "code",
   "execution_count": 25,
   "id": "29b36420-7909-48a1-8dc1-7b9045e3c061",
   "metadata": {},
   "outputs": [
    {
     "data": {
      "text/plain": [
       "'Arghya Chatterjee  '"
      ]
     },
     "execution_count": 25,
     "metadata": {},
     "output_type": "execute_result"
    }
   ],
   "source": [
    "str.lstrip()"
   ]
  },
  {
   "cell_type": "code",
   "execution_count": 26,
   "id": "00447e77-d121-4702-99ad-d533e708c898",
   "metadata": {
    "collapsed": true,
    "jupyter": {
     "outputs_hidden": true
    },
    "tags": []
   },
   "outputs": [
    {
     "data": {
      "text/plain": [
       "' Arghya Chatterjee'"
      ]
     },
     "execution_count": 26,
     "metadata": {},
     "output_type": "execute_result"
    }
   ],
   "source": [
    "str.rstrip()"
   ]
  },
  {
   "cell_type": "code",
   "execution_count": 27,
   "id": "10746442-a659-487f-a49e-3a7817b5edea",
   "metadata": {},
   "outputs": [
    {
     "data": {
      "text/plain": [
       "' Avimanyu Chatterjee  '"
      ]
     },
     "execution_count": 27,
     "metadata": {},
     "output_type": "execute_result"
    }
   ],
   "source": [
    "str.replace(\"Arghya\",\"Avimanyu\")"
   ]
  },
  {
   "cell_type": "code",
   "execution_count": 28,
   "id": "74b55d1c-e8d5-4614-98e9-652d8b60ab04",
   "metadata": {},
   "outputs": [
    {
     "data": {
      "text/plain": [
       "'Hello   World'"
      ]
     },
     "execution_count": 28,
     "metadata": {},
     "output_type": "execute_result"
    }
   ],
   "source": [
    "\"Hello \\tWorld\".expandtabs()"
   ]
  },
  {
   "cell_type": "code",
   "execution_count": 5,
   "id": "f9f5b18b-b183-493b-b985-a2a780197f79",
   "metadata": {},
   "outputs": [],
   "source": [
    "str2 = \"Welcome to West engal. Welcome to olkata \""
   ]
  },
  {
   "cell_type": "code",
   "execution_count": 6,
   "id": "0e7f9984-4007-4554-bb3d-b7b57613df43",
   "metadata": {},
   "outputs": [
    {
     "data": {
      "text/plain": [
       "'Welcome to West Bengal. Welcome to Kolkata '"
      ]
     },
     "execution_count": 6,
     "metadata": {},
     "output_type": "execute_result"
    }
   ],
   "source": [
    "str2.replace(\"engal\",\"Bengal\").replace(\"olkata\", \"Kolkata\")"
   ]
  },
  {
   "cell_type": "code",
   "execution_count": 35,
   "id": "3252ec9b-8c8e-4b97-88a4-c9ff815bff19",
   "metadata": {},
   "outputs": [
    {
     "data": {
      "text/plain": [
       "False"
      ]
     },
     "execution_count": 35,
     "metadata": {},
     "output_type": "execute_result"
    }
   ],
   "source": [
    "str2.isupper()"
   ]
  },
  {
   "cell_type": "code",
   "execution_count": 42,
   "id": "772bdb8c-3dc6-43a3-8f0a-6d75684cd53b",
   "metadata": {},
   "outputs": [],
   "source": [
    "str3 = \"ARGHYA\""
   ]
  },
  {
   "cell_type": "code",
   "execution_count": 39,
   "id": "40f8cbdc-5652-44c3-bcfe-cd78617d9a4f",
   "metadata": {},
   "outputs": [
    {
     "data": {
      "text/plain": [
       "True"
      ]
     },
     "execution_count": 39,
     "metadata": {},
     "output_type": "execute_result"
    }
   ],
   "source": [
    "str3.isupper()"
   ]
  },
  {
   "cell_type": "code",
   "execution_count": 40,
   "id": "188f1562-f88d-44df-8ba5-64b17957da2c",
   "metadata": {},
   "outputs": [
    {
     "data": {
      "text/plain": [
       "False"
      ]
     },
     "execution_count": 40,
     "metadata": {},
     "output_type": "execute_result"
    }
   ],
   "source": [
    "str3.islower()"
   ]
  },
  {
   "cell_type": "code",
   "execution_count": 41,
   "id": "96197f77-2303-4140-94cf-351267558699",
   "metadata": {},
   "outputs": [
    {
     "data": {
      "text/plain": [
       "True"
      ]
     },
     "execution_count": 41,
     "metadata": {},
     "output_type": "execute_result"
    }
   ],
   "source": [
    "name.islower()"
   ]
  },
  {
   "cell_type": "code",
   "execution_count": 42,
   "id": "1880fd37-f46e-45a7-87d6-0425462a9caf",
   "metadata": {},
   "outputs": [
    {
     "data": {
      "text/plain": [
       "False"
      ]
     },
     "execution_count": 42,
     "metadata": {},
     "output_type": "execute_result"
    }
   ],
   "source": [
    "name.isspace()"
   ]
  },
  {
   "cell_type": "code",
   "execution_count": 43,
   "id": "65250a99-bb3a-4a63-9287-0e86e7bf03f5",
   "metadata": {},
   "outputs": [
    {
     "data": {
      "text/plain": [
       "False"
      ]
     },
     "execution_count": 43,
     "metadata": {},
     "output_type": "execute_result"
    }
   ],
   "source": [
    "str3.isspace()"
   ]
  },
  {
   "cell_type": "code",
   "execution_count": 46,
   "id": "8221a905-e890-47fc-a861-2b02025703bf",
   "metadata": {},
   "outputs": [
    {
     "data": {
      "text/plain": [
       "False"
      ]
     },
     "execution_count": 46,
     "metadata": {},
     "output_type": "execute_result"
    }
   ],
   "source": [
    "str.isspace()"
   ]
  },
  {
   "cell_type": "code",
   "execution_count": 47,
   "id": "392d162d-b83c-41c2-b9fd-547c0288761c",
   "metadata": {},
   "outputs": [
    {
     "data": {
      "text/plain": [
       "True"
      ]
     },
     "execution_count": 47,
     "metadata": {},
     "output_type": "execute_result"
    }
   ],
   "source": [
    "' '.isspace()"
   ]
  },
  {
   "cell_type": "code",
   "execution_count": 48,
   "id": "597ccd09-9ecc-4cf8-a2c8-088a51da61d0",
   "metadata": {},
   "outputs": [
    {
     "name": "stdout",
     "output_type": "stream",
     "text": [
      "Hello\n"
     ]
    }
   ],
   "source": [
    "if \" \".isspace():\n",
    "    print(\"Hello\")"
   ]
  },
  {
   "cell_type": "code",
   "execution_count": 49,
   "id": "c336f429-1b7c-495f-8d22-5d157a0d1a1b",
   "metadata": {},
   "outputs": [
    {
     "name": "stdout",
     "output_type": "stream",
     "text": [
      "hello\n"
     ]
    }
   ],
   "source": [
    "print(\"hello\")"
   ]
  },
  {
   "cell_type": "code",
   "execution_count": 50,
   "id": "d8be1591-6b71-425e-b314-f0d635de5b84",
   "metadata": {},
   "outputs": [
    {
     "data": {
      "text/plain": [
       "False"
      ]
     },
     "execution_count": 50,
     "metadata": {},
     "output_type": "execute_result"
    }
   ],
   "source": [
    "str2.endswith(\"s\")"
   ]
  },
  {
   "cell_type": "code",
   "execution_count": 51,
   "id": "3c16ae99-807b-4e8f-bf16-36095185743a",
   "metadata": {},
   "outputs": [
    {
     "data": {
      "text/plain": [
       "True"
      ]
     },
     "execution_count": 51,
     "metadata": {},
     "output_type": "execute_result"
    }
   ],
   "source": [
    "str2.startswith(\"W\")"
   ]
  },
  {
   "cell_type": "code",
   "execution_count": 52,
   "id": "ee238565-e8e8-47e0-be85-4be0eb57337e",
   "metadata": {},
   "outputs": [
    {
     "data": {
      "text/plain": [
       "True"
      ]
     },
     "execution_count": 52,
     "metadata": {},
     "output_type": "execute_result"
    }
   ],
   "source": [
    "# check if all the char in string are alphanumeric\n",
    "a = \"abcd1234\"\n",
    "a.isalnum()"
   ]
  },
  {
   "cell_type": "code",
   "execution_count": 1,
   "id": "0a49ab55-3022-44e9-a9ba-7df0e6d18b10",
   "metadata": {},
   "outputs": [],
   "source": [
    "# To count the numberb of character in the string"
   ]
  },
  {
   "cell_type": "code",
   "execution_count": 54,
   "id": "af759ed3-c1e1-4cf2-87a9-a27b1c346be9",
   "metadata": {},
   "outputs": [
    {
     "name": "stdout",
     "output_type": "stream",
     "text": [
      "41\n"
     ]
    }
   ],
   "source": [
    "count = 0\n",
    "for i in str2:\n",
    "    count = count+1\n",
    "print(count)    "
   ]
  },
  {
   "cell_type": "code",
   "execution_count": 55,
   "id": "6c16ff19-2ad7-4243-a460-114193287a08",
   "metadata": {},
   "outputs": [
    {
     "data": {
      "text/plain": [
       "41"
      ]
     },
     "execution_count": 55,
     "metadata": {},
     "output_type": "execute_result"
    }
   ],
   "source": [
    "len(str2)"
   ]
  },
  {
   "cell_type": "code",
   "execution_count": 57,
   "id": "0cbc82fb-3ad4-49a0-be04-0cb8f6f8ef36",
   "metadata": {},
   "outputs": [
    {
     "name": "stdout",
     "output_type": "stream",
     "text": [
      "W e l c o m e   t o   W e s t   e n g a l .   W e l c o m e   t o   o l k a t a   "
     ]
    }
   ],
   "source": [
    "for i in str2:\n",
    "    print(i,end=\" \")"
   ]
  },
  {
   "cell_type": "code",
   "execution_count": 58,
   "id": "70199df7-3564-4f5c-a58f-9e4a41d12e94",
   "metadata": {},
   "outputs": [
    {
     "name": "stdout",
     "output_type": "stream",
     "text": [
      "W e l c o m e   t o   W e s t   e n g a l .   W e l c o m e   t o   o l k a t a   "
     ]
    }
   ],
   "source": [
    "for i in range(len(str2)):\n",
    "    print(str2[i],end=\" \")"
   ]
  },
  {
   "cell_type": "code",
   "execution_count": 8,
   "id": "88c54322-13f4-46e8-9bae-3c14b2a48e66",
   "metadata": {},
   "outputs": [
    {
     "data": {
      "text/plain": [
       "range(0, 41)"
      ]
     },
     "execution_count": 8,
     "metadata": {},
     "output_type": "execute_result"
    }
   ],
   "source": [
    "range(len(str2))"
   ]
  },
  {
   "cell_type": "code",
   "execution_count": 61,
   "id": "2ae8052f-911b-4e3c-a30c-033699d579e5",
   "metadata": {},
   "outputs": [
    {
     "name": "stdout",
     "output_type": "stream",
     "text": [
      "0 = W 1 = e 2 = l 3 = c 4 = o 5 = m 6 = e 7 =   8 = t 9 = o 10 =   11 = W 12 = e 13 = s 14 = t 15 =   16 = e 17 = n 18 = g 19 = a 20 = l 21 = . 22 =   23 = W 24 = e 25 = l 26 = c 27 = o 28 = m 29 = e 30 =   31 = t 32 = o 33 =   34 = o 35 = l 36 = k 37 = a 38 = t 39 = a 40 =   "
     ]
    }
   ],
   "source": [
    "for i in range(len(str2)):\n",
    "    print(i,\"=\",str2[i],end=\" \")"
   ]
  },
  {
   "cell_type": "code",
   "execution_count": 1,
   "id": "d0fb420e-9224-4791-9631-636bb580e81c",
   "metadata": {},
   "outputs": [],
   "source": [
    "# We can use index to iterate string reverse direction by using loop"
   ]
  },
  {
   "cell_type": "code",
   "execution_count": 24,
   "id": "c53f53bf-bc2e-4b75-8892-3c2d5f09421d",
   "metadata": {},
   "outputs": [],
   "source": [
    "str = \"Arghya Chatterjee\""
   ]
  },
  {
   "cell_type": "code",
   "execution_count": 25,
   "id": "42dc4137-50a2-4ad1-9839-1f95fa34f023",
   "metadata": {},
   "outputs": [
    {
     "data": {
      "text/plain": [
       "'eejrettahC ayhgrA'"
      ]
     },
     "execution_count": 25,
     "metadata": {},
     "output_type": "execute_result"
    }
   ],
   "source": [
    "str[::-1]"
   ]
  },
  {
   "cell_type": "code",
   "execution_count": 26,
   "id": "0ad51e01-d88a-47e8-a78b-dac435648344",
   "metadata": {},
   "outputs": [
    {
     "data": {
      "text/plain": [
       "16"
      ]
     },
     "execution_count": 26,
     "metadata": {},
     "output_type": "execute_result"
    }
   ],
   "source": [
    "len(str)-1"
   ]
  },
  {
   "cell_type": "code",
   "execution_count": 6,
   "id": "c22f0e4e-2218-439c-ae69-4ce14b081aca",
   "metadata": {},
   "outputs": [
    {
     "name": "stdout",
     "output_type": "stream",
     "text": [
      "e\n",
      "e\n",
      "j\n",
      "r\n",
      "e\n",
      "t\n",
      "t\n",
      "a\n",
      "h\n",
      "C\n",
      " \n",
      "a\n",
      "y\n",
      "h\n",
      "g\n",
      "r\n",
      "A\n"
     ]
    }
   ],
   "source": [
    "for i in range(len(str)-1,-1,-1):\n",
    "    print(str[i])"
   ]
  },
  {
   "cell_type": "code",
   "execution_count": 7,
   "id": "cc3b49d7-dbce-4512-a794-d192e32f1d2f",
   "metadata": {},
   "outputs": [
    {
     "name": "stdout",
     "output_type": "stream",
     "text": [
      "16 = e\n",
      "15 = e\n",
      "14 = j\n",
      "13 = r\n",
      "12 = e\n",
      "11 = t\n",
      "10 = t\n",
      "9 = a\n",
      "8 = h\n",
      "7 = C\n",
      "6 =  \n",
      "5 = a\n",
      "4 = y\n",
      "3 = h\n",
      "2 = g\n",
      "1 = r\n",
      "0 = A\n"
     ]
    }
   ],
   "source": [
    "for i in range(len(str)-1,-1,-1):\n",
    "    print(i,\"=\",str[i])"
   ]
  },
  {
   "cell_type": "code",
   "execution_count": 8,
   "id": "71f3c73f-32f1-4570-9095-3429e289a7e9",
   "metadata": {},
   "outputs": [
    {
     "name": "stdout",
     "output_type": "stream",
     "text": [
      "e\n",
      "e\n",
      "j\n",
      "r\n",
      "e\n",
      "t\n",
      "t\n",
      "a\n",
      "h\n",
      "C\n",
      " \n",
      "a\n",
      "y\n",
      "h\n",
      "g\n",
      "r\n",
      "A\n"
     ]
    }
   ],
   "source": [
    "ch = len(str)-1\n",
    "while ch >= 0:\n",
    "    print(str[ch])\n",
    "    ch = ch-1"
   ]
  },
  {
   "cell_type": "code",
   "execution_count": 9,
   "id": "ede5692b-4190-46d0-aef5-fce269ae0feb",
   "metadata": {},
   "outputs": [
    {
     "name": "stdout",
     "output_type": "stream",
     "text": [
      "16 = e\n",
      "15 = e\n",
      "14 = j\n",
      "13 = r\n",
      "12 = e\n",
      "11 = t\n",
      "10 = t\n",
      "9 = a\n",
      "8 = h\n",
      "7 = C\n",
      "6 =  \n",
      "5 = a\n",
      "4 = y\n",
      "3 = h\n",
      "2 = g\n",
      "1 = r\n",
      "0 = A\n"
     ]
    }
   ],
   "source": [
    "ch = len(str)-1\n",
    "while ch >= 0:\n",
    "    print(ch,\"=\",str[ch])\n",
    "    ch = ch-1"
   ]
  },
  {
   "cell_type": "code",
   "execution_count": 17,
   "id": "d8482d29-5ed6-40e1-a2a7-757db9b3c8b6",
   "metadata": {},
   "outputs": [
    {
     "name": "stdout",
     "output_type": "stream",
     "text": [
      "0 = A\n",
      "1 = r\n",
      "2 = g\n",
      "3 = h\n",
      "4 = y\n",
      "5 = a\n",
      "6 =  \n",
      "7 = C\n",
      "8 = h\n",
      "9 = a\n",
      "10 = t\n",
      "11 = t\n",
      "12 = e\n",
      "13 = r\n",
      "14 = j\n",
      "15 = e\n",
      "16 = e\n"
     ]
    }
   ],
   "source": [
    "i = 0\n",
    "while i < len(str):\n",
    "    print(i,\"=\",str[i])\n",
    "    i +=1\n"
   ]
  },
  {
   "cell_type": "code",
   "execution_count": 28,
   "id": "ef820734-8661-42f9-bc92-f9dfbe300453",
   "metadata": {},
   "outputs": [
    {
     "name": "stdout",
     "output_type": "stream",
     "text": [
      "A\n",
      "r\n",
      "g\n",
      "h\n",
      "y\n",
      "a\n",
      " \n",
      "C\n",
      "h\n",
      "a\n",
      "t\n",
      "t\n",
      "e\n",
      "r\n",
      "j\n",
      "e\n",
      "e\n"
     ]
    }
   ],
   "source": [
    "for i in range(len(str)):\n",
    "    print(str[i])"
   ]
  },
  {
   "cell_type": "code",
   "execution_count": 37,
   "id": "64521697-af0b-4da1-93de-32ec5f046fbe",
   "metadata": {},
   "outputs": [
    {
     "data": {
      "text/plain": [
       "str"
      ]
     },
     "execution_count": 37,
     "metadata": {},
     "output_type": "execute_result"
    }
   ],
   "source": [
    "name = \"Arghya Chatterjee\"\n",
    "vowels = \"AaEeIiOoUu\"\n",
    "type(name)"
   ]
  },
  {
   "cell_type": "code",
   "execution_count": 20,
   "id": "8740c8f3-f32b-4356-a116-dcfb6c398117",
   "metadata": {},
   "outputs": [
    {
     "name": "stdout",
     "output_type": "stream",
     "text": [
      "A\n",
      "r\n",
      "g\n",
      "h\n",
      "y\n",
      "a\n",
      " \n",
      "C\n",
      "h\n",
      "a\n",
      "t\n",
      "t\n",
      "e\n",
      "r\n",
      "j\n",
      "e\n",
      "e\n"
     ]
    }
   ],
   "source": [
    "for ch in name:\n",
    "    print(ch)"
   ]
  },
  {
   "cell_type": "code",
   "execution_count": 30,
   "id": "42ca8dff-06ae-4290-b8a9-c62807ea49b7",
   "metadata": {},
   "outputs": [
    {
     "name": "stdout",
     "output_type": "stream",
     "text": [
      "A is a vowel\n",
      "r is consonant\n",
      "g is consonant\n",
      "h is consonant\n",
      "y is consonant\n",
      "a is a vowel\n",
      "  is consonant\n",
      "C is consonant\n",
      "h is consonant\n",
      "a is a vowel\n",
      "t is consonant\n",
      "t is consonant\n",
      "e is a vowel\n",
      "r is consonant\n",
      "j is consonant\n",
      "e is a vowel\n",
      "e is a vowel\n"
     ]
    }
   ],
   "source": [
    "for ch in name:\n",
    "    if ch in vowels:\n",
    "        print(f\"{ch} is a vowel\")\n",
    "    else:\n",
    "        print(f\"{ch} is consonant\")"
   ]
  },
  {
   "cell_type": "markdown",
   "id": "33899fc0-63a4-4bf4-a6b0-a254adbcad8f",
   "metadata": {},
   "source": [
    "## List"
   ]
  },
  {
   "cell_type": "code",
   "execution_count": 36,
   "id": "45f7f97b-7ed9-49f9-a4f5-8aaeca7f2bb8",
   "metadata": {},
   "outputs": [
    {
     "data": {
      "text/plain": [
       "[]"
      ]
     },
     "execution_count": 36,
     "metadata": {},
     "output_type": "execute_result"
    }
   ],
   "source": [
    "list()"
   ]
  },
  {
   "cell_type": "code",
   "execution_count": 33,
   "id": "f5100f52-ec23-4a3e-8b98-f41a6cbe32e6",
   "metadata": {},
   "outputs": [
    {
     "data": {
      "text/plain": [
       "list"
      ]
     },
     "execution_count": 33,
     "metadata": {},
     "output_type": "execute_result"
    }
   ],
   "source": [
    "type([])"
   ]
  },
  {
   "cell_type": "code",
   "execution_count": 34,
   "id": "29140bc3-2526-41e6-9808-059151761f31",
   "metadata": {},
   "outputs": [
    {
     "data": {
      "text/plain": [
       "['Arghya', 'Chatterjee', 'Data Science', 23]"
      ]
     },
     "execution_count": 34,
     "metadata": {},
     "output_type": "execute_result"
    }
   ],
   "source": [
    "[\"Arghya\",\"Chatterjee\",\"Data Science\",23]"
   ]
  },
  {
   "cell_type": "code",
   "execution_count": 35,
   "id": "cb2989d8-2e7d-49a4-be53-fc4e8d94cf15",
   "metadata": {},
   "outputs": [
    {
     "data": {
      "text/plain": [
       "list[1, 2, 3, 4, 5]"
      ]
     },
     "execution_count": 35,
     "metadata": {},
     "output_type": "execute_result"
    }
   ],
   "source": [
    "list[1,2,3,4,5]"
   ]
  },
  {
   "cell_type": "code",
   "execution_count": 43,
   "id": "51a04533-a5e3-4f6b-bd64-558a2ffed493",
   "metadata": {},
   "outputs": [
    {
     "data": {
      "text/plain": [
       "['A', 'R', 'G', 'H', 'Y', 'A']"
      ]
     },
     "execution_count": 43,
     "metadata": {},
     "output_type": "execute_result"
    }
   ],
   "source": [
    "list(str3)"
   ]
  },
  {
   "cell_type": "code",
   "execution_count": 1,
   "id": "9eaffd4a-74c7-487e-94f1-98af1282af55",
   "metadata": {},
   "outputs": [],
   "source": [
    "st = \"Data Science Masters\""
   ]
  },
  {
   "cell_type": "code",
   "execution_count": 2,
   "id": "576628a2-9fb6-401e-b78e-37c10c06c1af",
   "metadata": {},
   "outputs": [
    {
     "data": {
      "text/plain": [
       "['D',\n",
       " 'a',\n",
       " 't',\n",
       " 'a',\n",
       " ' ',\n",
       " 'S',\n",
       " 'c',\n",
       " 'i',\n",
       " 'e',\n",
       " 'n',\n",
       " 'c',\n",
       " 'e',\n",
       " ' ',\n",
       " 'M',\n",
       " 'a',\n",
       " 's',\n",
       " 't',\n",
       " 'e',\n",
       " 'r',\n",
       " 's']"
      ]
     },
     "execution_count": 2,
     "metadata": {},
     "output_type": "execute_result"
    }
   ],
   "source": [
    "list(st)"
   ]
  },
  {
   "cell_type": "code",
   "execution_count": 3,
   "id": "7d35513b-8611-4673-a74c-02d24903b0dd",
   "metadata": {},
   "outputs": [],
   "source": [
    "lst=list(st.split(\" \"))"
   ]
  },
  {
   "cell_type": "code",
   "execution_count": 4,
   "id": "38bfa877-605d-4784-ab8c-30adc637c2b6",
   "metadata": {},
   "outputs": [
    {
     "data": {
      "text/plain": [
       "['Data', 'Science', 'Masters']"
      ]
     },
     "execution_count": 4,
     "metadata": {},
     "output_type": "execute_result"
    }
   ],
   "source": [
    "st.split(\" \") # return type of string function is also giving you a list in string"
   ]
  },
  {
   "cell_type": "code",
   "execution_count": 60,
   "id": "005122f0-b517-42f3-a864-a07bf867c074",
   "metadata": {},
   "outputs": [
    {
     "data": {
      "text/plain": [
       "'Science'"
      ]
     },
     "execution_count": 60,
     "metadata": {},
     "output_type": "execute_result"
    }
   ],
   "source": [
    "lst[1]"
   ]
  },
  {
   "cell_type": "code",
   "execution_count": 61,
   "id": "efa9dd6f-cd64-41c5-b73e-3d20ea6e363c",
   "metadata": {},
   "outputs": [
    {
     "data": {
      "text/plain": [
       "['Science', 'Masters']"
      ]
     },
     "execution_count": 61,
     "metadata": {},
     "output_type": "execute_result"
    }
   ],
   "source": [
    "lst[1:]"
   ]
  },
  {
   "cell_type": "code",
   "execution_count": 65,
   "id": "af9b5d9a-5ef8-49f7-8744-aacd70f8d417",
   "metadata": {},
   "outputs": [],
   "source": [
    "lst[2]=\"& ML\"  # list is mutable"
   ]
  },
  {
   "cell_type": "code",
   "execution_count": 64,
   "id": "7ab5b028-420c-45b5-bc73-c943bcfa116a",
   "metadata": {},
   "outputs": [
    {
     "data": {
      "text/plain": [
       "['Data', 'Science', '& ML']"
      ]
     },
     "execution_count": 64,
     "metadata": {},
     "output_type": "execute_result"
    }
   ],
   "source": [
    "lst"
   ]
  },
  {
   "cell_type": "code",
   "execution_count": 66,
   "id": "b060076d-e833-4694-9437-539ffcd975ed",
   "metadata": {},
   "outputs": [
    {
     "data": {
      "text/plain": [
       "'& ML'"
      ]
     },
     "execution_count": 66,
     "metadata": {},
     "output_type": "execute_result"
    }
   ],
   "source": [
    "lst[-1]"
   ]
  },
  {
   "cell_type": "code",
   "execution_count": 69,
   "id": "64bcb471-4086-4527-a7b7-ca2457f837ce",
   "metadata": {},
   "outputs": [
    {
     "data": {
      "text/plain": [
       "['& ML', 'Science', 'Data']"
      ]
     },
     "execution_count": 69,
     "metadata": {},
     "output_type": "execute_result"
    }
   ],
   "source": [
    "lst[::-1]"
   ]
  },
  {
   "cell_type": "code",
   "execution_count": 5,
   "id": "4055340e-01ec-415d-be27-c2ea4e449b76",
   "metadata": {},
   "outputs": [
    {
     "data": {
      "text/plain": [
       "['Data']"
      ]
     },
     "execution_count": 5,
     "metadata": {},
     "output_type": "execute_result"
    }
   ],
   "source": [
    "lst[-3::-1]"
   ]
  },
  {
   "cell_type": "code",
   "execution_count": 6,
   "id": "0fa53d54-cdd2-4130-b3d5-43aba21c8289",
   "metadata": {},
   "outputs": [
    {
     "data": {
      "text/plain": [
       "['Data', 'Science', 'Masters']"
      ]
     },
     "execution_count": 6,
     "metadata": {},
     "output_type": "execute_result"
    }
   ],
   "source": [
    "lst"
   ]
  },
  {
   "cell_type": "code",
   "execution_count": 7,
   "id": "5ab51566-feee-4705-8798-3497fef9265f",
   "metadata": {},
   "outputs": [
    {
     "data": {
      "text/plain": [
       "['Data', 'Science', 'Masters', 'AI', 'ML']"
      ]
     },
     "execution_count": 7,
     "metadata": {},
     "output_type": "execute_result"
    }
   ],
   "source": [
    "#cancatenation\n",
    "lst + [\"AI\",\"ML\"]"
   ]
  },
  {
   "cell_type": "code",
   "execution_count": 11,
   "id": "d09ab542-7959-4fec-a989-a12a017e77a6",
   "metadata": {},
   "outputs": [],
   "source": [
    "lst1 = lst + [[\"AI\",\"ML\"]] #multi nested list"
   ]
  },
  {
   "cell_type": "code",
   "execution_count": 12,
   "id": "3ce22c0d-5325-496e-a136-3ed127418dbf",
   "metadata": {},
   "outputs": [
    {
     "data": {
      "text/plain": [
       "['Data', 'Science', 'Masters', ['AI', 'ML']]"
      ]
     },
     "execution_count": 12,
     "metadata": {},
     "output_type": "execute_result"
    }
   ],
   "source": [
    "lst1"
   ]
  },
  {
   "cell_type": "code",
   "execution_count": 13,
   "id": "a58defc5-7770-4a95-a12a-8e9416f9ccd4",
   "metadata": {},
   "outputs": [
    {
     "data": {
      "text/plain": [
       "['AI', 'ML']"
      ]
     },
     "execution_count": 13,
     "metadata": {},
     "output_type": "execute_result"
    }
   ],
   "source": [
    "lst1[-1]"
   ]
  },
  {
   "cell_type": "code",
   "execution_count": 15,
   "id": "4a32698c-5423-4419-bb80-ce08ecb360f9",
   "metadata": {},
   "outputs": [
    {
     "data": {
      "text/plain": [
       "'AI'"
      ]
     },
     "execution_count": 15,
     "metadata": {},
     "output_type": "execute_result"
    }
   ],
   "source": [
    "lst1[-1][0]"
   ]
  },
  {
   "cell_type": "code",
   "execution_count": 18,
   "id": "49651265-bc27-4ebe-995e-6fd19171ea05",
   "metadata": {},
   "outputs": [
    {
     "data": {
      "text/plain": [
       "'ML'"
      ]
     },
     "execution_count": 18,
     "metadata": {},
     "output_type": "execute_result"
    }
   ],
   "source": [
    "lst1[-1][1]"
   ]
  },
  {
   "cell_type": "code",
   "execution_count": 19,
   "id": "b7545fe8-3197-4dbf-b5d2-068e46dc1c87",
   "metadata": {},
   "outputs": [],
   "source": [
    "lst1[-1][1]= \"Machine Learning\""
   ]
  },
  {
   "cell_type": "code",
   "execution_count": 20,
   "id": "09ea1ebe-4718-4b57-99e7-e71681d7903f",
   "metadata": {},
   "outputs": [
    {
     "data": {
      "text/plain": [
       "['Data', 'Science', 'Masters', ['AI', 'Machine Learning']]"
      ]
     },
     "execution_count": 20,
     "metadata": {},
     "output_type": "execute_result"
    }
   ],
   "source": [
    "lst1"
   ]
  },
  {
   "cell_type": "code",
   "execution_count": 21,
   "id": "354c4e99-cac8-444d-98e6-d73e1a07d15b",
   "metadata": {},
   "outputs": [
    {
     "data": {
      "text/plain": [
       "['Data',\n",
       " 'Science',\n",
       " 'Masters',\n",
       " ['AI', 'Machine Learning'],\n",
       " 'Data',\n",
       " 'Science',\n",
       " 'Masters',\n",
       " ['AI', 'Machine Learning']]"
      ]
     },
     "execution_count": 21,
     "metadata": {},
     "output_type": "execute_result"
    }
   ],
   "source": [
    "lst1*2"
   ]
  },
  {
   "cell_type": "code",
   "execution_count": 48,
   "id": "df5f91e5-5859-45be-82a8-2917a12309cf",
   "metadata": {},
   "outputs": [
    {
     "name": "stdout",
     "output_type": "stream",
     "text": [
      "present\n"
     ]
    }
   ],
   "source": [
    "for i in lst1:\n",
    "    if \"Masters\" in lst1:\n",
    "        print(\"present\")\n",
    "        break\n",
    "    else:\n",
    "        print(i)"
   ]
  },
  {
   "cell_type": "code",
   "execution_count": 43,
   "id": "ae953752-1f5e-4983-9544-7eac68585075",
   "metadata": {},
   "outputs": [
    {
     "name": "stdout",
     "output_type": "stream",
     "text": [
      "Masters is found\n"
     ]
    }
   ],
   "source": [
    "for i in lst1:\n",
    "    if i == \"Masters\":\n",
    "        print(i,\"is found\")\n",
    "        break"
   ]
  },
  {
   "cell_type": "code",
   "execution_count": 49,
   "id": "7170bd8d-402b-49e1-a099-f9e4e4a80f27",
   "metadata": {},
   "outputs": [],
   "source": [
    "lst2=[\"Zebra\",\"Monkey\",\"Donkey\",\"Lion\"]\n",
    "lst3=[5,6,2,9,5,8,6]"
   ]
  },
  {
   "cell_type": "code",
   "execution_count": 53,
   "id": "fe3e78e3-df6c-4862-84be-2fb1fbdb1bf7",
   "metadata": {},
   "outputs": [
    {
     "name": "stdout",
     "output_type": "stream",
     "text": [
      "Zebra\n",
      "Donkey\n"
     ]
    }
   ],
   "source": [
    "print(max(lst2))\n",
    "print(min(lst2))  # evaluate ascii value"
   ]
  },
  {
   "cell_type": "code",
   "execution_count": 52,
   "id": "254617ad-2360-48be-84d7-c2b41530cf97",
   "metadata": {},
   "outputs": [
    {
     "name": "stdout",
     "output_type": "stream",
     "text": [
      "9\n",
      "2\n"
     ]
    }
   ],
   "source": [
    "print(max(lst3))\n",
    "print(min(lst3))"
   ]
  },
  {
   "cell_type": "code",
   "execution_count": 54,
   "id": "9841023c-747b-4b14-9098-e70853e08f58",
   "metadata": {},
   "outputs": [],
   "source": [
    "## Append \n",
    "lst3=[5,6,2,9,5,8,6]\n",
    "lst3.append(7)"
   ]
  },
  {
   "cell_type": "code",
   "execution_count": 55,
   "id": "24317e48-add1-4b56-a48d-c1fec5557062",
   "metadata": {},
   "outputs": [
    {
     "data": {
      "text/plain": [
       "[5, 6, 2, 9, 5, 8, 6, 7]"
      ]
     },
     "execution_count": 55,
     "metadata": {},
     "output_type": "execute_result"
    }
   ],
   "source": [
    "lst3"
   ]
  },
  {
   "cell_type": "code",
   "execution_count": 60,
   "id": "421f647d-eea0-49e6-97f8-4e0cc8728dad",
   "metadata": {},
   "outputs": [
    {
     "data": {
      "text/plain": [
       "'Lion'"
      ]
     },
     "execution_count": 60,
     "metadata": {},
     "output_type": "execute_result"
    }
   ],
   "source": [
    "lst2=[\"Zebra\",\"Monkey\",\"Donkey\",\"Lion\"]\n",
    "lst2.pop()"
   ]
  },
  {
   "cell_type": "code",
   "execution_count": 57,
   "id": "871716ae-dc92-43ad-a689-85ede1b653f5",
   "metadata": {},
   "outputs": [
    {
     "data": {
      "text/plain": [
       "['Zebra', 'Monkey', 'Donkey']"
      ]
     },
     "execution_count": 57,
     "metadata": {},
     "output_type": "execute_result"
    }
   ],
   "source": [
    "lst2"
   ]
  },
  {
   "cell_type": "code",
   "execution_count": 58,
   "id": "b2636cb1-0c36-43d1-afd6-a4a57b881525",
   "metadata": {},
   "outputs": [
    {
     "data": {
      "text/plain": [
       "'Donkey'"
      ]
     },
     "execution_count": 58,
     "metadata": {},
     "output_type": "execute_result"
    }
   ],
   "source": [
    "lst2.pop(2)"
   ]
  },
  {
   "cell_type": "code",
   "execution_count": 59,
   "id": "1bf87629-28c9-41c7-98e4-42f30fedad12",
   "metadata": {},
   "outputs": [
    {
     "data": {
      "text/plain": [
       "['Zebra', 'Monkey']"
      ]
     },
     "execution_count": 59,
     "metadata": {},
     "output_type": "execute_result"
    }
   ],
   "source": [
    "lst2"
   ]
  },
  {
   "cell_type": "code",
   "execution_count": 61,
   "id": "7f1da5ff-330a-4ca0-8510-fe5a6d15909f",
   "metadata": {},
   "outputs": [],
   "source": [
    "lst2=[\"Zebra\",\"Monkey\",\"Donkey\",\"Lion\"]\n",
    "\n",
    "removed_element=lst2.pop(0)"
   ]
  },
  {
   "cell_type": "code",
   "execution_count": 62,
   "id": "2107f78b-a8f4-4b7a-b451-05fdcba3031b",
   "metadata": {},
   "outputs": [
    {
     "data": {
      "text/plain": [
       "'Zebra'"
      ]
     },
     "execution_count": 62,
     "metadata": {},
     "output_type": "execute_result"
    }
   ],
   "source": [
    "removed_element"
   ]
  },
  {
   "cell_type": "code",
   "execution_count": 1,
   "id": "b933a9d6-0e20-4901-ab49-393f55ef21f6",
   "metadata": {},
   "outputs": [],
   "source": [
    "# Sorting and Reverse method in list"
   ]
  },
  {
   "cell_type": "code",
   "execution_count": 20,
   "id": "bbce1a44-f846-4ea7-ae70-6e7e501b50c9",
   "metadata": {},
   "outputs": [
    {
     "data": {
      "text/plain": [
       "['q', 'e', 'f', 's', 't', 'u']"
      ]
     },
     "execution_count": 20,
     "metadata": {},
     "output_type": "execute_result"
    }
   ],
   "source": [
    "new_list = ['q','e','f','s','t','u']\n",
    "new_list"
   ]
  },
  {
   "cell_type": "code",
   "execution_count": 21,
   "id": "debb74e8-8b97-4e5a-badf-be0205aea402",
   "metadata": {},
   "outputs": [
    {
     "data": {
      "text/plain": [
       "['u', 't', 's', 'f', 'e', 'q']"
      ]
     },
     "execution_count": 21,
     "metadata": {},
     "output_type": "execute_result"
    }
   ],
   "source": [
    "new_list[::-1]"
   ]
  },
  {
   "cell_type": "code",
   "execution_count": 22,
   "id": "d078260b-56ff-4546-bd1a-3df94089f658",
   "metadata": {},
   "outputs": [],
   "source": [
    "## inplace operator\n",
    "new_list.reverse()"
   ]
  },
  {
   "cell_type": "code",
   "execution_count": 23,
   "id": "ee176cad-634f-4bb4-af93-185bcc61dbf7",
   "metadata": {},
   "outputs": [
    {
     "data": {
      "text/plain": [
       "['u', 't', 's', 'f', 'e', 'q']"
      ]
     },
     "execution_count": 23,
     "metadata": {},
     "output_type": "execute_result"
    }
   ],
   "source": [
    "new_list"
   ]
  },
  {
   "cell_type": "code",
   "execution_count": 24,
   "id": "71e6b2b4-bffe-489c-8dfd-684246861232",
   "metadata": {},
   "outputs": [],
   "source": [
    "new_list.sort()"
   ]
  },
  {
   "cell_type": "code",
   "execution_count": 25,
   "id": "9469c4e5-5147-4d17-a63d-0ab541eed458",
   "metadata": {},
   "outputs": [
    {
     "data": {
      "text/plain": [
       "['e', 'f', 'q', 's', 't', 'u']"
      ]
     },
     "execution_count": 25,
     "metadata": {},
     "output_type": "execute_result"
    }
   ],
   "source": [
    "new_list"
   ]
  },
  {
   "cell_type": "code",
   "execution_count": 26,
   "id": "56cbd53b-d339-4a21-bb64-d639dcab7528",
   "metadata": {},
   "outputs": [],
   "source": [
    "new_list.sort(reverse=True)"
   ]
  },
  {
   "cell_type": "code",
   "execution_count": 27,
   "id": "04736e87-2d45-481d-98c2-6819b50712a8",
   "metadata": {},
   "outputs": [
    {
     "data": {
      "text/plain": [
       "['u', 't', 's', 'q', 'f', 'e']"
      ]
     },
     "execution_count": 27,
     "metadata": {},
     "output_type": "execute_result"
    }
   ],
   "source": [
    "new_list"
   ]
  },
  {
   "cell_type": "code",
   "execution_count": 28,
   "id": "47b4e24c-644e-4446-b807-48cdfff0fabb",
   "metadata": {},
   "outputs": [],
   "source": [
    "# extend\n",
    "new_list.extend(['k','b'])"
   ]
  },
  {
   "cell_type": "code",
   "execution_count": 29,
   "id": "db0910e9-7c58-4b94-a115-c01fb49f8385",
   "metadata": {},
   "outputs": [
    {
     "data": {
      "text/plain": [
       "['u', 't', 's', 'q', 'f', 'e', 'k', 'b']"
      ]
     },
     "execution_count": 29,
     "metadata": {},
     "output_type": "execute_result"
    }
   ],
   "source": [
    "new_list"
   ]
  },
  {
   "cell_type": "markdown",
   "id": "b4629a8a-8db7-4b9e-a9aa-813adc0de15e",
   "metadata": {},
   "source": [
    "## Nested List"
   ]
  },
  {
   "cell_type": "code",
   "execution_count": 30,
   "id": "97a18f4b-9211-4f91-ac3d-011fc803c086",
   "metadata": {},
   "outputs": [],
   "source": [
    "# Let's make three lists\n",
    "lst_1=[1,2,3]\n",
    "lst_2=[4,5,6]\n",
    "lst_3=[7,8,9]\n",
    "\n",
    "# Make a list of lists to form a matrix\n",
    "matrix = [lst_1,lst_2,lst_3]"
   ]
  },
  {
   "cell_type": "code",
   "execution_count": 31,
   "id": "344a70c7-9676-4d3f-be8f-876b4d4550ed",
   "metadata": {},
   "outputs": [
    {
     "data": {
      "text/plain": [
       "[[1, 2, 3], [4, 5, 6], [7, 8, 9]]"
      ]
     },
     "execution_count": 31,
     "metadata": {},
     "output_type": "execute_result"
    }
   ],
   "source": [
    "matrix"
   ]
  },
  {
   "cell_type": "code",
   "execution_count": 32,
   "id": "53dcea17-8a90-4307-8f25-e6c5d41c3155",
   "metadata": {},
   "outputs": [
    {
     "data": {
      "text/plain": [
       "[1, 2, 3]"
      ]
     },
     "execution_count": 32,
     "metadata": {},
     "output_type": "execute_result"
    }
   ],
   "source": [
    "matrix[0]"
   ]
  },
  {
   "cell_type": "code",
   "execution_count": 33,
   "id": "66fc4211-c147-4a1b-92d4-6b33da705a94",
   "metadata": {},
   "outputs": [
    {
     "data": {
      "text/plain": [
       "[4, 5, 6]"
      ]
     },
     "execution_count": 33,
     "metadata": {},
     "output_type": "execute_result"
    }
   ],
   "source": [
    "matrix[1]"
   ]
  },
  {
   "cell_type": "code",
   "execution_count": 34,
   "id": "ea76cdb0-4f66-47a6-be70-12925ddfb1c8",
   "metadata": {},
   "outputs": [
    {
     "data": {
      "text/plain": [
       "6"
      ]
     },
     "execution_count": 34,
     "metadata": {},
     "output_type": "execute_result"
    }
   ],
   "source": [
    "matrix[1][2]"
   ]
  },
  {
   "cell_type": "code",
   "execution_count": 35,
   "id": "c0d2bdc7-7915-4e28-9fb8-1668d81be747",
   "metadata": {},
   "outputs": [
    {
     "data": {
      "text/plain": [
       "[8, 9]"
      ]
     },
     "execution_count": 35,
     "metadata": {},
     "output_type": "execute_result"
    }
   ],
   "source": [
    "matrix[2][1:]"
   ]
  },
  {
   "cell_type": "code",
   "execution_count": 36,
   "id": "0cdb9148-4657-480d-8908-c04203f10e55",
   "metadata": {},
   "outputs": [
    {
     "data": {
      "text/plain": [
       "[[1, 2, 3], [4, 5, 6]]"
      ]
     },
     "execution_count": 36,
     "metadata": {},
     "output_type": "execute_result"
    }
   ],
   "source": [
    "matrix[0:2]"
   ]
  },
  {
   "cell_type": "code",
   "execution_count": 38,
   "id": "cab1352b-3e4c-4a52-b9f7-76d855531b33",
   "metadata": {},
   "outputs": [
    {
     "data": {
      "text/plain": [
       "[0, 1, 2, 3, 4, 5, 6, 7, 8, 9, 10, 11, 12, 13, 14, 15, 16, 17, 18, 19]"
      ]
     },
     "execution_count": 38,
     "metadata": {},
     "output_type": "execute_result"
    }
   ],
   "source": [
    "# List comprehension\n",
    "[i for i in range(20)]"
   ]
  },
  {
   "cell_type": "code",
   "execution_count": 40,
   "id": "a743ce8b-c4d0-4921-b31e-980f2945f338",
   "metadata": {},
   "outputs": [
    {
     "data": {
      "text/plain": [
       "[0,\n",
       " 'ODD',\n",
       " 2,\n",
       " 'ODD',\n",
       " 4,\n",
       " 'ODD',\n",
       " 6,\n",
       " 'ODD',\n",
       " 8,\n",
       " 'ODD',\n",
       " 10,\n",
       " 'ODD',\n",
       " 12,\n",
       " 'ODD',\n",
       " 14,\n",
       " 'ODD',\n",
       " 16,\n",
       " 'ODD',\n",
       " 18,\n",
       " 'ODD']"
      ]
     },
     "execution_count": 40,
     "metadata": {},
     "output_type": "execute_result"
    }
   ],
   "source": [
    "# List comprehension\n",
    "# Even numbers\n",
    "[i if i%2==0 else \"ODD\" for i in range(20)]"
   ]
  },
  {
   "cell_type": "code",
   "execution_count": 43,
   "id": "e439ced2-a710-4da6-9c05-03b80b9cfecf",
   "metadata": {},
   "outputs": [
    {
     "data": {
      "text/plain": [
       "[0, 1, 2, 3, 4, 5, 6, 7, 8, 9, 10, 11, 12, 13, 14, 15, 16, 17, 18, 19]"
      ]
     },
     "execution_count": 43,
     "metadata": {},
     "output_type": "execute_result"
    }
   ],
   "source": [
    "[i for i in range(0,20)]"
   ]
  },
  {
   "cell_type": "code",
   "execution_count": 44,
   "id": "3de51998-d95f-4d1b-988c-e861eeae050d",
   "metadata": {},
   "outputs": [
    {
     "data": {
      "text/plain": [
       "['EVEN',\n",
       " 1,\n",
       " 'EVEN',\n",
       " 3,\n",
       " 'EVEN',\n",
       " 5,\n",
       " 'EVEN',\n",
       " 7,\n",
       " 'EVEN',\n",
       " 9,\n",
       " 'EVEN',\n",
       " 11,\n",
       " 'EVEN',\n",
       " 13,\n",
       " 'EVEN',\n",
       " 15,\n",
       " 'EVEN',\n",
       " 17,\n",
       " 'EVEN',\n",
       " 19]"
      ]
     },
     "execution_count": 44,
     "metadata": {},
     "output_type": "execute_result"
    }
   ],
   "source": [
    "[i if i%2!=0 else \"EVEN\" for i in range(20)]"
   ]
  },
  {
   "cell_type": "code",
   "execution_count": 45,
   "id": "81561371-1619-4acc-ac17-0f352052e20a",
   "metadata": {},
   "outputs": [],
   "source": [
    "## Assignment\n",
    "## Sum of even numbers and odd numbers\n",
    "lst=[1,2,3,4,5,6,7,8]"
   ]
  },
  {
   "cell_type": "code",
   "execution_count": 46,
   "id": "968f12d9-5502-4a1e-a408-9f41c0377d03",
   "metadata": {},
   "outputs": [
    {
     "name": "stdout",
     "output_type": "stream",
     "text": [
      "20\n",
      "16\n"
     ]
    }
   ],
   "source": [
    "lst=[1,2,3,4,5,6,7,8]\n",
    "even_sum=0\n",
    "odd_sum=0\n",
    "for i in lst:\n",
    "    if i%2==0:\n",
    "        even_sum += i\n",
    "    else:\n",
    "        odd_sum += i\n",
    "print(even_sum)    \n",
    "print(odd_sum)"
   ]
  },
  {
   "cell_type": "code",
   "execution_count": 48,
   "id": "965c01f1-a1cd-4b66-8866-1dd2254133f9",
   "metadata": {},
   "outputs": [
    {
     "data": {
      "text/plain": [
       "[2, 4, 6, 8]"
      ]
     },
     "execution_count": 48,
     "metadata": {},
     "output_type": "execute_result"
    }
   ],
   "source": [
    "[num for num in lst if num%2==0]"
   ]
  },
  {
   "cell_type": "code",
   "execution_count": 49,
   "id": "0d4bd6b1-058a-4af8-97cb-3420ebbfb8fb",
   "metadata": {},
   "outputs": [
    {
     "data": {
      "text/plain": [
       "[1, 3, 5, 7]"
      ]
     },
     "execution_count": 49,
     "metadata": {},
     "output_type": "execute_result"
    }
   ],
   "source": [
    "[num for num in lst if num%2!=0]"
   ]
  },
  {
   "cell_type": "code",
   "execution_count": 51,
   "id": "8b1aa03a-8475-4636-80b4-fde18e7dbcb1",
   "metadata": {},
   "outputs": [],
   "source": [
    "even_sum=sum([num for num in lst if num%2==0])"
   ]
  },
  {
   "cell_type": "code",
   "execution_count": 52,
   "id": "84fb4ae8-c86f-4ead-94cb-2e09a01db85f",
   "metadata": {},
   "outputs": [
    {
     "data": {
      "text/plain": [
       "20"
      ]
     },
     "execution_count": 52,
     "metadata": {},
     "output_type": "execute_result"
    }
   ],
   "source": [
    "even_sum"
   ]
  },
  {
   "cell_type": "code",
   "execution_count": 53,
   "id": "b6e8b7a6-ff75-4947-87ba-e800201fc78b",
   "metadata": {},
   "outputs": [],
   "source": [
    "odd_sum=sum([num for num in lst if num%2!=0])"
   ]
  },
  {
   "cell_type": "code",
   "execution_count": 54,
   "id": "4609137d-4579-4d6b-a18c-11fc8b628d6a",
   "metadata": {},
   "outputs": [
    {
     "data": {
      "text/plain": [
       "16"
      ]
     },
     "execution_count": 54,
     "metadata": {},
     "output_type": "execute_result"
    }
   ],
   "source": [
    "odd_sum"
   ]
  },
  {
   "cell_type": "code",
   "execution_count": 55,
   "id": "ca2d7441-ab25-4f3b-b52a-95f5b7f215d7",
   "metadata": {},
   "outputs": [
    {
     "data": {
      "text/plain": [
       "[1, 4, 9, 16, 25, 36, 49, 64]"
      ]
     },
     "execution_count": 55,
     "metadata": {},
     "output_type": "execute_result"
    }
   ],
   "source": [
    "# To square every element in list\n",
    "lst=[1,2,3,4,5,6,7,8]\n",
    "[num**2 for num in lst]"
   ]
  },
  {
   "cell_type": "code",
   "execution_count": 56,
   "id": "e551b9e1-f05a-410c-b5c4-6332b3abd9c3",
   "metadata": {},
   "outputs": [],
   "source": [
    "# Create a list of only the positive numbers from a given list\n",
    "numbers = [-2,-1,0,1,2,3,4]"
   ]
  },
  {
   "cell_type": "code",
   "execution_count": 57,
   "id": "8c0c9df1-caa5-4689-a3e7-64a8db755b17",
   "metadata": {},
   "outputs": [
    {
     "data": {
      "text/plain": [
       "[1, 2, 3, 4]"
      ]
     },
     "execution_count": 57,
     "metadata": {},
     "output_type": "execute_result"
    }
   ],
   "source": [
    "[num for num in numbers if num > 0]"
   ]
  },
  {
   "cell_type": "code",
   "execution_count": 58,
   "id": "628386cb-d77a-4b4d-b105-38567d2cb61c",
   "metadata": {},
   "outputs": [],
   "source": [
    "# Create a list of only the first letters of words in a list\n",
    "words = ['apple','banana','cherry','date']"
   ]
  },
  {
   "cell_type": "code",
   "execution_count": 61,
   "id": "db345cce-4b1f-4fa8-8422-af593b077ba3",
   "metadata": {},
   "outputs": [
    {
     "data": {
      "text/plain": [
       "['a', 'b', 'c', 'd']"
      ]
     },
     "execution_count": 61,
     "metadata": {},
     "output_type": "execute_result"
    }
   ],
   "source": [
    "[word[0] for word in words]"
   ]
  },
  {
   "cell_type": "code",
   "execution_count": 63,
   "id": "0e8fc1bb-7ca4-409e-b484-4307fdc52438",
   "metadata": {},
   "outputs": [],
   "source": [
    "# Fahrenheit to Celsius formula\n",
    "# (9/5)*temp+32"
   ]
  },
  {
   "cell_type": "code",
   "execution_count": 64,
   "id": "2a9da619-f378-443f-893f-e871132959d0",
   "metadata": {},
   "outputs": [],
   "source": [
    "# Convert a list of temperatures from celcius to fahrenheit using list comprehension\n",
    "celsius_temperatures = [0,10,20,30,40,50]"
   ]
  },
  {
   "cell_type": "code",
   "execution_count": 66,
   "id": "39beb077-eb67-4a17-8645-4e36d2d8d7fd",
   "metadata": {},
   "outputs": [
    {
     "data": {
      "text/plain": [
       "[32.0, 50.0, 68.0, 86.0, 104.0, 122.0]"
      ]
     },
     "execution_count": 66,
     "metadata": {},
     "output_type": "execute_result"
    }
   ],
   "source": [
    "[(9/5)*temp+32 for temp in celsius_temperatures]"
   ]
  },
  {
   "cell_type": "code",
   "execution_count": 73,
   "id": "bc5afcba-c0b0-4298-b67c-5a576c03467d",
   "metadata": {},
   "outputs": [],
   "source": [
    "# Flatten a list of lists into a single list\n",
    "lists = [[1,2,3],[4,5,6],[7,8,9]]"
   ]
  },
  {
   "cell_type": "code",
   "execution_count": 74,
   "id": "5a33b8be-3edc-43ba-a848-b70660d8c351",
   "metadata": {},
   "outputs": [
    {
     "data": {
      "text/plain": [
       "[1, 2, 3, 4, 5, 6, 7, 8, 9]"
      ]
     },
     "execution_count": 74,
     "metadata": {},
     "output_type": "execute_result"
    }
   ],
   "source": [
    "[num for sublist in lists for num in sublist]"
   ]
  },
  {
   "cell_type": "code",
   "execution_count": 80,
   "id": "daf1b18d-1bf3-4dde-af6f-c2001d892b1c",
   "metadata": {},
   "outputs": [
    {
     "data": {
      "text/plain": [
       "[[1, 2, 3], [4, 5, 6], [7, 8, 9]]"
      ]
     },
     "execution_count": 80,
     "metadata": {},
     "output_type": "execute_result"
    }
   ],
   "source": [
    "[i for i in lists]"
   ]
  },
  {
   "cell_type": "code",
   "execution_count": 81,
   "id": "150e0e06-2b94-443e-b34d-43ad224e159e",
   "metadata": {},
   "outputs": [
    {
     "data": {
      "text/plain": [
       "[[1, 2, 3],\n",
       " [1, 2, 3],\n",
       " [1, 2, 3],\n",
       " [4, 5, 6],\n",
       " [4, 5, 6],\n",
       " [4, 5, 6],\n",
       " [7, 8, 9],\n",
       " [7, 8, 9],\n",
       " [7, 8, 9]]"
      ]
     },
     "execution_count": 81,
     "metadata": {},
     "output_type": "execute_result"
    }
   ],
   "source": [
    "[i for i in lists for j in i]"
   ]
  },
  {
   "cell_type": "code",
   "execution_count": 79,
   "id": "ac4ac940-2da6-49d5-ad75-679176fe2963",
   "metadata": {},
   "outputs": [
    {
     "data": {
      "text/plain": [
       "[1, 2, 3, 4, 5, 6, 7, 8, 9]"
      ]
     },
     "execution_count": 79,
     "metadata": {},
     "output_type": "execute_result"
    }
   ],
   "source": [
    "[j for i in lists for j in i ]"
   ]
  },
  {
   "cell_type": "code",
   "execution_count": 82,
   "id": "829777c0-d113-4400-bbc8-d52fe2aa2e45",
   "metadata": {},
   "outputs": [],
   "source": [
    "## Assignment\n",
    "## Using both code and list comprehension\n",
    "## Create a list of only the prime numbers from a given list\n",
    "numbers = [1,2,3,4,5,6,7,8,9,10]"
   ]
  },
  {
   "cell_type": "code",
   "execution_count": 83,
   "id": "c87a53ee-e8d6-48fa-bff4-202239ca6e92",
   "metadata": {},
   "outputs": [],
   "source": [
    "## Create a list of all the possible combinations of 2 elements from a list\n",
    "numbers = [1,2,3,4,5]"
   ]
  },
  {
   "cell_type": "code",
   "execution_count": null,
   "id": "59bb286c-f6eb-4d5c-8c0e-ef6500c27702",
   "metadata": {},
   "outputs": [],
   "source": []
  }
 ],
 "metadata": {
  "kernelspec": {
   "display_name": "Python 3 (ipykernel)",
   "language": "python",
   "name": "python3"
  },
  "language_info": {
   "codemirror_mode": {
    "name": "ipython",
    "version": 3
   },
   "file_extension": ".py",
   "mimetype": "text/x-python",
   "name": "python",
   "nbconvert_exporter": "python",
   "pygments_lexer": "ipython3",
   "version": "3.10.8"
  }
 },
 "nbformat": 4,
 "nbformat_minor": 5
}
