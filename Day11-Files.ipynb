{
 "cells": [
  {
   "cell_type": "markdown",
   "id": "2a93a223-0385-401e-ab67-5c082bca04fc",
   "metadata": {},
   "source": [
    "## 11/02/2023"
   ]
  },
  {
   "cell_type": "markdown",
   "id": "98b45181-22a0-440a-ad1e-f5c8d5aaab1c",
   "metadata": {},
   "source": [
    "## Working With Files"
   ]
  },
  {
   "cell_type": "code",
   "execution_count": 66,
   "id": "40a91dd3-408b-452a-8c2e-ba6a492de3fe",
   "metadata": {},
   "outputs": [],
   "source": [
    "f = open(\"test.txt\",\"w\")"
   ]
  },
  {
   "cell_type": "code",
   "execution_count": 67,
   "id": "8ea9a117-a8cc-4fa1-b4f2-4b6f4943f1f3",
   "metadata": {},
   "outputs": [
    {
     "data": {
      "text/plain": [
       "'/home/jovyan/work'"
      ]
     },
     "execution_count": 67,
     "metadata": {},
     "output_type": "execute_result"
    }
   ],
   "source": [
    "pwd # To know present working directory"
   ]
  },
  {
   "cell_type": "code",
   "execution_count": 68,
   "id": "ce16a076-c224-455b-aa46-b894ff09f205",
   "metadata": {},
   "outputs": [
    {
     "name": "stdout",
     "output_type": "stream",
     "text": [
      "Day10.ipynb  Day2.ipynb  Day5.ipynb  Day8.ipynb  sample-code.ipynb\n",
      "Day11.ipynb  Day3.ipynb  Day6.ipynb  Day9.ipynb  test.txt\n",
      "Day1.ipynb   Day4.ipynb  Day7.ipynb  README.md   Untitled.ipynb\n"
     ]
    }
   ],
   "source": [
    "ls  # ls will show all the files present in the directory"
   ]
  },
  {
   "cell_type": "code",
   "execution_count": 69,
   "id": "de165682-8568-4dc0-9ea2-21309b750fc0",
   "metadata": {},
   "outputs": [
    {
     "data": {
      "text/plain": [
       "45"
      ]
     },
     "execution_count": 69,
     "metadata": {},
     "output_type": "execute_result"
    }
   ],
   "source": [
    "f.write(\"This is my first write operation in the file.\") # The number refers that how many bytes it will take"
   ]
  },
  {
   "cell_type": "code",
   "execution_count": 70,
   "id": "c1780f50-8b74-4568-b5fa-804786c179dc",
   "metadata": {},
   "outputs": [],
   "source": [
    "f.close()  # To see the written text in the text file"
   ]
  },
  {
   "cell_type": "code",
   "execution_count": 71,
   "id": "367aa2b8-bc4c-49f6-b62a-09132952070d",
   "metadata": {},
   "outputs": [],
   "source": [
    "f = open(\"test.txt\",\"w\")"
   ]
  },
  {
   "cell_type": "code",
   "execution_count": 72,
   "id": "49abfe03-2076-4413-891c-da4e47a83b17",
   "metadata": {},
   "outputs": [
    {
     "data": {
      "text/plain": [
       "111"
      ]
     },
     "execution_count": 72,
     "metadata": {},
     "output_type": "execute_result"
    }
   ],
   "source": [
    "f.write(\"Data Science Masters course is highly curated and uniquely designed according to the latest industry standards.\")"
   ]
  },
  {
   "cell_type": "code",
   "execution_count": 73,
   "id": "cfd9b2d9-571f-40bc-879a-e6903f3e6c10",
   "metadata": {},
   "outputs": [],
   "source": [
    "f.close()"
   ]
  },
  {
   "cell_type": "raw",
   "id": "215a4a61-6d2b-4234-acd0-f915ace7caea",
   "metadata": {},
   "source": [
    "\"W\" operation replace the old texts with new one . It can't update/append.\n",
    "\"a\" open for writing, appending to the end of the file if it exists."
   ]
  },
  {
   "cell_type": "code",
   "execution_count": 74,
   "id": "207bc08e-6355-4bbc-b83f-5200cb5b052e",
   "metadata": {},
   "outputs": [],
   "source": [
    "f = open(\"test.txt\",\"a\")"
   ]
  },
  {
   "cell_type": "code",
   "execution_count": 75,
   "id": "2a122065-ccb5-4a23-89c6-aaace08ce1d0",
   "metadata": {},
   "outputs": [
    {
     "data": {
      "text/plain": [
       "607"
      ]
     },
     "execution_count": 75,
     "metadata": {},
     "output_type": "execute_result"
    }
   ],
   "source": [
    "f.write(\"This program instills students the skills essential to knowledge discovery efforts to identify standard, novel, and truly differentiated solutions and decision-making, including skills in managing, querying, analyzing, visualizing, and extracting meaning from extremely large data sets. This trending program provides students with the statistical, mathematical and computational skills needed to meet the large-scale data science challenges of today's professional world. You will learn all the stack required to work in data science industry including cloud infrastructure and real-time industry projects.\")"
   ]
  },
  {
   "cell_type": "code",
   "execution_count": 76,
   "id": "2b640174-59e3-4574-b583-fba7778cbeb9",
   "metadata": {},
   "outputs": [],
   "source": [
    "f.close()"
   ]
  },
  {
   "cell_type": "code",
   "execution_count": 77,
   "id": "4acc0c9c-3e89-4e22-a363-abbda99417af",
   "metadata": {},
   "outputs": [],
   "source": [
    "data = open(\"test.txt\",\"r\")"
   ]
  },
  {
   "cell_type": "code",
   "execution_count": 78,
   "id": "928388a5-8f35-4690-b4bf-8cb0e3c796fd",
   "metadata": {},
   "outputs": [
    {
     "data": {
      "text/plain": [
       "\"Data Science Masters course is highly curated and uniquely designed according to the latest industry standards. This program instills students the skills essential to knowledge discovery efforts to identify standard, novel, and truly differentiated solutions and decision-making, including skills in managing, querying, analyzing, visualizing, and extracting meaning from extremely large data sets. This trending program provides students with the statistical, mathematical and computational skills needed to meet the large-scale data science challenges of today's professional world. You will learn all the stack required to work in data science industry including cloud infrastructure and real-time industry projects.\""
      ]
     },
     "execution_count": 78,
     "metadata": {},
     "output_type": "execute_result"
    }
   ],
   "source": [
    "data.read()"
   ]
  },
  {
   "cell_type": "code",
   "execution_count": 79,
   "id": "fbb609b9-61d3-4fb1-8813-521066f4af5b",
   "metadata": {},
   "outputs": [
    {
     "data": {
      "text/plain": [
       "''"
      ]
     },
     "execution_count": 79,
     "metadata": {},
     "output_type": "execute_result"
    }
   ],
   "source": [
    "data.read() # As cursor is at last position thats's why it shows blank."
   ]
  },
  {
   "cell_type": "code",
   "execution_count": 80,
   "id": "84ab7d95-e0ee-4cfa-ae59-d5fe8fd26a89",
   "metadata": {},
   "outputs": [
    {
     "data": {
      "text/plain": [
       "0"
      ]
     },
     "execution_count": 80,
     "metadata": {},
     "output_type": "execute_result"
    }
   ],
   "source": [
    "data.seek(0) # To reset the cursor at 1st position & \"0\" is the postion index where you want to set the cursor"
   ]
  },
  {
   "cell_type": "code",
   "execution_count": 81,
   "id": "03b76a06-1673-4523-b336-972869ce0c16",
   "metadata": {},
   "outputs": [
    {
     "data": {
      "text/plain": [
       "\"Data Science Masters course is highly curated and uniquely designed according to the latest industry standards. This program instills students the skills essential to knowledge discovery efforts to identify standard, novel, and truly differentiated solutions and decision-making, including skills in managing, querying, analyzing, visualizing, and extracting meaning from extremely large data sets. This trending program provides students with the statistical, mathematical and computational skills needed to meet the large-scale data science challenges of today's professional world. You will learn all the stack required to work in data science industry including cloud infrastructure and real-time industry projects.\""
      ]
     },
     "execution_count": 81,
     "metadata": {},
     "output_type": "execute_result"
    }
   ],
   "source": [
    "data.read()"
   ]
  },
  {
   "cell_type": "code",
   "execution_count": 82,
   "id": "0265e8ad-84b6-4a04-b1f8-3bf81185fa13",
   "metadata": {},
   "outputs": [
    {
     "data": {
      "text/plain": [
       "220"
      ]
     },
     "execution_count": 82,
     "metadata": {},
     "output_type": "execute_result"
    }
   ],
   "source": [
    "data.seek(220) ## Cursor position"
   ]
  },
  {
   "cell_type": "code",
   "execution_count": 83,
   "id": "bd6622a6-40d1-4bab-aa33-55676da22e85",
   "metadata": {},
   "outputs": [
    {
     "data": {
      "text/plain": [
       "\"el, and truly differentiated solutions and decision-making, including skills in managing, querying, analyzing, visualizing, and extracting meaning from extremely large data sets. This trending program provides students with the statistical, mathematical and computational skills needed to meet the large-scale data science challenges of today's professional world. You will learn all the stack required to work in data science industry including cloud infrastructure and real-time industry projects.\""
      ]
     },
     "execution_count": 83,
     "metadata": {},
     "output_type": "execute_result"
    }
   ],
   "source": [
    "data.read()"
   ]
  },
  {
   "cell_type": "code",
   "execution_count": 84,
   "id": "6db12073-5a5c-4677-91dd-ca49f04d4b53",
   "metadata": {},
   "outputs": [],
   "source": [
    "data1 = open(\"test.txt\",\"r\")"
   ]
  },
  {
   "cell_type": "code",
   "execution_count": 85,
   "id": "67acb559-44ed-4079-99d1-19a80acfeb75",
   "metadata": {},
   "outputs": [
    {
     "name": "stdout",
     "output_type": "stream",
     "text": [
      "Data Science Masters course is highly curated and uniquely designed according to the latest industry standards. This program instills students the skills essential to knowledge discovery efforts to identify standard, novel, and truly differentiated solutions and decision-making, including skills in managing, querying, analyzing, visualizing, and extracting meaning from extremely large data sets. This trending program provides students with the statistical, mathematical and computational skills needed to meet the large-scale data science challenges of today's professional world. You will learn all the stack required to work in data science industry including cloud infrastructure and real-time industry projects.\n"
     ]
    }
   ],
   "source": [
    "for i in data1:  # To read data with using loops\n",
    "    print(i)"
   ]
  },
  {
   "cell_type": "code",
   "execution_count": 86,
   "id": "b10f9489-3229-4e53-82bc-44e907274ced",
   "metadata": {},
   "outputs": [
    {
     "data": {
      "text/plain": [
       "719"
      ]
     },
     "execution_count": 86,
     "metadata": {},
     "output_type": "execute_result"
    }
   ],
   "source": [
    "import os   ## To know the file size\n",
    "os.path.getsize(\"test.txt\")"
   ]
  },
  {
   "cell_type": "code",
   "execution_count": 87,
   "id": "c9ae0785-0828-481c-a5ef-c2503e4ef9be",
   "metadata": {},
   "outputs": [
    {
     "data": {
      "text/plain": [
       "'new_test.txt'"
      ]
     },
     "execution_count": 87,
     "metadata": {},
     "output_type": "execute_result"
    }
   ],
   "source": [
    "import shutil    # To copy the file \n",
    "shutil.copy(\"test.txt\",\"new_test.txt\")"
   ]
  },
  {
   "cell_type": "code",
   "execution_count": 88,
   "id": "7644403a-567a-439c-81b6-1fea44da74f4",
   "metadata": {},
   "outputs": [
    {
     "name": "stdout",
     "output_type": "stream",
     "text": [
      "Day10.ipynb  Day3.ipynb  Day7.ipynb    README.md\n",
      "Day11.ipynb  Day4.ipynb  Day8.ipynb    sample-code.ipynb\n",
      "Day1.ipynb   Day5.ipynb  Day9.ipynb    test.txt\n",
      "Day2.ipynb   Day6.ipynb  new_test.txt  Untitled.ipynb\n"
     ]
    }
   ],
   "source": [
    "ls"
   ]
  },
  {
   "cell_type": "code",
   "execution_count": 89,
   "id": "84ce9152-ad10-4b94-980b-278cd4b58362",
   "metadata": {},
   "outputs": [],
   "source": [
    "os.remove(\"new_test.txt\") # to remove a file"
   ]
  },
  {
   "cell_type": "code",
   "execution_count": 90,
   "id": "7eed291b-e17e-4f03-a469-c99d52dcb573",
   "metadata": {},
   "outputs": [
    {
     "name": "stdout",
     "output_type": "stream",
     "text": [
      "Day10.ipynb  Day2.ipynb  Day5.ipynb  Day8.ipynb  sample-code.ipynb\n",
      "Day11.ipynb  Day3.ipynb  Day6.ipynb  Day9.ipynb  test.txt\n",
      "Day1.ipynb   Day4.ipynb  Day7.ipynb  README.md   Untitled.ipynb\n"
     ]
    }
   ],
   "source": [
    "ls"
   ]
  },
  {
   "cell_type": "code",
   "execution_count": 91,
   "id": "5f87fd05-f3fc-4db7-b701-8122d310cd31",
   "metadata": {},
   "outputs": [
    {
     "data": {
      "text/plain": [
       "0"
      ]
     },
     "execution_count": 91,
     "metadata": {},
     "output_type": "execute_result"
    }
   ],
   "source": [
    "data1.seek(0)"
   ]
  },
  {
   "cell_type": "code",
   "execution_count": 96,
   "id": "cbd66f4a-8e77-49ae-9d8b-48931e0273d6",
   "metadata": {},
   "outputs": [
    {
     "name": "stdout",
     "output_type": "stream",
     "text": [
      "Data Science Masters course is highly curated and uniquely designed according to the latest industry standards. This program instills students the skills essential to knowledge discovery efforts to identify standard, novel, and truly differentiated solutions and decision-making, including skills in managing, querying, analyzing, visualizing, and extracting meaning from extremely large data sets. This trending program provides students with the statistical, mathematical and computational skills needed to meet the large-scale data science challenges of today's professional world. You will learn all the stack required to work in data science industry including cloud infrastructure and real-time industry projects.\n"
     ]
    }
   ],
   "source": [
    "with open(\"test.txt\",\"r\") as data1: # Read a file using a different method\n",
    "    print(data1.read())"
   ]
  },
  {
   "cell_type": "code",
   "execution_count": 93,
   "id": "212573d7-0b23-409c-bb2b-6ae96612be7f",
   "metadata": {},
   "outputs": [
    {
     "name": "stdout",
     "output_type": "stream",
     "text": [
      "Data Science Masters course is highly curated and uniquely designed according to the latest industry standards. This program instills students the skills essential to knowledge discovery efforts to identify standard, novel, and truly differentiated solutions and decision-making, including skills in managing, querying, analyzing, visualizing, and extracting meaning from extremely large data sets. This trending program provides students with the statistical, mathematical and computational skills needed to meet the large-scale data science challenges of today's professional world. You will learn all the stack required to work in data science industry including cloud infrastructure and real-time industry projects.\n"
     ]
    }
   ],
   "source": [
    "try:\n",
    "    # Open the file in read mode\n",
    "    with open('test.txt', 'r') as file:\n",
    "\n",
    "        # Read the contents of the file\n",
    "        content = file.read()\n",
    "\n",
    "        # Print the contents of the file\n",
    "        print(content)\n",
    "except FileNotFoundError:\n",
    "    print(\"The specified file does not exist.\")\n",
    "except Exception as e:\n",
    "    print(\"An error occurred:\", e)"
   ]
  },
  {
   "cell_type": "code",
   "execution_count": 97,
   "id": "b4f7a191-e045-499d-8f12-b8dd623027ce",
   "metadata": {},
   "outputs": [],
   "source": [
    "os.rename(\"test.txt\",\"test1.txt\") # To rename the file name"
   ]
  },
  {
   "cell_type": "code",
   "execution_count": null,
   "id": "bc227311-d70e-4be5-9c20-f47d697e4f7b",
   "metadata": {},
   "outputs": [],
   "source": []
  },
  {
   "cell_type": "markdown",
   "id": "fb5927b8-b9af-403b-83e6-ba0013f997e2",
   "metadata": {},
   "source": [
    "## Reading And Writing Files"
   ]
  },
  {
   "cell_type": "code",
   "execution_count": 5,
   "id": "daa60d9f-1dda-4a1a-857e-51bdf6c9c3b5",
   "metadata": {},
   "outputs": [],
   "source": [
    "data = {\n",
    "    \"name\" : \"Arghya\",\n",
    "    \"mail_id\" : \"arghya@gmail.com\",\n",
    "    \"phone_number\" : 4813459678,\n",
    "    \"subject\" : [\"Data Science\",\"Big Data\",\"Machine Learning\"]\n",
    "}   "
   ]
  },
  {
   "cell_type": "code",
   "execution_count": 6,
   "id": "93387985-a9ce-492d-bc58-ffb097bd9db5",
   "metadata": {},
   "outputs": [],
   "source": [
    "import json"
   ]
  },
  {
   "cell_type": "code",
   "execution_count": 7,
   "id": "3bd9a15d-43b7-4fed-8c50-8d66fa41a522",
   "metadata": {},
   "outputs": [],
   "source": [
    "with open(\"test1.json\", \"w\") as f :\n",
    "    json.dump(data, f)"
   ]
  },
  {
   "cell_type": "code",
   "execution_count": 10,
   "id": "f7bfa5b9-62ae-42d2-a184-b16de5a6b889",
   "metadata": {},
   "outputs": [
    {
     "name": "stdout",
     "output_type": "stream",
     "text": [
      "{'name': 'Arghya', 'mail_id': 'arghya@gmail.com', 'phone_number': 4813459678, 'subject': ['Data Science', 'Big Data', 'Machine Learning']}\n"
     ]
    }
   ],
   "source": [
    "with open(\"test1.json\", \"r\") as f :\n",
    "    data1 = json.load(f)\n",
    "    print(data1)"
   ]
  },
  {
   "cell_type": "code",
   "execution_count": 11,
   "id": "ce54f58e-ea45-4213-8321-1c801ce04ad5",
   "metadata": {},
   "outputs": [
    {
     "data": {
      "text/plain": [
       "['Data Science', 'Big Data', 'Machine Learning']"
      ]
     },
     "execution_count": 11,
     "metadata": {},
     "output_type": "execute_result"
    }
   ],
   "source": [
    "data1[\"subject\"]"
   ]
  },
  {
   "cell_type": "code",
   "execution_count": 12,
   "id": "81180d6e-4dde-4273-b458-81985a09ed5c",
   "metadata": {},
   "outputs": [
    {
     "data": {
      "text/plain": [
       "'Big Data'"
      ]
     },
     "execution_count": 12,
     "metadata": {},
     "output_type": "execute_result"
    }
   ],
   "source": [
    "data1[\"subject\"][1]"
   ]
  },
  {
   "cell_type": "code",
   "execution_count": 14,
   "id": "62f39a7a-4154-44d7-b35a-c2af48cdec69",
   "metadata": {},
   "outputs": [],
   "source": [
    "### Comma Seperated Value / CSV File\n",
    "data2 = [[\"name\",\"email_id\",\"number\"],\n",
    "         [\"Arghya\",\"arghya@gmail.com\",4813459678],\n",
    "         [\"Ayan\",\"ayan@gmail.com\",4886348952]\n",
    "        ]"
   ]
  },
  {
   "cell_type": "code",
   "execution_count": 15,
   "id": "9b448ba7-72d2-4b09-8983-4ce0b1ab0360",
   "metadata": {},
   "outputs": [],
   "source": [
    "import csv"
   ]
  },
  {
   "cell_type": "code",
   "execution_count": 17,
   "id": "4606b653-b8d9-4894-812e-34ea27b8eace",
   "metadata": {},
   "outputs": [],
   "source": [
    "with open(\"test2.csv\", \"w\") as f :\n",
    "    w = csv.writer(f)\n",
    "    for i in data2 :\n",
    "        w.writerow(i)"
   ]
  },
  {
   "cell_type": "code",
   "execution_count": 18,
   "id": "1146f3dd-aa17-43e3-b117-283e982f1b41",
   "metadata": {},
   "outputs": [
    {
     "name": "stdout",
     "output_type": "stream",
     "text": [
      "['name', 'email_id', 'number']\n",
      "['Arghya', 'arghya@gmail.com', '4813459678']\n",
      "['Ayan', 'ayan@gmail.com', '4886348952']\n"
     ]
    }
   ],
   "source": [
    "with open(\"test2.csv\", \"r\") as f :\n",
    "    read = csv.reader(f)\n",
    "    for i in read :\n",
    "        print(i)"
   ]
  },
  {
   "cell_type": "code",
   "execution_count": 20,
   "id": "e4fc3626-8830-4696-b6e4-a553725b9c02",
   "metadata": {},
   "outputs": [],
   "source": [
    "## Binary file for image/video file\n",
    "with open(\"test3.bin\", \"wb\") as f :\n",
    "    f.write(b\"\\x01\\x02\\x03\")"
   ]
  },
  {
   "cell_type": "code",
   "execution_count": 21,
   "id": "235811b2-8d56-4296-b0d6-c40e18addde8",
   "metadata": {},
   "outputs": [
    {
     "name": "stdout",
     "output_type": "stream",
     "text": [
      "b'\\x01\\x02\\x03'\n"
     ]
    }
   ],
   "source": [
    "with open(\"test3.bin\", \"rb\") as f :\n",
    "    print(f.read())"
   ]
  },
  {
   "cell_type": "code",
   "execution_count": null,
   "id": "bd0ed90b-0502-4bbf-bc45-23faa450143f",
   "metadata": {},
   "outputs": [],
   "source": []
  },
  {
   "cell_type": "markdown",
   "id": "4f8b0a1d-ab65-4e43-8b07-595a6c71a87d",
   "metadata": {},
   "source": [
    "## Buffered Read And Write Other File Methods"
   ]
  },
  {
   "cell_type": "raw",
   "id": "d08d5b16-2f97-43db-bf0b-d4a9a77676e9",
   "metadata": {},
   "source": [
    "Buffered reading and writing techniques are useful in any situation where large amounts of data need to be read from or written to a file, network connection, or other I/O device."
   ]
  },
  {
   "cell_type": "code",
   "execution_count": 4,
   "id": "0d8c0d0c-87f5-4db3-b1c2-21b359363126",
   "metadata": {},
   "outputs": [],
   "source": [
    "import io "
   ]
  },
  {
   "cell_type": "code",
   "execution_count": 8,
   "id": "59ba1c09-91be-48d2-9ff8-d53239c5f16f",
   "metadata": {},
   "outputs": [],
   "source": [
    "with open(\"Test1.txt\", \"wb\") as f :\n",
    "    file = io.BufferedWriter(f)\n",
    "    file.write(b\"This is my buffer write\\n\")\n",
    "    file.write(b\"This is my second line that i am trying to write\")\n",
    "    file.flush()"
   ]
  },
  {
   "cell_type": "code",
   "execution_count": 10,
   "id": "fe799967-a591-4f88-b382-aff3b934da29",
   "metadata": {},
   "outputs": [],
   "source": [
    "with open(\"Test1.txt\", \"wb\") as f :\n",
    "    file = io.BufferedWriter(f)\n",
    "    file.write(b\"Data Science Masters course is highly curated and uniquely designed according to the latest industry standards. This program instills students the skills essential to knowledge discovery efforts to identify standard, novel, and truly differentiated solutions and decision-making, including skills in managing, querying, analyzing, visualizing, and extracting meaning from extremely large data sets. This trending program provides students with the statistical, mathematical and computational skills needed to meet the large-scale data science challenges of today's professional world. You will learn all the stack required to work in data science industry including cloud infrastructure and real-time industry projects.\\n\")\n",
    "    file.write(b\"This is my second line that i am trying to write\")\n",
    "    file.flush()"
   ]
  },
  {
   "cell_type": "code",
   "execution_count": 15,
   "id": "a4e0d9c8-f721-4410-a93f-ec4adf103805",
   "metadata": {},
   "outputs": [
    {
     "name": "stdout",
     "output_type": "stream",
     "text": [
      "b\"Data Science Masters course is highly curated and uniquely designed according to the latest industry standards. This program instills students the skills essential to knowledge discovery efforts to identify standard, novel, and truly differentiated solutions and decision-making, including skills in managing, querying, analyzing, visualizing, and extracting meaning from extremely large data sets. This trending program provides students with the statistical, mathematical and computational skills needed to meet the large-scale data science challenges of today's professional world. You will learn all the stack required to work in data science industry including cloud infrastructure and real-time industry projects.\\nThis is my second line that i am trying to write\"\n"
     ]
    }
   ],
   "source": [
    "with open(\"Test1.txt\", \"rb\") as f :\n",
    "    file  = io.BufferedReader(f)\n",
    "    Data = file.read()\n",
    "    print(Data)"
   ]
  },
  {
   "cell_type": "code",
   "execution_count": 19,
   "id": "7d4f0a66-badb-478f-9593-de65e6673ef6",
   "metadata": {},
   "outputs": [
    {
     "name": "stdout",
     "output_type": "stream",
     "text": [
      "b'Data Science Masters course is highly curated and uniquely designed according to the latest industry standards. This program instills students the skills essential to knowledge discovery efforts to identify standard, novel, and truly differentiated solutions and decision-making, including skills in managing, querying, analyzing, visualizing, and extracting meaning from extremely large data sets. This trending program provides students with the statistical, mathematical and computational skills n'\n"
     ]
    }
   ],
   "source": [
    "with open(\"Test1.txt\", \"rb\") as f :\n",
    "    file  = io.BufferedReader(f)\n",
    "    Data = file.read(500)\n",
    "    print(Data)"
   ]
  },
  {
   "cell_type": "code",
   "execution_count": 18,
   "id": "57ebd357-f93a-4b1c-9793-5e5fa65283f2",
   "metadata": {},
   "outputs": [
    {
     "name": "stdout",
     "output_type": "stream",
     "text": [
      "b'Data Science Masters course is highly curated and uniquely designed according to the latest industry'\n"
     ]
    }
   ],
   "source": [
    "with open(\"Test1.txt\", \"rb\") as f :\n",
    "    file  = io.BufferedReader(f)\n",
    "    Data = file.read(100)\n",
    "    print(Data)"
   ]
  },
  {
   "cell_type": "code",
   "execution_count": null,
   "id": "7c622ce3-e9c3-4d4b-bce0-9d66c04a1772",
   "metadata": {},
   "outputs": [],
   "source": []
  },
  {
   "cell_type": "markdown",
   "id": "b57a3f52-c9da-4233-91c7-ca5c1a70d9d2",
   "metadata": {},
   "source": [
    "## Logging Debugger"
   ]
  },
  {
   "cell_type": "code",
   "execution_count": 1,
   "id": "c51c9432-3a25-4dfd-99dc-a3e4ea48b2f7",
   "metadata": {},
   "outputs": [],
   "source": [
    "import logging"
   ]
  },
  {
   "cell_type": "code",
   "execution_count": 2,
   "id": "8f3e59e6-500f-4862-92a5-096d7afea283",
   "metadata": {},
   "outputs": [],
   "source": [
    "logging.basicConfig(filename = \"test.log\", level = logging.INFO)"
   ]
  },
  {
   "cell_type": "code",
   "execution_count": 3,
   "id": "4460198a-d2d8-4865-98dc-39e97deb442c",
   "metadata": {},
   "outputs": [],
   "source": [
    "logging.info(\"This is my line of execution\")"
   ]
  },
  {
   "cell_type": "code",
   "execution_count": 4,
   "id": "0228e8e9-df6b-4f75-bd2c-034396530e4c",
   "metadata": {},
   "outputs": [],
   "source": [
    "logging.error(\"This is my error\")"
   ]
  },
  {
   "cell_type": "code",
   "execution_count": 5,
   "id": "69873e19-27b3-408b-80cc-4b76905c7fdc",
   "metadata": {},
   "outputs": [],
   "source": [
    "logging.critical(\"This is my critical\")"
   ]
  },
  {
   "cell_type": "code",
   "execution_count": 6,
   "id": "d5d557d6-dada-40a7-8933-a73312748c6b",
   "metadata": {},
   "outputs": [],
   "source": [
    "logging.warning(\"This is my warning\") "
   ]
  },
  {
   "cell_type": "code",
   "execution_count": 7,
   "id": "64e40df6-04b3-45a5-88a7-96247b2335b2",
   "metadata": {},
   "outputs": [],
   "source": [
    "logging.debug(\"This is my info related to debug\")\n",
    "## This will not make any difference in log file as level was set at INFO and INFO is lower than DEBUG in respect to hierarchy model."
   ]
  },
  {
   "cell_type": "code",
   "execution_count": 8,
   "id": "1765d245-8ff6-45a6-af75-4a179c9a2cea",
   "metadata": {},
   "outputs": [
    {
     "ename": "AttributeError",
     "evalue": "module 'logging' has no attribute 'noset'",
     "output_type": "error",
     "traceback": [
      "\u001b[0;31m---------------------------------------------------------------------------\u001b[0m",
      "\u001b[0;31mAttributeError\u001b[0m                            Traceback (most recent call last)",
      "Cell \u001b[0;32mIn[8], line 1\u001b[0m\n\u001b[0;32m----> 1\u001b[0m \u001b[43mlogging\u001b[49m\u001b[38;5;241;43m.\u001b[39;49m\u001b[43mnoset\u001b[49m(\u001b[38;5;124m\"\u001b[39m\u001b[38;5;124mThis is my noset related log\u001b[39m\u001b[38;5;124m\"\u001b[39m)\n",
      "\u001b[0;31mAttributeError\u001b[0m: module 'logging' has no attribute 'noset'"
     ]
    }
   ],
   "source": [
    "logging.noset(\"This is my noset related log\")"
   ]
  },
  {
   "cell_type": "raw",
   "id": "7cbf7a82-3db6-4715-a048-566de6fa5a8a",
   "metadata": {},
   "source": [
    "LOGGING HIERARCHY\n",
    "1. NOSET\n",
    "2. DEBUG\n",
    "3. INFO\n",
    "4. WARNING\n",
    "5. ERROR\n",
    "6. CRITICAL"
   ]
  },
  {
   "cell_type": "code",
   "execution_count": 9,
   "id": "d47acda2-5ded-4c0a-9d01-d7cc32dbeb4d",
   "metadata": {},
   "outputs": [],
   "source": [
    "## To shutdown the logfile\n",
    "logging.shutdown()"
   ]
  },
  {
   "cell_type": "code",
   "execution_count": 2,
   "id": "9443aa52-a18a-496e-ac34-a256674b4412",
   "metadata": {},
   "outputs": [],
   "source": [
    "logging.basicConfig(filename = \"test1.log\", level = logging.DEBUG, format = \"%(asctime)s %(message)s\" )"
   ]
  },
  {
   "cell_type": "code",
   "execution_count": 3,
   "id": "bb9aabb1-f9a6-43ae-b7d4-ceb193fdec2b",
   "metadata": {},
   "outputs": [],
   "source": [
    "logging.info(\"This is my info\")"
   ]
  },
  {
   "cell_type": "code",
   "execution_count": 4,
   "id": "8688811d-5375-425c-9893-ea8295194cd0",
   "metadata": {},
   "outputs": [],
   "source": [
    "logging.debug(\"This is my debug\")"
   ]
  },
  {
   "cell_type": "code",
   "execution_count": 5,
   "id": "24cb5a22-3b5f-4304-8ab9-aa1fe396c7ac",
   "metadata": {},
   "outputs": [],
   "source": [
    "logging.warning(\"This is my warning\")"
   ]
  },
  {
   "cell_type": "code",
   "execution_count": 6,
   "id": "65774012-066f-4705-a248-cea8f398a826",
   "metadata": {},
   "outputs": [],
   "source": [
    "logging.error(\"This is my error\")"
   ]
  },
  {
   "cell_type": "code",
   "execution_count": 7,
   "id": "94a7ab47-7a66-498b-b77a-8e874fde7dad",
   "metadata": {},
   "outputs": [],
   "source": [
    "logging.critical(\"This is my critical\")"
   ]
  },
  {
   "cell_type": "code",
   "execution_count": 17,
   "id": "55314abc-6385-4ab9-89a1-e6a1c02ca9bf",
   "metadata": {},
   "outputs": [],
   "source": [
    "logging.shutdown()"
   ]
  },
  {
   "cell_type": "code",
   "execution_count": 2,
   "id": "6786c26b-f19b-48f5-b4b6-2107a085c459",
   "metadata": {},
   "outputs": [],
   "source": [
    "logging.basicConfig(filename = \"test3.log\", level = logging.DEBUG, format = \"%(asctime)s %(name)s %(levelname)s %(message)s\" )"
   ]
  },
  {
   "cell_type": "code",
   "execution_count": 3,
   "id": "ecdbaedb-492c-4f0b-a5c8-da8dc4d2b221",
   "metadata": {},
   "outputs": [],
   "source": [
    "logging.info(\"This is my info\")"
   ]
  },
  {
   "cell_type": "code",
   "execution_count": 4,
   "id": "42cfc154-8e1f-4514-bfcf-05ed1c18fa64",
   "metadata": {},
   "outputs": [],
   "source": [
    "logging.debug(\"This is my debug\")"
   ]
  },
  {
   "cell_type": "code",
   "execution_count": 5,
   "id": "823a0668-335c-44ef-9591-6e349c111f87",
   "metadata": {},
   "outputs": [],
   "source": [
    "logging.warning(\"This is my warning\")"
   ]
  },
  {
   "cell_type": "code",
   "execution_count": 6,
   "id": "f876ea8f-6c6d-491e-ab39-2405661b0d1a",
   "metadata": {},
   "outputs": [],
   "source": [
    "l = [1,2,3,4,[4,5,6],\"arghya\",\"chatterjee\"]"
   ]
  },
  {
   "cell_type": "code",
   "execution_count": 11,
   "id": "ae4bffbd-f294-452a-a301-aea81f3244ad",
   "metadata": {},
   "outputs": [],
   "source": [
    "l1_int = []\n",
    "l2_str = []\n",
    "for i in l :\n",
    "    logging.info(\"This is the start of my first for loop {}\".format(l))\n",
    "    logging.info(\"This is the value of I'm logging {}\".format(i))\n",
    "    if type(i) == list:\n",
    "        for j in i :\n",
    "            logging.info(\"logging my j {j} and i is {i}\".format(i = i, j = j))\n",
    "            if type(j) == int :\n",
    "                l1_int.append(j)\n",
    "    elif type(i) == int :\n",
    "        l1_int.append(i)\n",
    "    else: \n",
    "        if type(i) == str :\n",
    "            l2_str.append(i)\n",
    "logging.info(\"This is my final result with all int {l1} ,  with all str{l2}\".format(l1 = l1_int, l2 = l2_str))            "
   ]
  },
  {
   "cell_type": "code",
   "execution_count": 8,
   "id": "78ba65e7-663e-4496-b51b-25a6a28f9bd7",
   "metadata": {},
   "outputs": [
    {
     "data": {
      "text/plain": [
       "[1, 2, 3, 4, 4, 5, 6]"
      ]
     },
     "execution_count": 8,
     "metadata": {},
     "output_type": "execute_result"
    }
   ],
   "source": [
    "l1_int"
   ]
  },
  {
   "cell_type": "code",
   "execution_count": 9,
   "id": "cb4bc413-93c9-48f0-ba3f-3d999380b7f8",
   "metadata": {},
   "outputs": [
    {
     "data": {
      "text/plain": [
       "['arghya', 'chatterjee']"
      ]
     },
     "execution_count": 9,
     "metadata": {},
     "output_type": "execute_result"
    }
   ],
   "source": [
    "l2_str"
   ]
  },
  {
   "cell_type": "code",
   "execution_count": null,
   "id": "2a281361-3b43-4790-8c82-01eda6ad6823",
   "metadata": {},
   "outputs": [],
   "source": []
  },
  {
   "cell_type": "markdown",
   "id": "8111a84a-8482-4588-ab06-c040a76486b9",
   "metadata": {},
   "source": [
    "## Modules And Import Statements"
   ]
  },
  {
   "cell_type": "code",
   "execution_count": null,
   "id": "45fecf7e-7d67-4e63-bb92-841ad753ecec",
   "metadata": {},
   "outputs": [],
   "source": []
  }
 ],
 "metadata": {
  "kernelspec": {
   "display_name": "Python 3 (ipykernel)",
   "language": "python",
   "name": "python3"
  },
  "language_info": {
   "codemirror_mode": {
    "name": "ipython",
    "version": 3
   },
   "file_extension": ".py",
   "mimetype": "text/x-python",
   "name": "python",
   "nbconvert_exporter": "python",
   "pygments_lexer": "ipython3",
   "version": "3.10.8"
  }
 },
 "nbformat": 4,
 "nbformat_minor": 5
}
