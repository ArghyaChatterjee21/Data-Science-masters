{
 "cells": [
  {
   "cell_type": "markdown",
   "id": "5eb91603-c3e1-4391-920c-d87e5cc4a3de",
   "metadata": {},
   "source": [
    "## 30/01/2023"
   ]
  },
  {
   "cell_type": "code",
   "execution_count": 1,
   "id": "150ba15c-519e-4081-9c88-2b78fc143328",
   "metadata": {},
   "outputs": [],
   "source": [
    "a=10"
   ]
  },
  {
   "cell_type": "code",
   "execution_count": 2,
   "id": "81fe5cd9-d36d-4854-a59d-76bb130a0821",
   "metadata": {},
   "outputs": [],
   "source": [
    "a='c'"
   ]
  },
  {
   "cell_type": "code",
   "execution_count": 3,
   "id": "f9188fca-f835-4ab2-b4fc-c15d2475a982",
   "metadata": {},
   "outputs": [
    {
     "data": {
      "text/plain": [
       "str"
      ]
     },
     "execution_count": 3,
     "metadata": {},
     "output_type": "execute_result"
    }
   ],
   "source": [
    "type(a)"
   ]
  },
  {
   "cell_type": "code",
   "execution_count": 5,
   "id": "f80a34b1-108c-4d7f-a2bf-e14ab9555bcd",
   "metadata": {},
   "outputs": [
    {
     "data": {
      "text/plain": [
       "0"
      ]
     },
     "execution_count": 5,
     "metadata": {},
     "output_type": "execute_result"
    }
   ],
   "source": [
    "int()"
   ]
  },
  {
   "cell_type": "code",
   "execution_count": 6,
   "id": "69eabda8-557b-47f4-932a-1b23733e748c",
   "metadata": {},
   "outputs": [
    {
     "data": {
      "text/plain": [
       "123"
      ]
     },
     "execution_count": 6,
     "metadata": {},
     "output_type": "execute_result"
    }
   ],
   "source": [
    "int(\"123\")"
   ]
  },
  {
   "cell_type": "code",
   "execution_count": 7,
   "id": "6616fe4f-129a-477b-8e94-76a4e21d45dd",
   "metadata": {},
   "outputs": [
    {
     "ename": "ValueError",
     "evalue": "invalid literal for int() with base 10: 'abc'",
     "output_type": "error",
     "traceback": [
      "\u001b[0;31m---------------------------------------------------------------------------\u001b[0m",
      "\u001b[0;31mValueError\u001b[0m                                Traceback (most recent call last)",
      "Cell \u001b[0;32mIn[7], line 1\u001b[0m\n\u001b[0;32m----> 1\u001b[0m \u001b[38;5;28;43mint\u001b[39;49m\u001b[43m(\u001b[49m\u001b[38;5;124;43m'\u001b[39;49m\u001b[38;5;124;43mabc\u001b[39;49m\u001b[38;5;124;43m'\u001b[39;49m\u001b[43m)\u001b[49m\n",
      "\u001b[0;31mValueError\u001b[0m: invalid literal for int() with base 10: 'abc'"
     ]
    }
   ],
   "source": [
    "int('abc')"
   ]
  },
  {
   "cell_type": "code",
   "execution_count": 8,
   "id": "9d486b58-634e-4a42-a426-8095e8a20104",
   "metadata": {},
   "outputs": [
    {
     "name": "stdout",
     "output_type": "stream",
     "text": [
      "Hello World\n"
     ]
    }
   ],
   "source": [
    "print(\"Hello World\")"
   ]
  },
  {
   "cell_type": "code",
   "execution_count": 9,
   "id": "69c1720a-efd7-4a4a-b2ef-5182f63f003e",
   "metadata": {},
   "outputs": [
    {
     "name": "stdout",
     "output_type": "stream",
     "text": [
      "123\n"
     ]
    }
   ],
   "source": [
    "print(123)"
   ]
  },
  {
   "cell_type": "code",
   "execution_count": 2,
   "id": "5b8eb5a5-4dcb-4011-8d46-1d8ee1ea4a36",
   "metadata": {},
   "outputs": [
    {
     "name": "stdout",
     "output_type": "stream",
     "text": [
      "My age is: 23\n"
     ]
    }
   ],
   "source": [
    "age=23\n",
    "print(\"My age is:\",age)"
   ]
  },
  {
   "cell_type": "code",
   "execution_count": 3,
   "id": "a158ceab-b496-45e2-b3c6-3066775f5505",
   "metadata": {},
   "outputs": [
    {
     "name": "stdout",
     "output_type": "stream",
     "text": [
      "My age is: {age}\n"
     ]
    }
   ],
   "source": [
    "print(\"My age is: {age}\")"
   ]
  },
  {
   "cell_type": "code",
   "execution_count": 4,
   "id": "1de0efd9-1d4f-4deb-98af-391c529c2b9d",
   "metadata": {},
   "outputs": [
    {
     "name": "stdout",
     "output_type": "stream",
     "text": [
      "My age is: 23\n"
     ]
    }
   ],
   "source": [
    "## f string to call the variable without writing comma.\n",
    "print(f\"My age is: {age}\")"
   ]
  },
  {
   "cell_type": "code",
   "execution_count": 5,
   "id": "764b5b8d-2525-47f9-bc68-29a1f5836fd2",
   "metadata": {},
   "outputs": [
    {
     "name": "stdout",
     "output_type": "stream",
     "text": [
      "My name is Arghya and age is 23\n"
     ]
    }
   ],
   "source": [
    "## format()\n",
    "name = \"Arghya\"\n",
    "age = 23\n",
    "print(\"My name is {} and age is {}\".format(name,age))"
   ]
  },
  {
   "cell_type": "code",
   "execution_count": 6,
   "id": "c641dce3-68b4-4af5-9f9e-a9f1dd3faa54",
   "metadata": {},
   "outputs": [
    {
     "name": "stdout",
     "output_type": "stream",
     "text": [
      "My name is 23 and age is Arghya\n"
     ]
    }
   ],
   "source": [
    "print(\"My name is {} and age is {}\".format(age,name))"
   ]
  },
  {
   "cell_type": "code",
   "execution_count": 9,
   "id": "0a752557-d673-4b37-b593-5c61117ae9b2",
   "metadata": {},
   "outputs": [
    {
     "name": "stdout",
     "output_type": "stream",
     "text": [
      "My name is Arghya and age is 23\n"
     ]
    }
   ],
   "source": [
    "## placeholder\n",
    "print(\"My name is {firstname} and age is {presentage}\".format(presentage = age, firstname = name))\n",
    "# In this case we can write age before name but it doesn't create any impact on the result.\n",
    "# As we defined two valiables named presentage and firstname.\n",
    "# Now ordering doesn't matter."
   ]
  },
  {
   "cell_type": "raw",
   "id": "3ae6786f-d630-4a68-9b12-678a7326159c",
   "metadata": {},
   "source": [
    "name = \"Arghya Chatterjee\"\n",
    "age = 23\n",
    "degree = \"B.Sc\"\n",
    "\" My age is 23 and I have completed : My degree of B.Sc with the name of Arghya Chatterjee\" "
   ]
  },
  {
   "cell_type": "code",
   "execution_count": 15,
   "id": "c2a25ea4-b8ee-4e7e-b116-aed2073ccdbd",
   "metadata": {},
   "outputs": [
    {
     "name": "stdout",
     "output_type": "stream",
     "text": [
      "My age is 23 and I have completed : My degree of B.Sc with the name of Arghya Chatterjee\n"
     ]
    }
   ],
   "source": [
    "name = \"Arghya Chatterjee\"\n",
    "age = 23\n",
    "degree = \"B.Sc\"\n",
    "print(f\"My age is {age} and I have completed : My degree of {degree} with the name of {name}\")"
   ]
  },
  {
   "cell_type": "code",
   "execution_count": 16,
   "id": "1e7a7fe1-69fc-4f3b-b334-faa98528eda9",
   "metadata": {},
   "outputs": [
    {
     "name": "stdout",
     "output_type": "stream",
     "text": [
      "My age is 23 and I have completed : My degree of B.Sc with the name of Arghya Chatterjee\n"
     ]
    }
   ],
   "source": [
    "# .format()\n",
    "print(\"My age is {a1} and I have completed : My degree of {d1} with the name of {n1}\".format(n1 = name, d1 = degree, a1 = age))"
   ]
  },
  {
   "cell_type": "markdown",
   "id": "8f550bf8-72eb-4870-9d0a-c53ea51822fc",
   "metadata": {},
   "source": [
    "## Control Flow\n",
    "### Decision Making Statements"
   ]
  },
  {
   "cell_type": "code",
   "execution_count": 15,
   "id": "f9832eb5-c6bc-461b-8f5d-e95b06266351",
   "metadata": {},
   "outputs": [
    {
     "name": "stdout",
     "output_type": "stream",
     "text": [
      "You are eligible to vote\n"
     ]
    }
   ],
   "source": [
    "## If statements\n",
    "\n",
    "age = 18\n",
    "if age >=18:\n",
    "    print(\"You are eligible to vote\")"
   ]
  },
  {
   "cell_type": "code",
   "execution_count": 16,
   "id": "7433bc39-d749-4178-beb4-2dad73fa227e",
   "metadata": {},
   "outputs": [
    {
     "name": "stdin",
     "output_type": "stream",
     "text": [
      " Arghya \n"
     ]
    },
    {
     "data": {
      "text/plain": [
       "'Arghya '"
      ]
     },
     "execution_count": 16,
     "metadata": {},
     "output_type": "execute_result"
    }
   ],
   "source": [
    "input()"
   ]
  },
  {
   "cell_type": "code",
   "execution_count": 17,
   "id": "90397b9b-63b0-4f38-9a23-fb021c4451ce",
   "metadata": {},
   "outputs": [
    {
     "name": "stdin",
     "output_type": "stream",
     "text": [
      "Enter the name Cristiano Ronaldo\n"
     ]
    }
   ],
   "source": [
    "name = input(\"Enter the name\")"
   ]
  },
  {
   "cell_type": "code",
   "execution_count": 18,
   "id": "2e587138-7fad-4ab6-b1e5-fec010a8494c",
   "metadata": {},
   "outputs": [
    {
     "name": "stdin",
     "output_type": "stream",
     "text": [
      "Enter your age 23\n"
     ]
    }
   ],
   "source": [
    "age = int(input(\"Enter your age\"))"
   ]
  },
  {
   "cell_type": "code",
   "execution_count": 19,
   "id": "a9a33518-d7a7-4afc-950b-f783c00aa8cd",
   "metadata": {},
   "outputs": [
    {
     "data": {
      "text/plain": [
       "int"
      ]
     },
     "execution_count": 19,
     "metadata": {},
     "output_type": "execute_result"
    }
   ],
   "source": [
    "type(age)"
   ]
  },
  {
   "cell_type": "code",
   "execution_count": 21,
   "id": "32b85e6e-68d5-4b6f-a955-d895a4f86236",
   "metadata": {},
   "outputs": [
    {
     "data": {
      "text/plain": [
       "False"
      ]
     },
     "execution_count": 21,
     "metadata": {},
     "output_type": "execute_result"
    }
   ],
   "source": [
    "True and False"
   ]
  },
  {
   "cell_type": "code",
   "execution_count": 20,
   "id": "8ba77291-aef3-4aa2-b769-ef5f622a61ae",
   "metadata": {},
   "outputs": [
    {
     "name": "stdin",
     "output_type": "stream",
     "text": [
      "Enter your age 41\n"
     ]
    },
    {
     "name": "stdout",
     "output_type": "stream",
     "text": [
      "You are young blood\n"
     ]
    }
   ],
   "source": [
    "age = int(input(\"Enter your age\"))\n",
    "if age>=18 and age<=45:\n",
    "    print(\"You are young blood\")"
   ]
  },
  {
   "cell_type": "code",
   "execution_count": 22,
   "id": "5efb8b4d-7728-4331-a458-ad6471729a69",
   "metadata": {},
   "outputs": [
    {
     "name": "stdin",
     "output_type": "stream",
     "text": [
      "Enter your age 17\n"
     ]
    },
    {
     "name": "stdout",
     "output_type": "stream",
     "text": [
      "Thank you, We will let you know\n"
     ]
    }
   ],
   "source": [
    "## If else Statement\n",
    "age = int(input(\"Enter your age\"))\n",
    "if age>=18 and age<=45:\n",
    "    print(\"You are young blood\")\n",
    "else:\n",
    "    print(\"Thank you, We will let you know\")"
   ]
  },
  {
   "cell_type": "code",
   "execution_count": 17,
   "id": "ab1ec7d9-7dbc-4429-b500-54c63b687124",
   "metadata": {},
   "outputs": [
    {
     "name": "stdin",
     "output_type": "stream",
     "text": [
      "Enter the product price 999\n"
     ]
    },
    {
     "name": "stdout",
     "output_type": "stream",
     "text": [
      "The price of the product is 699.3\n"
     ]
    }
   ],
   "source": [
    "product_price = int(input(\"Enter the product price\"))\n",
    "    \n",
    "if product_price >1000:\n",
    "    print(\"The price of the product is {}\".format(product_price*0.8))\n",
    "else:\n",
    "    print(\"The price of the product is {}\".format(product_price*0.7))\n",
    "    "
   ]
  },
  {
   "cell_type": "code",
   "execution_count": 29,
   "id": "1dc84c82-f269-406b-8556-14788fdba46f",
   "metadata": {},
   "outputs": [
    {
     "data": {
      "text/plain": [
       "137"
      ]
     },
     "execution_count": 29,
     "metadata": {},
     "output_type": "execute_result"
    }
   ],
   "source": [
    "int((30/100)*459)"
   ]
  },
  {
   "cell_type": "code",
   "execution_count": 33,
   "id": "494ec754-29c0-4bf4-8031-f94db56a1121",
   "metadata": {},
   "outputs": [
    {
     "name": "stdin",
     "output_type": "stream",
     "text": [
      "Enter the product price 459\n"
     ]
    },
    {
     "name": "stdout",
     "output_type": "stream",
     "text": [
      "The price of the product is 321.29999999999995\n"
     ]
    }
   ],
   "source": [
    "product_price = int(input(\"Enter the product price\"))\n",
    "if product_price >1000:\n",
    "    print(f\"The price of the product is {product_price*0.8}\")\n",
    "else:\n",
    "    print(f\"The price of the product is {product_price*0.7}\")\n",
    "    "
   ]
  },
  {
   "cell_type": "code",
   "execution_count": 42,
   "id": "7b71625c-3a35-4deb-aa12-e913e1d1e5df",
   "metadata": {},
   "outputs": [
    {
     "name": "stdin",
     "output_type": "stream",
     "text": [
      "Enter the product price 1324\n"
     ]
    },
    {
     "name": "stdout",
     "output_type": "stream",
     "text": [
      "The price of the product is 794.4\n"
     ]
    }
   ],
   "source": [
    "product_price = int(input(\"Enter the product price\"))\n",
    "if product_price >3000:\n",
    "    if product_price >=4000:\n",
    "        print(\"Congratulations, you get a goa trip\")\n",
    "    print(f\"The price of the product is {product_price*0.8}\")\n",
    "elif product_price >=2000 and product_price <=3000:\n",
    "    if product_price == 2999:\n",
    "        print(\"Congratulations you get an additional gift\")\n",
    "    print(f\"The price of the product is {product_price*0.7}\") \n",
    "elif product_price >=100 and product_price <2000:\n",
    "    print(f\"The price of the product is {product_price*0.6}\")\n",
    "else:\n",
    "    print(\"Lets drink tea\")\n",
    "    "
   ]
  },
  {
   "cell_type": "code",
   "execution_count": 22,
   "id": "d08f466f-b482-4e78-90d8-df43369df620",
   "metadata": {},
   "outputs": [
    {
     "name": "stdin",
     "output_type": "stream",
     "text": [
      "Enter the number 1000\n"
     ]
    },
    {
     "name": "stdout",
     "output_type": "stream",
     "text": [
      "go to home\n"
     ]
    }
   ],
   "source": [
    "## Single statement suites\n",
    "val = int(input(\"Enter the number\"))\n",
    "if(val<=999):print(\"Value is less than eual to 999\")\n",
    "else:\n",
    "    print(\"go to home\")"
   ]
  },
  {
   "cell_type": "raw",
   "id": "64345b2e-4c32-43dc-8873-ca0f199f6518",
   "metadata": {},
   "source": [
    "Loop\n",
    "1. while loop\n",
    "2. for loop\n",
    "3. nested loop\n",
    "4. loop control ( break, continue, pass)"
   ]
  },
  {
   "cell_type": "code",
   "execution_count": 2,
   "id": "1a3ee08c-7f7b-4f43-99ad-78f9f266245a",
   "metadata": {},
   "outputs": [
    {
     "name": "stdout",
     "output_type": "stream",
     "text": [
      "25 26 27 28 29 30 31 32 33 34 35 36 37 38 39 40 41 42 43 44 45 46 47 48 49 50 51 52 53 54 55 56 57 58 59 60 \n",
      "It's time for retirement\n"
     ]
    }
   ],
   "source": [
    "# while loop\n",
    "joining_age=25\n",
    "while joining_age<=60:\n",
    "    print(joining_age, end=' ')\n",
    "    joining_age=joining_age+1\n",
    "    \n",
    "else:\n",
    "    print(\"\\nIt's time for retirement\")"
   ]
  },
  {
   "cell_type": "code",
   "execution_count": 45,
   "id": "bf74358e-71f9-4df7-938e-d08962e9072d",
   "metadata": {},
   "outputs": [
    {
     "name": "stdout",
     "output_type": "stream",
     "text": [
      "1000\n",
      "900\n",
      "800\n",
      "700\n",
      "600\n",
      "500\n",
      "400\n",
      "300\n",
      "200\n",
      "100\n",
      "Put more money bank people\n"
     ]
    }
   ],
   "source": [
    "## Atm machine with 1000 rs\n",
    "total_amount=1000\n",
    "while total_amount !=0:\n",
    "    print(total_amount,end=')\n",
    "    total_amount=total_amount-100\n",
    "else:\n",
    "    print(\"Put more money bank people\")"
   ]
  },
  {
   "cell_type": "code",
   "execution_count": 9,
   "id": "748efd74-dc22-4e6e-8f18-9f5b6b8cff31",
   "metadata": {},
   "outputs": [],
   "source": [
    "## For Loop\n",
    "lst=[\"Arghya\", 2,4,6,\"Apple\"]\n"
   ]
  },
  {
   "cell_type": "code",
   "execution_count": 15,
   "id": "5a9932eb-b8a6-4356-a9bf-2c723c41eedf",
   "metadata": {},
   "outputs": [
    {
     "name": "stdout",
     "output_type": "stream",
     "text": [
      "mango Apple 1 2 3 "
     ]
    }
   ],
   "source": [
    "list = [ \"mango\", \"Apple\", 1, 2, 3]\n",
    "for x in list:\n",
    "    print(x,end=' ')"
   ]
  },
  {
   "cell_type": "code",
   "execution_count": 9,
   "id": "51128844-c6f3-47b7-a956-22c8c200c095",
   "metadata": {},
   "outputs": [],
   "source": [
    "fruits_list = [\"Mango\",\"Apple\", \"Orange\", \"Papaya\", \"Banana\"]"
   ]
  },
  {
   "cell_type": "code",
   "execution_count": 12,
   "id": "f097cfc0-5154-4f8b-8d75-4b2646af726f",
   "metadata": {},
   "outputs": [
    {
     "name": "stdout",
     "output_type": "stream",
     "text": [
      "Mango, Apple, Orange, Papaya, The fruit is Papaya\n",
      "Banana, "
     ]
    }
   ],
   "source": [
    "for a in fruits_list:\n",
    "    print(a, end = \", \")\n",
    "    if a == \"Papaya\":\n",
    "        print(\"The fruit is Papaya\")"
   ]
  },
  {
   "cell_type": "code",
   "execution_count": 14,
   "id": "09512b1e-15a5-43b1-91b1-ae012320d649",
   "metadata": {},
   "outputs": [
    {
     "name": "stdout",
     "output_type": "stream",
     "text": [
      "Mango, Apple, Orange, Papaya, The fruit is Papaya\n"
     ]
    }
   ],
   "source": [
    "for a in fruits_list:\n",
    "    print(a, end = \", \")\n",
    "    if a == \"Papaya\":\n",
    "        print(\"The fruit is Papaya\")\n",
    "        break\n",
    "        \n",
    "## break is used for coming out of the loop.        "
   ]
  },
  {
   "cell_type": "code",
   "execution_count": 15,
   "id": "19a6ddbe-7e09-415a-9f0a-a8836a530f0b",
   "metadata": {},
   "outputs": [
    {
     "name": "stdout",
     "output_type": "stream",
     "text": [
      "A r g h y a "
     ]
    }
   ],
   "source": [
    "Name = \"Arghya\"\n",
    "for x in Name:\n",
    "    print(x, end=\" \")"
   ]
  },
  {
   "cell_type": "code",
   "execution_count": 16,
   "id": "b8797930-cf1a-4563-8e79-ea53a2120bfd",
   "metadata": {},
   "outputs": [
    {
     "data": {
      "text/plain": [
       "'y'"
      ]
     },
     "execution_count": 16,
     "metadata": {},
     "output_type": "execute_result"
    }
   ],
   "source": [
    "Name[4]"
   ]
  },
  {
   "cell_type": "code",
   "execution_count": 29,
   "id": "94bb9651-b0d4-4c6b-9077-4dc938afee68",
   "metadata": {},
   "outputs": [
    {
     "name": "stdout",
     "output_type": "stream",
     "text": [
      "* * * * * * * * * * * * * * * * * * * * * * * * * * * * "
     ]
    }
   ],
   "source": [
    "## Nested Loops\n",
    "n=7\n",
    "for i in range(0,n):\n",
    "    for j in range(0,i+1):\n",
    "        print(\"*\",end=\" \")"
   ]
  },
  {
   "cell_type": "code",
   "execution_count": 18,
   "id": "61e4f5d3-3a92-4714-9780-936805dc1120",
   "metadata": {},
   "outputs": [
    {
     "name": "stdout",
     "output_type": "stream",
     "text": [
      "1 2 3 4 5 "
     ]
    }
   ],
   "source": [
    "for i in range(1,6):\n",
    "    print(i,end=\" \")"
   ]
  },
  {
   "cell_type": "code",
   "execution_count": 22,
   "id": "4e362b01-d682-41e4-8c73-e39f1c20fc96",
   "metadata": {},
   "outputs": [
    {
     "name": "stdout",
     "output_type": "stream",
     "text": [
      "0 1 2 3 4 5 "
     ]
    }
   ],
   "source": [
    "for i in range(6):\n",
    "    print(i,end=\" \")"
   ]
  },
  {
   "cell_type": "code",
   "execution_count": 23,
   "id": "a76b7984-613e-411b-a624-a2222c337131",
   "metadata": {},
   "outputs": [
    {
     "name": "stdout",
     "output_type": "stream",
     "text": [
      "1 3 5 "
     ]
    }
   ],
   "source": [
    "for i in range(1,6,2):\n",
    "    print(i,end=\" \")"
   ]
  },
  {
   "cell_type": "code",
   "execution_count": 39,
   "id": "f01c0bc4-a397-455d-872a-4b31362b796e",
   "metadata": {},
   "outputs": [
    {
     "name": "stdout",
     "output_type": "stream",
     "text": [
      "* \n",
      "* * \n",
      "* * * \n",
      "* * * * \n",
      "* * * * * \n",
      "* * * * * * \n",
      "* * * * * * * \n"
     ]
    }
   ],
   "source": [
    "n=7\n",
    "for i in range(0,n):\n",
    "    for j in range(0,i+1):\n",
    "        print(\"*\",end=\" \")\n",
    "    print(\"\\r\")    "
   ]
  },
  {
   "cell_type": "code",
   "execution_count": 4,
   "id": "fd7abe7b-0c15-41a5-9ba4-7a4ecaab3f25",
   "metadata": {},
   "outputs": [
    {
     "name": "stdin",
     "output_type": "stream",
     "text": [
      "Enter the triangle length :  7\n"
     ]
    },
    {
     "name": "stdout",
     "output_type": "stream",
     "text": [
      "              * \n",
      "            * * \n",
      "          * * * * \n",
      "        * * * * * * \n",
      "      * * * * * * * * \n",
      "    * * * * * * * * * * \n",
      "  * * * * * * * * * * * * \n"
     ]
    }
   ],
   "source": [
    "## Assignment\n",
    "n = int(input(\"Enter the triangle length : \"))\n",
    "for i in range(n):\n",
    "    for j in range(n-i):\n",
    "        print(\" \",end=\" \")\n",
    "    for k in range(i+1):\n",
    "        print(\"*\",end=\" \")\n",
    "    for m in range(k-1):\n",
    "        print(\"*\",end=\" \")   \n",
    "    print()"
   ]
  },
  {
   "cell_type": "code",
   "execution_count": 6,
   "id": "93bcd982-c370-4e9e-abba-29a98e9e05a5",
   "metadata": {},
   "outputs": [
    {
     "name": "stdin",
     "output_type": "stream",
     "text": [
      "Enter the triangle length :  7\n"
     ]
    },
    {
     "name": "stdout",
     "output_type": "stream",
     "text": [
      "        * \n",
      "       * * * \n",
      "      * * * * * \n",
      "     * * * * * * * \n",
      "    * * * * * * * * * \n",
      "   * * * * * * * * * * * \n",
      "  * * * * * * * * * * * * * \n"
     ]
    }
   ],
   "source": [
    "n = int(input(\"Enter the triangle length : \"))\n",
    "for i in range(n):\n",
    "    print(\" \"*(n-i),end=\" \")\n",
    "    for j in range(i*2+1):\n",
    "        print(\"*\",end=\" \")\n",
    "    print()"
   ]
  },
  {
   "cell_type": "code",
   "execution_count": 10,
   "id": "5e27982d-b8fa-4955-986b-4a27490c12b1",
   "metadata": {},
   "outputs": [],
   "source": [
    "## Loop controls\n",
    "## Break and Continue\n",
    "\n",
    "\n",
    "fruits_list = [\"Mango\",\"Apple\", \"Orange\", \"Papaya\", \"Banana\"]"
   ]
  },
  {
   "cell_type": "code",
   "execution_count": 15,
   "id": "713ded3b-6f42-417e-b3f0-f6d113d26b88",
   "metadata": {},
   "outputs": [
    {
     "name": "stdout",
     "output_type": "stream",
     "text": [
      "Mango\n",
      "Apple\n",
      "The fruit is Orange\n"
     ]
    }
   ],
   "source": [
    "for i in fruits_list:\n",
    "    if i == \"Orange\":\n",
    "        print(\"The fruit is Orange\")\n",
    "        break  # Break will stop the loop\n",
    "    print(i)    "
   ]
  },
  {
   "cell_type": "code",
   "execution_count": 13,
   "id": "14fa5eab-d027-4be2-870c-dc190f7e2bad",
   "metadata": {},
   "outputs": [
    {
     "name": "stdout",
     "output_type": "stream",
     "text": [
      "Mango\n",
      "Apple\n",
      "The fruit is Orange\n",
      "Orange\n",
      "Papaya\n",
      "Banana\n"
     ]
    }
   ],
   "source": [
    "for i in fruits_list:\n",
    "    if i == \"Orange\":\n",
    "        print(\"The fruit is Orange\")\n",
    "        pass\n",
    "    print(i)   "
   ]
  },
  {
   "cell_type": "code",
   "execution_count": 16,
   "id": "ea85d9e0-6145-43ab-b56e-acd03329da1b",
   "metadata": {},
   "outputs": [
    {
     "name": "stdout",
     "output_type": "stream",
     "text": [
      "Mango\n",
      "Apple\n",
      "The fruit is Orange\n",
      "Papaya\n",
      "Banana\n"
     ]
    }
   ],
   "source": [
    "for i in fruits_list:\n",
    "    if i == \"Orange\":\n",
    "        print(\"The fruit is Orange\")\n",
    "        continue  # Continue will skip the loop\n",
    "    print(i)  "
   ]
  },
  {
   "cell_type": "code",
   "execution_count": null,
   "id": "faeb1433-c494-4eb2-8e61-bfc6335bc152",
   "metadata": {},
   "outputs": [],
   "source": []
  }
 ],
 "metadata": {
  "kernelspec": {
   "display_name": "Python 3 (ipykernel)",
   "language": "python",
   "name": "python3"
  },
  "language_info": {
   "codemirror_mode": {
    "name": "ipython",
    "version": 3
   },
   "file_extension": ".py",
   "mimetype": "text/x-python",
   "name": "python",
   "nbconvert_exporter": "python",
   "pygments_lexer": "ipython3",
   "version": "3.10.8"
  }
 },
 "nbformat": 4,
 "nbformat_minor": 5
}
