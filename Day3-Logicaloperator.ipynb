{
 "cells": [
  {
   "cell_type": "markdown",
   "id": "8492fdc5-e8de-444d-a349-649e2e5097b2",
   "metadata": {},
   "source": [
    "## 31/01/2023"
   ]
  },
  {
   "cell_type": "markdown",
   "id": "887c4c30-85bf-402d-9a94-78d4ccf70555",
   "metadata": {},
   "source": [
    "## Logical Operators\n",
    "1. And\n",
    "2. Or\n",
    "3. Not"
   ]
  },
  {
   "cell_type": "code",
   "execution_count": 1,
   "id": "c5b71d4b-a119-4b78-9580-5c4c3ad86eab",
   "metadata": {},
   "outputs": [
    {
     "data": {
      "text/plain": [
       "True"
      ]
     },
     "execution_count": 1,
     "metadata": {},
     "output_type": "execute_result"
    }
   ],
   "source": [
    "True and True"
   ]
  },
  {
   "cell_type": "code",
   "execution_count": 3,
   "id": "555a2169-3283-4f7d-905b-4a0235b942f4",
   "metadata": {},
   "outputs": [
    {
     "data": {
      "text/plain": [
       "False"
      ]
     },
     "execution_count": 3,
     "metadata": {},
     "output_type": "execute_result"
    }
   ],
   "source": [
    "True and False"
   ]
  },
  {
   "cell_type": "code",
   "execution_count": 4,
   "id": "73e090af-8e97-46b2-8de8-5b5506276195",
   "metadata": {},
   "outputs": [
    {
     "data": {
      "text/plain": [
       "True"
      ]
     },
     "execution_count": 4,
     "metadata": {},
     "output_type": "execute_result"
    }
   ],
   "source": [
    "True or False"
   ]
  },
  {
   "cell_type": "code",
   "execution_count": 11,
   "id": "dec14788-3041-4338-8159-057a697c820b",
   "metadata": {},
   "outputs": [
    {
     "name": "stdout",
     "output_type": "stream",
     "text": [
      "Defined value of START = True\n",
      "Defined value of STOP = False\n",
      "\n",
      "Defined value of START = True\n",
      "Defined value of STOP by negating START = False\n",
      "\n",
      "Defined value of START by negating STOP = True\n",
      "Defined value of STOP = False\n",
      "\n"
     ]
    }
   ],
   "source": [
    "# Lets define two variables having boolean values True And False-\n",
    "START = True\n",
    "STOP = False\n",
    "\n",
    "# Print the value as it is\n",
    "print(f\"Defined value of START = {START}\")\n",
    "print(f\"Defined value of STOP = {STOP}\\n\")\n",
    "\n",
    "# If can also be written as -\n",
    "print(f\"Defined value of START = {START}\")\n",
    "print(f\"Defined value of STOP by negating START = {not START}\\n\")\n",
    "\n",
    "# Alternatively -\n",
    "print(f\"Defined value of START by negating STOP = {not STOP}\")\n",
    "print(f\"Defined value of STOP = {STOP}\\n\")"
   ]
  },
  {
   "cell_type": "code",
   "execution_count": 1,
   "id": "a08d6082-9d3d-4a60-93f1-431ca13ae1fe",
   "metadata": {},
   "outputs": [
    {
     "data": {
      "text/plain": [
       "False"
      ]
     },
     "execution_count": 1,
     "metadata": {},
     "output_type": "execute_result"
    }
   ],
   "source": [
    "not True"
   ]
  },
  {
   "cell_type": "code",
   "execution_count": 3,
   "id": "4eedbaac-8060-4ba7-bfdf-fbadb454d257",
   "metadata": {},
   "outputs": [
    {
     "data": {
      "text/plain": [
       "False"
      ]
     },
     "execution_count": 3,
     "metadata": {},
     "output_type": "execute_result"
    }
   ],
   "source": [
    "bool(0)"
   ]
  },
  {
   "cell_type": "code",
   "execution_count": 4,
   "id": "4d5ccd0a-c288-46d8-b040-6670036c0a4e",
   "metadata": {},
   "outputs": [
    {
     "data": {
      "text/plain": [
       "True"
      ]
     },
     "execution_count": 4,
     "metadata": {},
     "output_type": "execute_result"
    }
   ],
   "source": [
    "not (bool(0))"
   ]
  },
  {
   "cell_type": "code",
   "execution_count": 5,
   "id": "5c099fd5-dbc9-4493-ad4a-b2b4ea7ba1fa",
   "metadata": {},
   "outputs": [
    {
     "data": {
      "text/plain": [
       "True"
      ]
     },
     "execution_count": 5,
     "metadata": {},
     "output_type": "execute_result"
    }
   ],
   "source": [
    "not (int(bool(0)))"
   ]
  },
  {
   "cell_type": "code",
   "execution_count": 1,
   "id": "fd763736-6760-41c9-b7e8-55794526fce7",
   "metadata": {},
   "outputs": [
    {
     "data": {
      "text/plain": [
       "True"
      ]
     },
     "execution_count": 1,
     "metadata": {},
     "output_type": "execute_result"
    }
   ],
   "source": [
    "bool(1)"
   ]
  },
  {
   "cell_type": "code",
   "execution_count": 2,
   "id": "cd09839d-708b-44b7-ae90-dbbbc2f757bd",
   "metadata": {},
   "outputs": [
    {
     "data": {
      "text/plain": [
       "False"
      ]
     },
     "execution_count": 2,
     "metadata": {},
     "output_type": "execute_result"
    }
   ],
   "source": [
    "not bool(1)"
   ]
  },
  {
   "cell_type": "code",
   "execution_count": 3,
   "id": "93c9383f-47b3-4931-80fd-6230c35f8497",
   "metadata": {},
   "outputs": [
    {
     "data": {
      "text/plain": [
       "False"
      ]
     },
     "execution_count": 3,
     "metadata": {},
     "output_type": "execute_result"
    }
   ],
   "source": [
    "not (int(bool(1)))"
   ]
  },
  {
   "cell_type": "code",
   "execution_count": 5,
   "id": "9545fa70-fe7b-46dc-b93e-9040dbe05966",
   "metadata": {},
   "outputs": [
    {
     "data": {
      "text/plain": [
       "0"
      ]
     },
     "execution_count": 5,
     "metadata": {},
     "output_type": "execute_result"
    }
   ],
   "source": [
    "int(bool(0))"
   ]
  },
  {
   "cell_type": "code",
   "execution_count": 6,
   "id": "6ca7906e-3f32-4dea-83f8-a5ac1d5b16b1",
   "metadata": {},
   "outputs": [
    {
     "data": {
      "text/plain": [
       "False"
      ]
     },
     "execution_count": 6,
     "metadata": {},
     "output_type": "execute_result"
    }
   ],
   "source": [
    "not 1"
   ]
  },
  {
   "cell_type": "code",
   "execution_count": 7,
   "id": "1719a417-86ba-4c90-8a34-4229008110ad",
   "metadata": {},
   "outputs": [
    {
     "data": {
      "text/plain": [
       "True"
      ]
     },
     "execution_count": 7,
     "metadata": {},
     "output_type": "execute_result"
    }
   ],
   "source": [
    "not 0"
   ]
  },
  {
   "cell_type": "code",
   "execution_count": 9,
   "id": "39b2686a-a9b7-4a79-9826-2ca1788bfc71",
   "metadata": {},
   "outputs": [
    {
     "data": {
      "text/plain": [
       "False"
      ]
     },
     "execution_count": 9,
     "metadata": {},
     "output_type": "execute_result"
    }
   ],
   "source": [
    "not 1"
   ]
  },
  {
   "cell_type": "code",
   "execution_count": 10,
   "id": "ae1ab602-9db8-4159-a6aa-eb7ddc3ee3c3",
   "metadata": {},
   "outputs": [
    {
     "data": {
      "text/plain": [
       "True"
      ]
     },
     "execution_count": 10,
     "metadata": {},
     "output_type": "execute_result"
    }
   ],
   "source": [
    "not 0"
   ]
  },
  {
   "cell_type": "code",
   "execution_count": 12,
   "id": "c54c9e33-7c00-4598-83c4-b903b3fbeac7",
   "metadata": {},
   "outputs": [
    {
     "name": "stdout",
     "output_type": "stream",
     "text": [
      "Defined value of START = 1\n",
      "Defined value of STOP = 0\n",
      "\n",
      "Defined value of START = 1\n",
      "Defined value of STOP by negating START = 0\n",
      "\n",
      "Defined value of START by negating STOP = 1\n",
      "Defined value of STOP = 0\n",
      "\n"
     ]
    }
   ],
   "source": [
    "# Lets define two variables having boolean values True And False-\n",
    "START = 1\n",
    "STOP = 0\n",
    "\n",
    "# Print the value as it is\n",
    "print(f\"Defined value of START = {START}\")\n",
    "print(f\"Defined value of STOP = {STOP}\\n\")\n",
    "\n",
    "# If can also be written as -\n",
    "print(f\"Defined value of START = {START}\")\n",
    "print(f\"Defined value of STOP by negating START = {int(not START)}\\n\")\n",
    "\n",
    "# Alternatively -\n",
    "print(f\"Defined value of START by negating STOP = {int(not STOP)}\")\n",
    "print(f\"Defined value of STOP = {STOP}\\n\")"
   ]
  },
  {
   "cell_type": "code",
   "execution_count": 15,
   "id": "b36999a6-7db4-453c-b6a8-7c686d6e8027",
   "metadata": {},
   "outputs": [
    {
     "name": "stdout",
     "output_type": "stream",
     "text": [
      "boolean value of no. 0 is False\n",
      "boolean value of no. 1 is True\n",
      "negation of 0 is True and negation of 1 is False\n",
      "\n",
      "#------------------------#\n",
      "\n"
     ]
    }
   ],
   "source": [
    "zero = 0\n",
    "one = 1\n",
    "\n",
    "print(f\"boolean value of no. {zero} is {bool(zero)}\")\n",
    "print(f\"boolean value of no. {one} is {bool(one)}\")\n",
    "print(f\"negation of {zero} is {not zero} and negation of {one} is {not one}\")\n",
    "\n",
    "print(\"\\n#------------------------#\\n\")"
   ]
  },
  {
   "cell_type": "code",
   "execution_count": 17,
   "id": "4ae3367c-8769-43a2-81e9-623d436dde0e",
   "metadata": {},
   "outputs": [
    {
     "data": {
      "text/plain": [
       "False"
      ]
     },
     "execution_count": 17,
     "metadata": {},
     "output_type": "execute_result"
    }
   ],
   "source": [
    "not 5"
   ]
  },
  {
   "cell_type": "code",
   "execution_count": 20,
   "id": "310d136f-c312-4771-a4d9-00594c23ea17",
   "metadata": {},
   "outputs": [
    {
     "data": {
      "text/plain": [
       "False"
      ]
     },
     "execution_count": 20,
     "metadata": {},
     "output_type": "execute_result"
    }
   ],
   "source": [
    "not -5"
   ]
  },
  {
   "cell_type": "code",
   "execution_count": 16,
   "id": "a18e50f2-17c8-4897-9b17-35b094e5c6bc",
   "metadata": {},
   "outputs": [
    {
     "name": "stdout",
     "output_type": "stream",
     "text": [
      "boolean value of no. -5 is True\n",
      "boolean value of no. 5 is True\n",
      "negation of -5 is False and negation of 5 is False\n",
      "\n",
      "#------------------------#\n",
      "\n"
     ]
    }
   ],
   "source": [
    "Some_negative_integer = -5\n",
    "Some_positive_integer = 5\n",
    "\n",
    "print(f\"boolean value of no. {Some_negative_integer} is {bool(Some_negative_integer)}\")\n",
    "print(f\"boolean value of no. {Some_positive_integer} is {bool(Some_positive_integer)}\")\n",
    "print(f\"negation of {Some_negative_integer} is {not Some_negative_integer} and negation of {Some_positive_integer} is {not Some_positive_integer}\")\n",
    "\n",
    "print(\"\\n#------------------------#\\n\")"
   ]
  },
  {
   "cell_type": "code",
   "execution_count": 21,
   "id": "2504546f-870e-446e-93bb-06531c85759c",
   "metadata": {},
   "outputs": [
    {
     "name": "stdout",
     "output_type": "stream",
     "text": [
      "boolean value of no. -5.9 is True\n",
      "boolean value of no. 5.3 is True\n",
      "negation of -5.9 is False and negation of 5.3 is False\n",
      "\n",
      "#------------------------#\n",
      "\n"
     ]
    }
   ],
   "source": [
    "Some_negative_float = -5.9\n",
    "Some_positive_float = 5.3\n",
    "\n",
    "print(f\"boolean value of no. {Some_negative_float} is {bool(Some_negative_float)}\")\n",
    "print(f\"boolean value of no. {Some_positive_float} is {bool(Some_positive_float)}\")\n",
    "print(f\"negation of {Some_negative_float} is {not Some_negative_float} and negation of {Some_positive_float} is {not Some_positive_float}\")\n",
    "\n",
    "print(\"\\n#------------------------#\\n\")"
   ]
  },
  {
   "cell_type": "markdown",
   "id": "33010085-8c2c-4eb4-9672-68f6a03c941e",
   "metadata": {},
   "source": [
    "### Logical And"
   ]
  },
  {
   "cell_type": "code",
   "execution_count": 2,
   "id": "f1f505a0-f3fd-4595-85d6-1d8e43cb130f",
   "metadata": {},
   "outputs": [
    {
     "name": "stdout",
     "output_type": "stream",
     "text": [
      "Dish contains Vegetables : True\n",
      "Dish contains Salt : False\n",
      "hence Dish prepared was good : False\n",
      "\n"
     ]
    }
   ],
   "source": [
    "Vegetables = True \n",
    "Salt = False\n",
    "Dish = Vegetables and Salt\n",
    "\n",
    "print(f\"Dish contains Vegetables : {Vegetables}\")\n",
    "print(f\"Dish contains Salt : {Salt}\")\n",
    "print(f\"hence Dish prepared was good : {Dish}\\n\")"
   ]
  },
  {
   "cell_type": "code",
   "execution_count": 3,
   "id": "35e8e11d-0d19-48d6-84d3-5bd223b4f203",
   "metadata": {},
   "outputs": [
    {
     "data": {
      "text/plain": [
       "False"
      ]
     },
     "execution_count": 3,
     "metadata": {},
     "output_type": "execute_result"
    }
   ],
   "source": [
    "True and False"
   ]
  },
  {
   "cell_type": "code",
   "execution_count": 4,
   "id": "e137ac70-5d48-48d0-a27d-69ef203250d8",
   "metadata": {},
   "outputs": [
    {
     "data": {
      "text/plain": [
       "1"
      ]
     },
     "execution_count": 4,
     "metadata": {},
     "output_type": "execute_result"
    }
   ],
   "source": [
    "True * True"
   ]
  },
  {
   "cell_type": "code",
   "execution_count": 5,
   "id": "b8bbe408-661b-4297-ad75-2c2b641eec34",
   "metadata": {},
   "outputs": [
    {
     "data": {
      "text/plain": [
       "0"
      ]
     },
     "execution_count": 5,
     "metadata": {},
     "output_type": "execute_result"
    }
   ],
   "source": [
    "True * False"
   ]
  },
  {
   "cell_type": "code",
   "execution_count": 10,
   "id": "ee733262-d362-49c3-89f5-3c96940c5374",
   "metadata": {},
   "outputs": [
    {
     "data": {
      "text/plain": [
       "0"
      ]
     },
     "execution_count": 10,
     "metadata": {},
     "output_type": "execute_result"
    }
   ],
   "source": [
    "False * False"
   ]
  },
  {
   "cell_type": "code",
   "execution_count": 6,
   "id": "b4a46fdb-234a-41f1-995a-9787b2f4a119",
   "metadata": {},
   "outputs": [
    {
     "data": {
      "text/plain": [
       "True"
      ]
     },
     "execution_count": 6,
     "metadata": {},
     "output_type": "execute_result"
    }
   ],
   "source": [
    "not(False) * True"
   ]
  },
  {
   "cell_type": "code",
   "execution_count": 9,
   "id": "11026167-001b-4f70-a73a-90f9ab15dc76",
   "metadata": {},
   "outputs": [
    {
     "data": {
      "text/plain": [
       "1"
      ]
     },
     "execution_count": 9,
     "metadata": {},
     "output_type": "execute_result"
    }
   ],
   "source": [
    "(not(False)) * True"
   ]
  },
  {
   "cell_type": "code",
   "execution_count": 12,
   "id": "82a957a5-d4d4-4575-aeeb-002acd090e0e",
   "metadata": {},
   "outputs": [
    {
     "data": {
      "text/plain": [
       "True"
      ]
     },
     "execution_count": 12,
     "metadata": {},
     "output_type": "execute_result"
    }
   ],
   "source": [
    "not(False)"
   ]
  },
  {
   "cell_type": "code",
   "execution_count": 14,
   "id": "8a875370-804c-4f4a-aba6-8dfd4d439c76",
   "metadata": {},
   "outputs": [
    {
     "name": "stdout",
     "output_type": "stream",
     "text": [
      "True\n"
     ]
    }
   ],
   "source": [
    "print(not False * False)"
   ]
  },
  {
   "cell_type": "code",
   "execution_count": 15,
   "id": "37370b2b-8cea-41f1-bbfa-b3c620c42e9f",
   "metadata": {},
   "outputs": [
    {
     "name": "stdout",
     "output_type": "stream",
     "text": [
      "0\n"
     ]
    }
   ],
   "source": [
    "print((not False) * False)"
   ]
  },
  {
   "cell_type": "code",
   "execution_count": 16,
   "id": "4ecdf29a-edbf-4cc7-9772-57616c57b6da",
   "metadata": {},
   "outputs": [
    {
     "name": "stdout",
     "output_type": "stream",
     "text": [
      "True\n"
     ]
    }
   ],
   "source": [
    "print(not False * False)  #in this case False * False execute first then not operation"
   ]
  },
  {
   "cell_type": "code",
   "execution_count": 18,
   "id": "51cc3375-4c00-41d5-9110-8f8c65e3a527",
   "metadata": {},
   "outputs": [
    {
     "name": "stdout",
     "output_type": "stream",
     "text": [
      "0\n"
     ]
    }
   ],
   "source": [
    "print((not False) * False) #in this case brackets execute first then * False "
   ]
  },
  {
   "cell_type": "markdown",
   "id": "92bf442a-a3cf-4322-94c9-4596383e2d68",
   "metadata": {},
   "source": [
    "### Equality Operators\n",
    "\n",
    "#### Following operators are present in python for equality check operation:-"
   ]
  },
  {
   "cell_type": "raw",
   "id": "b68c77d8-2e13-4fe8-bbd8-ebb4a9330ada",
   "metadata": {},
   "source": [
    "Operators                          Meaning\n",
    "is             a is b returns true if variable/identifiers a and b points to the same object \n",
    "is not         a is not b returns true if variable/identifiers a and b points to the different object\n",
    "==             a == b returns true if variable/identifiers a and b has same value\n",
    "!=             a != b returns true if variable/identifiers a and b has different value"
   ]
  },
  {
   "cell_type": "code",
   "execution_count": 2,
   "id": "ad15bb2a-fd93-48f2-8146-314cecc6b260",
   "metadata": {},
   "outputs": [
    {
     "name": "stdout",
     "output_type": "stream",
     "text": [
      "139831993776576\n",
      "139831993776704\n"
     ]
    }
   ],
   "source": [
    "lst_a = [1,2,3,4]\n",
    "lst_b = [1,2,3,4]\n",
    "\n",
    "print(id(lst_a))\n",
    "print(id(lst_b))"
   ]
  },
  {
   "cell_type": "code",
   "execution_count": 4,
   "id": "f5841831-c957-4659-a719-1b94f09e488c",
   "metadata": {},
   "outputs": [
    {
     "data": {
      "text/plain": [
       "False"
      ]
     },
     "execution_count": 4,
     "metadata": {},
     "output_type": "execute_result"
    }
   ],
   "source": [
    "lst_a is lst_b #because it both have the differnt memory address"
   ]
  },
  {
   "cell_type": "code",
   "execution_count": 6,
   "id": "afb6af1f-6afd-4b41-b587-419de9b6b57d",
   "metadata": {},
   "outputs": [
    {
     "name": "stdout",
     "output_type": "stream",
     "text": [
      "139831993740608\n",
      "139831993740608\n"
     ]
    }
   ],
   "source": [
    "lst_a = [1,2,3,4]\n",
    "lst_b = lst_a\n",
    "\n",
    "print(id(lst_a))\n",
    "print(id(lst_b))"
   ]
  },
  {
   "cell_type": "code",
   "execution_count": 13,
   "id": "74ede0c7-b28e-4842-8f73-52d16d52a89c",
   "metadata": {},
   "outputs": [
    {
     "data": {
      "text/plain": [
       "True"
      ]
     },
     "execution_count": 13,
     "metadata": {},
     "output_type": "execute_result"
    }
   ],
   "source": [
    "lst_a = [1,2,3,4]\n",
    "lst_b = [1,2,3,4]\n",
    "\n",
    "lst_a is not lst_b"
   ]
  },
  {
   "cell_type": "code",
   "execution_count": 8,
   "id": "cd59a454-4e43-412e-84ed-5c8b0a8529c1",
   "metadata": {},
   "outputs": [
    {
     "data": {
      "text/plain": [
       "True"
      ]
     },
     "execution_count": 8,
     "metadata": {},
     "output_type": "execute_result"
    }
   ],
   "source": [
    "lst_a == lst_b #in this case == checks the value inside the lists "
   ]
  },
  {
   "cell_type": "code",
   "execution_count": 10,
   "id": "6e489707-7089-4f74-8f26-b1a5cbd2b42e",
   "metadata": {},
   "outputs": [
    {
     "name": "stdout",
     "output_type": "stream",
     "text": [
      "139832200593680\n",
      "139832200593680\n"
     ]
    }
   ],
   "source": [
    "a = 2 \n",
    "b = 2\n",
    "print(id(a))\n",
    "print(id(b))   #as a list is a collecltion of data that's y two lists containing same elements have different memory address\n",
    "               #in this case a and b are not lists so they have same momory  address"
   ]
  },
  {
   "cell_type": "code",
   "execution_count": 11,
   "id": "34f7022f-775d-4970-befd-4e9f0f380478",
   "metadata": {},
   "outputs": [
    {
     "name": "stdout",
     "output_type": "stream",
     "text": [
      "139831993921776\n",
      "139831993921776\n"
     ]
    }
   ],
   "source": [
    "str1 = \"Arghya\"\n",
    "str2 = \"Arghya\"\n",
    "\n",
    "print(id(str1))\n",
    "print(id(str2))"
   ]
  },
  {
   "cell_type": "code",
   "execution_count": 15,
   "id": "0d318ad6-e831-4b62-83d1-79fdbd3958f8",
   "metadata": {},
   "outputs": [
    {
     "data": {
      "text/plain": [
       "[1, 2, 3, 4]"
      ]
     },
     "execution_count": 15,
     "metadata": {},
     "output_type": "execute_result"
    }
   ],
   "source": [
    "lst_a"
   ]
  },
  {
   "cell_type": "code",
   "execution_count": 17,
   "id": "04edcac5-868b-445a-a203-f77e40e2d763",
   "metadata": {},
   "outputs": [
    {
     "data": {
      "text/plain": [
       "1"
      ]
     },
     "execution_count": 17,
     "metadata": {},
     "output_type": "execute_result"
    }
   ],
   "source": [
    "lst_a[0] # to access the element inside the list by using index number"
   ]
  },
  {
   "cell_type": "code",
   "execution_count": 19,
   "id": "b8cf2e37-d5d5-42ba-a224-f21f1da4413d",
   "metadata": {},
   "outputs": [
    {
     "name": "stdout",
     "output_type": "stream",
     "text": [
      "[10, 2, 3, 4]\n"
     ]
    }
   ],
   "source": [
    "lst_a[0] = 10  #inside the list we can change the item as it's mutable\n",
    "print(lst_a)"
   ]
  },
  {
   "cell_type": "code",
   "execution_count": 21,
   "id": "40ed926b-92b2-45b5-8e3c-4eaba59ba406",
   "metadata": {},
   "outputs": [
    {
     "data": {
      "text/plain": [
       "'A'"
      ]
     },
     "execution_count": 21,
     "metadata": {},
     "output_type": "execute_result"
    }
   ],
   "source": [
    "str1[0]        # to access the element inside the string by using index number"
   ]
  },
  {
   "cell_type": "code",
   "execution_count": 24,
   "id": "cb7e1a40-d791-4ae1-a300-6728b715681d",
   "metadata": {},
   "outputs": [
    {
     "ename": "TypeError",
     "evalue": "'type' object does not support item assignment",
     "output_type": "error",
     "traceback": [
      "\u001b[0;31m---------------------------------------------------------------------------\u001b[0m",
      "\u001b[0;31mTypeError\u001b[0m                                 Traceback (most recent call last)",
      "Cell \u001b[0;32mIn[24], line 1\u001b[0m\n\u001b[0;32m----> 1\u001b[0m \u001b[38;5;28;43mstr\u001b[39;49m\u001b[43m[\u001b[49m\u001b[38;5;241;43m0\u001b[39;49m\u001b[43m]\u001b[49m \u001b[38;5;241m=\u001b[39m \u001b[38;5;124m\"\u001b[39m\u001b[38;5;124mC\u001b[39m\u001b[38;5;124m\"\u001b[39m \u001b[38;5;66;03m#insde string we can't replace the object like list as it's immutable\u001b[39;00m\n",
      "\u001b[0;31mTypeError\u001b[0m: 'type' object does not support item assignment"
     ]
    }
   ],
   "source": [
    "str[0] = \"C\" #insde string we can't replace the object like list as it's immutable"
   ]
  },
  {
   "cell_type": "markdown",
   "id": "c0a3872f-a78c-4877-b64f-b7588880a260",
   "metadata": {},
   "source": [
    "### Arithmetic Operation"
   ]
  },
  {
   "cell_type": "code",
   "execution_count": 32,
   "id": "8447ced2-9e4b-4481-92ec-e9a30d609f18",
   "metadata": {},
   "outputs": [],
   "source": [
    "a =  155\n",
    "b = 31"
   ]
  },
  {
   "cell_type": "code",
   "execution_count": 33,
   "id": "eed21071-6691-434a-8532-dbd653c30230",
   "metadata": {},
   "outputs": [
    {
     "data": {
      "text/plain": [
       "186"
      ]
     },
     "execution_count": 33,
     "metadata": {},
     "output_type": "execute_result"
    }
   ],
   "source": [
    "a+b"
   ]
  },
  {
   "cell_type": "code",
   "execution_count": 34,
   "id": "0263afc1-3f46-448c-b269-35e3297f9a13",
   "metadata": {},
   "outputs": [
    {
     "data": {
      "text/plain": [
       "124"
      ]
     },
     "execution_count": 34,
     "metadata": {},
     "output_type": "execute_result"
    }
   ],
   "source": [
    "a-b"
   ]
  },
  {
   "cell_type": "code",
   "execution_count": 35,
   "id": "ed4c17c8-8c85-4e2d-9609-0dbb65b2e9e6",
   "metadata": {},
   "outputs": [
    {
     "data": {
      "text/plain": [
       "4805"
      ]
     },
     "execution_count": 35,
     "metadata": {},
     "output_type": "execute_result"
    }
   ],
   "source": [
    "a*b"
   ]
  },
  {
   "cell_type": "code",
   "execution_count": 36,
   "id": "bafe5038-1fe3-4f56-b81b-f132f0015524",
   "metadata": {},
   "outputs": [
    {
     "data": {
      "text/plain": [
       "5.0"
      ]
     },
     "execution_count": 36,
     "metadata": {},
     "output_type": "execute_result"
    }
   ],
   "source": [
    "a/b"
   ]
  },
  {
   "cell_type": "code",
   "execution_count": 37,
   "id": "03d1d271-2e80-4b25-bebc-b6932e549777",
   "metadata": {},
   "outputs": [
    {
     "data": {
      "text/plain": [
       "0.2"
      ]
     },
     "execution_count": 37,
     "metadata": {},
     "output_type": "execute_result"
    }
   ],
   "source": [
    "b/a"
   ]
  },
  {
   "cell_type": "code",
   "execution_count": 39,
   "id": "768d627a-fa70-47f4-b822-9db2db229679",
   "metadata": {},
   "outputs": [
    {
     "data": {
      "text/plain": [
       "0"
      ]
     },
     "execution_count": 39,
     "metadata": {},
     "output_type": "execute_result"
    }
   ],
   "source": [
    "a%b #display the remainder"
   ]
  },
  {
   "cell_type": "code",
   "execution_count": 44,
   "id": "55b41516-b61a-4c51-a951-50e9c4f40884",
   "metadata": {},
   "outputs": [
    {
     "data": {
      "text/plain": [
       "31"
      ]
     },
     "execution_count": 44,
     "metadata": {},
     "output_type": "execute_result"
    }
   ],
   "source": [
    "b%a #provides remainder"
   ]
  },
  {
   "cell_type": "code",
   "execution_count": 41,
   "id": "fa03c979-69be-46e5-9d43-4a99c240a47f",
   "metadata": {},
   "outputs": [
    {
     "data": {
      "text/plain": [
       "5"
      ]
     },
     "execution_count": 41,
     "metadata": {},
     "output_type": "execute_result"
    }
   ],
   "source": [
    "a//b"
   ]
  },
  {
   "cell_type": "code",
   "execution_count": 43,
   "id": "da04069f-018a-454c-a6b7-1aa1b02a7698",
   "metadata": {},
   "outputs": [
    {
     "data": {
      "text/plain": [
       "0"
      ]
     },
     "execution_count": 43,
     "metadata": {},
     "output_type": "execute_result"
    }
   ],
   "source": [
    "b//a #integer division returns the value on integer"
   ]
  },
  {
   "cell_type": "markdown",
   "id": "7bf9f5d3-3d50-4c97-ac63-a3e962fdf759",
   "metadata": {},
   "source": [
    "### Bitwise operators"
   ]
  },
  {
   "cell_type": "markdown",
   "id": "105d4d00-96e4-4201-8c14-3cc11419edcd",
   "metadata": {},
   "source": [
    "|Operation | Meaning|\n",
    "|:-:|:-:|\n",
    "| **~** |bitwise complement (prefix unary operator)|\n",
    "| **&** |bitwise and|\n",
    "| **\\|** |bitwise or|\n",
    "| **^** |bitwise exclusive-or|\n",
    "| **<<** |shift bits left, filling in with zeros|\n",
    "| **>>** |shift bits right, filling in with sign bit|"
   ]
  },
  {
   "cell_type": "code",
   "execution_count": 45,
   "id": "467e6002-e957-4986-99f1-ace4f7a69489",
   "metadata": {},
   "outputs": [
    {
     "data": {
      "text/plain": [
       "'0b101'"
      ]
     },
     "execution_count": 45,
     "metadata": {},
     "output_type": "execute_result"
    }
   ],
   "source": [
    "var=5       #binany of 5 is 101\n",
    "bin(var)"
   ]
  },
  {
   "cell_type": "code",
   "execution_count": 46,
   "id": "17d95c6a-a777-4522-ab1b-1c31775c9d45",
   "metadata": {},
   "outputs": [
    {
     "data": {
      "text/plain": [
       "-6"
      ]
     },
     "execution_count": 46,
     "metadata": {},
     "output_type": "execute_result"
    }
   ],
   "source": [
    "~var"
   ]
  },
  {
   "cell_type": "code",
   "execution_count": 47,
   "id": "49ecbeb6-65af-4403-a158-f51594ae55d5",
   "metadata": {},
   "outputs": [
    {
     "data": {
      "text/plain": [
       "True"
      ]
     },
     "execution_count": 47,
     "metadata": {},
     "output_type": "execute_result"
    }
   ],
   "source": [
    "True | False"
   ]
  },
  {
   "cell_type": "code",
   "execution_count": 48,
   "id": "d8eefc3b-2b03-4f53-967b-a159271331c4",
   "metadata": {},
   "outputs": [
    {
     "data": {
      "text/plain": [
       "False"
      ]
     },
     "execution_count": 48,
     "metadata": {},
     "output_type": "execute_result"
    }
   ],
   "source": [
    "True & False"
   ]
  },
  {
   "cell_type": "code",
   "execution_count": 49,
   "id": "d6cb258c-57d6-4a84-b0de-70d1418ec80e",
   "metadata": {},
   "outputs": [
    {
     "data": {
      "text/plain": [
       "2"
      ]
     },
     "execution_count": 49,
     "metadata": {},
     "output_type": "execute_result"
    }
   ],
   "source": [
    "var >> 1"
   ]
  },
  {
   "cell_type": "code",
   "execution_count": 50,
   "id": "3624316f-9554-4900-8a11-a3198476c462",
   "metadata": {},
   "outputs": [
    {
     "data": {
      "text/plain": [
       "10"
      ]
     },
     "execution_count": 50,
     "metadata": {},
     "output_type": "execute_result"
    }
   ],
   "source": [
    "var << 1"
   ]
  },
  {
   "cell_type": "markdown",
   "id": "aa158d41-14b0-4c53-8c09-e47384e8e3e1",
   "metadata": {},
   "source": [
    "## Strings"
   ]
  },
  {
   "cell_type": "code",
   "execution_count": 55,
   "id": "8ecfad0a-a1e2-4902-adab-5581fe2891ed",
   "metadata": {},
   "outputs": [
    {
     "name": "stdout",
     "output_type": "stream",
     "text": [
      "Data Science\n"
     ]
    }
   ],
   "source": [
    "str = \"Data Science\"\n",
    "print(str)"
   ]
  },
  {
   "cell_type": "code",
   "execution_count": 56,
   "id": "aebb901c-f020-4b9a-98cc-74918c4ab85a",
   "metadata": {},
   "outputs": [
    {
     "data": {
      "text/plain": [
       "str"
      ]
     },
     "execution_count": 56,
     "metadata": {},
     "output_type": "execute_result"
    }
   ],
   "source": [
    "type(str)"
   ]
  },
  {
   "cell_type": "code",
   "execution_count": 57,
   "id": "c184498a-a764-42e0-a7db-700d33cdb81a",
   "metadata": {},
   "outputs": [
    {
     "data": {
      "text/plain": [
       "'S'"
      ]
     },
     "execution_count": 57,
     "metadata": {},
     "output_type": "execute_result"
    }
   ],
   "source": [
    "str[5]"
   ]
  },
  {
   "cell_type": "code",
   "execution_count": 70,
   "id": "67b7fc82-06bd-4fc0-afd3-71eb880ecc40",
   "metadata": {},
   "outputs": [
    {
     "data": {
      "text/plain": [
       "'Science'"
      ]
     },
     "execution_count": 70,
     "metadata": {},
     "output_type": "execute_result"
    }
   ],
   "source": [
    "# Slice operation\n",
    "str[5:]"
   ]
  },
  {
   "cell_type": "code",
   "execution_count": 58,
   "id": "e228338c-9576-40a3-90eb-4dd1b00b8fc2",
   "metadata": {},
   "outputs": [
    {
     "data": {
      "text/plain": [
       "'Scie'"
      ]
     },
     "execution_count": 58,
     "metadata": {},
     "output_type": "execute_result"
    }
   ],
   "source": [
    "str[5:9]"
   ]
  },
  {
   "cell_type": "code",
   "execution_count": 74,
   "id": "722c3bbe-d96a-4420-99e8-f4fb9fbe9a93",
   "metadata": {},
   "outputs": [
    {
     "data": {
      "text/plain": [
       "'i'"
      ]
     },
     "execution_count": 74,
     "metadata": {},
     "output_type": "execute_result"
    }
   ],
   "source": [
    "str[-5]"
   ]
  },
  {
   "cell_type": "code",
   "execution_count": 75,
   "id": "62b9a5c9-a57f-4738-92ec-b14d49dd215e",
   "metadata": {},
   "outputs": [
    {
     "data": {
      "text/plain": [
       "'ience'"
      ]
     },
     "execution_count": 75,
     "metadata": {},
     "output_type": "execute_result"
    }
   ],
   "source": [
    "str[-5:]"
   ]
  },
  {
   "cell_type": "code",
   "execution_count": 78,
   "id": "b46f239f-ccc5-420f-81d3-e1e88a3e6fd8",
   "metadata": {},
   "outputs": [
    {
     "data": {
      "text/plain": [
       "'ienc'"
      ]
     },
     "execution_count": 78,
     "metadata": {},
     "output_type": "execute_result"
    }
   ],
   "source": [
    "str[-5:-1]"
   ]
  },
  {
   "cell_type": "code",
   "execution_count": 81,
   "id": "b14960c9-f195-472c-b3e1-3319791545df",
   "metadata": {},
   "outputs": [
    {
     "data": {
      "text/plain": [
       "'a Science'"
      ]
     },
     "execution_count": 81,
     "metadata": {},
     "output_type": "execute_result"
    }
   ],
   "source": [
    "str[-9:]"
   ]
  },
  {
   "cell_type": "code",
   "execution_count": 82,
   "id": "bdcf1f6f-6108-4ae6-9529-07f662265315",
   "metadata": {},
   "outputs": [
    {
     "data": {
      "text/plain": [
       "'ecneicS ataD'"
      ]
     },
     "execution_count": 82,
     "metadata": {},
     "output_type": "execute_result"
    }
   ],
   "source": [
    "str[::-1]"
   ]
  },
  {
   "cell_type": "code",
   "execution_count": 84,
   "id": "ea48275b-f9b2-4b62-be43-0c38cc9e8b49",
   "metadata": {},
   "outputs": [
    {
     "data": {
      "text/plain": [
       "'Data Science'"
      ]
     },
     "execution_count": 84,
     "metadata": {},
     "output_type": "execute_result"
    }
   ],
   "source": [
    "str[::1]"
   ]
  },
  {
   "cell_type": "code",
   "execution_count": 86,
   "id": "c85f122c-dd84-49cb-bae5-2950fecd6f2c",
   "metadata": {},
   "outputs": [
    {
     "data": {
      "text/plain": [
       "'Dt cec'"
      ]
     },
     "execution_count": 86,
     "metadata": {},
     "output_type": "execute_result"
    }
   ],
   "source": [
    "str[::2]  #jump every 2nd element D then t "
   ]
  },
  {
   "cell_type": "code",
   "execution_count": 2,
   "id": "627de4d8-026b-4e3f-8929-1aa98aaba2ba",
   "metadata": {},
   "outputs": [],
   "source": [
    "name = 'Arghya'"
   ]
  },
  {
   "cell_type": "code",
   "execution_count": 3,
   "id": "44e9cb64-7a85-4478-98a0-b168a0747ad2",
   "metadata": {},
   "outputs": [
    {
     "data": {
      "text/plain": [
       "'Arghya'"
      ]
     },
     "execution_count": 3,
     "metadata": {},
     "output_type": "execute_result"
    }
   ],
   "source": [
    "name[::1]"
   ]
  },
  {
   "cell_type": "code",
   "execution_count": 4,
   "id": "acf689f4-4a23-46a8-add9-5f7f4bba538d",
   "metadata": {},
   "outputs": [
    {
     "data": {
      "text/plain": [
       "'ayhgrA'"
      ]
     },
     "execution_count": 4,
     "metadata": {},
     "output_type": "execute_result"
    }
   ],
   "source": [
    "name[::-1]"
   ]
  },
  {
   "cell_type": "code",
   "execution_count": 5,
   "id": "171eef57-55fd-47fe-bc6d-6f8be480dbed",
   "metadata": {},
   "outputs": [
    {
     "data": {
      "text/plain": [
       "<method 'capitalize' of 'str' objects>"
      ]
     },
     "execution_count": 5,
     "metadata": {},
     "output_type": "execute_result"
    }
   ],
   "source": [
    "str.capitalize"
   ]
  },
  {
   "cell_type": "code",
   "execution_count": 6,
   "id": "d665a300-1c69-43f2-b949-e7e3e5c21d23",
   "metadata": {},
   "outputs": [],
   "source": [
    "course_name=\"Data Science Masters\""
   ]
  },
  {
   "cell_type": "code",
   "execution_count": 7,
   "id": "884bad15-4a05-464f-988d-5bec46fb7f77",
   "metadata": {},
   "outputs": [
    {
     "data": {
      "text/plain": [
       "'Science'"
      ]
     },
     "execution_count": 7,
     "metadata": {},
     "output_type": "execute_result"
    }
   ],
   "source": [
    "course_name[5:12]"
   ]
  },
  {
   "cell_type": "code",
   "execution_count": 8,
   "id": "f1c33a76-2e9d-4e14-9cd4-ea61d5b45b5c",
   "metadata": {},
   "outputs": [
    {
     "data": {
      "text/plain": [
       "'ecneicS'"
      ]
     },
     "execution_count": 8,
     "metadata": {},
     "output_type": "execute_result"
    }
   ],
   "source": [
    "course_name[11:4:-1]"
   ]
  },
  {
   "cell_type": "code",
   "execution_count": 9,
   "id": "a84e1538-addd-46e5-a669-5904fed67dd8",
   "metadata": {},
   "outputs": [
    {
     "data": {
      "text/plain": [
       "' Scienc'"
      ]
     },
     "execution_count": 9,
     "metadata": {},
     "output_type": "execute_result"
    }
   ],
   "source": [
    "course_name[4:11]"
   ]
  },
  {
   "cell_type": "code",
   "execution_count": 10,
   "id": "9adc7a54-8f69-45e3-94f4-053a399ba837",
   "metadata": {},
   "outputs": [
    {
     "data": {
      "text/plain": [
       "'ecneicS'"
      ]
     },
     "execution_count": 10,
     "metadata": {},
     "output_type": "execute_result"
    }
   ],
   "source": [
    "course_name[11:4:-1]"
   ]
  },
  {
   "cell_type": "code",
   "execution_count": 11,
   "id": "e30cda69-70b0-4f44-8f74-cd04882b9828",
   "metadata": {},
   "outputs": [
    {
     "data": {
      "text/plain": [
       "'Data Science Masterscourse'"
      ]
     },
     "execution_count": 11,
     "metadata": {},
     "output_type": "execute_result"
    }
   ],
   "source": [
    "# concatenation\n",
    "course_name + \"course\""
   ]
  },
  {
   "cell_type": "code",
   "execution_count": 13,
   "id": "fb757dea-c395-4d55-92cd-9180083376c3",
   "metadata": {},
   "outputs": [
    {
     "name": "stdout",
     "output_type": "stream",
     "text": [
      "Hello World\n"
     ]
    }
   ],
   "source": [
    "print(\"Hello\"+\" World\")"
   ]
  },
  {
   "cell_type": "code",
   "execution_count": 16,
   "id": "6c656189-d2bb-4e72-b77a-1fa5189c4623",
   "metadata": {},
   "outputs": [
    {
     "data": {
      "text/plain": [
       "'Data Science MastersData Science MastersData Science MastersData Science MastersData Science Masters'"
      ]
     },
     "execution_count": 16,
     "metadata": {},
     "output_type": "execute_result"
    }
   ],
   "source": [
    "course_name * 5"
   ]
  },
  {
   "cell_type": "code",
   "execution_count": 17,
   "id": "ed4a6203-8f9b-430f-ad4a-13ec972673c9",
   "metadata": {},
   "outputs": [
    {
     "data": {
      "text/plain": [
       "20"
      ]
     },
     "execution_count": 17,
     "metadata": {},
     "output_type": "execute_result"
    }
   ],
   "source": [
    "len(course_name)"
   ]
  },
  {
   "cell_type": "code",
   "execution_count": 18,
   "id": "e6d500ad-fd98-4300-8555-a8e0e94364d0",
   "metadata": {},
   "outputs": [
    {
     "data": {
      "text/plain": [
       "9"
      ]
     },
     "execution_count": 18,
     "metadata": {},
     "output_type": "execute_result"
    }
   ],
   "source": [
    "# find function \n",
    "course_name.find(\"n\")"
   ]
  },
  {
   "cell_type": "code",
   "execution_count": 19,
   "id": "a9e4c0a5-8ba8-430e-a521-e25c0c88d74e",
   "metadata": {},
   "outputs": [
    {
     "data": {
      "text/plain": [
       "1"
      ]
     },
     "execution_count": 19,
     "metadata": {},
     "output_type": "execute_result"
    }
   ],
   "source": [
    "course_name.find(\"a\")"
   ]
  },
  {
   "cell_type": "code",
   "execution_count": 20,
   "id": "572ab6b4-b409-42ea-a58c-3fa7977b4ae2",
   "metadata": {},
   "outputs": [
    {
     "data": {
      "text/plain": [
       "3"
      ]
     },
     "execution_count": 20,
     "metadata": {},
     "output_type": "execute_result"
    }
   ],
   "source": [
    "course_name.find(\"a\",2,10)"
   ]
  },
  {
   "cell_type": "code",
   "execution_count": 22,
   "id": "efc33f31-62c8-4100-b88b-bc3100f82dea",
   "metadata": {},
   "outputs": [
    {
     "data": {
      "text/plain": [
       "-1"
      ]
     },
     "execution_count": 22,
     "metadata": {},
     "output_type": "execute_result"
    }
   ],
   "source": [
    "course_name.find(\"q\")"
   ]
  },
  {
   "cell_type": "code",
   "execution_count": 24,
   "id": "4095c6cf-018d-452f-9665-f4de1bd49e58",
   "metadata": {},
   "outputs": [
    {
     "data": {
      "text/plain": [
       "3"
      ]
     },
     "execution_count": 24,
     "metadata": {},
     "output_type": "execute_result"
    }
   ],
   "source": [
    "# count()\n",
    "course_name.count(\"a\")"
   ]
  },
  {
   "cell_type": "code",
   "execution_count": 26,
   "id": "fec623f5-7d42-4724-a200-dab6d17577eb",
   "metadata": {},
   "outputs": [
    {
     "data": {
      "text/plain": [
       "3"
      ]
     },
     "execution_count": 26,
     "metadata": {},
     "output_type": "execute_result"
    }
   ],
   "source": [
    "course_name.count(\"e\")"
   ]
  },
  {
   "cell_type": "code",
   "execution_count": 28,
   "id": "770d5993-b981-47f1-b440-c217236db2dd",
   "metadata": {},
   "outputs": [
    {
     "data": {
      "text/plain": [
       "2"
      ]
     },
     "execution_count": 28,
     "metadata": {},
     "output_type": "execute_result"
    }
   ],
   "source": [
    "course_name.count(\" \")"
   ]
  },
  {
   "cell_type": "code",
   "execution_count": 29,
   "id": "c8df40d6-74fd-438c-af27-d2a4bc1c0e02",
   "metadata": {},
   "outputs": [
    {
     "data": {
      "text/plain": [
       "21"
      ]
     },
     "execution_count": 29,
     "metadata": {},
     "output_type": "execute_result"
    }
   ],
   "source": [
    "course_name.count(\"\")"
   ]
  },
  {
   "cell_type": "code",
   "execution_count": 30,
   "id": "990038eb-b05b-488e-9ec6-f014cf0b4bac",
   "metadata": {},
   "outputs": [
    {
     "data": {
      "text/plain": [
       "['Data', 'Science', 'Masters']"
      ]
     },
     "execution_count": 30,
     "metadata": {},
     "output_type": "execute_result"
    }
   ],
   "source": [
    "# string split function\n",
    "course_name.split(\" \")"
   ]
  },
  {
   "cell_type": "code",
   "execution_count": 31,
   "id": "8b2b86bd-ea48-47ac-849f-992359536ad5",
   "metadata": {},
   "outputs": [
    {
     "data": {
      "text/plain": [
       "['Data ', 'cience Masters']"
      ]
     },
     "execution_count": 31,
     "metadata": {},
     "output_type": "execute_result"
    }
   ],
   "source": [
    "course_name.split(\"S\")"
   ]
  },
  {
   "cell_type": "code",
   "execution_count": 32,
   "id": "b09db641-4a67-4176-978a-3d24fb9af4ee",
   "metadata": {},
   "outputs": [
    {
     "data": {
      "text/plain": [
       "('Data ', 'S', 'cience Masters')"
      ]
     },
     "execution_count": 32,
     "metadata": {},
     "output_type": "execute_result"
    }
   ],
   "source": [
    "course_name.partition(\"S\")"
   ]
  },
  {
   "cell_type": "code",
   "execution_count": 33,
   "id": "97c71f43-0a6e-4318-9319-f79485c1d5fe",
   "metadata": {},
   "outputs": [
    {
     "data": {
      "text/plain": [
       "('Data Science Ma', 's', 'ters')"
      ]
     },
     "execution_count": 33,
     "metadata": {},
     "output_type": "execute_result"
    }
   ],
   "source": [
    "course_name.partition(\"s\")"
   ]
  },
  {
   "cell_type": "code",
   "execution_count": 34,
   "id": "65a0a2ec-1bba-465c-b641-b1e9ac83fc49",
   "metadata": {},
   "outputs": [
    {
     "data": {
      "text/plain": [
       "'DATA SCIENCE MASTERS'"
      ]
     },
     "execution_count": 34,
     "metadata": {},
     "output_type": "execute_result"
    }
   ],
   "source": [
    "#string upper and lowercase\n",
    "course_name.upper()"
   ]
  },
  {
   "cell_type": "code",
   "execution_count": 35,
   "id": "829f90b1-8d6d-4cba-ac24-e17467ec43ef",
   "metadata": {},
   "outputs": [
    {
     "data": {
      "text/plain": [
       "'data science masters'"
      ]
     },
     "execution_count": 35,
     "metadata": {},
     "output_type": "execute_result"
    }
   ],
   "source": [
    "course_name.lower()"
   ]
  },
  {
   "cell_type": "code",
   "execution_count": 36,
   "id": "4acc2ea1-bfac-48ec-8920-41c4c098b7c1",
   "metadata": {},
   "outputs": [
    {
     "data": {
      "text/plain": [
       "'dATA sCIENCE mASTERS'"
      ]
     },
     "execution_count": 36,
     "metadata": {},
     "output_type": "execute_result"
    }
   ],
   "source": [
    "course_name.swapcase()"
   ]
  },
  {
   "cell_type": "code",
   "execution_count": 37,
   "id": "384ef9b4-fa71-47d0-b5f3-9cc6d9958db6",
   "metadata": {},
   "outputs": [
    {
     "data": {
      "text/plain": [
       "'Data Science Masters'"
      ]
     },
     "execution_count": 37,
     "metadata": {},
     "output_type": "execute_result"
    }
   ],
   "source": [
    "course_name.title()"
   ]
  },
  {
   "cell_type": "code",
   "execution_count": 38,
   "id": "656f1a44-8303-4c6c-a32a-b0bbcbd831c7",
   "metadata": {},
   "outputs": [],
   "source": [
    "name = \"arghya chatterjee\""
   ]
  },
  {
   "cell_type": "code",
   "execution_count": 39,
   "id": "674d3e1c-65c6-4830-83ce-b608e0648418",
   "metadata": {},
   "outputs": [
    {
     "data": {
      "text/plain": [
       "'Arghya Chatterjee'"
      ]
     },
     "execution_count": 39,
     "metadata": {},
     "output_type": "execute_result"
    }
   ],
   "source": [
    "name.title()"
   ]
  },
  {
   "cell_type": "code",
   "execution_count": null,
   "id": "11c00b68-b3cf-4431-a3f5-515fa7d4c472",
   "metadata": {},
   "outputs": [],
   "source": []
  }
 ],
 "metadata": {
  "kernelspec": {
   "display_name": "Python 3 (ipykernel)",
   "language": "python",
   "name": "python3"
  },
  "language_info": {
   "codemirror_mode": {
    "name": "ipython",
    "version": 3
   },
   "file_extension": ".py",
   "mimetype": "text/x-python",
   "name": "python",
   "nbconvert_exporter": "python",
   "pygments_lexer": "ipython3",
   "version": "3.10.8"
  }
 },
 "nbformat": 4,
 "nbformat_minor": 5
}
