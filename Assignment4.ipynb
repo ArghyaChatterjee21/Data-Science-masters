{
 "cells": [
  {
   "cell_type": "markdown",
   "id": "312ffcf7-a5c8-4dfe-bab9-95f294d05040",
   "metadata": {
    "tags": []
   },
   "source": [
    "## Assignment4"
   ]
  },
  {
   "cell_type": "markdown",
   "id": "7e041840-f1c1-488d-850d-1b453771e819",
   "metadata": {},
   "source": [
    "#### 1. Which keyword is used to create a function? Create a function to return a list of odd numbers in the range of 1 to 25."
   ]
  },
  {
   "cell_type": "markdown",
   "id": "27eedf32-be58-43e9-9c2f-9b640e7ee1c1",
   "metadata": {},
   "source": [
    "Ans: The keyword used to create a function in Python is 'def'."
   ]
  },
  {
   "cell_type": "code",
   "execution_count": 4,
   "id": "5594cbbd-ac50-4fc8-951b-fbba19e72d91",
   "metadata": {},
   "outputs": [],
   "source": [
    "def get_odd_num():\n",
    "    odd_num = [num for num in range(1,26) if num % 2 !=0] \n",
    "    return odd_num"
   ]
  },
  {
   "cell_type": "code",
   "execution_count": 5,
   "id": "46130170-eab1-40e0-9684-bd0e9625f1ae",
   "metadata": {},
   "outputs": [
    {
     "name": "stdout",
     "output_type": "stream",
     "text": [
      "[1, 3, 5, 7, 9, 11, 13, 15, 17, 19, 21, 23, 25]\n"
     ]
    }
   ],
   "source": [
    "odd_num = get_odd_num()\n",
    "print(odd_num)"
   ]
  },
  {
   "cell_type": "markdown",
   "id": "bd09bff7-82e6-4cfc-bdaa-a234b3ca5876",
   "metadata": {},
   "source": [
    "#### 2. Why *args and **kwargs is used in some functions? Create a function each for *args and **kwargs to demonstrate their use."
   ]
  },
  {
   "cell_type": "markdown",
   "id": "4b3d2b94-1f71-4b85-be7f-0a2f010de734",
   "metadata": {},
   "source": [
    "Ans:\n",
    " - *args is used to pass a variable number of non-keyworded arguments to a function. The *args parameter in a function allows the function to accept any number of positional arguments. These arguments are passed as a tuple.\n",
    "\n",
    " - **kwargs is used to pass a variable number of keyword arguments to a function. The **kwargs parameter in a function allows the function to accept any number of keyword arguments. These arguments are passed as a dictionary."
   ]
  },
  {
   "cell_type": "code",
   "execution_count": 8,
   "id": "8f79b6f5-db50-44b6-95e7-5bf56a84f3ed",
   "metadata": {},
   "outputs": [],
   "source": [
    "def test(*args, **kwargs):\n",
    "    return args, kwargs"
   ]
  },
  {
   "cell_type": "code",
   "execution_count": 10,
   "id": "8912da91-5960-4ac5-9bd3-2785204ea4fd",
   "metadata": {},
   "outputs": [
    {
     "data": {
      "text/plain": [
       "((1, 2, 6, [4, 5, 6]), {'A': 'Arghya', 'B': 'CR7'})"
      ]
     },
     "execution_count": 10,
     "metadata": {},
     "output_type": "execute_result"
    }
   ],
   "source": [
    "test(1,2,6,[4,5,6], A = \"Arghya\", B = \"CR7\")"
   ]
  },
  {
   "cell_type": "markdown",
   "id": "9da0e87f-dab1-41e7-8569-0850a02b0d41",
   "metadata": {},
   "source": [
    "#### 3. What is an iterator in python? Name the method used to initialise the iterator object and the method used for iteration. Use these methods to print the first five elements of the given list [2, 4, 6, 8, 10, 12, 14, 16, 18, 20]."
   ]
  },
  {
   "cell_type": "markdown",
   "id": "1022096d-d000-419c-b913-63c885b60d31",
   "metadata": {
    "tags": []
   },
   "source": [
    "Ans: An iterator in Python is an object that can be iterated (looped) upon. It is used to traverse a container, such as a list or a tuple, and access its elements one by one.\n",
    "\n",
    "To create an iterator object in Python, you can use the 'iter()' method. This method takes a collection (e.g., a list, tuple, or set) as its argument and returns an iterator object.\n",
    "\n",
    "To iterate over the elements of an iterator object, you can use the 'next()' method. This method returns the next element in the iterator, and raises a 'StopIteration' exception when there are no more elements left to iterate over"
   ]
  },
  {
   "cell_type": "code",
   "execution_count": 14,
   "id": "b314ff69-84f5-49cb-b7aa-b96a325b0d77",
   "metadata": {},
   "outputs": [
    {
     "name": "stdout",
     "output_type": "stream",
     "text": [
      "2\n",
      "4\n",
      "6\n",
      "8\n",
      "10\n"
     ]
    }
   ],
   "source": [
    "list = [2, 4, 6, 8, 10, 12, 14, 16, 18, 20]\n",
    "my_iterator = iter(list)\n",
    "\n",
    "for i in range(5):\n",
    "    print(next(my_iterator))"
   ]
  },
  {
   "cell_type": "code",
   "execution_count": 23,
   "id": "a1f048bb-19d8-4013-8b8f-44dbcd7e3152",
   "metadata": {},
   "outputs": [
    {
     "name": "stdout",
     "output_type": "stream",
     "text": [
      "2\n",
      "4\n",
      "6\n",
      "8\n",
      "10\n"
     ]
    }
   ],
   "source": [
    "for i in range(5):\n",
    "    print(list[i])"
   ]
  },
  {
   "cell_type": "markdown",
   "id": "bde6edc1-07b4-4496-9482-27c4c7d87dc1",
   "metadata": {},
   "source": [
    "#### 4. What is a generator function in python? Why yield keyword is used? Give an example of a generator function."
   ]
  },
  {
   "cell_type": "markdown",
   "id": "9cc0880c-78f9-4f20-9f44-537bc619ed33",
   "metadata": {},
   "source": [
    "Ans: In Python, a generator function is a special kind of function that returns an iterator object. Unlike normal functions that return a single value and then terminate, generator functions can yield multiple values one at a time, and then resume from where they left off on the next call.\n",
    "     A normal function creates and returns a single value, which may require a lot of memory if it contains a large data structure or list. In contrast, a generator function can produce a sequence of values one at a time, allowing it to be more memory-efficient.\n",
    "\n",
    "    The 'yield' keyword is used in a generator function to return a value and suspend the function's execution temporarily. When a generator function is called, it doesn't execute the function body immediately, but instead returns a generator object."
   ]
  },
  {
   "cell_type": "code",
   "execution_count": 25,
   "id": "e251b98b-7ef3-4edd-9c44-a30f8ea13423",
   "metadata": {},
   "outputs": [],
   "source": [
    "# Fibonacci Series\n",
    "def test_fib(n):\n",
    "    a, b = 0, 1\n",
    "    for i in range(n):\n",
    "        yield a\n",
    "        a, b = b, a+b"
   ]
  },
  {
   "cell_type": "code",
   "execution_count": 28,
   "id": "d87f498d-74bf-4b25-9cf9-1328845c43f7",
   "metadata": {},
   "outputs": [
    {
     "name": "stdout",
     "output_type": "stream",
     "text": [
      "0\n",
      "1\n",
      "1\n",
      "2\n",
      "3\n",
      "5\n",
      "8\n",
      "13\n",
      "21\n",
      "34\n",
      "55\n",
      "89\n",
      "144\n",
      "233\n",
      "377\n"
     ]
    }
   ],
   "source": [
    "for i in test_fib(15):\n",
    "    print(i)"
   ]
  },
  {
   "cell_type": "markdown",
   "id": "d7fd7377-7e12-4338-866e-d6716561ea74",
   "metadata": {},
   "source": [
    "#### 5. Create a generator function for prime numbers less than 1000. Use the next() method to print the first 20 prime numbers."
   ]
  },
  {
   "cell_type": "code",
   "execution_count": 38,
   "id": "79aac0e2-eca8-4e71-8eb5-151e7a9c31ca",
   "metadata": {},
   "outputs": [],
   "source": [
    "def get_prime_num():\n",
    "    for num in range(2,1000):\n",
    "        if all(num % i != 0 for i in range(2, int(num**0.5)+1)):\n",
    "            yield num\n",
    "prime_generator = get_prime_num()            "
   ]
  },
  {
   "cell_type": "code",
   "execution_count": 41,
   "id": "184fcfb9-c982-4b86-ad4e-f308b244e7b8",
   "metadata": {},
   "outputs": [
    {
     "name": "stdout",
     "output_type": "stream",
     "text": [
      "73,79,83,89,97,101,103,107,109,113,127,131,137,139,149,151,157,163,167,173,"
     ]
    }
   ],
   "source": [
    "for i in range(20):\n",
    "    print(next(prime_generator),end = \",\")"
   ]
  }
 ],
 "metadata": {
  "kernelspec": {
   "display_name": "Python 3 (ipykernel)",
   "language": "python",
   "name": "python3"
  },
  "language_info": {
   "codemirror_mode": {
    "name": "ipython",
    "version": 3
   },
   "file_extension": ".py",
   "mimetype": "text/x-python",
   "name": "python",
   "nbconvert_exporter": "python",
   "pygments_lexer": "ipython3",
   "version": "3.10.8"
  }
 },
 "nbformat": 4,
 "nbformat_minor": 5
}
