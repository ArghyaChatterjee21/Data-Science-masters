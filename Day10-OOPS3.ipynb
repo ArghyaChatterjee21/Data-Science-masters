{
 "cells": [
  {
   "cell_type": "markdown",
   "id": "f845099a-27e7-40e5-a48c-f5a324558837",
   "metadata": {},
   "source": [
    "## 10/02/2023"
   ]
  },
  {
   "cell_type": "markdown",
   "id": "81cd7e43-bfcb-4cd6-8180-2076568231f9",
   "metadata": {},
   "source": [
    "## Decorators"
   ]
  },
  {
   "cell_type": "code",
   "execution_count": 3,
   "id": "7c0e3f64-32ed-4c4a-8cba-9e5e269be278",
   "metadata": {},
   "outputs": [],
   "source": [
    "def test():\n",
    "    print(\"This is the start of my function\")\n",
    "    print(4+5)\n",
    "    print(\"This is the end of my function\")"
   ]
  },
  {
   "cell_type": "code",
   "execution_count": 4,
   "id": "b014cdb1-47f3-44f4-907b-981fd39b257a",
   "metadata": {},
   "outputs": [
    {
     "name": "stdout",
     "output_type": "stream",
     "text": [
      "This is the start of my function\n",
      "9\n",
      "This is the end of my function\n"
     ]
    }
   ],
   "source": [
    "test()"
   ]
  },
  {
   "cell_type": "code",
   "execution_count": 1,
   "id": "f87db868-646d-4377-8629-06fea9c24823",
   "metadata": {},
   "outputs": [],
   "source": [
    "def deco(func):\n",
    "    def inner_deco():\n",
    "        print(\"This is the start of my function\")\n",
    "        func()\n",
    "        print(\"This is the start of my function\")\n",
    "    return inner_deco    "
   ]
  },
  {
   "cell_type": "code",
   "execution_count": 4,
   "id": "9f956da5-c361-4ec5-864a-af3b3bdbca0d",
   "metadata": {},
   "outputs": [],
   "source": [
    "def test1():\n",
    "    print(10+5)"
   ]
  },
  {
   "cell_type": "code",
   "execution_count": 5,
   "id": "478c8a73-b667-4b91-b32e-e98c5064f78d",
   "metadata": {},
   "outputs": [
    {
     "name": "stdout",
     "output_type": "stream",
     "text": [
      "15\n"
     ]
    }
   ],
   "source": [
    "test1()"
   ]
  },
  {
   "cell_type": "code",
   "execution_count": 6,
   "id": "1aee0eeb-dc4a-4f54-8351-e0b15453d17d",
   "metadata": {},
   "outputs": [],
   "source": [
    "@deco\n",
    "def test1():\n",
    "    print(10+5)"
   ]
  },
  {
   "cell_type": "code",
   "execution_count": 7,
   "id": "38fb6d6d-00ba-4071-aea3-2be1d43cddae",
   "metadata": {},
   "outputs": [
    {
     "name": "stdout",
     "output_type": "stream",
     "text": [
      "This is the start of my function\n",
      "15\n",
      "This is the start of my function\n"
     ]
    }
   ],
   "source": [
    "test1()"
   ]
  },
  {
   "cell_type": "code",
   "execution_count": 8,
   "id": "0ec15834-1a12-41df-8df7-9e00ab9929ed",
   "metadata": {},
   "outputs": [],
   "source": [
    "import time\n",
    "def timer_test(func):\n",
    "    def timer_test_inner():\n",
    "        start = time.time()\n",
    "        func()\n",
    "        end = time.time()\n",
    "        print(end - start)\n",
    "    return timer_test_inner    "
   ]
  },
  {
   "cell_type": "code",
   "execution_count": 9,
   "id": "060a896b-edd8-496f-9ea4-4f0ac2eb0183",
   "metadata": {},
   "outputs": [],
   "source": [
    "@timer_test\n",
    "def test2():\n",
    "    print(90+110)"
   ]
  },
  {
   "cell_type": "code",
   "execution_count": 10,
   "id": "dcbf72b1-fa04-4ebc-aef8-15e946f51a48",
   "metadata": {},
   "outputs": [
    {
     "name": "stdout",
     "output_type": "stream",
     "text": [
      "200\n",
      "4.76837158203125e-05\n"
     ]
    }
   ],
   "source": [
    "test2()"
   ]
  },
  {
   "cell_type": "code",
   "execution_count": 15,
   "id": "0328ead9-f09d-4681-9500-86106d1c8225",
   "metadata": {},
   "outputs": [],
   "source": [
    "@timer_test\n",
    "def test3():\n",
    "    for i in range(100000000):\n",
    "        pass"
   ]
  },
  {
   "cell_type": "code",
   "execution_count": 16,
   "id": "0b6f12ab-2c5c-4334-aa3a-45f1a7d040a1",
   "metadata": {},
   "outputs": [
    {
     "name": "stdout",
     "output_type": "stream",
     "text": [
      "2.177400588989258\n"
     ]
    }
   ],
   "source": [
    "test3()"
   ]
  },
  {
   "cell_type": "code",
   "execution_count": null,
   "id": "3e0b3281-f41e-4ba8-b28e-a16b9ae1e654",
   "metadata": {},
   "outputs": [],
   "source": []
  },
  {
   "cell_type": "markdown",
   "id": "516d0077-49df-4422-b5e1-3ae827f275f5",
   "metadata": {},
   "source": [
    "## Class Method"
   ]
  },
  {
   "cell_type": "code",
   "execution_count": 16,
   "id": "f1244831-68f2-4b2b-bcf9-07f9e6fb195d",
   "metadata": {},
   "outputs": [],
   "source": [
    "class pwskills:\n",
    "    def __init__(self, name, email):\n",
    "        self.name = name\n",
    "        self.email = email\n",
    "        \n",
    "    def student_details(self):\n",
    "        print(self.name, self.email)"
   ]
  },
  {
   "cell_type": "code",
   "execution_count": 17,
   "id": "bd9e500e-79cb-49b5-9549-34428aeaa77c",
   "metadata": {},
   "outputs": [],
   "source": [
    "pw = pwskills(\"Arghya\", \"arghya@gmail.com\")"
   ]
  },
  {
   "cell_type": "code",
   "execution_count": 18,
   "id": "7b4df2d5-fa5a-4851-81b4-c073b8d5e852",
   "metadata": {},
   "outputs": [
    {
     "data": {
      "text/plain": [
       "'arghya@gmail.com'"
      ]
     },
     "execution_count": 18,
     "metadata": {},
     "output_type": "execute_result"
    }
   ],
   "source": [
    "pw.email"
   ]
  },
  {
   "cell_type": "code",
   "execution_count": 19,
   "id": "9f93f0bf-5ad4-42d6-aafb-a2677f289906",
   "metadata": {},
   "outputs": [
    {
     "data": {
      "text/plain": [
       "'Arghya'"
      ]
     },
     "execution_count": 19,
     "metadata": {},
     "output_type": "execute_result"
    }
   ],
   "source": [
    "pw.name"
   ]
  },
  {
   "cell_type": "code",
   "execution_count": 20,
   "id": "0bdd8a5f-e59d-4634-8c0e-8ffec0f2d5a5",
   "metadata": {},
   "outputs": [
    {
     "name": "stdout",
     "output_type": "stream",
     "text": [
      "Arghya arghya@gmail.com\n"
     ]
    }
   ],
   "source": [
    "pw.student_details()"
   ]
  },
  {
   "cell_type": "code",
   "execution_count": 32,
   "id": "3e3cf651-6d9a-4804-b66a-3a4f63e5f137",
   "metadata": {},
   "outputs": [],
   "source": [
    "class pwskills1:\n",
    "    def __init__(self, name, email):\n",
    "        \n",
    "        self.name = name\n",
    "        self.email = email\n",
    " \n",
    "   ## Class method \n",
    "    @classmethod\n",
    "    def details(cls, name, email):\n",
    "        return cls(name, email)\n",
    "        \n",
    "   ## Instance method\n",
    "    def student_details(self):\n",
    "        print(self.name, self.email)"
   ]
  },
  {
   "cell_type": "raw",
   "id": "11256eac-f767-406d-a646-dd907603cdc3",
   "metadata": {},
   "source": [
    "The main difference between instance methods and class methods is that instance methods operate on an instance of a class, while class methods operate on the class itself."
   ]
  },
  {
   "cell_type": "code",
   "execution_count": 27,
   "id": "384237af-3364-45bb-93ac-adc226a50076",
   "metadata": {},
   "outputs": [],
   "source": [
    "pw1 = pwskills1.details(\"Arghya\", \"arghya@gmail.com\")"
   ]
  },
  {
   "cell_type": "code",
   "execution_count": 28,
   "id": "9b18dbbf-f6b4-48fa-9aa6-45419bd78446",
   "metadata": {},
   "outputs": [
    {
     "data": {
      "text/plain": [
       "'Arghya'"
      ]
     },
     "execution_count": 28,
     "metadata": {},
     "output_type": "execute_result"
    }
   ],
   "source": [
    "pw1.name"
   ]
  },
  {
   "cell_type": "code",
   "execution_count": 29,
   "id": "5d72330d-496a-415f-ba69-fe7924c7f98f",
   "metadata": {},
   "outputs": [
    {
     "data": {
      "text/plain": [
       "'arghya@gmail.com'"
      ]
     },
     "execution_count": 29,
     "metadata": {},
     "output_type": "execute_result"
    }
   ],
   "source": [
    "pw1.email"
   ]
  },
  {
   "cell_type": "code",
   "execution_count": 31,
   "id": "273bf540-de26-46b4-bb46-39cd806c3550",
   "metadata": {},
   "outputs": [
    {
     "data": {
      "text/plain": [
       "<bound method pwskills1.details of <class '__main__.pwskills1'>>"
      ]
     },
     "execution_count": 31,
     "metadata": {},
     "output_type": "execute_result"
    }
   ],
   "source": [
    "pw1.details"
   ]
  },
  {
   "cell_type": "code",
   "execution_count": 33,
   "id": "565884f4-61f6-4223-9045-595489bfd65e",
   "metadata": {},
   "outputs": [
    {
     "name": "stdout",
     "output_type": "stream",
     "text": [
      "Arghya arghya@gmail.com\n"
     ]
    }
   ],
   "source": [
    "pw1.student_details()"
   ]
  },
  {
   "cell_type": "code",
   "execution_count": 45,
   "id": "b9e1b4b0-92d1-404e-b043-6d356011a918",
   "metadata": {},
   "outputs": [],
   "source": [
    "class pwskills2:\n",
    "    \n",
    "    mobile_num = 8926741200\n",
    "    \n",
    "    def __init__(self, name, email):\n",
    "        \n",
    "        self.name = name\n",
    "        self.email = email\n",
    "    \n",
    "    @classmethod\n",
    "    def details(cls, name, email):\n",
    "        return cls(name, email)\n",
    "        \n",
    "    def student_details(self):\n",
    "        print(self.name, self.email, pwskills2.mobile_num)"
   ]
  },
  {
   "cell_type": "code",
   "execution_count": 46,
   "id": "44c9f525-b31a-427a-9d2f-8c64c6c55487",
   "metadata": {},
   "outputs": [
    {
     "data": {
      "text/plain": [
       "8926741200"
      ]
     },
     "execution_count": 46,
     "metadata": {},
     "output_type": "execute_result"
    }
   ],
   "source": [
    "pwskills2.mobile_num"
   ]
  },
  {
   "cell_type": "code",
   "execution_count": 47,
   "id": "6247e6c7-27f2-4972-857b-047bb6adef99",
   "metadata": {},
   "outputs": [],
   "source": [
    "pw2 = pwskills2.details(\"Arya\", \"arya@gmail.com\")"
   ]
  },
  {
   "cell_type": "code",
   "execution_count": 48,
   "id": "77582cac-162b-4778-ad17-38dbcb65e8f1",
   "metadata": {},
   "outputs": [
    {
     "name": "stdout",
     "output_type": "stream",
     "text": [
      "Arya arya@gmail.com 8926741200\n"
     ]
    }
   ],
   "source": [
    "pw2.student_details()"
   ]
  },
  {
   "cell_type": "code",
   "execution_count": 50,
   "id": "d25794c2-a687-46a1-bd6b-0abcc90727ce",
   "metadata": {},
   "outputs": [],
   "source": [
    "Pw2 = pwskills2(\"Rohan\", \"rohan@gmail.com\")"
   ]
  },
  {
   "cell_type": "code",
   "execution_count": 51,
   "id": "bd441251-b7fe-4ab6-ae46-d739b8707e47",
   "metadata": {},
   "outputs": [
    {
     "name": "stdout",
     "output_type": "stream",
     "text": [
      "Arya arya@gmail.com 8926741200\n"
     ]
    }
   ],
   "source": [
    "pw2.student_details()"
   ]
  },
  {
   "cell_type": "code",
   "execution_count": 45,
   "id": "2fd60cb7-d210-4a9b-90e3-5b8754a49c2a",
   "metadata": {},
   "outputs": [],
   "source": [
    "class pwskills3:\n",
    "    \n",
    "    mobile_num = 8926741200\n",
    "    \n",
    "    def __init__(self, name, email):\n",
    "        \n",
    "        self.name = name\n",
    "        self.email = email\n",
    "        \n",
    "    @classmethod \n",
    "    def change_num(cls,mobile):\n",
    "        pwskills3.mobile_num = mobile\n",
    "    \n",
    "    @classmethod\n",
    "    def details(cls, name, email):\n",
    "        return cls(name, email)\n",
    "        \n",
    "    def student_details(self):\n",
    "        print(self.name, self.email, pwskills3.mobile_num)"
   ]
  },
  {
   "cell_type": "code",
   "execution_count": 25,
   "id": "20404228-61d7-4ca5-9ab9-7919eea02668",
   "metadata": {},
   "outputs": [],
   "source": [
    "pw3 = pwskills3(\"Arghya\", \"arghya@gmail.com\")"
   ]
  },
  {
   "cell_type": "code",
   "execution_count": 30,
   "id": "61df21c5-fda0-4a82-be87-7c2308e091fb",
   "metadata": {},
   "outputs": [
    {
     "data": {
      "text/plain": [
       "<__main__.pwskills3 at 0x7f9134ac91e0>"
      ]
     },
     "execution_count": 30,
     "metadata": {},
     "output_type": "execute_result"
    }
   ],
   "source": [
    "pw3.details(\"Ayan\", \"ayan@gmail.com\")"
   ]
  },
  {
   "cell_type": "code",
   "execution_count": 31,
   "id": "4b0ec364-74e7-4533-acfb-7a2572d47cfc",
   "metadata": {},
   "outputs": [
    {
     "data": {
      "text/plain": [
       "'Arghya'"
      ]
     },
     "execution_count": 31,
     "metadata": {},
     "output_type": "execute_result"
    }
   ],
   "source": [
    "pw3.name"
   ]
  },
  {
   "cell_type": "code",
   "execution_count": 22,
   "id": "7a234aa1-bd41-4de4-87f0-a5b4cd4a16c7",
   "metadata": {},
   "outputs": [
    {
     "data": {
      "text/plain": [
       "8926741200"
      ]
     },
     "execution_count": 22,
     "metadata": {},
     "output_type": "execute_result"
    }
   ],
   "source": [
    "pwskills3.mobile_num"
   ]
  },
  {
   "cell_type": "code",
   "execution_count": 23,
   "id": "800918c1-93b7-472a-be5d-d1325eaef302",
   "metadata": {},
   "outputs": [],
   "source": [
    "pwskills3.change_num(62897453201)"
   ]
  },
  {
   "cell_type": "code",
   "execution_count": 24,
   "id": "f6ecbb7a-64c4-48ef-9777-e31571f00f05",
   "metadata": {},
   "outputs": [
    {
     "data": {
      "text/plain": [
       "62897453201"
      ]
     },
     "execution_count": 24,
     "metadata": {},
     "output_type": "execute_result"
    }
   ],
   "source": [
    "pwskills3.mobile_num"
   ]
  },
  {
   "cell_type": "code",
   "execution_count": 26,
   "id": "06034d10-9fa7-4fc0-a717-28479bf6da72",
   "metadata": {},
   "outputs": [
    {
     "name": "stdout",
     "output_type": "stream",
     "text": [
      "Arghya arghya@gmail.com 62897453201\n"
     ]
    }
   ],
   "source": [
    "pw3.student_details()"
   ]
  },
  {
   "cell_type": "code",
   "execution_count": 35,
   "id": "dc30cc77-4a90-4634-8455-59b1674d84bd",
   "metadata": {},
   "outputs": [],
   "source": [
    "PW3 = pw3.details(\"Ayan\", \"ayan@gmail.com\")"
   ]
  },
  {
   "cell_type": "code",
   "execution_count": 38,
   "id": "2769a7af-8c43-49b9-8d7a-25fe1d642946",
   "metadata": {},
   "outputs": [
    {
     "name": "stdout",
     "output_type": "stream",
     "text": [
      "Ayan ayan@gmail.com 62897453201\n"
     ]
    }
   ],
   "source": [
    "PW3.student_details()"
   ]
  },
  {
   "cell_type": "code",
   "execution_count": 49,
   "id": "cf8c279f-81c3-4836-a996-3663fd94399a",
   "metadata": {},
   "outputs": [],
   "source": [
    "## Adding external function\n",
    "\n",
    "def course_details(cls, course_name):\n",
    "    print(\"course details\", course_name) "
   ]
  },
  {
   "cell_type": "code",
   "execution_count": 40,
   "id": "d5c03f37-b46c-4373-82b0-934234955ed5",
   "metadata": {},
   "outputs": [],
   "source": [
    "pwskills3.course_details = classmethod(course_details)"
   ]
  },
  {
   "cell_type": "code",
   "execution_count": 41,
   "id": "437f2550-7580-4a42-9748-9fe35096269a",
   "metadata": {},
   "outputs": [
    {
     "name": "stdout",
     "output_type": "stream",
     "text": [
      "course details Data Science Masters\n"
     ]
    }
   ],
   "source": [
    "pwskills3.course_details(\"Data Science Masters\")"
   ]
  },
  {
   "cell_type": "code",
   "execution_count": 47,
   "id": "f99d86e8-4539-482f-81a5-18b139b95ee3",
   "metadata": {},
   "outputs": [],
   "source": [
    "Pw3 = pwskills3(\"Ayan\",\"ayan@gmail.com\")"
   ]
  },
  {
   "cell_type": "code",
   "execution_count": 48,
   "id": "7882aa0d-0155-45c0-a389-12ddd92d3b6f",
   "metadata": {},
   "outputs": [
    {
     "name": "stdout",
     "output_type": "stream",
     "text": [
      "course details Web Dev Masters\n"
     ]
    }
   ],
   "source": [
    "pw3.course_details(\"Web Dev Masters\")"
   ]
  },
  {
   "cell_type": "code",
   "execution_count": 50,
   "id": "f5e1757f-d05c-4551-bf8c-1e07d1773601",
   "metadata": {},
   "outputs": [],
   "source": [
    "class pwskills4:\n",
    "    \n",
    "    mobile_num = 8926741200\n",
    "    \n",
    "    def __init__(self, name, email):\n",
    "        \n",
    "        self.name = name\n",
    "        self.email = email\n",
    "        \n",
    "    @classmethod \n",
    "    def change_num(cls,mobile):\n",
    "        pwskills3.mobile_num = mobile\n",
    "    \n",
    "    @classmethod\n",
    "    def details(cls, name, email):\n",
    "        return cls(name, email)\n",
    "        \n",
    "    def student_details(self):\n",
    "        print(self.name, self.email, pwskills4.mobile_num)"
   ]
  },
  {
   "cell_type": "code",
   "execution_count": 51,
   "id": "bf183fef-aac9-4bda-b544-44fce0ffff01",
   "metadata": {},
   "outputs": [],
   "source": [
    "# To delete a function\n",
    "del pwskills4.change_num"
   ]
  },
  {
   "cell_type": "code",
   "execution_count": 52,
   "id": "e3660379-58d7-4459-b744-c08d997b7097",
   "metadata": {},
   "outputs": [
    {
     "ename": "AttributeError",
     "evalue": "type object 'pwskills4' has no attribute 'change_num'",
     "output_type": "error",
     "traceback": [
      "\u001b[0;31m---------------------------------------------------------------------------\u001b[0m",
      "\u001b[0;31mAttributeError\u001b[0m                            Traceback (most recent call last)",
      "Cell \u001b[0;32mIn[52], line 1\u001b[0m\n\u001b[0;32m----> 1\u001b[0m \u001b[43mpwskills4\u001b[49m\u001b[38;5;241;43m.\u001b[39;49m\u001b[43mchange_num\u001b[49m(\u001b[38;5;241m62897453201\u001b[39m)\n",
      "\u001b[0;31mAttributeError\u001b[0m: type object 'pwskills4' has no attribute 'change_num'"
     ]
    }
   ],
   "source": [
    "pwskills4.change_num(62897453201)"
   ]
  },
  {
   "cell_type": "code",
   "execution_count": 53,
   "id": "754421e4-e9d8-400a-ace0-d654e03e4b67",
   "metadata": {},
   "outputs": [],
   "source": [
    "# To delete an another way \n",
    "# delattr(class name,\"function name\")\n",
    "delattr(pwskills4,\"details\")  "
   ]
  },
  {
   "cell_type": "code",
   "execution_count": 54,
   "id": "172d8c74-267a-41dd-83c1-368048c1920d",
   "metadata": {},
   "outputs": [
    {
     "ename": "AttributeError",
     "evalue": "type object 'pwskills4' has no attribute 'details'",
     "output_type": "error",
     "traceback": [
      "\u001b[0;31m---------------------------------------------------------------------------\u001b[0m",
      "\u001b[0;31mAttributeError\u001b[0m                            Traceback (most recent call last)",
      "Cell \u001b[0;32mIn[54], line 1\u001b[0m\n\u001b[0;32m----> 1\u001b[0m \u001b[43mpwskills4\u001b[49m\u001b[38;5;241;43m.\u001b[39;49m\u001b[43mdetails\u001b[49m\n",
      "\u001b[0;31mAttributeError\u001b[0m: type object 'pwskills4' has no attribute 'details'"
     ]
    }
   ],
   "source": [
    "pwskills4.details"
   ]
  },
  {
   "cell_type": "code",
   "execution_count": 55,
   "id": "7c62ef36-eb2a-4c10-aaca-09d78a24011a",
   "metadata": {},
   "outputs": [
    {
     "data": {
      "text/plain": [
       "8926741200"
      ]
     },
     "execution_count": 55,
     "metadata": {},
     "output_type": "execute_result"
    }
   ],
   "source": [
    "pwskills4.mobile_num"
   ]
  },
  {
   "cell_type": "code",
   "execution_count": 56,
   "id": "95366613-f628-40ed-9f24-f1a675178bb7",
   "metadata": {},
   "outputs": [],
   "source": [
    "delattr(pwskills4,\"mobile_num\")  "
   ]
  },
  {
   "cell_type": "code",
   "execution_count": 57,
   "id": "fdb0a285-ab25-4003-a576-e444ebe741ec",
   "metadata": {},
   "outputs": [
    {
     "ename": "AttributeError",
     "evalue": "type object 'pwskills4' has no attribute 'mobile_num'",
     "output_type": "error",
     "traceback": [
      "\u001b[0;31m---------------------------------------------------------------------------\u001b[0m",
      "\u001b[0;31mAttributeError\u001b[0m                            Traceback (most recent call last)",
      "Cell \u001b[0;32mIn[57], line 1\u001b[0m\n\u001b[0;32m----> 1\u001b[0m \u001b[43mpwskills4\u001b[49m\u001b[38;5;241;43m.\u001b[39;49m\u001b[43mmobile_num\u001b[49m\n",
      "\u001b[0;31mAttributeError\u001b[0m: type object 'pwskills4' has no attribute 'mobile_num'"
     ]
    }
   ],
   "source": [
    "pwskills4.mobile_num"
   ]
  },
  {
   "cell_type": "code",
   "execution_count": 58,
   "id": "c89ff0a8-9a3d-4efa-ba6f-2a44c19abeda",
   "metadata": {},
   "outputs": [],
   "source": [
    "delattr(pwskills4,\"student_details\")  "
   ]
  },
  {
   "cell_type": "code",
   "execution_count": 59,
   "id": "b17b2665-a6ed-499f-80f5-474f48daa77f",
   "metadata": {},
   "outputs": [
    {
     "ename": "AttributeError",
     "evalue": "type object 'pwskills4' has no attribute 'student_details'",
     "output_type": "error",
     "traceback": [
      "\u001b[0;31m---------------------------------------------------------------------------\u001b[0m",
      "\u001b[0;31mAttributeError\u001b[0m                            Traceback (most recent call last)",
      "Cell \u001b[0;32mIn[59], line 1\u001b[0m\n\u001b[0;32m----> 1\u001b[0m \u001b[43mpwskills4\u001b[49m\u001b[38;5;241;43m.\u001b[39;49m\u001b[43mstudent_details\u001b[49m\n",
      "\u001b[0;31mAttributeError\u001b[0m: type object 'pwskills4' has no attribute 'student_details'"
     ]
    }
   ],
   "source": [
    "pwskills4.student_details"
   ]
  },
  {
   "cell_type": "code",
   "execution_count": null,
   "id": "25210cde-e3bc-4a0e-b59c-6fb29e07bc24",
   "metadata": {},
   "outputs": [],
   "source": []
  },
  {
   "cell_type": "markdown",
   "id": "84332286-980c-49ca-850e-649edbaeed57",
   "metadata": {},
   "source": [
    "## Static Method"
   ]
  },
  {
   "cell_type": "code",
   "execution_count": 4,
   "id": "609adb7c-ad6d-4ab3-a9be-7f8e48c8970f",
   "metadata": {},
   "outputs": [],
   "source": [
    "class makaut:\n",
    "    def student_details(self, name, mail_id, number):\n",
    "        print(name, mail_id, number)"
   ]
  },
  {
   "cell_type": "code",
   "execution_count": 5,
   "id": "5fe56766-8a46-4e88-b4b6-d665170b80fd",
   "metadata": {},
   "outputs": [],
   "source": [
    "mk = makaut()"
   ]
  },
  {
   "cell_type": "code",
   "execution_count": 6,
   "id": "6df22685-b388-4f28-bb18-a3520499f985",
   "metadata": {},
   "outputs": [
    {
     "name": "stdout",
     "output_type": "stream",
     "text": [
      "Arghya arghya@gmail.com 65846972\n"
     ]
    }
   ],
   "source": [
    "mk.student_details(\"Arghya\",\"arghya@gmail.com\",65846972)"
   ]
  },
  {
   "cell_type": "raw",
   "id": "fc91f26b-e1a7-40be-a469-a15495e6e588",
   "metadata": {},
   "source": [
    "A static method is a method that belongs to a class rather than an instance of a class. This means you can call a static method without creating an object of the class. Static methods are sometimes called class methods."
   ]
  },
  {
   "cell_type": "code",
   "execution_count": 7,
   "id": "bbe0f206-2593-400a-a773-3a60d5209691",
   "metadata": {},
   "outputs": [],
   "source": [
    "class makaut1:\n",
    "    def student_details(self, name, mail_id, number):\n",
    "        print(name, mail_id, number)\n",
    "        \n",
    "    @staticmethod\n",
    "    def mentor_class(list_mentor):\n",
    "        print(list_mentor)"
   ]
  },
  {
   "cell_type": "code",
   "execution_count": 8,
   "id": "e0083b1c-990e-4274-9c55-6386fc0ac86a",
   "metadata": {},
   "outputs": [
    {
     "name": "stdout",
     "output_type": "stream",
     "text": [
      "['Arghya', 'Udit']\n"
     ]
    }
   ],
   "source": [
    "makaut1.mentor_class([\"Arghya\",\"Udit\"])"
   ]
  },
  {
   "cell_type": "code",
   "execution_count": 13,
   "id": "bcf24cd5-4b0a-4a1f-9b99-002031df05b2",
   "metadata": {},
   "outputs": [],
   "source": [
    "class makaut2:\n",
    "    def student_details(self, name, mail_id, number):\n",
    "        print(name, mail_id, number)\n",
    "        \n",
    "    @staticmethod\n",
    "    def mentor_class(list_mentor):\n",
    "        print(list_mentor)\n",
    "        \n",
    "    ## Instance method\n",
    "    def mentor(self, mentor_list):\n",
    "        print(mentor_list)"
   ]
  },
  {
   "cell_type": "code",
   "execution_count": 18,
   "id": "6d1960cb-a569-441e-b442-88a708cc53bb",
   "metadata": {},
   "outputs": [],
   "source": [
    "mk2 = makaut2()"
   ]
  },
  {
   "cell_type": "code",
   "execution_count": 19,
   "id": "b509455e-adb7-4f7b-b150-81167ad05499",
   "metadata": {},
   "outputs": [
    {
     "name": "stdout",
     "output_type": "stream",
     "text": [
      "['Arghya', 'Udit']\n"
     ]
    }
   ],
   "source": [
    "mk2.mentor([\"Arghya\",\"Udit\"])"
   ]
  },
  {
   "cell_type": "code",
   "execution_count": 20,
   "id": "8f697ca7-55ed-4a3a-b3e2-3616da243409",
   "metadata": {},
   "outputs": [
    {
     "name": "stdout",
     "output_type": "stream",
     "text": [
      "['Arghya', 'Udit']\n"
     ]
    }
   ],
   "source": [
    "mk2.mentor_class([\"Arghya\",\"Udit\"]) # Static method using object"
   ]
  },
  {
   "cell_type": "code",
   "execution_count": 21,
   "id": "4c78540b-05c3-4281-bf6a-f07a59eea1dd",
   "metadata": {},
   "outputs": [
    {
     "name": "stdout",
     "output_type": "stream",
     "text": [
      "['Arghya', 'Udit']\n"
     ]
    }
   ],
   "source": [
    "makaut2.mentor_class([\"Arghya\",\"Udit\"]) #static method"
   ]
  },
  {
   "cell_type": "code",
   "execution_count": 12,
   "id": "56c9f182-4fb5-45dd-b69e-14b5444f6c32",
   "metadata": {},
   "outputs": [],
   "source": [
    "class makaut3:\n",
    "    def student_details(self, name, mail_id, number):\n",
    "        print(name, mail_id, number)\n",
    "        \n",
    "    @staticmethod\n",
    "    def mentor_mail_id(mail_id):\n",
    "        print(mail_id)\n",
    "        \n",
    "    @staticmethod\n",
    "    def mentor_class(list_mentor):\n",
    "        print(list_mentor)\n",
    "        makaut3.mentor_mail_id([\"ayan@gmail.com\",\"bittu@gmail.com\"]) # Access one static method into another static method\n",
    "        \n",
    "    @classmethod    \n",
    "    def class_name(cls, class_name):\n",
    "        cls.mentor_class([\"Ayan\",\"Bittu\"]) # Access one static method into class method\n",
    "        \n",
    "    ## Instance method\n",
    "    def mentor(self, mentor_list): \n",
    "        print(mentor_list)\n",
    "        self.mentor_class([\"Arghya\",\"Udit\"]) # Access one static method into instance method\n",
    "    "
   ]
  },
  {
   "cell_type": "code",
   "execution_count": 4,
   "id": "87032ddc-3bfd-4b59-9cc0-ff8955cf1c7b",
   "metadata": {},
   "outputs": [],
   "source": [
    "mk3 = makaut3()"
   ]
  },
  {
   "cell_type": "code",
   "execution_count": 6,
   "id": "108af101-e611-4164-95fb-961ac96c6683",
   "metadata": {},
   "outputs": [
    {
     "name": "stdout",
     "output_type": "stream",
     "text": [
      "['ayan@gmail.com', 'bittu@gmail.com']\n"
     ]
    }
   ],
   "source": [
    "mk3.mentor_mail_id([\"ayan@gmail.com\",\"bittu@gmail.com\"])"
   ]
  },
  {
   "cell_type": "code",
   "execution_count": 7,
   "id": "21dbb5a1-c702-4589-b371-0d28efe54c25",
   "metadata": {},
   "outputs": [
    {
     "name": "stdout",
     "output_type": "stream",
     "text": [
      "Piyush piyush@gmail.com 9531633556\n"
     ]
    }
   ],
   "source": [
    "mk3.student_details(\"Piyush\",\"piyush@gmail.com\", 9531633556)"
   ]
  },
  {
   "cell_type": "code",
   "execution_count": 8,
   "id": "acf31c5f-a4a2-44ad-93e8-d6df0b7afa34",
   "metadata": {},
   "outputs": [
    {
     "name": "stdout",
     "output_type": "stream",
     "text": [
      "['Ayan', 'Bittu']\n",
      "['ayan@gmail.com', 'bittu@gmail.com']\n"
     ]
    }
   ],
   "source": [
    "mk3.class_name(\"data Science Masters\")"
   ]
  },
  {
   "cell_type": "code",
   "execution_count": 14,
   "id": "1c7d609c-632f-42dc-8804-5a21d3ec0fb6",
   "metadata": {},
   "outputs": [
    {
     "name": "stdout",
     "output_type": "stream",
     "text": [
      "['Ayan', 'Bittu']\n",
      "['ayan@gmail.com', 'bittu@gmail.com']\n"
     ]
    }
   ],
   "source": [
    "mk3.mentor_class([\"Ayan\",\"Bittu\"])"
   ]
  },
  {
   "cell_type": "code",
   "execution_count": null,
   "id": "bfba3d44-8f29-4067-927a-8badc5561232",
   "metadata": {},
   "outputs": [],
   "source": []
  },
  {
   "cell_type": "markdown",
   "id": "6412871d-a000-4aca-a735-06c21ddf9d1a",
   "metadata": {},
   "source": [
    "## Special (Magic Dunder) Methods"
   ]
  },
  {
   "cell_type": "code",
   "execution_count": 1,
   "id": "e09b3410-fcda-4ee4-9e72-1dc036177bf5",
   "metadata": {},
   "outputs": [
    {
     "data": {
      "text/plain": [
       "['__abs__',\n",
       " '__add__',\n",
       " '__and__',\n",
       " '__bool__',\n",
       " '__ceil__',\n",
       " '__class__',\n",
       " '__delattr__',\n",
       " '__dir__',\n",
       " '__divmod__',\n",
       " '__doc__',\n",
       " '__eq__',\n",
       " '__float__',\n",
       " '__floor__',\n",
       " '__floordiv__',\n",
       " '__format__',\n",
       " '__ge__',\n",
       " '__getattribute__',\n",
       " '__getnewargs__',\n",
       " '__gt__',\n",
       " '__hash__',\n",
       " '__index__',\n",
       " '__init__',\n",
       " '__init_subclass__',\n",
       " '__int__',\n",
       " '__invert__',\n",
       " '__le__',\n",
       " '__lshift__',\n",
       " '__lt__',\n",
       " '__mod__',\n",
       " '__mul__',\n",
       " '__ne__',\n",
       " '__neg__',\n",
       " '__new__',\n",
       " '__or__',\n",
       " '__pos__',\n",
       " '__pow__',\n",
       " '__radd__',\n",
       " '__rand__',\n",
       " '__rdivmod__',\n",
       " '__reduce__',\n",
       " '__reduce_ex__',\n",
       " '__repr__',\n",
       " '__rfloordiv__',\n",
       " '__rlshift__',\n",
       " '__rmod__',\n",
       " '__rmul__',\n",
       " '__ror__',\n",
       " '__round__',\n",
       " '__rpow__',\n",
       " '__rrshift__',\n",
       " '__rshift__',\n",
       " '__rsub__',\n",
       " '__rtruediv__',\n",
       " '__rxor__',\n",
       " '__setattr__',\n",
       " '__sizeof__',\n",
       " '__str__',\n",
       " '__sub__',\n",
       " '__subclasshook__',\n",
       " '__truediv__',\n",
       " '__trunc__',\n",
       " '__xor__',\n",
       " 'as_integer_ratio',\n",
       " 'bit_count',\n",
       " 'bit_length',\n",
       " 'conjugate',\n",
       " 'denominator',\n",
       " 'from_bytes',\n",
       " 'imag',\n",
       " 'numerator',\n",
       " 'real',\n",
       " 'to_bytes']"
      ]
     },
     "execution_count": 1,
     "metadata": {},
     "output_type": "execute_result"
    }
   ],
   "source": [
    "dir(int)"
   ]
  },
  {
   "cell_type": "code",
   "execution_count": 2,
   "id": "9696e843-7d14-462d-95f6-680cc59c1b99",
   "metadata": {},
   "outputs": [],
   "source": [
    "a = 10"
   ]
  },
  {
   "cell_type": "code",
   "execution_count": 3,
   "id": "c8151503-7453-4839-9edb-e830a0b888b0",
   "metadata": {},
   "outputs": [
    {
     "data": {
      "text/plain": [
       "16"
      ]
     },
     "execution_count": 3,
     "metadata": {},
     "output_type": "execute_result"
    }
   ],
   "source": [
    "a + 6"
   ]
  },
  {
   "cell_type": "code",
   "execution_count": 4,
   "id": "ec4926b3-5ab8-4127-ba6e-455cb1d908f2",
   "metadata": {},
   "outputs": [
    {
     "data": {
      "text/plain": [
       "16"
      ]
     },
     "execution_count": 4,
     "metadata": {},
     "output_type": "execute_result"
    }
   ],
   "source": [
    "a.__add__(6) # using dunder method"
   ]
  },
  {
   "cell_type": "code",
   "execution_count": 5,
   "id": "598e6fca-8222-4f3c-aa9d-158c43fc1418",
   "metadata": {},
   "outputs": [
    {
     "data": {
      "text/plain": [
       "['__add__',\n",
       " '__class__',\n",
       " '__contains__',\n",
       " '__delattr__',\n",
       " '__dir__',\n",
       " '__doc__',\n",
       " '__eq__',\n",
       " '__format__',\n",
       " '__ge__',\n",
       " '__getattribute__',\n",
       " '__getitem__',\n",
       " '__getnewargs__',\n",
       " '__gt__',\n",
       " '__hash__',\n",
       " '__init__',\n",
       " '__init_subclass__',\n",
       " '__iter__',\n",
       " '__le__',\n",
       " '__len__',\n",
       " '__lt__',\n",
       " '__mod__',\n",
       " '__mul__',\n",
       " '__ne__',\n",
       " '__new__',\n",
       " '__reduce__',\n",
       " '__reduce_ex__',\n",
       " '__repr__',\n",
       " '__rmod__',\n",
       " '__rmul__',\n",
       " '__setattr__',\n",
       " '__sizeof__',\n",
       " '__str__',\n",
       " '__subclasshook__',\n",
       " 'capitalize',\n",
       " 'casefold',\n",
       " 'center',\n",
       " 'count',\n",
       " 'encode',\n",
       " 'endswith',\n",
       " 'expandtabs',\n",
       " 'find',\n",
       " 'format',\n",
       " 'format_map',\n",
       " 'index',\n",
       " 'isalnum',\n",
       " 'isalpha',\n",
       " 'isascii',\n",
       " 'isdecimal',\n",
       " 'isdigit',\n",
       " 'isidentifier',\n",
       " 'islower',\n",
       " 'isnumeric',\n",
       " 'isprintable',\n",
       " 'isspace',\n",
       " 'istitle',\n",
       " 'isupper',\n",
       " 'join',\n",
       " 'ljust',\n",
       " 'lower',\n",
       " 'lstrip',\n",
       " 'maketrans',\n",
       " 'partition',\n",
       " 'removeprefix',\n",
       " 'removesuffix',\n",
       " 'replace',\n",
       " 'rfind',\n",
       " 'rindex',\n",
       " 'rjust',\n",
       " 'rpartition',\n",
       " 'rsplit',\n",
       " 'rstrip',\n",
       " 'split',\n",
       " 'splitlines',\n",
       " 'startswith',\n",
       " 'strip',\n",
       " 'swapcase',\n",
       " 'title',\n",
       " 'translate',\n",
       " 'upper',\n",
       " 'zfill']"
      ]
     },
     "execution_count": 5,
     "metadata": {},
     "output_type": "execute_result"
    }
   ],
   "source": [
    "dir(str)"
   ]
  },
  {
   "cell_type": "code",
   "execution_count": 6,
   "id": "3d6f5187-b643-43e8-976f-1453edec5f4a",
   "metadata": {},
   "outputs": [],
   "source": [
    "class makaut4:\n",
    "    def __init__(self):\n",
    "        print(\"This is my init\")"
   ]
  },
  {
   "cell_type": "code",
   "execution_count": 7,
   "id": "a2ba586b-99ba-41c4-8828-4f4de1294bd0",
   "metadata": {},
   "outputs": [
    {
     "name": "stdout",
     "output_type": "stream",
     "text": [
      "This is my init\n"
     ]
    }
   ],
   "source": [
    "mk4 = makaut4()"
   ]
  },
  {
   "cell_type": "code",
   "execution_count": 8,
   "id": "52d7348b-076b-4923-9089-fdc982e1cb92",
   "metadata": {},
   "outputs": [],
   "source": [
    "class makaut4:\n",
    "    def __new__(cls):\n",
    "        print(\"This is my new\")\n",
    "        \n",
    "    def __init__(self):\n",
    "        print(\"This is my init\")"
   ]
  },
  {
   "cell_type": "code",
   "execution_count": 9,
   "id": "a0aca31e-076e-4e20-aee5-11d7e39f4024",
   "metadata": {},
   "outputs": [
    {
     "name": "stdout",
     "output_type": "stream",
     "text": [
      "This is my new\n"
     ]
    }
   ],
   "source": [
    "Mk4 = makaut4()"
   ]
  },
  {
   "cell_type": "code",
   "execution_count": 20,
   "id": "0b11324c-1909-4ce2-98ac-dbe9ee540f02",
   "metadata": {},
   "outputs": [],
   "source": [
    "class makaut5:\n",
    "    def __init__(self):\n",
    "        self.mobile_num = 5591228733\n",
    "\n",
    "            \n",
    "    def __str__(self):\n",
    "        return \"This is a magic method which will print something for object\"    "
   ]
  },
  {
   "cell_type": "code",
   "execution_count": 21,
   "id": "dc081750-bec6-42da-aea4-186e65f7bb88",
   "metadata": {},
   "outputs": [],
   "source": [
    "mk5 = makaut5()"
   ]
  },
  {
   "cell_type": "code",
   "execution_count": 22,
   "id": "15b855ee-8ca1-4263-8aaa-faae35697dd7",
   "metadata": {},
   "outputs": [
    {
     "data": {
      "text/plain": [
       "<__main__.makaut5 at 0x7ff09b315450>"
      ]
     },
     "execution_count": 22,
     "metadata": {},
     "output_type": "execute_result"
    }
   ],
   "source": [
    "mk5"
   ]
  },
  {
   "cell_type": "code",
   "execution_count": 17,
   "id": "7fe7e10d-66fa-49dc-8e95-d062184b6db8",
   "metadata": {},
   "outputs": [
    {
     "name": "stdout",
     "output_type": "stream",
     "text": [
      "<__main__.makaut5 object at 0x7ff09b6f2c20>\n"
     ]
    }
   ],
   "source": [
    "print(mk5)"
   ]
  },
  {
   "cell_type": "code",
   "execution_count": 23,
   "id": "733ba681-9520-45a5-96c2-321773bab38b",
   "metadata": {},
   "outputs": [
    {
     "name": "stdout",
     "output_type": "stream",
     "text": [
      "This is a magic method which will print something for object\n"
     ]
    }
   ],
   "source": [
    "print(mk5)"
   ]
  },
  {
   "cell_type": "code",
   "execution_count": 24,
   "id": "cd62e4b8-8495-44aa-8e58-c4bad9699e3b",
   "metadata": {},
   "outputs": [
    {
     "data": {
      "text/plain": [
       "['__class__',\n",
       " '__class_getitem__',\n",
       " '__contains__',\n",
       " '__delattr__',\n",
       " '__delitem__',\n",
       " '__dir__',\n",
       " '__doc__',\n",
       " '__eq__',\n",
       " '__format__',\n",
       " '__ge__',\n",
       " '__getattribute__',\n",
       " '__getitem__',\n",
       " '__gt__',\n",
       " '__hash__',\n",
       " '__init__',\n",
       " '__init_subclass__',\n",
       " '__ior__',\n",
       " '__iter__',\n",
       " '__le__',\n",
       " '__len__',\n",
       " '__lt__',\n",
       " '__ne__',\n",
       " '__new__',\n",
       " '__or__',\n",
       " '__reduce__',\n",
       " '__reduce_ex__',\n",
       " '__repr__',\n",
       " '__reversed__',\n",
       " '__ror__',\n",
       " '__setattr__',\n",
       " '__setitem__',\n",
       " '__sizeof__',\n",
       " '__str__',\n",
       " '__subclasshook__',\n",
       " 'clear',\n",
       " 'copy',\n",
       " 'fromkeys',\n",
       " 'get',\n",
       " 'items',\n",
       " 'keys',\n",
       " 'pop',\n",
       " 'popitem',\n",
       " 'setdefault',\n",
       " 'update',\n",
       " 'values']"
      ]
     },
     "execution_count": 24,
     "metadata": {},
     "output_type": "execute_result"
    }
   ],
   "source": [
    "dir(dict)"
   ]
  },
  {
   "cell_type": "code",
   "execution_count": null,
   "id": "b7a62e17-a44a-417e-b485-f28d4e87f192",
   "metadata": {},
   "outputs": [],
   "source": []
  },
  {
   "cell_type": "markdown",
   "id": "95b5c7e7-c475-45ed-863c-82c6e9496af9",
   "metadata": {},
   "source": [
    "## Property Decorators"
   ]
  },
  {
   "cell_type": "code",
   "execution_count": 25,
   "id": "a2689353-c469-4abd-bddb-376aa6baf7f8",
   "metadata": {},
   "outputs": [],
   "source": [
    "class nit:\n",
    "    def __init__(self, course_price, course_name):\n",
    "        self.__course_price = course_price\n",
    "        self.course_name = course_name"
   ]
  },
  {
   "cell_type": "code",
   "execution_count": 29,
   "id": "ebceb0a2-11e1-4e4e-b73c-dbc7f0da373b",
   "metadata": {},
   "outputs": [],
   "source": [
    "nt = nit(20000, \"Data Science Masters\")"
   ]
  },
  {
   "cell_type": "code",
   "execution_count": 30,
   "id": "2ac9e72f-3826-4aef-8d7c-33395f99f892",
   "metadata": {},
   "outputs": [
    {
     "data": {
      "text/plain": [
       "'Data Science Masters'"
      ]
     },
     "execution_count": 30,
     "metadata": {},
     "output_type": "execute_result"
    }
   ],
   "source": [
    "nt.course_name"
   ]
  },
  {
   "cell_type": "code",
   "execution_count": 31,
   "id": "b3b0bbcf-0d82-433e-8f36-993c3acd6c28",
   "metadata": {},
   "outputs": [
    {
     "ename": "AttributeError",
     "evalue": "'nit' object has no attribute 'course_price'",
     "output_type": "error",
     "traceback": [
      "\u001b[0;31m---------------------------------------------------------------------------\u001b[0m",
      "\u001b[0;31mAttributeError\u001b[0m                            Traceback (most recent call last)",
      "Cell \u001b[0;32mIn[31], line 1\u001b[0m\n\u001b[0;32m----> 1\u001b[0m \u001b[43mnt\u001b[49m\u001b[38;5;241;43m.\u001b[39;49m\u001b[43mcourse_price\u001b[49m\n",
      "\u001b[0;31mAttributeError\u001b[0m: 'nit' object has no attribute 'course_price'"
     ]
    }
   ],
   "source": [
    "nt.course_price"
   ]
  },
  {
   "cell_type": "code",
   "execution_count": 32,
   "id": "dca9f108-66f2-4194-9fd8-61dd7177f7fd",
   "metadata": {},
   "outputs": [
    {
     "data": {
      "text/plain": [
       "20000"
      ]
     },
     "execution_count": 32,
     "metadata": {},
     "output_type": "execute_result"
    }
   ],
   "source": [
    "nt._nit__course_price"
   ]
  },
  {
   "cell_type": "raw",
   "id": "ceb045a0-f821-4c78-9fc3-015dff7c998a",
   "metadata": {
    "tags": []
   },
   "source": [
    "\"__\" : It means Private\n",
    "\"_\" : It means protected\n",
    "\"nothing\" : It means public , So anyone can access"
   ]
  },
  {
   "cell_type": "code",
   "execution_count": 35,
   "id": "82f619e7-11de-44cd-92bb-a1b358994774",
   "metadata": {},
   "outputs": [],
   "source": [
    "class nit1:\n",
    "    def __init__(self, course_price, course_name):\n",
    "        self.__course_price = course_price\n",
    "        self.course_name = course_name\n",
    "        \n",
    "    @property    # To expose private property to outer world\n",
    "    def course_price_access(self):\n",
    "        return self.__course_price # Through this one user can access private property"
   ]
  },
  {
   "cell_type": "code",
   "execution_count": 36,
   "id": "9a0b79b7-6180-4622-8eed-09e83b073bdf",
   "metadata": {},
   "outputs": [],
   "source": [
    "nt1 = nit1(20000, \"Data Science Masters\")"
   ]
  },
  {
   "cell_type": "code",
   "execution_count": 37,
   "id": "ef4028b3-3ed1-48ea-b3bb-e67d59206df8",
   "metadata": {},
   "outputs": [
    {
     "data": {
      "text/plain": [
       "'Data Science Masters'"
      ]
     },
     "execution_count": 37,
     "metadata": {},
     "output_type": "execute_result"
    }
   ],
   "source": [
    "nt1.course_name"
   ]
  },
  {
   "cell_type": "code",
   "execution_count": 38,
   "id": "334a0d08-eaf0-456a-a83f-5e31d4ea9cc0",
   "metadata": {},
   "outputs": [
    {
     "data": {
      "text/plain": [
       "20000"
      ]
     },
     "execution_count": 38,
     "metadata": {},
     "output_type": "execute_result"
    }
   ],
   "source": [
    "nt1.course_price_access"
   ]
  },
  {
   "cell_type": "code",
   "execution_count": 53,
   "id": "ec4b3c2e-d30a-4cde-bc2e-7ff42f2a43c9",
   "metadata": {},
   "outputs": [],
   "source": [
    "class nit2:\n",
    "    def __init__(self, course_price, course_name):\n",
    "        self.__course_price = course_price\n",
    "        self.course_name = course_name\n",
    "        \n",
    "    @property    # To expose private property to outer world\n",
    "    def course_price_access(self):\n",
    "        return self.__course_price # Through this one user can access private property\n",
    "    \n",
    "    @course_price_access.setter # To set / modify the private and protected variable , we use setter\n",
    "    def course_price_set(self, price):\n",
    "        if price <= 20000:\n",
    "            pass\n",
    "        else :\n",
    "            self.__course_price = price\n",
    "            \n",
    "    @course_price_access.deleter # To delete the private and protected variable , we use setter\n",
    "    def course_price_del(self):\n",
    "        del self.__course_price"
   ]
  },
  {
   "cell_type": "code",
   "execution_count": 54,
   "id": "dc207341-25f9-47b6-bffc-305b873eb132",
   "metadata": {},
   "outputs": [],
   "source": [
    "nt2 = nit2(20000, \"Data Science Masters\")"
   ]
  },
  {
   "cell_type": "code",
   "execution_count": 55,
   "id": "1349732f-2af2-475b-a3c8-5fc05ba53236",
   "metadata": {},
   "outputs": [],
   "source": [
    "nt2.course_price_set = 19000"
   ]
  },
  {
   "cell_type": "code",
   "execution_count": 56,
   "id": "77c4d101-9804-4236-9235-d5f89b9d84bb",
   "metadata": {},
   "outputs": [
    {
     "data": {
      "text/plain": [
       "20000"
      ]
     },
     "execution_count": 56,
     "metadata": {},
     "output_type": "execute_result"
    }
   ],
   "source": [
    "nt2.course_price_access"
   ]
  },
  {
   "cell_type": "code",
   "execution_count": 57,
   "id": "0f981330-87d8-48e6-9757-06175db61c8a",
   "metadata": {},
   "outputs": [],
   "source": [
    "nt2.course_price_set = 20001"
   ]
  },
  {
   "cell_type": "code",
   "execution_count": 58,
   "id": "5bd70d91-c1c9-494a-88d4-ad1f5542c767",
   "metadata": {},
   "outputs": [
    {
     "data": {
      "text/plain": [
       "20001"
      ]
     },
     "execution_count": 58,
     "metadata": {},
     "output_type": "execute_result"
    }
   ],
   "source": [
    "nt2.course_price_access"
   ]
  },
  {
   "cell_type": "code",
   "execution_count": 59,
   "id": "76d94e1e-655e-4ee1-b603-9e5c88377df6",
   "metadata": {},
   "outputs": [],
   "source": [
    "del nt2.course_price_del"
   ]
  },
  {
   "cell_type": "code",
   "execution_count": 61,
   "id": "f166014a-659c-4f09-807b-67ae310c6b5b",
   "metadata": {},
   "outputs": [
    {
     "ename": "AttributeError",
     "evalue": "'nit2' object has no attribute '_nit2__course_price'",
     "output_type": "error",
     "traceback": [
      "\u001b[0;31m---------------------------------------------------------------------------\u001b[0m",
      "\u001b[0;31mAttributeError\u001b[0m                            Traceback (most recent call last)",
      "Cell \u001b[0;32mIn[61], line 1\u001b[0m\n\u001b[0;32m----> 1\u001b[0m \u001b[43mnt2\u001b[49m\u001b[38;5;241;43m.\u001b[39;49m\u001b[43mcourse_price_access\u001b[49m \u001b[38;5;66;03m# As we delete the private variable\u001b[39;00m\n",
      "Cell \u001b[0;32mIn[53], line 8\u001b[0m, in \u001b[0;36mnit2.course_price_access\u001b[0;34m(self)\u001b[0m\n\u001b[1;32m      6\u001b[0m \u001b[38;5;129m@property\u001b[39m    \u001b[38;5;66;03m# To expose private property to outer world\u001b[39;00m\n\u001b[1;32m      7\u001b[0m \u001b[38;5;28;01mdef\u001b[39;00m \u001b[38;5;21mcourse_price_access\u001b[39m(\u001b[38;5;28mself\u001b[39m):\n\u001b[0;32m----> 8\u001b[0m     \u001b[38;5;28;01mreturn\u001b[39;00m \u001b[38;5;28;43mself\u001b[39;49m\u001b[38;5;241;43m.\u001b[39;49m\u001b[43m__course_price\u001b[49m\n",
      "\u001b[0;31mAttributeError\u001b[0m: 'nit2' object has no attribute '_nit2__course_price'"
     ]
    }
   ],
   "source": [
    "nt2.course_price_access # As we delete the private variable"
   ]
  },
  {
   "cell_type": "code",
   "execution_count": null,
   "id": "4801ef5a-da4c-485f-8e33-84adfdf657e5",
   "metadata": {},
   "outputs": [],
   "source": []
  }
 ],
 "metadata": {
  "kernelspec": {
   "display_name": "Python 3 (ipykernel)",
   "language": "python",
   "name": "python3"
  },
  "language_info": {
   "codemirror_mode": {
    "name": "ipython",
    "version": 3
   },
   "file_extension": ".py",
   "mimetype": "text/x-python",
   "name": "python",
   "nbconvert_exporter": "python",
   "pygments_lexer": "ipython3",
   "version": "3.10.8"
  }
 },
 "nbformat": 4,
 "nbformat_minor": 5
}
