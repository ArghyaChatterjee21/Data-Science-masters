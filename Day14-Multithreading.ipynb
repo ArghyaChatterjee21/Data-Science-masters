{
 "cells": [
  {
   "cell_type": "markdown",
   "id": "a924f00d-ceb4-4319-a5d1-69b9525c9ac4",
   "metadata": {},
   "source": [
    "## 14/02/2023"
   ]
  },
  {
   "cell_type": "markdown",
   "id": "7b4fe79c-480a-44f6-82dd-848660780f10",
   "metadata": {},
   "source": [
    "## Threading"
   ]
  },
  {
   "cell_type": "raw",
   "id": "7a9f9305-c299-47c5-8f7e-7c6960471521",
   "metadata": {},
   "source": [
    "Threading in python is used to run multiple threads (tasks, function calls) at the same time."
   ]
  },
  {
   "cell_type": "code",
   "execution_count": 6,
   "id": "70bd8d0f-302e-4f81-8f4a-37832ff9e9c6",
   "metadata": {},
   "outputs": [],
   "source": [
    "import threading"
   ]
  },
  {
   "cell_type": "code",
   "execution_count": 7,
   "id": "134e019f-4a8b-4535-a4f9-68c5052d9b92",
   "metadata": {},
   "outputs": [],
   "source": [
    "def test(id):\n",
    "    print(\"This is my test id %d\" % id)"
   ]
  },
  {
   "cell_type": "code",
   "execution_count": 8,
   "id": "bb9d7cb7-8488-4191-870d-793284fe18c1",
   "metadata": {},
   "outputs": [
    {
     "name": "stdout",
     "output_type": "stream",
     "text": [
      "This is my test id 2\n"
     ]
    }
   ],
   "source": [
    "test(2)"
   ]
  },
  {
   "cell_type": "code",
   "execution_count": 9,
   "id": "1ded83b9-6b3d-4326-9707-25fe30bdcbde",
   "metadata": {},
   "outputs": [
    {
     "name": "stdout",
     "output_type": "stream",
     "text": [
      "This is my test id 10\n"
     ]
    }
   ],
   "source": [
    "test(10)"
   ]
  },
  {
   "cell_type": "code",
   "execution_count": 10,
   "id": "5c0fd6a0-1db4-4df9-a36a-9334f2399f09",
   "metadata": {},
   "outputs": [
    {
     "name": "stdout",
     "output_type": "stream",
     "text": [
      "This is my test id 5\n"
     ]
    }
   ],
   "source": [
    "test(5)"
   ]
  },
  {
   "cell_type": "code",
   "execution_count": 11,
   "id": "a9a8468b-6ffe-491c-bd7c-d0be0e79ff8d",
   "metadata": {},
   "outputs": [],
   "source": [
    "thread = [threading.Thread(target = test, args = (i,))for i in [2,10,5]]"
   ]
  },
  {
   "cell_type": "code",
   "execution_count": 12,
   "id": "8b9f24a6-2d5a-45fe-8bb0-47c18d1158e8",
   "metadata": {},
   "outputs": [
    {
     "data": {
      "text/plain": [
       "[<Thread(Thread-5 (test), initial)>,\n",
       " <Thread(Thread-6 (test), initial)>,\n",
       " <Thread(Thread-7 (test), initial)>]"
      ]
     },
     "execution_count": 12,
     "metadata": {},
     "output_type": "execute_result"
    }
   ],
   "source": [
    "thread"
   ]
  },
  {
   "cell_type": "code",
   "execution_count": 13,
   "id": "a874e2df-57ae-4e6d-bdfc-fead615cf22b",
   "metadata": {},
   "outputs": [
    {
     "name": "stdout",
     "output_type": "stream",
     "text": [
      "This is my test id 2\n",
      "This is my test id 10\n",
      "This is my test id 5\n"
     ]
    }
   ],
   "source": [
    "for t in thread:\n",
    "    t.start()"
   ]
  },
  {
   "cell_type": "code",
   "execution_count": 14,
   "id": "547aa34f-59ff-4d08-989f-450ccfdd4971",
   "metadata": {},
   "outputs": [],
   "source": [
    "import  urllib.request\n",
    "\n",
    "def file_download(url, filename):\n",
    "    urllib.request.urlretrieve(url, filename)"
   ]
  },
  {
   "cell_type": "code",
   "execution_count": 15,
   "id": "df0a7832-f396-4a8d-b539-370ee156f071",
   "metadata": {},
   "outputs": [],
   "source": [
    "file_download(\"https://raw.githubusercontent.com/itsfoss/text-files/master/agatha.txt\", \"Test.txt\")"
   ]
  },
  {
   "cell_type": "code",
   "execution_count": 16,
   "id": "93e27dd2-78da-4e75-afaa-149750e4acc8",
   "metadata": {},
   "outputs": [],
   "source": [
    "url_list = [\"https://raw.githubusercontent.com/itsfoss/text-files/master/agatha.txt\",\"https://raw.githubusercontent.com/itsfoss/text-files/master/sherlock.txt\",\"https://raw.githubusercontent.com/itsfoss/text-files/master/sample_log_file.txt\"]"
   ]
  },
  {
   "cell_type": "code",
   "execution_count": 18,
   "id": "609ff711-b5dd-4a86-90b9-345286c47828",
   "metadata": {},
   "outputs": [
    {
     "data": {
      "text/plain": [
       "['https://raw.githubusercontent.com/itsfoss/text-files/master/agatha.txt',\n",
       " 'https://raw.githubusercontent.com/itsfoss/text-files/master/sherlock.txt',\n",
       " 'https://raw.githubusercontent.com/itsfoss/text-files/master/sample_log_file.txt']"
      ]
     },
     "execution_count": 18,
     "metadata": {},
     "output_type": "execute_result"
    }
   ],
   "source": [
    "url_list"
   ]
  },
  {
   "cell_type": "code",
   "execution_count": 19,
   "id": "8ed0f892-baab-4ec8-a364-82ed432ae305",
   "metadata": {},
   "outputs": [],
   "source": [
    "data_file_list = [\"data1.txt\",\"data2.txt\",\"data3.txt\"]"
   ]
  },
  {
   "cell_type": "code",
   "execution_count": 20,
   "id": "7751d69b-f6c3-49be-b591-3b46e0a45402",
   "metadata": {},
   "outputs": [
    {
     "data": {
      "text/plain": [
       "['data1.txt', 'data2.txt', 'data3.txt']"
      ]
     },
     "execution_count": 20,
     "metadata": {},
     "output_type": "execute_result"
    }
   ],
   "source": [
    "data_file_list"
   ]
  },
  {
   "cell_type": "code",
   "execution_count": 25,
   "id": "f6d9d9bf-0314-4649-aba8-f29cb9041f9c",
   "metadata": {},
   "outputs": [],
   "source": [
    "thread1 = [threading.Thread(target = file_download, args = (url_list[i], data_file_list[i])) for i in range(len(url_list))]"
   ]
  },
  {
   "cell_type": "code",
   "execution_count": 26,
   "id": "7cbe8949-002a-4624-9143-c024aea12ed7",
   "metadata": {},
   "outputs": [],
   "source": [
    "for t in thread1:\n",
    "    t.start()"
   ]
  },
  {
   "cell_type": "code",
   "execution_count": 27,
   "id": "9452e91b-6856-4e50-91e0-c23a9a94cd41",
   "metadata": {},
   "outputs": [
    {
     "data": {
      "text/plain": [
       "[<Thread(Thread-8 (file_download), stopped 139999609607744)>,\n",
       " <Thread(Thread-9 (file_download), stopped 139999591773760)>,\n",
       " <Thread(Thread-10 (file_download), stopped 139999583381056)>]"
      ]
     },
     "execution_count": 27,
     "metadata": {},
     "output_type": "execute_result"
    }
   ],
   "source": [
    "thread1"
   ]
  },
  {
   "cell_type": "code",
   "execution_count": 28,
   "id": "8053bc52-f0b9-4fb6-90e5-6feb32351072",
   "metadata": {},
   "outputs": [],
   "source": [
    "import time"
   ]
  },
  {
   "cell_type": "code",
   "execution_count": 39,
   "id": "b85de406-b5a0-4c4b-8258-74f21fa13c26",
   "metadata": {},
   "outputs": [],
   "source": [
    "def test2(x):\n",
    "    for i in range(10):\n",
    "        print(\"test print the value of x %d and print the value of i %d\" %(x,i))\n",
    "        time.sleep(1) ## sleep delays the output with taking a lil pause "
   ]
  },
  {
   "cell_type": "code",
   "execution_count": 40,
   "id": "2224e26b-1835-496b-9d40-de4ae21e7599",
   "metadata": {},
   "outputs": [
    {
     "name": "stdout",
     "output_type": "stream",
     "text": [
      "test print the value of x 10 and print the value of i 0\n",
      "test print the value of x 10 and print the value of i 1\n",
      "test print the value of x 10 and print the value of i 2\n",
      "test print the value of x 10 and print the value of i 3\n",
      "test print the value of x 10 and print the value of i 4\n",
      "test print the value of x 10 and print the value of i 5\n",
      "test print the value of x 10 and print the value of i 6\n",
      "test print the value of x 10 and print the value of i 7\n",
      "test print the value of x 10 and print the value of i 8\n",
      "test print the value of x 10 and print the value of i 9\n"
     ]
    }
   ],
   "source": [
    "test2(10)"
   ]
  },
  {
   "cell_type": "code",
   "execution_count": 41,
   "id": "4bbdb280-f881-4053-8b3d-0bb63e438485",
   "metadata": {},
   "outputs": [
    {
     "name": "stdout",
     "output_type": "stream",
     "text": [
      "test print the value of x 5 and print the value of i 0\n",
      "test print the value of x 5 and print the value of i 1\n",
      "test print the value of x 5 and print the value of i 2\n",
      "test print the value of x 5 and print the value of i 3\n",
      "test print the value of x 5 and print the value of i 4\n",
      "test print the value of x 5 and print the value of i 5\n",
      "test print the value of x 5 and print the value of i 6\n",
      "test print the value of x 5 and print the value of i 7\n",
      "test print the value of x 5 and print the value of i 8\n",
      "test print the value of x 5 and print the value of i 9\n"
     ]
    }
   ],
   "source": [
    "test2(5)"
   ]
  },
  {
   "cell_type": "code",
   "execution_count": 42,
   "id": "dd8edf50-c1bf-4085-bd62-b9946220b688",
   "metadata": {},
   "outputs": [],
   "source": [
    "def test2(x):\n",
    "    for i in range(10):\n",
    "        print(\"test print the value of x %d and print the value of i %d\" %(x,i))\n",
    "        time.sleep(1) "
   ]
  },
  {
   "cell_type": "code",
   "execution_count": 43,
   "id": "ffc130ea-d246-4784-aae0-318537a277e3",
   "metadata": {},
   "outputs": [],
   "source": [
    "thread2 = [threading.Thread(target =  test2, args =  (i,))for i in [100,10,20,5]]"
   ]
  },
  {
   "cell_type": "code",
   "execution_count": 44,
   "id": "d38a10d0-a968-4174-9775-99488f762f5a",
   "metadata": {},
   "outputs": [
    {
     "name": "stdout",
     "output_type": "stream",
     "text": [
      "test print the value of x 100 and print the value of i 0\n",
      "test print the value of x 10 and print the value of i 0\n",
      "test print the value of x 20 and print the value of i 0\n",
      "test print the value of x 5 and print the value of i 0\n",
      "test print the value of x 100 and print the value of i 1\n",
      "test print the value of x 10 and print the value of i 1\n",
      "test print the value of x 20 and print the value of i 1\n",
      "test print the value of x 5 and print the value of i 1\n",
      "test print the value of x 100 and print the value of i 2\n",
      "test print the value of x 10 and print the value of i 2\n",
      "test print the value of x 20 and print the value of i 2\n",
      "test print the value of x 5 and print the value of i 2\n",
      "test print the value of x 100 and print the value of i 3\n",
      "test print the value of x 10 and print the value of i 3\n",
      "test print the value of x 20 and print the value of i 3\n",
      "test print the value of x 5 and print the value of i 3\n",
      "test print the value of x 100 and print the value of i 4\n",
      "test print the value of x 10 and print the value of i 4\n",
      "test print the value of x 20 and print the value of i 4\n",
      "test print the value of x 5 and print the value of i 4\n",
      "test print the value of x 100 and print the value of i 5\n",
      "test print the value of x 10 and print the value of i 5\n",
      "test print the value of x 20 and print the value of i 5\n",
      "test print the value of x 5 and print the value of i 5\n",
      "test print the value of x 100 and print the value of i 6\n",
      "test print the value of x 10 and print the value of i 6\n",
      "test print the value of x 5 and print the value of i 6\n",
      "test print the value of x 20 and print the value of i 6\n",
      "test print the value of x 100 and print the value of i 7\n",
      "test print the value of x 10 and print the value of i 7\n",
      "test print the value of x 5 and print the value of i 7\n",
      "test print the value of x 20 and print the value of i 7\n",
      "test print the value of x 100 and print the value of i 8\n",
      "test print the value of x 10 and print the value of i 8\n",
      "test print the value of x 5 and print the value of i 8\n",
      "test print the value of x 20 and print the value of i 8\n",
      "test print the value of x 100 and print the value of i 9\n",
      "test print the value of x 10 and print the value of i 9\n",
      "test print the value of x 5 and print the value of i 9\n",
      "test print the value of x 20 and print the value of i 9\n"
     ]
    }
   ],
   "source": [
    "for t in thread2:\n",
    "    t.start()"
   ]
  },
  {
   "cell_type": "code",
   "execution_count": 46,
   "id": "73d35772-19c9-4fe6-892d-b0fca82ed523",
   "metadata": {},
   "outputs": [],
   "source": [
    "def test2(x):\n",
    "    for i in range(10):\n",
    "        print(\"test print the value of x %d and print the value of i %d\" %(x,i))"
   ]
  },
  {
   "cell_type": "code",
   "execution_count": 47,
   "id": "a2af2107-a99a-4f55-add4-f0ae9c07bfea",
   "metadata": {},
   "outputs": [],
   "source": [
    "thread2 = [threading.Thread(target =  test2, args =  (i,))for i in [100,10,20,5]]"
   ]
  },
  {
   "cell_type": "code",
   "execution_count": 48,
   "id": "a46ab677-731c-438f-9023-9b317a7e4756",
   "metadata": {},
   "outputs": [
    {
     "name": "stdout",
     "output_type": "stream",
     "text": [
      "test print the value of x 100 and print the value of i 0\n",
      "test print the value of x 100 and print the value of i 1\n",
      "test print the value of x 100 and print the value of i 2\n",
      "test print the value of x 100 and print the value of i 3\n",
      "test print the value of x 100 and print the value of i 4\n",
      "test print the value of x 100 and print the value of i 5\n",
      "test print the value of x 100 and print the value of i 6\n",
      "test print the value of x 100 and print the value of i 7\n",
      "test print the value of x 100 and print the value of i 8\n",
      "test print the value of x 100 and print the value of i 9\n",
      "test print the value of x 10 and print the value of i 0\n",
      "test print the value of x 10 and print the value of i 1\n",
      "test print the value of x 10 and print the value of i 2\n",
      "test print the value of x 10 and print the value of i 3\n",
      "test print the value of x 10 and print the value of i 4\n",
      "test print the value of x 10 and print the value of i 5\n",
      "test print the value of x 10 and print the value of i 6\n",
      "test print the value of x 10 and print the value of i 7\n",
      "test print the value of x 10 and print the value of i 8\n",
      "test print the value of x 10 and print the value of i 9\n",
      "test print the value of x 20 and print the value of i 0\n",
      "test print the value of x 20 and print the value of i 1\n",
      "test print the value of x 20 and print the value of i 2\n",
      "test print the value of x 20 and print the value of i 3\n",
      "test print the value of x 20 and print the value of i 4\n",
      "test print the value of x 20 and print the value of i 5\n",
      "test print the value of x 20 and print the value of i 6\n",
      "test print the value of x 20 and print the value of i 7\n",
      "test print the value of x 20 and print the value of i 8\n",
      "test print the value of x 20 and print the value of i 9\n",
      "test print the value of x 5 and print the value of i 0\n",
      "test print the value of x 5 and print the value of i 1\n",
      "test print the value of x 5 and print the value of i 2\n",
      "test print the value of x 5 and print the value of i 3\n",
      "test print the value of x 5 and print the value of i 4\n",
      "test print the value of x 5 and print the value of i 5\n",
      "test print the value of x 5 and print the value of i 6\n",
      "test print the value of x 5 and print the value of i 7\n",
      "test print the value of x 5 and print the value of i 8\n",
      "test print the value of x 5 and print the value of i 9\n"
     ]
    }
   ],
   "source": [
    "for t in thread2:\n",
    "    t.start()"
   ]
  },
  {
   "cell_type": "code",
   "execution_count": 62,
   "id": "c15adde6-2ad0-419f-b23a-59d95c989815",
   "metadata": {},
   "outputs": [
    {
     "name": "stdout",
     "output_type": "stream",
     "text": [
      "value of x 1 and value of shared_var 1\n",
      "value of x 2 and value of shared_var 2\n",
      "value of x 3 and value of shared_var 3\n",
      "value of x 4 and value of shared_var 4\n",
      "value of x 5 and value of shared_var 5\n",
      "value of x 6 and value of shared_var 6\n"
     ]
    }
   ],
   "source": [
    "shared_var = 0\n",
    "lock_var = threading.Lock()\n",
    "def test3(x):\n",
    "    global shared_var\n",
    "    with lock_var :\n",
    "        shared_var = shared_var + 1\n",
    "        print(\"value of x %d and value of shared_var %d\" %(x, shared_var))\n",
    "        time.sleep(1)\n",
    "\n",
    "thread4 = [threading .Thread(target = test3, args = (i,)) for i in [1, 2, 3, 4, 5, 6]] \n",
    "for t in thread4 :\n",
    "           t.start()"
   ]
  },
  {
   "cell_type": "code",
   "execution_count": 63,
   "id": "7f1724c8-fc8d-4b09-871a-37231ffa96df",
   "metadata": {},
   "outputs": [
    {
     "name": "stdout",
     "output_type": "stream",
     "text": [
      "value of x 1 and value of shared_var 7\n"
     ]
    }
   ],
   "source": [
    "test3(1)"
   ]
  },
  {
   "cell_type": "code",
   "execution_count": 54,
   "id": "a102087f-0108-4e60-9faf-2f6b26dfb127",
   "metadata": {},
   "outputs": [
    {
     "name": "stdout",
     "output_type": "stream",
     "text": [
      "value of x 2 and value of shared_var 2\n"
     ]
    }
   ],
   "source": [
    "test3(2)"
   ]
  },
  {
   "cell_type": "code",
   "execution_count": null,
   "id": "7c153add-e51b-4e26-bc8b-6ac7b7cec33f",
   "metadata": {},
   "outputs": [],
   "source": []
  }
 ],
 "metadata": {
  "kernelspec": {
   "display_name": "Python 3 (ipykernel)",
   "language": "python",
   "name": "python3"
  },
  "language_info": {
   "codemirror_mode": {
    "name": "ipython",
    "version": 3
   },
   "file_extension": ".py",
   "mimetype": "text/x-python",
   "name": "python",
   "nbconvert_exporter": "python",
   "pygments_lexer": "ipython3",
   "version": "3.10.8"
  }
 },
 "nbformat": 4,
 "nbformat_minor": 5
}
