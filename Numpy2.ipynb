{
 "cells": [
  {
   "cell_type": "markdown",
   "id": "30b8be43-eec9-4db1-b484-50361c399d9b",
   "metadata": {},
   "source": [
    "## Numpy 2"
   ]
  },
  {
   "cell_type": "code",
   "execution_count": 1,
   "id": "763bcdfd-8bbe-4171-b92c-55fc98c4d899",
   "metadata": {},
   "outputs": [],
   "source": [
    "import numpy as np"
   ]
  },
  {
   "cell_type": "code",
   "execution_count": 2,
   "id": "4011e370-fd97-4553-9aa6-8d0b928a624e",
   "metadata": {},
   "outputs": [
    {
     "data": {
      "text/plain": [
       "[0, 1, 2, 3, 4]"
      ]
     },
     "execution_count": 2,
     "metadata": {},
     "output_type": "execute_result"
    }
   ],
   "source": [
    "list(range(5))"
   ]
  },
  {
   "cell_type": "code",
   "execution_count": 3,
   "id": "91e984d2-f67a-4160-98ee-a9be801c3501",
   "metadata": {},
   "outputs": [
    {
     "data": {
      "text/plain": [
       "[0, 1, 2, 3, 4, 5, 6, 7, 8, 9]"
      ]
     },
     "execution_count": 3,
     "metadata": {},
     "output_type": "execute_result"
    }
   ],
   "source": [
    "list(range(0,10))"
   ]
  },
  {
   "cell_type": "code",
   "execution_count": 4,
   "id": "00407cf3-e996-4f9e-ba03-9dd14184afa9",
   "metadata": {},
   "outputs": [
    {
     "data": {
      "text/plain": [
       "[0, 2, 4, 6, 8]"
      ]
     },
     "execution_count": 4,
     "metadata": {},
     "output_type": "execute_result"
    }
   ],
   "source": [
    "list(range(0,10,2))"
   ]
  },
  {
   "cell_type": "code",
   "execution_count": 5,
   "id": "40774545-e0ba-420a-b32f-6f4f6356d0df",
   "metadata": {},
   "outputs": [
    {
     "ename": "TypeError",
     "evalue": "'float' object cannot be interpreted as an integer",
     "output_type": "error",
     "traceback": [
      "\u001b[0;31m---------------------------------------------------------------------------\u001b[0m",
      "\u001b[0;31mTypeError\u001b[0m                                 Traceback (most recent call last)",
      "Cell \u001b[0;32mIn[5], line 2\u001b[0m\n\u001b[1;32m      1\u001b[0m \u001b[38;5;66;03m## range function only takes integer values\u001b[39;00m\n\u001b[0;32m----> 2\u001b[0m \u001b[38;5;28mlist\u001b[39m(\u001b[38;5;28;43mrange\u001b[39;49m\u001b[43m(\u001b[49m\u001b[38;5;241;43m0.5\u001b[39;49m\u001b[43m,\u001b[49m\u001b[38;5;241;43m10.5\u001b[39;49m\u001b[43m)\u001b[49m)\n",
      "\u001b[0;31mTypeError\u001b[0m: 'float' object cannot be interpreted as an integer"
     ]
    }
   ],
   "source": [
    "## range function only takes integer values\n",
    "list(range(0.5,10.5))"
   ]
  },
  {
   "cell_type": "code",
   "execution_count": 6,
   "id": "0bc87a55-83a6-4e6f-aa24-96efc396dd4b",
   "metadata": {},
   "outputs": [
    {
     "data": {
      "text/plain": [
       "array([0.5, 1.5, 2.5, 3.5, 4.5, 5.5, 6.5, 7.5, 8.5, 9.5])"
      ]
     },
     "execution_count": 6,
     "metadata": {},
     "output_type": "execute_result"
    }
   ],
   "source": [
    "## To counter this problem we can use arange\n",
    "np.arange(0.5,10.5)"
   ]
  },
  {
   "cell_type": "code",
   "execution_count": 7,
   "id": "4a0c55b2-f738-49bb-92de-8b0ce1bff90d",
   "metadata": {},
   "outputs": [
    {
     "data": {
      "text/plain": [
       "array([ 0.5,  0.7,  0.9,  1.1,  1.3,  1.5,  1.7,  1.9,  2.1,  2.3,  2.5,\n",
       "        2.7,  2.9,  3.1,  3.3,  3.5,  3.7,  3.9,  4.1,  4.3,  4.5,  4.7,\n",
       "        4.9,  5.1,  5.3,  5.5,  5.7,  5.9,  6.1,  6.3,  6.5,  6.7,  6.9,\n",
       "        7.1,  7.3,  7.5,  7.7,  7.9,  8.1,  8.3,  8.5,  8.7,  8.9,  9.1,\n",
       "        9.3,  9.5,  9.7,  9.9, 10.1, 10.3])"
      ]
     },
     "execution_count": 7,
     "metadata": {},
     "output_type": "execute_result"
    }
   ],
   "source": [
    "np.arange(0.5,10.5,0.2)"
   ]
  },
  {
   "cell_type": "code",
   "execution_count": 8,
   "id": "735398ce-f9b7-48ed-89ce-f88b5687b304",
   "metadata": {},
   "outputs": [
    {
     "data": {
      "text/plain": [
       "[0.5, 2.5, 4.5, 6.5, 8.5]"
      ]
     },
     "execution_count": 8,
     "metadata": {},
     "output_type": "execute_result"
    }
   ],
   "source": [
    "list(np.arange(0.5,10.5,2))"
   ]
  },
  {
   "cell_type": "code",
   "execution_count": 9,
   "id": "148ed354-525e-4b53-bc1e-47f1d1ef85f5",
   "metadata": {},
   "outputs": [
    {
     "data": {
      "text/plain": [
       "array([1.        , 1.21052632, 1.42105263, 1.63157895, 1.84210526,\n",
       "       2.05263158, 2.26315789, 2.47368421, 2.68421053, 2.89473684,\n",
       "       3.10526316, 3.31578947, 3.52631579, 3.73684211, 3.94736842,\n",
       "       4.15789474, 4.36842105, 4.57894737, 4.78947368, 5.        ])"
      ]
     },
     "execution_count": 9,
     "metadata": {},
     "output_type": "execute_result"
    }
   ],
   "source": [
    "## It will divided the data equally as per assigned values , here data set will be divided into 20 equal parts \n",
    "np.linspace(1,5,20)"
   ]
  },
  {
   "cell_type": "code",
   "execution_count": 10,
   "id": "401988c3-0847-4c4f-8ca8-e08d68966358",
   "metadata": {},
   "outputs": [
    {
     "data": {
      "text/plain": [
       "array([1.00000000e+01, 1.20679264e+01, 1.45634848e+01, 1.75751062e+01,\n",
       "       2.12095089e+01, 2.55954792e+01, 3.08884360e+01, 3.72759372e+01,\n",
       "       4.49843267e+01, 5.42867544e+01, 6.55128557e+01, 7.90604321e+01,\n",
       "       9.54095476e+01, 1.15139540e+02, 1.38949549e+02, 1.67683294e+02,\n",
       "       2.02358965e+02, 2.44205309e+02, 2.94705170e+02, 3.55648031e+02,\n",
       "       4.29193426e+02, 5.17947468e+02, 6.25055193e+02, 7.54312006e+02,\n",
       "       9.10298178e+02, 1.09854114e+03, 1.32571137e+03, 1.59985872e+03,\n",
       "       1.93069773e+03, 2.32995181e+03, 2.81176870e+03, 3.39322177e+03,\n",
       "       4.09491506e+03, 4.94171336e+03, 5.96362332e+03, 7.19685673e+03,\n",
       "       8.68511374e+03, 1.04811313e+04, 1.26485522e+04, 1.52641797e+04,\n",
       "       1.84206997e+04, 2.22299648e+04, 2.68269580e+04, 3.23745754e+04,\n",
       "       3.90693994e+04, 4.71486636e+04, 5.68986603e+04, 6.86648845e+04,\n",
       "       8.28642773e+04, 1.00000000e+05])"
      ]
     },
     "execution_count": 10,
     "metadata": {},
     "output_type": "execute_result"
    }
   ],
   "source": [
    "## To generate logarithmic number by default base = 10\n",
    "np.logspace(1,5)"
   ]
  },
  {
   "cell_type": "code",
   "execution_count": 11,
   "id": "7da8a0f4-d622-441a-a19f-9b0f9232b7d9",
   "metadata": {},
   "outputs": [
    {
     "data": {
      "text/plain": [
       "array([ 2.        ,  2.72158   ,  3.70349885,  5.0396842 ,  6.85795186,\n",
       "        9.33223232, 12.69920842, 17.28095582, 23.51575188, 32.        ])"
      ]
     },
     "execution_count": 11,
     "metadata": {},
     "output_type": "execute_result"
    }
   ],
   "source": [
    "np.logspace(1,5,10, base = 2)"
   ]
  },
  {
   "cell_type": "code",
   "execution_count": 12,
   "id": "2a2f8fae-b93d-4af0-8af2-93db0df73aa8",
   "metadata": {},
   "outputs": [
    {
     "data": {
      "text/plain": [
       "array([0., 0., 0., 0., 0.])"
      ]
     },
     "execution_count": 12,
     "metadata": {},
     "output_type": "execute_result"
    }
   ],
   "source": [
    "## To print zeros\n",
    "np.zeros(5)"
   ]
  },
  {
   "cell_type": "code",
   "execution_count": 13,
   "id": "b075f167-c738-4648-aa2c-3e20c111fe77",
   "metadata": {},
   "outputs": [
    {
     "data": {
      "text/plain": [
       "array([[0., 0., 0., 0.],\n",
       "       [0., 0., 0., 0.],\n",
       "       [0., 0., 0., 0.]])"
      ]
     },
     "execution_count": 13,
     "metadata": {},
     "output_type": "execute_result"
    }
   ],
   "source": [
    "## To print zeros with more than one dimensions\n",
    "np.zeros((3,4))"
   ]
  },
  {
   "cell_type": "code",
   "execution_count": 14,
   "id": "2b049026-c916-4746-85ed-bc5d2d9c445a",
   "metadata": {},
   "outputs": [
    {
     "data": {
      "text/plain": [
       "array([[[0., 0.],\n",
       "        [0., 0.],\n",
       "        [0., 0.],\n",
       "        [0., 0.],\n",
       "        [0., 0.]],\n",
       "\n",
       "       [[0., 0.],\n",
       "        [0., 0.],\n",
       "        [0., 0.],\n",
       "        [0., 0.],\n",
       "        [0., 0.]],\n",
       "\n",
       "       [[0., 0.],\n",
       "        [0., 0.],\n",
       "        [0., 0.],\n",
       "        [0., 0.],\n",
       "        [0., 0.]]])"
      ]
     },
     "execution_count": 14,
     "metadata": {},
     "output_type": "execute_result"
    }
   ],
   "source": [
    "## 3 Dimension\n",
    "np.zeros((3,5,2))"
   ]
  },
  {
   "cell_type": "code",
   "execution_count": 15,
   "id": "967c19ce-f806-4a50-82d0-9078de9f5eaf",
   "metadata": {},
   "outputs": [
    {
     "data": {
      "text/plain": [
       "array([1., 1., 1., 1., 1.])"
      ]
     },
     "execution_count": 15,
     "metadata": {},
     "output_type": "execute_result"
    }
   ],
   "source": [
    "np.ones(5)"
   ]
  },
  {
   "cell_type": "code",
   "execution_count": 16,
   "id": "d94d4e51-e5eb-4d2a-ac42-5ef815b4a30b",
   "metadata": {},
   "outputs": [
    {
     "data": {
      "text/plain": [
       "array([[1., 1., 1., 1.],\n",
       "       [1., 1., 1., 1.],\n",
       "       [1., 1., 1., 1.]])"
      ]
     },
     "execution_count": 16,
     "metadata": {},
     "output_type": "execute_result"
    }
   ],
   "source": [
    "arr = np.ones((3,4))\n",
    "arr"
   ]
  },
  {
   "cell_type": "code",
   "execution_count": 17,
   "id": "61585fe4-ade0-4abe-ae07-90eab5992272",
   "metadata": {},
   "outputs": [
    {
     "data": {
      "text/plain": [
       "array([[6., 6., 6., 6.],\n",
       "       [6., 6., 6., 6.],\n",
       "       [6., 6., 6., 6.]])"
      ]
     },
     "execution_count": 17,
     "metadata": {},
     "output_type": "execute_result"
    }
   ],
   "source": [
    "arr + 5 "
   ]
  },
  {
   "cell_type": "code",
   "execution_count": 18,
   "id": "0fcc4a72-5ced-4054-9dd8-ed5b71518d38",
   "metadata": {},
   "outputs": [
    {
     "data": {
      "text/plain": [
       "array([[4., 4., 4., 4.],\n",
       "       [4., 4., 4., 4.],\n",
       "       [4., 4., 4., 4.]])"
      ]
     },
     "execution_count": 18,
     "metadata": {},
     "output_type": "execute_result"
    }
   ],
   "source": [
    "arr * 4"
   ]
  },
  {
   "cell_type": "code",
   "execution_count": 19,
   "id": "57ee011e-13d0-4aec-8fb5-387a36694e67",
   "metadata": {},
   "outputs": [
    {
     "data": {
      "text/plain": [
       "array([[4., 4., 4., 4.],\n",
       "       [4., 4., 4., 4.],\n",
       "       [4., 4., 4., 4.]])"
      ]
     },
     "execution_count": 19,
     "metadata": {},
     "output_type": "execute_result"
    }
   ],
   "source": [
    "np.empty((3,4))"
   ]
  },
  {
   "cell_type": "code",
   "execution_count": 20,
   "id": "a16f49f4-5ab6-4195-ae34-a52a96081208",
   "metadata": {},
   "outputs": [
    {
     "data": {
      "text/plain": [
       "array([[1., 0., 0., 0.],\n",
       "       [0., 1., 0., 0.],\n",
       "       [0., 0., 1., 0.],\n",
       "       [0., 0., 0., 1.]])"
      ]
     },
     "execution_count": 20,
     "metadata": {},
     "output_type": "execute_result"
    }
   ],
   "source": [
    "## Identity Matrix\n",
    "arr1 = np.eye(4)\n",
    "arr1"
   ]
  },
  {
   "cell_type": "code",
   "execution_count": 21,
   "id": "a3e99287-d30b-4c0f-90a9-568d7be0e300",
   "metadata": {},
   "outputs": [],
   "source": [
    "import pandas as pd "
   ]
  },
  {
   "cell_type": "code",
   "execution_count": 22,
   "id": "651ea6df-1a79-4f1a-a424-a0be450fe1ad",
   "metadata": {},
   "outputs": [
    {
     "data": {
      "text/html": [
       "<div>\n",
       "<style scoped>\n",
       "    .dataframe tbody tr th:only-of-type {\n",
       "        vertical-align: middle;\n",
       "    }\n",
       "\n",
       "    .dataframe tbody tr th {\n",
       "        vertical-align: top;\n",
       "    }\n",
       "\n",
       "    .dataframe thead th {\n",
       "        text-align: right;\n",
       "    }\n",
       "</style>\n",
       "<table border=\"1\" class=\"dataframe\">\n",
       "  <thead>\n",
       "    <tr style=\"text-align: right;\">\n",
       "      <th></th>\n",
       "      <th>0</th>\n",
       "      <th>1</th>\n",
       "      <th>2</th>\n",
       "      <th>3</th>\n",
       "    </tr>\n",
       "  </thead>\n",
       "  <tbody>\n",
       "    <tr>\n",
       "      <th>0</th>\n",
       "      <td>1.0</td>\n",
       "      <td>0.0</td>\n",
       "      <td>0.0</td>\n",
       "      <td>0.0</td>\n",
       "    </tr>\n",
       "    <tr>\n",
       "      <th>1</th>\n",
       "      <td>0.0</td>\n",
       "      <td>1.0</td>\n",
       "      <td>0.0</td>\n",
       "      <td>0.0</td>\n",
       "    </tr>\n",
       "    <tr>\n",
       "      <th>2</th>\n",
       "      <td>0.0</td>\n",
       "      <td>0.0</td>\n",
       "      <td>1.0</td>\n",
       "      <td>0.0</td>\n",
       "    </tr>\n",
       "    <tr>\n",
       "      <th>3</th>\n",
       "      <td>0.0</td>\n",
       "      <td>0.0</td>\n",
       "      <td>0.0</td>\n",
       "      <td>1.0</td>\n",
       "    </tr>\n",
       "  </tbody>\n",
       "</table>\n",
       "</div>"
      ],
      "text/plain": [
       "     0    1    2    3\n",
       "0  1.0  0.0  0.0  0.0\n",
       "1  0.0  1.0  0.0  0.0\n",
       "2  0.0  0.0  1.0  0.0\n",
       "3  0.0  0.0  0.0  1.0"
      ]
     },
     "execution_count": 22,
     "metadata": {},
     "output_type": "execute_result"
    }
   ],
   "source": [
    "pd.DataFrame(arr1)"
   ]
  },
  {
   "cell_type": "code",
   "execution_count": 23,
   "id": "ee030fc9-15a3-48c8-8758-fd5bfdca0f09",
   "metadata": {},
   "outputs": [
    {
     "data": {
      "text/plain": [
       "array([[0.78180586, 0.53650611, 0.79508979],\n",
       "       [0.91015533, 0.7098882 , 0.81421754]])"
      ]
     },
     "execution_count": 23,
     "metadata": {},
     "output_type": "execute_result"
    }
   ],
   "source": [
    "np.random.rand(2,3)"
   ]
  },
  {
   "cell_type": "code",
   "execution_count": 24,
   "id": "092b04a5-2a10-48ee-b6ab-c54e27464820",
   "metadata": {},
   "outputs": [
    {
     "data": {
      "text/plain": [
       "array([[-0.1562747 ,  0.07995664, -0.63573665],\n",
       "       [-0.5638483 ,  0.12215886, -1.16484661]])"
      ]
     },
     "execution_count": 24,
     "metadata": {},
     "output_type": "execute_result"
    }
   ],
   "source": [
    "np.random.randn(2,3)"
   ]
  },
  {
   "cell_type": "code",
   "execution_count": 25,
   "id": "0e93533a-c818-4dc7-a7b1-2f52e9fcc747",
   "metadata": {},
   "outputs": [
    {
     "data": {
      "text/plain": [
       "array([[4, 4, 2, 3],\n",
       "       [3, 4, 1, 3],\n",
       "       [3, 3, 3, 4]])"
      ]
     },
     "execution_count": 25,
     "metadata": {},
     "output_type": "execute_result"
    }
   ],
   "source": [
    "arr2 = np.random.randint(1,5, (3,4))\n",
    "arr2"
   ]
  },
  {
   "cell_type": "code",
   "execution_count": 26,
   "id": "8d1fbbe0-19a6-4c06-9487-24464f22e3d3",
   "metadata": {},
   "outputs": [
    {
     "data": {
      "text/plain": [
       "12"
      ]
     },
     "execution_count": 26,
     "metadata": {},
     "output_type": "execute_result"
    }
   ],
   "source": [
    "arr2.size"
   ]
  },
  {
   "cell_type": "code",
   "execution_count": 27,
   "id": "f903a627-bb3a-4e72-823a-4acc08261fb7",
   "metadata": {},
   "outputs": [
    {
     "data": {
      "text/plain": [
       "(3, 4)"
      ]
     },
     "execution_count": 27,
     "metadata": {},
     "output_type": "execute_result"
    }
   ],
   "source": [
    "arr2.shape"
   ]
  },
  {
   "cell_type": "code",
   "execution_count": 28,
   "id": "3af39981-b1d0-4bc9-844c-db64b409d5f6",
   "metadata": {},
   "outputs": [
    {
     "data": {
      "text/plain": [
       "array([[4, 4],\n",
       "       [2, 3],\n",
       "       [3, 4],\n",
       "       [1, 3],\n",
       "       [3, 3],\n",
       "       [3, 4]])"
      ]
     },
     "execution_count": 28,
     "metadata": {},
     "output_type": "execute_result"
    }
   ],
   "source": [
    "arr2.reshape(6,2)"
   ]
  },
  {
   "cell_type": "code",
   "execution_count": 29,
   "id": "405f185c-264d-4fcd-8e90-77e8a276aaed",
   "metadata": {},
   "outputs": [
    {
     "data": {
      "text/plain": [
       "array([[4, 4, 2],\n",
       "       [3, 3, 4],\n",
       "       [1, 3, 3],\n",
       "       [3, 3, 4]])"
      ]
     },
     "execution_count": 29,
     "metadata": {},
     "output_type": "execute_result"
    }
   ],
   "source": [
    "arr2.reshape(4,3)"
   ]
  },
  {
   "cell_type": "code",
   "execution_count": 30,
   "id": "f8ae06ac-c37e-4556-b799-51e980a41689",
   "metadata": {},
   "outputs": [
    {
     "data": {
      "text/plain": [
       "array([[[4, 4, 2],\n",
       "        [3, 3, 4]],\n",
       "\n",
       "       [[1, 3, 3],\n",
       "        [3, 3, 4]]])"
      ]
     },
     "execution_count": 30,
     "metadata": {},
     "output_type": "execute_result"
    }
   ],
   "source": [
    "arr3 = arr2.reshape(2,2,3)\n",
    "arr3"
   ]
  },
  {
   "cell_type": "code",
   "execution_count": 31,
   "id": "2d3eb85f-ead2-43bb-977c-a816e1f941c2",
   "metadata": {},
   "outputs": [
    {
     "data": {
      "text/plain": [
       "3"
      ]
     },
     "execution_count": 31,
     "metadata": {},
     "output_type": "execute_result"
    }
   ],
   "source": [
    "arr3.ndim"
   ]
  },
  {
   "cell_type": "code",
   "execution_count": 32,
   "id": "73462316-7bc7-491a-afde-02680c7e1a53",
   "metadata": {},
   "outputs": [
    {
     "data": {
      "text/plain": [
       "array([[4, 4, 2],\n",
       "       [3, 3, 4],\n",
       "       [1, 3, 3],\n",
       "       [3, 3, 4]])"
      ]
     },
     "execution_count": 32,
     "metadata": {},
     "output_type": "execute_result"
    }
   ],
   "source": [
    "arr2.reshape(4,-1)"
   ]
  },
  {
   "cell_type": "markdown",
   "id": "0ef5aa2a-6673-432b-b7fb-c5828ef57cfe",
   "metadata": {},
   "source": [
    "Here (4,-1) Means that no of rows are 4 and no of columns are 4-1 = 3"
   ]
  },
  {
   "cell_type": "code",
   "execution_count": 33,
   "id": "eacdfcae-faed-454d-bc61-7fb5d684cca3",
   "metadata": {},
   "outputs": [
    {
     "ename": "ValueError",
     "evalue": "cannot reshape array of size 12 into shape (3,6)",
     "output_type": "error",
     "traceback": [
      "\u001b[0;31m---------------------------------------------------------------------------\u001b[0m",
      "\u001b[0;31mValueError\u001b[0m                                Traceback (most recent call last)",
      "Cell \u001b[0;32mIn[33], line 1\u001b[0m\n\u001b[0;32m----> 1\u001b[0m \u001b[43marr2\u001b[49m\u001b[38;5;241;43m.\u001b[39;49m\u001b[43mreshape\u001b[49m\u001b[43m(\u001b[49m\u001b[38;5;241;43m3\u001b[39;49m\u001b[43m,\u001b[49m\u001b[38;5;241;43m6\u001b[39;49m\u001b[43m)\u001b[49m\n",
      "\u001b[0;31mValueError\u001b[0m: cannot reshape array of size 12 into shape (3,6)"
     ]
    }
   ],
   "source": [
    "arr2.reshape(3,6)"
   ]
  },
  {
   "cell_type": "markdown",
   "id": "bfa3752e-13b4-4d2c-af72-35c95ec276b4",
   "metadata": {
    "tags": []
   },
   "source": [
    "This shows an error as size of the array is 12 and we give 3*6 means 18"
   ]
  },
  {
   "cell_type": "code",
   "execution_count": 34,
   "id": "370ad92f-4683-4b30-90c7-50aa1944dea0",
   "metadata": {},
   "outputs": [
    {
     "name": "stdout",
     "output_type": "stream",
     "text": [
      "[[[[[[4]]]\n",
      "\n",
      "\n",
      "   [[[4]]]\n",
      "\n",
      "\n",
      "   [[[2]]]]\n",
      "\n",
      "\n",
      "\n",
      "  [[[[3]]]\n",
      "\n",
      "\n",
      "   [[[3]]]\n",
      "\n",
      "\n",
      "   [[[4]]]]]\n",
      "\n",
      "\n",
      "\n",
      "\n",
      " [[[[[1]]]\n",
      "\n",
      "\n",
      "   [[[3]]]\n",
      "\n",
      "\n",
      "   [[[3]]]]\n",
      "\n",
      "\n",
      "\n",
      "  [[[[3]]]\n",
      "\n",
      "\n",
      "   [[[3]]]\n",
      "\n",
      "\n",
      "   [[[4]]]]]]\n",
      "The dimension is :  6\n"
     ]
    }
   ],
   "source": [
    "arr4 = arr2.reshape(2,2,3,1,1,1)\n",
    "print(arr4)\n",
    "print(\"The dimension is : \", arr4.ndim)"
   ]
  },
  {
   "cell_type": "code",
   "execution_count": 35,
   "id": "fab016a3-9899-4b3f-a9fa-9b65c26b8001",
   "metadata": {},
   "outputs": [],
   "source": [
    "## (1,10) will make a dataset randomly betwwen 1 to 10 \n",
    "## (5,6) will be the size of the array\n",
    "arr5 = np.random.randint(1,10, (5,6))"
   ]
  },
  {
   "cell_type": "code",
   "execution_count": 36,
   "id": "787d5acc-5a08-4622-8aa1-b6d13824b0f4",
   "metadata": {},
   "outputs": [
    {
     "data": {
      "text/plain": [
       "array([[1, 9, 4, 5, 8, 2],\n",
       "       [9, 2, 3, 6, 9, 3],\n",
       "       [2, 8, 8, 9, 1, 8],\n",
       "       [1, 1, 4, 2, 9, 4],\n",
       "       [4, 1, 3, 7, 3, 3]])"
      ]
     },
     "execution_count": 36,
     "metadata": {},
     "output_type": "execute_result"
    }
   ],
   "source": [
    "arr5"
   ]
  },
  {
   "cell_type": "code",
   "execution_count": 37,
   "id": "ba5e1ca4-b841-4fa6-ae83-09d6128aa6c8",
   "metadata": {},
   "outputs": [
    {
     "data": {
      "text/plain": [
       "array([[False,  True, False, False,  True, False],\n",
       "       [ True, False, False, False,  True, False],\n",
       "       [False,  True,  True,  True, False,  True],\n",
       "       [False, False, False, False,  True, False],\n",
       "       [False, False, False,  True, False, False]])"
      ]
     },
     "execution_count": 37,
     "metadata": {},
     "output_type": "execute_result"
    }
   ],
   "source": [
    "## To filter out the data which are greater than 6\n",
    "arr5 > 6 "
   ]
  },
  {
   "cell_type": "code",
   "execution_count": 38,
   "id": "b098d33e-d7fc-4c74-aa96-abcf4e2512c9",
   "metadata": {},
   "outputs": [
    {
     "data": {
      "text/plain": [
       "array([9, 8, 9, 9, 8, 8, 9, 8, 9, 7])"
      ]
     },
     "execution_count": 38,
     "metadata": {},
     "output_type": "execute_result"
    }
   ],
   "source": [
    "arr5[arr5>6]"
   ]
  },
  {
   "cell_type": "code",
   "execution_count": 39,
   "id": "bcfd647e-c320-4304-bb36-bcc460d3cdad",
   "metadata": {},
   "outputs": [
    {
     "data": {
      "text/plain": [
       "array([1, 9, 4, 5, 8, 2])"
      ]
     },
     "execution_count": 39,
     "metadata": {},
     "output_type": "execute_result"
    }
   ],
   "source": [
    "## To extract a particular row\n",
    "arr5[0]"
   ]
  },
  {
   "cell_type": "code",
   "execution_count": 40,
   "id": "08d2bf30-e885-4e7c-bd6a-705824776115",
   "metadata": {},
   "outputs": [
    {
     "data": {
      "text/plain": [
       "array([1, 9])"
      ]
     },
     "execution_count": 40,
     "metadata": {},
     "output_type": "execute_result"
    }
   ],
   "source": [
    "## To extract a particular row with a particular columns \n",
    "## Here [0,1] are the 0th and 1st columns\n",
    "arr5[0,[0,1]]"
   ]
  },
  {
   "cell_type": "code",
   "execution_count": 41,
   "id": "d715e208-7101-4ca1-a73a-26908a08cdff",
   "metadata": {},
   "outputs": [
    {
     "data": {
      "text/plain": [
       "array([1, 9, 2, 1, 4])"
      ]
     },
     "execution_count": 41,
     "metadata": {},
     "output_type": "execute_result"
    }
   ],
   "source": [
    "arr5[[0,1,2,3,4],[0]]"
   ]
  },
  {
   "cell_type": "code",
   "execution_count": 42,
   "id": "cceb63e3-23c6-4264-97da-5b4da956c537",
   "metadata": {},
   "outputs": [
    {
     "data": {
      "text/plain": [
       "array([1, 9, 4, 5, 8])"
      ]
     },
     "execution_count": 42,
     "metadata": {},
     "output_type": "execute_result"
    }
   ],
   "source": [
    "arr5[[0],[0,1,2,3,4]]"
   ]
  },
  {
   "cell_type": "code",
   "execution_count": 43,
   "id": "16d8fb6a-5add-41ec-bd9e-ccc692ce253c",
   "metadata": {},
   "outputs": [
    {
     "data": {
      "text/plain": [
       "array([[1, 9, 4],\n",
       "       [9, 2, 3],\n",
       "       [2, 8, 8],\n",
       "       [1, 1, 4]])"
      ]
     },
     "execution_count": 43,
     "metadata": {},
     "output_type": "execute_result"
    }
   ],
   "source": [
    "arr5[0:4, 0:3]"
   ]
  },
  {
   "cell_type": "markdown",
   "id": "c5eb0598-e6bc-43ec-b992-735f927a37b7",
   "metadata": {},
   "source": [
    "0:4 - 0 to 3rd row and 0:3 - 0 to 2nd column"
   ]
  },
  {
   "cell_type": "code",
   "execution_count": 44,
   "id": "238e87c9-e76b-495d-97f0-205216c44212",
   "metadata": {},
   "outputs": [
    {
     "data": {
      "text/plain": [
       "array([[8, 9],\n",
       "       [4, 2]])"
      ]
     },
     "execution_count": 44,
     "metadata": {},
     "output_type": "execute_result"
    }
   ],
   "source": [
    "arr5[2:4, 2:4]"
   ]
  },
  {
   "cell_type": "code",
   "execution_count": 45,
   "id": "3728b1f4-cd45-49a4-a5ef-dbac729c2912",
   "metadata": {},
   "outputs": [
    {
     "data": {
      "text/plain": [
       "array([[8, 9],\n",
       "       [4, 2]])"
      ]
     },
     "execution_count": 45,
     "metadata": {},
     "output_type": "execute_result"
    }
   ],
   "source": [
    "arr5[2:4, [2,3]]"
   ]
  },
  {
   "cell_type": "code",
   "execution_count": 46,
   "id": "0d34f86b-7624-4bc9-9640-072ee086606f",
   "metadata": {},
   "outputs": [
    {
     "data": {
      "text/plain": [
       "array([8, 2])"
      ]
     },
     "execution_count": 46,
     "metadata": {},
     "output_type": "execute_result"
    }
   ],
   "source": [
    "arr5[[2,3], [2,3]]"
   ]
  },
  {
   "cell_type": "code",
   "execution_count": 47,
   "id": "87161700-5e9b-4389-9841-8d090753a903",
   "metadata": {},
   "outputs": [
    {
     "name": "stdout",
     "output_type": "stream",
     "text": [
      "arr6 [[2 2 1]\n",
      " [2 1 2]\n",
      " [1 2 1]]\n",
      "arr7 [[2 1 2]\n",
      " [2 2 1]\n",
      " [2 2 2]]\n"
     ]
    }
   ],
   "source": [
    "arr6 = np.random.randint(1,3,(3,3))\n",
    "arr7 = np.random.randint(1,3,(3,3))\n",
    "print(\"arr6\",arr6)\n",
    "print(\"arr7\",arr7)                              "
   ]
  },
  {
   "cell_type": "code",
   "execution_count": 48,
   "id": "7f5697fa-dc48-468b-ba05-c1b5e6508776",
   "metadata": {},
   "outputs": [
    {
     "data": {
      "text/plain": [
       "array([[4, 3, 3],\n",
       "       [4, 3, 3],\n",
       "       [3, 4, 3]])"
      ]
     },
     "execution_count": 48,
     "metadata": {},
     "output_type": "execute_result"
    }
   ],
   "source": [
    "arr6 + arr7"
   ]
  },
  {
   "cell_type": "code",
   "execution_count": 49,
   "id": "ac0edcaf-2d8c-420b-999a-31fabf017574",
   "metadata": {},
   "outputs": [
    {
     "data": {
      "text/plain": [
       "array([[ 0,  1, -1],\n",
       "       [ 0, -1,  1],\n",
       "       [-1,  0, -1]])"
      ]
     },
     "execution_count": 49,
     "metadata": {},
     "output_type": "execute_result"
    }
   ],
   "source": [
    "arr6 - arr7"
   ]
  },
  {
   "cell_type": "code",
   "execution_count": 51,
   "id": "0392d673-6b70-4f7a-8d18-7f1643a3a4e7",
   "metadata": {},
   "outputs": [
    {
     "data": {
      "text/plain": [
       "array([[4, 2, 2],\n",
       "       [4, 2, 2],\n",
       "       [2, 4, 2]])"
      ]
     },
     "execution_count": 51,
     "metadata": {},
     "output_type": "execute_result"
    }
   ],
   "source": [
    "## This isn't a matrix multiplication ... This is just index wise multiplication\n",
    "arr6 * arr7"
   ]
  },
  {
   "cell_type": "code",
   "execution_count": 52,
   "id": "cfca71f8-88ba-451e-9208-f3e40ea40b3f",
   "metadata": {},
   "outputs": [
    {
     "data": {
      "text/plain": [
       "array([[10,  8,  8],\n",
       "       [10,  8,  9],\n",
       "       [ 8,  7,  6]])"
      ]
     },
     "execution_count": 52,
     "metadata": {},
     "output_type": "execute_result"
    }
   ],
   "source": [
    "## To do a matrix multiplication\n",
    "arr6 @ arr7"
   ]
  },
  {
   "cell_type": "code",
   "execution_count": 53,
   "id": "362dea9d-90af-40f0-beca-6b265d87b656",
   "metadata": {},
   "outputs": [
    {
     "data": {
      "text/plain": [
       "array([[1. , 2. , 0.5],\n",
       "       [1. , 0.5, 2. ],\n",
       "       [0.5, 1. , 0.5]])"
      ]
     },
     "execution_count": 53,
     "metadata": {},
     "output_type": "execute_result"
    }
   ],
   "source": [
    "arr6 / arr7"
   ]
  },
  {
   "cell_type": "code",
   "execution_count": 54,
   "id": "67f7a20a-fc46-40fc-be6c-1c698718bae3",
   "metadata": {},
   "outputs": [
    {
     "name": "stderr",
     "output_type": "stream",
     "text": [
      "/tmp/ipykernel_113/2210782488.py:1: RuntimeWarning: divide by zero encountered in divide\n",
      "  arr6 / 0\n"
     ]
    },
    {
     "data": {
      "text/plain": [
       "array([[inf, inf, inf],\n",
       "       [inf, inf, inf],\n",
       "       [inf, inf, inf]])"
      ]
     },
     "execution_count": 54,
     "metadata": {},
     "output_type": "execute_result"
    }
   ],
   "source": [
    "arr6 / 0"
   ]
  },
  {
   "cell_type": "code",
   "execution_count": 55,
   "id": "cc5706cd-c4a5-48f4-9a56-38995c831dae",
   "metadata": {},
   "outputs": [
    {
     "data": {
      "text/plain": [
       "array([[0., 0., 0., 0.],\n",
       "       [0., 0., 0., 0.],\n",
       "       [0., 0., 0., 0.]])"
      ]
     },
     "execution_count": 55,
     "metadata": {},
     "output_type": "execute_result"
    }
   ],
   "source": [
    "## Numpy Broadcasting\n",
    "arr8 = np.zeros((3,4))\n",
    "arr8"
   ]
  },
  {
   "cell_type": "code",
   "execution_count": 56,
   "id": "75b9f2dc-9d3a-49f3-a73b-549e8e47e8c1",
   "metadata": {},
   "outputs": [
    {
     "data": {
      "text/plain": [
       "array([[5., 5., 5., 5.],\n",
       "       [5., 5., 5., 5.],\n",
       "       [5., 5., 5., 5.]])"
      ]
     },
     "execution_count": 56,
     "metadata": {},
     "output_type": "execute_result"
    }
   ],
   "source": [
    "arr8 +5"
   ]
  },
  {
   "cell_type": "code",
   "execution_count": 57,
   "id": "a4a53301-63c5-4f3f-875b-5174537207b2",
   "metadata": {},
   "outputs": [
    {
     "data": {
      "text/plain": [
       "array([1, 2, 3, 4])"
      ]
     },
     "execution_count": 57,
     "metadata": {},
     "output_type": "execute_result"
    }
   ],
   "source": [
    "a = np.array([1,2,3,4])\n",
    "a"
   ]
  },
  {
   "cell_type": "code",
   "execution_count": 58,
   "id": "ce086cb1-c0e1-44e2-a05e-fae7789c31fc",
   "metadata": {},
   "outputs": [
    {
     "data": {
      "text/plain": [
       "array([[1., 2., 3., 4.],\n",
       "       [1., 2., 3., 4.],\n",
       "       [1., 2., 3., 4.]])"
      ]
     },
     "execution_count": 58,
     "metadata": {},
     "output_type": "execute_result"
    }
   ],
   "source": [
    "arr8 + a"
   ]
  },
  {
   "cell_type": "code",
   "execution_count": 67,
   "id": "cfc418c9-1c26-4126-bf27-cf89d76b0881",
   "metadata": {},
   "outputs": [
    {
     "data": {
      "text/plain": [
       "array([[1, 2, 3]])"
      ]
     },
     "execution_count": 67,
     "metadata": {},
     "output_type": "execute_result"
    }
   ],
   "source": [
    "b = np.array([[1,2,3]])\n",
    "b"
   ]
  },
  {
   "cell_type": "code",
   "execution_count": 68,
   "id": "ba5048be-6fe9-4573-bbb2-905bd33d7433",
   "metadata": {},
   "outputs": [
    {
     "ename": "ValueError",
     "evalue": "operands could not be broadcast together with shapes (3,4) (1,3) ",
     "output_type": "error",
     "traceback": [
      "\u001b[0;31m---------------------------------------------------------------------------\u001b[0m",
      "\u001b[0;31mValueError\u001b[0m                                Traceback (most recent call last)",
      "Cell \u001b[0;32mIn[68], line 1\u001b[0m\n\u001b[0;32m----> 1\u001b[0m \u001b[43marr8\u001b[49m\u001b[38;5;241;43m+\u001b[39;49m\u001b[43mb\u001b[49m\n",
      "\u001b[0;31mValueError\u001b[0m: operands could not be broadcast together with shapes (3,4) (1,3) "
     ]
    }
   ],
   "source": [
    "arr8+b"
   ]
  },
  {
   "cell_type": "code",
   "execution_count": 70,
   "id": "1958cffe-c324-4a9f-a84d-9bda8cb32e78",
   "metadata": {},
   "outputs": [
    {
     "data": {
      "text/plain": [
       "array([[1],\n",
       "       [2],\n",
       "       [3]])"
      ]
     },
     "execution_count": 70,
     "metadata": {},
     "output_type": "execute_result"
    }
   ],
   "source": [
    "b.T"
   ]
  },
  {
   "cell_type": "code",
   "execution_count": 71,
   "id": "19769a77-68b0-4078-af31-8e9325600b5c",
   "metadata": {},
   "outputs": [],
   "source": [
    "## Row wise\n",
    "arr9 = arr8 + b.T # (T means Transpose)"
   ]
  },
  {
   "cell_type": "code",
   "execution_count": 73,
   "id": "c15cd5a4-45bb-4e1d-af5f-150f2ad58ff3",
   "metadata": {},
   "outputs": [
    {
     "data": {
      "text/plain": [
       "array([[1., 1., 1., 1.],\n",
       "       [2., 2., 2., 2.],\n",
       "       [3., 3., 3., 3.]])"
      ]
     },
     "execution_count": 73,
     "metadata": {},
     "output_type": "execute_result"
    }
   ],
   "source": [
    "arr9"
   ]
  },
  {
   "cell_type": "code",
   "execution_count": 74,
   "id": "b5d611eb-a43a-4e34-99c4-8426c5e221fe",
   "metadata": {},
   "outputs": [
    {
     "data": {
      "text/plain": [
       "array([[1.        , 1.        , 1.        , 1.        ],\n",
       "       [1.41421356, 1.41421356, 1.41421356, 1.41421356],\n",
       "       [1.73205081, 1.73205081, 1.73205081, 1.73205081]])"
      ]
     },
     "execution_count": 74,
     "metadata": {},
     "output_type": "execute_result"
    }
   ],
   "source": [
    "## Square root\n",
    "np.sqrt(arr9)"
   ]
  },
  {
   "cell_type": "code",
   "execution_count": 75,
   "id": "56ddd0f7-5929-4d8c-95ad-13bc5eff1b3b",
   "metadata": {},
   "outputs": [
    {
     "data": {
      "text/plain": [
       "array([[0.        , 0.        , 0.        , 0.        ],\n",
       "       [0.30103   , 0.30103   , 0.30103   , 0.30103   ],\n",
       "       [0.47712125, 0.47712125, 0.47712125, 0.47712125]])"
      ]
     },
     "execution_count": 75,
     "metadata": {},
     "output_type": "execute_result"
    }
   ],
   "source": [
    "## Log of base 10\n",
    "np.log10(arr9)"
   ]
  },
  {
   "cell_type": "code",
   "execution_count": 76,
   "id": "e3b34a91-af07-4f51-9878-92be84ab9ffb",
   "metadata": {},
   "outputs": [
    {
     "data": {
      "text/plain": [
       "array([[ 2.71828183,  2.71828183,  2.71828183,  2.71828183],\n",
       "       [ 7.3890561 ,  7.3890561 ,  7.3890561 ,  7.3890561 ],\n",
       "       [20.08553692, 20.08553692, 20.08553692, 20.08553692]])"
      ]
     },
     "execution_count": 76,
     "metadata": {},
     "output_type": "execute_result"
    }
   ],
   "source": [
    "## Exponent Function\n",
    "np.exp(arr9)"
   ]
  },
  {
   "cell_type": "code",
   "execution_count": 77,
   "id": "10af8080-db13-45b7-a40e-587f9d61c41a",
   "metadata": {},
   "outputs": [
    {
     "data": {
      "text/plain": [
       "1.0"
      ]
     },
     "execution_count": 77,
     "metadata": {},
     "output_type": "execute_result"
    }
   ],
   "source": [
    "## Min Func\n",
    "np.min(arr9)"
   ]
  },
  {
   "cell_type": "code",
   "execution_count": 78,
   "id": "ba1ad78a-9ed8-45ce-810b-7c2097a1b5bf",
   "metadata": {},
   "outputs": [
    {
     "data": {
      "text/plain": [
       "3.0"
      ]
     },
     "execution_count": 78,
     "metadata": {},
     "output_type": "execute_result"
    }
   ],
   "source": [
    "## Max Func\n",
    "np.max(arr9)"
   ]
  },
  {
   "cell_type": "code",
   "execution_count": null,
   "id": "cd147afd-d04d-4a57-99a0-0247658534ba",
   "metadata": {},
   "outputs": [],
   "source": []
  }
 ],
 "metadata": {
  "kernelspec": {
   "display_name": "Python 3 (ipykernel)",
   "language": "python",
   "name": "python3"
  },
  "language_info": {
   "codemirror_mode": {
    "name": "ipython",
    "version": 3
   },
   "file_extension": ".py",
   "mimetype": "text/x-python",
   "name": "python",
   "nbconvert_exporter": "python",
   "pygments_lexer": "ipython3",
   "version": "3.10.8"
  }
 },
 "nbformat": 4,
 "nbformat_minor": 5
}
