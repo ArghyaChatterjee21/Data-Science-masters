{
 "cells": [
  {
   "cell_type": "markdown",
   "id": "a8f6d760-37a5-461e-8929-46ce59c2c0d5",
   "metadata": {},
   "source": [
    "## 29/01/2023"
   ]
  },
  {
   "cell_type": "markdown",
   "id": "2ef9141b-c7a7-47a1-9527-e0c22240852b",
   "metadata": {},
   "source": [
    "### Numbers"
   ]
  },
  {
   "cell_type": "code",
   "execution_count": 3,
   "id": "2cf61094-07fc-45ae-bc58-15d6b3f6e990",
   "metadata": {},
   "outputs": [
    {
     "data": {
      "text/plain": [
       "4"
      ]
     },
     "execution_count": 3,
     "metadata": {},
     "output_type": "execute_result"
    }
   ],
   "source": [
    "1+3"
   ]
  },
  {
   "cell_type": "code",
   "execution_count": 4,
   "id": "4b40490b-e9ee-4681-a5b6-e75abd554a10",
   "metadata": {},
   "outputs": [
    {
     "name": "stdout",
     "output_type": "stream",
     "text": [
      "4\n"
     ]
    }
   ],
   "source": [
    "print(1+3)"
   ]
  },
  {
   "cell_type": "code",
   "execution_count": 5,
   "id": "f156aae6-dfbd-4e5f-91cc-dac0bc2992f4",
   "metadata": {},
   "outputs": [
    {
     "name": "stdout",
     "output_type": "stream",
     "text": [
      "Hello World\n"
     ]
    }
   ],
   "source": [
    "print(\"Hello World\")"
   ]
  },
  {
   "cell_type": "code",
   "execution_count": 6,
   "id": "f437ce1f-c4b9-40f1-83c7-e0bfbff3231c",
   "metadata": {},
   "outputs": [
    {
     "name": "stdout",
     "output_type": "stream",
     "text": [
      "Hello World \n",
      "I'm Arghya\n"
     ]
    }
   ],
   "source": [
    "print(\"Hello World \\nI'm Arghya\")"
   ]
  },
  {
   "cell_type": "markdown",
   "id": "695d56a2-886b-4349-b024-283630864ad6",
   "metadata": {},
   "source": [
    "### Variable assignment"
   ]
  },
  {
   "cell_type": "code",
   "execution_count": 7,
   "id": "9b53dc13-da8b-4f1e-9342-be2a3da8654f",
   "metadata": {},
   "outputs": [],
   "source": [
    "name = 'Arghya'\n",
    "College = 'MAKAUT'"
   ]
  },
  {
   "cell_type": "code",
   "execution_count": 8,
   "id": "45c96f45-2232-422d-84eb-0a4d52732185",
   "metadata": {},
   "outputs": [
    {
     "data": {
      "text/plain": [
       "'Arghya'"
      ]
     },
     "execution_count": 8,
     "metadata": {},
     "output_type": "execute_result"
    }
   ],
   "source": [
    "name"
   ]
  },
  {
   "cell_type": "code",
   "execution_count": 9,
   "id": "86bf8dd4-b70f-4025-b5c9-7e5a41eed704",
   "metadata": {},
   "outputs": [
    {
     "data": {
      "text/plain": [
       "'MAKAUT'"
      ]
     },
     "execution_count": 9,
     "metadata": {},
     "output_type": "execute_result"
    }
   ],
   "source": [
    "College"
   ]
  },
  {
   "cell_type": "code",
   "execution_count": 10,
   "id": "8d450506-647c-4abd-b24a-c81371a368be",
   "metadata": {},
   "outputs": [
    {
     "data": {
      "text/plain": [
       "str"
      ]
     },
     "execution_count": 10,
     "metadata": {},
     "output_type": "execute_result"
    }
   ],
   "source": [
    "type(\"\")"
   ]
  },
  {
   "cell_type": "code",
   "execution_count": 11,
   "id": "d50cb405-0836-40c0-b413-5f78c7cf0b9a",
   "metadata": {},
   "outputs": [
    {
     "data": {
      "text/plain": [
       "str"
      ]
     },
     "execution_count": 11,
     "metadata": {},
     "output_type": "execute_result"
    }
   ],
   "source": [
    "type(name)"
   ]
  },
  {
   "cell_type": "code",
   "execution_count": 12,
   "id": "04357758-f2f8-4f22-acf2-80cdb3fcf712",
   "metadata": {},
   "outputs": [],
   "source": [
    "Age = 23"
   ]
  },
  {
   "cell_type": "code",
   "execution_count": 13,
   "id": "033acb48-f5e6-4ef6-bca4-2a31e68ce9d3",
   "metadata": {},
   "outputs": [
    {
     "data": {
      "text/plain": [
       "int"
      ]
     },
     "execution_count": 13,
     "metadata": {},
     "output_type": "execute_result"
    }
   ],
   "source": [
    "type(Age)"
   ]
  },
  {
   "cell_type": "code",
   "execution_count": 14,
   "id": "0a37e86e-8280-4695-8058-856f8fe00d9a",
   "metadata": {},
   "outputs": [],
   "source": [
    "decimal_num = 3.141"
   ]
  },
  {
   "cell_type": "code",
   "execution_count": 15,
   "id": "81406aa3-d72c-4217-8cbe-0667e8b17ab8",
   "metadata": {},
   "outputs": [
    {
     "data": {
      "text/plain": [
       "float"
      ]
     },
     "execution_count": 15,
     "metadata": {},
     "output_type": "execute_result"
    }
   ],
   "source": [
    "type(decimal_num)"
   ]
  },
  {
   "cell_type": "code",
   "execution_count": 16,
   "id": "2c558825-38c6-42d7-94d7-7915f68f8936",
   "metadata": {},
   "outputs": [
    {
     "data": {
      "text/plain": [
       "str"
      ]
     },
     "execution_count": 16,
     "metadata": {},
     "output_type": "execute_result"
    }
   ],
   "source": [
    "type(\"Hello\")"
   ]
  },
  {
   "cell_type": "code",
   "execution_count": 17,
   "id": "f95885fc-3471-4d24-97ab-9d8f22b92ee2",
   "metadata": {},
   "outputs": [
    {
     "data": {
      "text/plain": [
       "complex"
      ]
     },
     "execution_count": 17,
     "metadata": {},
     "output_type": "execute_result"
    }
   ],
   "source": [
    "### Complex Number\n",
    "type(1+2j)"
   ]
  },
  {
   "cell_type": "code",
   "execution_count": 18,
   "id": "0c41bbad-5f9d-48e8-8023-70b35ce25fdd",
   "metadata": {},
   "outputs": [
    {
     "name": "stdout",
     "output_type": "stream",
     "text": [
      "ineuron\n",
      "PWSKILLS\n"
     ]
    }
   ],
   "source": [
    "### Variables are case sensitive\n",
    "company = 'ineuron'\n",
    "Company = \"PWSKILLS\"\n",
    "print(company)\n",
    "print(Company)"
   ]
  },
  {
   "cell_type": "code",
   "execution_count": 19,
   "id": "f5940db8-7f5c-430d-88f8-ea3bc8e97455",
   "metadata": {},
   "outputs": [
    {
     "data": {
      "text/plain": [
       "'\\nint, float, len, complex, bool, str, return, yield\\n'"
      ]
     },
     "execution_count": 19,
     "metadata": {},
     "output_type": "execute_result"
    }
   ],
   "source": [
    "## Reserved Keywords\n",
    "'''\n",
    "int, float, len, complex, bool, str, return, yield\n",
    "'''"
   ]
  },
  {
   "cell_type": "markdown",
   "id": "3dc2b27c-85ba-49ed-aab5-8c75f847fde9",
   "metadata": {},
   "source": [
    "### Boolean"
   ]
  },
  {
   "cell_type": "code",
   "execution_count": 20,
   "id": "32d1a4b3-6200-4a1e-9293-b161aa190635",
   "metadata": {},
   "outputs": [
    {
     "data": {
      "text/plain": [
       "True"
      ]
     },
     "execution_count": 20,
     "metadata": {},
     "output_type": "execute_result"
    }
   ],
   "source": [
    "True"
   ]
  },
  {
   "cell_type": "code",
   "execution_count": 21,
   "id": "039d370e-007c-42a3-be39-5a3e260b7924",
   "metadata": {},
   "outputs": [
    {
     "data": {
      "text/plain": [
       "False"
      ]
     },
     "execution_count": 21,
     "metadata": {},
     "output_type": "execute_result"
    }
   ],
   "source": [
    "False"
   ]
  },
  {
   "cell_type": "code",
   "execution_count": 22,
   "id": "f3d8c3e5-7a30-4792-9ffb-91bf147cff68",
   "metadata": {},
   "outputs": [
    {
     "data": {
      "text/plain": [
       "False"
      ]
     },
     "execution_count": 22,
     "metadata": {},
     "output_type": "execute_result"
    }
   ],
   "source": [
    "True and False"
   ]
  },
  {
   "cell_type": "code",
   "execution_count": 23,
   "id": "1f9c391a-9cc7-452b-ab79-cfc18d9ba204",
   "metadata": {},
   "outputs": [
    {
     "data": {
      "text/plain": [
       "True"
      ]
     },
     "execution_count": 23,
     "metadata": {},
     "output_type": "execute_result"
    }
   ],
   "source": [
    "True or False"
   ]
  },
  {
   "cell_type": "code",
   "execution_count": 24,
   "id": "7dd44677-5700-43a2-b562-e2eac7bc2b51",
   "metadata": {},
   "outputs": [
    {
     "data": {
      "text/plain": [
       "False"
      ]
     },
     "execution_count": 24,
     "metadata": {},
     "output_type": "execute_result"
    }
   ],
   "source": [
    "not True"
   ]
  },
  {
   "cell_type": "code",
   "execution_count": 25,
   "id": "5efb0d0f-3a88-4a0d-92cd-5c16db1b0098",
   "metadata": {},
   "outputs": [
    {
     "data": {
      "text/plain": [
       "True"
      ]
     },
     "execution_count": 25,
     "metadata": {},
     "output_type": "execute_result"
    }
   ],
   "source": [
    "not False"
   ]
  },
  {
   "cell_type": "code",
   "execution_count": 26,
   "id": "5b50fe82-f0b1-49f1-9e8f-0f96dff963d7",
   "metadata": {},
   "outputs": [
    {
     "data": {
      "text/plain": [
       "bool"
      ]
     },
     "execution_count": 26,
     "metadata": {},
     "output_type": "execute_result"
    }
   ],
   "source": [
    "type(not False)"
   ]
  },
  {
   "cell_type": "code",
   "execution_count": 31,
   "id": "be8332ac-154d-4778-b47a-861725b47e7b",
   "metadata": {},
   "outputs": [
    {
     "data": {
      "text/plain": [
       "False"
      ]
     },
     "execution_count": 31,
     "metadata": {},
     "output_type": "execute_result"
    }
   ],
   "source": [
    "## Typecasting\n",
    "bool(0)"
   ]
  },
  {
   "cell_type": "code",
   "execution_count": 28,
   "id": "b82de843-f2c3-411e-80ea-7b864f260a08",
   "metadata": {},
   "outputs": [
    {
     "data": {
      "text/plain": [
       "True"
      ]
     },
     "execution_count": 28,
     "metadata": {},
     "output_type": "execute_result"
    }
   ],
   "source": [
    "bool(1)"
   ]
  },
  {
   "cell_type": "code",
   "execution_count": 35,
   "id": "fe22c755-1601-4694-96e2-f5bc9fcb5fde",
   "metadata": {},
   "outputs": [
    {
     "name": "stdout",
     "output_type": "stream",
     "text": [
      "True\n"
     ]
    }
   ],
   "source": [
    "a = 1 \n",
    "if bool(a)==True:\n",
    "    \n",
    "    print(\"True\")"
   ]
  },
  {
   "cell_type": "code",
   "execution_count": 36,
   "id": "d0d2928f-0422-489f-89b1-e2b5af620687",
   "metadata": {},
   "outputs": [
    {
     "data": {
      "text/plain": [
       "False"
      ]
     },
     "execution_count": 36,
     "metadata": {},
     "output_type": "execute_result"
    }
   ],
   "source": [
    "type(bool(a))==True"
   ]
  },
  {
   "cell_type": "code",
   "execution_count": 32,
   "id": "2da0dde0-a61b-4681-bc3e-6f5faf0de8dc",
   "metadata": {},
   "outputs": [
    {
     "data": {
      "text/plain": [
       "'23'"
      ]
     },
     "execution_count": 32,
     "metadata": {},
     "output_type": "execute_result"
    }
   ],
   "source": [
    "str(23)"
   ]
  },
  {
   "cell_type": "code",
   "execution_count": 33,
   "id": "1409289e-d259-4795-9607-dd85e506c46d",
   "metadata": {},
   "outputs": [
    {
     "data": {
      "text/plain": [
       "23"
      ]
     },
     "execution_count": 33,
     "metadata": {},
     "output_type": "execute_result"
    }
   ],
   "source": [
    "int(23)"
   ]
  },
  {
   "cell_type": "markdown",
   "id": "bdef1215-eedb-44c4-adcb-ae7f569bd775",
   "metadata": {},
   "source": [
    "### Dynamic Typing"
   ]
  },
  {
   "cell_type": "code",
   "execution_count": 37,
   "id": "e7b5d8c1-2d35-4530-aff8-17fc92d90c22",
   "metadata": {},
   "outputs": [],
   "source": [
    "a = 12\n",
    "a = \"var\""
   ]
  },
  {
   "cell_type": "code",
   "execution_count": 38,
   "id": "33f8b286-0c1c-498d-af46-6bb402cd2913",
   "metadata": {},
   "outputs": [
    {
     "name": "stdout",
     "output_type": "stream",
     "text": [
      "<class 'str'>\n"
     ]
    }
   ],
   "source": [
    "print(type(a))"
   ]
  },
  {
   "cell_type": "code",
   "execution_count": 39,
   "id": "0aa0cc80-e37c-473d-94c6-9eae7cee1594",
   "metadata": {},
   "outputs": [
    {
     "data": {
      "text/plain": [
       "1"
      ]
     },
     "execution_count": 39,
     "metadata": {},
     "output_type": "execute_result"
    }
   ],
   "source": [
    "int(1.54)"
   ]
  },
  {
   "cell_type": "markdown",
   "id": "23ec68b8-8cb8-4a7f-8a6f-5445fb9c9924",
   "metadata": {},
   "source": [
    "#### cancatenation betwwen different types"
   ]
  },
  {
   "cell_type": "code",
   "execution_count": 40,
   "id": "181d8ac5-18af-41ec-8003-0a274f092ebc",
   "metadata": {},
   "outputs": [
    {
     "data": {
      "text/plain": [
       "'11'"
      ]
     },
     "execution_count": 40,
     "metadata": {},
     "output_type": "execute_result"
    }
   ],
   "source": [
    "\"1\"+\"1\""
   ]
  },
  {
   "cell_type": "code",
   "execution_count": 41,
   "id": "2e3fed4b-cd75-4293-9e38-40d2bbc2ad6b",
   "metadata": {},
   "outputs": [
    {
     "data": {
      "text/plain": [
       "2"
      ]
     },
     "execution_count": 41,
     "metadata": {},
     "output_type": "execute_result"
    }
   ],
   "source": [
    "int(1)+int(1)"
   ]
  },
  {
   "cell_type": "code",
   "execution_count": null,
   "id": "8b3aef31-821c-4729-bd7f-ce3648a7bd79",
   "metadata": {},
   "outputs": [],
   "source": []
  }
 ],
 "metadata": {
  "kernelspec": {
   "display_name": "Python 3 (ipykernel)",
   "language": "python",
   "name": "python3"
  },
  "language_info": {
   "codemirror_mode": {
    "name": "ipython",
    "version": 3
   },
   "file_extension": ".py",
   "mimetype": "text/x-python",
   "name": "python",
   "nbconvert_exporter": "python",
   "pygments_lexer": "ipython3",
   "version": "3.10.8"
  }
 },
 "nbformat": 4,
 "nbformat_minor": 5
}
