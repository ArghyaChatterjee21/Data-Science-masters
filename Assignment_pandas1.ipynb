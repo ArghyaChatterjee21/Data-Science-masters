{
 "cells": [
  {
   "cell_type": "markdown",
   "id": "1e41ebb6-783f-41ef-8856-880326341cdc",
   "metadata": {},
   "source": [
    "## Assignment Pandas 1"
   ]
  },
  {
   "cell_type": "markdown",
   "id": "3f70ef15-c8c4-42e8-9d5f-fb1d51fb0a71",
   "metadata": {},
   "source": [
    "#### Q1. Create a Pandas Series that contains the following data: 4, 8, 15, 16, 23, and 42. Then, print the series."
   ]
  },
  {
   "cell_type": "code",
   "execution_count": 17,
   "id": "2715a00c-168f-474b-96d3-d3a5be6da318",
   "metadata": {},
   "outputs": [
    {
     "data": {
      "text/plain": [
       "[4, 8, 15, 16, 23, 42]"
      ]
     },
     "execution_count": 17,
     "metadata": {},
     "output_type": "execute_result"
    }
   ],
   "source": [
    "import pandas as pd\n",
    "data = [4, 8, 15, 16, 23,42]\n",
    "data"
   ]
  },
  {
   "cell_type": "code",
   "execution_count": 18,
   "id": "ebcdd35a-0726-43fd-8823-18db77706820",
   "metadata": {},
   "outputs": [
    {
     "name": "stdout",
     "output_type": "stream",
     "text": [
      "0     4\n",
      "1     8\n",
      "2    15\n",
      "3    16\n",
      "4    23\n",
      "5    42\n",
      "dtype: int64\n"
     ]
    },
    {
     "data": {
      "text/plain": [
       "pandas.core.series.Series"
      ]
     },
     "execution_count": 18,
     "metadata": {},
     "output_type": "execute_result"
    }
   ],
   "source": [
    "series = pd.Series(data)\n",
    "print(series)\n",
    "type(series)"
   ]
  },
  {
   "cell_type": "markdown",
   "id": "cab98b3b-3686-4688-8049-1fe184ec4021",
   "metadata": {},
   "source": [
    "#### Q2. Create a variable of list type containing 10 elements in it, and apply pandas.Series function on the variable print it."
   ]
  },
  {
   "cell_type": "code",
   "execution_count": 8,
   "id": "a5d0becd-9148-41fa-af18-88f868c5d95f",
   "metadata": {},
   "outputs": [
    {
     "name": "stdout",
     "output_type": "stream",
     "text": [
      "0      Arghya\n",
      "1        Ayan\n",
      "2        Udit\n",
      "3      Subham\n",
      "4     Santanu\n",
      "5       Aditi\n",
      "6    Priyanka\n",
      "7    Himaghna\n",
      "8     Sougata\n",
      "9     Sudipta\n",
      "dtype: object\n"
     ]
    },
    {
     "data": {
      "text/plain": [
       "pandas.core.series.Series"
      ]
     },
     "execution_count": 8,
     "metadata": {},
     "output_type": "execute_result"
    }
   ],
   "source": [
    "students_name = [\"Arghya\",\"Ayan\",\"Udit\",\"Subham\",\"Santanu\",\"Aditi\",\"Priyanka\",\"Himaghna\",\"Sougata\",\"Sudipta\"]\n",
    "S = pd.Series(students_name)\n",
    "print(S)\n",
    "type(S)"
   ]
  },
  {
   "cell_type": "markdown",
   "id": "e42e9a81-7c7b-41a4-8905-0b338bb1098d",
   "metadata": {},
   "source": [
    "#### Q3. Create a Pandas DataFrame that contains the following data:"
   ]
  },
  {
   "cell_type": "markdown",
   "id": "b4170cfe-c7be-4bf3-a4d3-d82eba90e998",
   "metadata": {},
   "source": [
    "|Name|Age|Gender|\n",
    "|:-:|:-:|:-:|\n",
    "|**Alice**|25|Female|\n",
    "|**Bob**|30|Male|\n",
    "|**Claire**|27|Female|"
   ]
  },
  {
   "cell_type": "markdown",
   "id": "2f7fdc58-0c01-4c15-8462-6731604c8916",
   "metadata": {},
   "source": [
    "#### Then, print the DataFrame."
   ]
  },
  {
   "cell_type": "code",
   "execution_count": 4,
   "id": "1d0212b3-608b-4ffb-8f48-32d258499694",
   "metadata": {},
   "outputs": [],
   "source": [
    "Details = {\"Name\":[\"Alice\",\"Bob\",\"Claire\"], \"Age\":[25,30,27], \"Gender\":[\"Female\",\"Male\",\"Female\"]}"
   ]
  },
  {
   "cell_type": "code",
   "execution_count": 11,
   "id": "c9d96ea7-e514-459d-aa6e-7dae403f13d3",
   "metadata": {},
   "outputs": [
    {
     "data": {
      "text/html": [
       "<div>\n",
       "<style scoped>\n",
       "    .dataframe tbody tr th:only-of-type {\n",
       "        vertical-align: middle;\n",
       "    }\n",
       "\n",
       "    .dataframe tbody tr th {\n",
       "        vertical-align: top;\n",
       "    }\n",
       "\n",
       "    .dataframe thead th {\n",
       "        text-align: right;\n",
       "    }\n",
       "</style>\n",
       "<table border=\"1\" class=\"dataframe\">\n",
       "  <thead>\n",
       "    <tr style=\"text-align: right;\">\n",
       "      <th></th>\n",
       "      <th>Name</th>\n",
       "      <th>Age</th>\n",
       "      <th>Gender</th>\n",
       "    </tr>\n",
       "  </thead>\n",
       "  <tbody>\n",
       "    <tr>\n",
       "      <th>0</th>\n",
       "      <td>Alice</td>\n",
       "      <td>25</td>\n",
       "      <td>Female</td>\n",
       "    </tr>\n",
       "    <tr>\n",
       "      <th>1</th>\n",
       "      <td>Bob</td>\n",
       "      <td>30</td>\n",
       "      <td>Male</td>\n",
       "    </tr>\n",
       "    <tr>\n",
       "      <th>2</th>\n",
       "      <td>Claire</td>\n",
       "      <td>27</td>\n",
       "      <td>Female</td>\n",
       "    </tr>\n",
       "  </tbody>\n",
       "</table>\n",
       "</div>"
      ],
      "text/plain": [
       "     Name  Age  Gender\n",
       "0   Alice   25  Female\n",
       "1     Bob   30    Male\n",
       "2  Claire   27  Female"
      ]
     },
     "execution_count": 11,
     "metadata": {},
     "output_type": "execute_result"
    }
   ],
   "source": [
    "df = pd.DataFrame(Details)\n",
    "df"
   ]
  },
  {
   "cell_type": "code",
   "execution_count": 12,
   "id": "d17528d8-9752-4e5b-9544-131d40d8fee1",
   "metadata": {},
   "outputs": [
    {
     "data": {
      "text/plain": [
       "pandas.core.frame.DataFrame"
      ]
     },
     "execution_count": 12,
     "metadata": {},
     "output_type": "execute_result"
    }
   ],
   "source": [
    "type(df)"
   ]
  },
  {
   "cell_type": "markdown",
   "id": "6aefdac4-34e6-47b6-8823-f72ee6712b3b",
   "metadata": {},
   "source": [
    "#### Q4. What is ‘DataFrame’ in pandas and how is it different from pandas.series? Explain with an example."
   ]
  },
  {
   "cell_type": "markdown",
   "id": "6fc74a21-b8fe-49af-8a6d-95a8fe8c4a15",
   "metadata": {},
   "source": [
    "Ans: In Pandas, a DataFrame is a two-dimensional labeled data structure that is used to store and manipulate tabular data. It can be thought of as a collection of Pandas Series objects that share the same index. Each column in a DataFrame is a Pandas Series.\n",
    "\n",
    "A Pandas Series, on the other hand, is a one-dimensional labeled array that can hold data of any type."
   ]
  },
  {
   "cell_type": "markdown",
   "id": "c2310a49-1ce7-4d6d-804d-e6e15ba7afca",
   "metadata": {},
   "source": [
    "#### Q5. What are some common functions you can use to manipulate data in a Pandas DataFrame? Can you give an example of when you might use one of these functions?"
   ]
  },
  {
   "cell_type": "markdown",
   "id": "90235e23-3e76-454a-9f5e-46008f4fd7e3",
   "metadata": {},
   "source": [
    "Ans:\n",
    "- head(): This function is used to display the first few rows of the DataFrame.\n",
    "- tail(): This function is used to display the last few rows of the DataFrame.\n",
    "- describe(): This function provides a summary of the statistics for each column of the DataFrame, such as count, mean, standard deviation, minimum, and maximum values."
   ]
  },
  {
   "cell_type": "code",
   "execution_count": 7,
   "id": "3f79dc7e-6211-4d0c-99e6-85f3a8b956f0",
   "metadata": {},
   "outputs": [
    {
     "data": {
      "text/html": [
       "<div>\n",
       "<style scoped>\n",
       "    .dataframe tbody tr th:only-of-type {\n",
       "        vertical-align: middle;\n",
       "    }\n",
       "\n",
       "    .dataframe tbody tr th {\n",
       "        vertical-align: top;\n",
       "    }\n",
       "\n",
       "    .dataframe thead th {\n",
       "        text-align: right;\n",
       "    }\n",
       "</style>\n",
       "<table border=\"1\" class=\"dataframe\">\n",
       "  <thead>\n",
       "    <tr style=\"text-align: right;\">\n",
       "      <th></th>\n",
       "      <th>Name</th>\n",
       "      <th>Age</th>\n",
       "      <th>Gender</th>\n",
       "    </tr>\n",
       "  </thead>\n",
       "  <tbody>\n",
       "    <tr>\n",
       "      <th>0</th>\n",
       "      <td>Alice</td>\n",
       "      <td>25</td>\n",
       "      <td>Female</td>\n",
       "    </tr>\n",
       "    <tr>\n",
       "      <th>1</th>\n",
       "      <td>Bob</td>\n",
       "      <td>30</td>\n",
       "      <td>Male</td>\n",
       "    </tr>\n",
       "  </tbody>\n",
       "</table>\n",
       "</div>"
      ],
      "text/plain": [
       "    Name  Age  Gender\n",
       "0  Alice   25  Female\n",
       "1    Bob   30    Male"
      ]
     },
     "execution_count": 7,
     "metadata": {},
     "output_type": "execute_result"
    }
   ],
   "source": [
    "df.head(2)"
   ]
  },
  {
   "cell_type": "code",
   "execution_count": 8,
   "id": "1d108cf4-8a5f-41bc-b219-25147c16e220",
   "metadata": {},
   "outputs": [
    {
     "data": {
      "text/html": [
       "<div>\n",
       "<style scoped>\n",
       "    .dataframe tbody tr th:only-of-type {\n",
       "        vertical-align: middle;\n",
       "    }\n",
       "\n",
       "    .dataframe tbody tr th {\n",
       "        vertical-align: top;\n",
       "    }\n",
       "\n",
       "    .dataframe thead th {\n",
       "        text-align: right;\n",
       "    }\n",
       "</style>\n",
       "<table border=\"1\" class=\"dataframe\">\n",
       "  <thead>\n",
       "    <tr style=\"text-align: right;\">\n",
       "      <th></th>\n",
       "      <th>Name</th>\n",
       "      <th>Age</th>\n",
       "      <th>Gender</th>\n",
       "    </tr>\n",
       "  </thead>\n",
       "  <tbody>\n",
       "    <tr>\n",
       "      <th>1</th>\n",
       "      <td>Bob</td>\n",
       "      <td>30</td>\n",
       "      <td>Male</td>\n",
       "    </tr>\n",
       "    <tr>\n",
       "      <th>2</th>\n",
       "      <td>Claire</td>\n",
       "      <td>27</td>\n",
       "      <td>Female</td>\n",
       "    </tr>\n",
       "  </tbody>\n",
       "</table>\n",
       "</div>"
      ],
      "text/plain": [
       "     Name  Age  Gender\n",
       "1     Bob   30    Male\n",
       "2  Claire   27  Female"
      ]
     },
     "execution_count": 8,
     "metadata": {},
     "output_type": "execute_result"
    }
   ],
   "source": [
    "df.tail(2)"
   ]
  },
  {
   "cell_type": "markdown",
   "id": "7e753837-17f6-4231-86e0-f65de6ac258c",
   "metadata": {},
   "source": [
    "#### Q6. Which of the following is mutable in nature Series, DataFrame, Panel?"
   ]
  },
  {
   "cell_type": "markdown",
   "id": "20a205f9-5f71-4411-a97b-95f1fddfa26b",
   "metadata": {},
   "source": [
    "Ans: DataFrames are both value-mutable and size-mutable. Series, by contrast, is only value-mutable, not size-mutable. The length of a Series cannot be changed although the values can be changed."
   ]
  },
  {
   "cell_type": "markdown",
   "id": "3c52cb7d-cb2f-4ce8-9b79-10223ff40c98",
   "metadata": {},
   "source": [
    "#### Q7. Create a DataFrame using multiple Series. Explain with an example."
   ]
  },
  {
   "cell_type": "code",
   "execution_count": 15,
   "id": "93cd275e-f2ef-4305-807c-3c25d01fd36d",
   "metadata": {},
   "outputs": [],
   "source": [
    "import pandas as pd\n",
    "students_name = pd.Series([\"Arghya\",\"Ayan\",\"Udit\",\"Subham\",\"Santanu\"])\n",
    "age = pd.Series([23,22,24,21,24])                          \n",
    "email_id = pd.Series([\"arghya@gmail.com\",\"ayan@gmail.com\",\"udit@gmail.com\",\"subham@gmail.com\",\"santanu@gmail.com\"])\n",
    "\n",
    "student_details = {\"students_name\" : students_name, \"age\" : age, \"email_id\" : email_id}"
   ]
  },
  {
   "cell_type": "code",
   "execution_count": 16,
   "id": "cd59afd9-9db8-468e-9f3e-7667231487c1",
   "metadata": {},
   "outputs": [
    {
     "data": {
      "text/html": [
       "<div>\n",
       "<style scoped>\n",
       "    .dataframe tbody tr th:only-of-type {\n",
       "        vertical-align: middle;\n",
       "    }\n",
       "\n",
       "    .dataframe tbody tr th {\n",
       "        vertical-align: top;\n",
       "    }\n",
       "\n",
       "    .dataframe thead th {\n",
       "        text-align: right;\n",
       "    }\n",
       "</style>\n",
       "<table border=\"1\" class=\"dataframe\">\n",
       "  <thead>\n",
       "    <tr style=\"text-align: right;\">\n",
       "      <th></th>\n",
       "      <th>students_name</th>\n",
       "      <th>age</th>\n",
       "      <th>email_id</th>\n",
       "    </tr>\n",
       "  </thead>\n",
       "  <tbody>\n",
       "    <tr>\n",
       "      <th>0</th>\n",
       "      <td>Arghya</td>\n",
       "      <td>23</td>\n",
       "      <td>arghya@gmail.com</td>\n",
       "    </tr>\n",
       "    <tr>\n",
       "      <th>1</th>\n",
       "      <td>Ayan</td>\n",
       "      <td>22</td>\n",
       "      <td>ayan@gmail.com</td>\n",
       "    </tr>\n",
       "    <tr>\n",
       "      <th>2</th>\n",
       "      <td>Udit</td>\n",
       "      <td>24</td>\n",
       "      <td>udit@gmail.com</td>\n",
       "    </tr>\n",
       "    <tr>\n",
       "      <th>3</th>\n",
       "      <td>Subham</td>\n",
       "      <td>21</td>\n",
       "      <td>subham@gmail.com</td>\n",
       "    </tr>\n",
       "    <tr>\n",
       "      <th>4</th>\n",
       "      <td>Santanu</td>\n",
       "      <td>24</td>\n",
       "      <td>santanu@gmail.com</td>\n",
       "    </tr>\n",
       "  </tbody>\n",
       "</table>\n",
       "</div>"
      ],
      "text/plain": [
       "  students_name  age           email_id\n",
       "0        Arghya   23   arghya@gmail.com\n",
       "1          Ayan   22     ayan@gmail.com\n",
       "2          Udit   24     udit@gmail.com\n",
       "3        Subham   21   subham@gmail.com\n",
       "4       Santanu   24  santanu@gmail.com"
      ]
     },
     "execution_count": 16,
     "metadata": {},
     "output_type": "execute_result"
    }
   ],
   "source": [
    "df = pd.DataFrame(student_details)\n",
    "df"
   ]
  },
  {
   "cell_type": "markdown",
   "id": "177cac3b-f714-4b83-8431-696d7de28ac6",
   "metadata": {},
   "source": [
    "In this example, we create three Series \"students_name\", \"age\" and \"email_id\" containing  string, numerical, string data respectively. We then create a dictionary \"student_details\" with the column names as keys and the Series as values. Finally, we pass the dictionary to the \"pd.DataFrame()\" function to create a DataFrame \"df\".\n",
    "\n",
    "The resulting DataFrame has three columns \"students_name\", \"age\" and \"email_id\", corresponding to the three Series. We can see that the elements of each Series have been aligned vertically in the DataFrame, and the index values of each Series have been preserved as row labels in the DataFrame.\n"
   ]
  }
 ],
 "metadata": {
  "kernelspec": {
   "display_name": "Python 3 (ipykernel)",
   "language": "python",
   "name": "python3"
  },
  "language_info": {
   "codemirror_mode": {
    "name": "ipython",
    "version": 3
   },
   "file_extension": ".py",
   "mimetype": "text/x-python",
   "name": "python",
   "nbconvert_exporter": "python",
   "pygments_lexer": "ipython3",
   "version": "3.10.8"
  }
 },
 "nbformat": 4,
 "nbformat_minor": 5
}
